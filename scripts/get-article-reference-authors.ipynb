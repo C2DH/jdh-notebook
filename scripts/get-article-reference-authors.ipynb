{
 "cells": [
  {
   "cell_type": "code",
   "execution_count": 1,
   "id": "authentic-family",
   "metadata": {},
   "outputs": [
    {
     "name": "stdout",
     "output_type": "stream",
     "text": [
      "Requirement already satisfied: requests in /Users/daniele.guido/.local/share/virtualenvs/jupyterlab-_lcE_LjZ/lib/python3.8/site-packages (2.25.1)\n",
      "Requirement already satisfied: chardet<5,>=3.0.2 in /Users/daniele.guido/.local/share/virtualenvs/jupyterlab-_lcE_LjZ/lib/python3.8/site-packages (from requests) (4.0.0)\n",
      "Requirement already satisfied: idna<3,>=2.5 in /Users/daniele.guido/.local/share/virtualenvs/jupyterlab-_lcE_LjZ/lib/python3.8/site-packages (from requests) (2.10)\n",
      "Requirement already satisfied: certifi>=2017.4.17 in /Users/daniele.guido/.local/share/virtualenvs/jupyterlab-_lcE_LjZ/lib/python3.8/site-packages (from requests) (2020.12.5)\n",
      "Requirement already satisfied: urllib3<1.27,>=1.21.1 in /Users/daniele.guido/.local/share/virtualenvs/jupyterlab-_lcE_LjZ/lib/python3.8/site-packages (from requests) (1.26.3)\n"
     ]
    }
   ],
   "source": [
    "# Install a pip package in the current Jupyter kernel\n",
    "import sys\n",
    "!{sys.executable} -m pip install requests\n"
   ]
  },
  {
   "cell_type": "code",
   "execution_count": 2,
   "id": "impossible-bride",
   "metadata": {},
   "outputs": [],
   "source": [
    "import requests\n",
    "import re\n",
    "from IPython.display import display"
   ]
  },
  {
   "cell_type": "code",
   "execution_count": 69,
   "id": "jewish-redhead",
   "metadata": {},
   "outputs": [],
   "source": [
    "r = requests.get('https://raw.githubusercontent.com/jdh-observer/jdh001-L2gBr3BzwH8Z/main/DigitalHistoryRepresentations.ipynb')\n",
    "notebook = r.json()\n",
    "def flatten(t):\n",
    "    return [item for sublist in t for item in sublist]"
   ]
  },
  {
   "cell_type": "markdown",
   "id": "ethical-victor",
   "metadata": {},
   "source": [
    "Get citations keys and listed authors from the notebook metadata:"
   ]
  },
  {
   "cell_type": "code",
   "execution_count": 85,
   "id": "regional-cinema",
   "metadata": {},
   "outputs": [
    {
     "name": "stdout",
     "output_type": "stream",
     "text": [
      "[({'family': 'Heiden', 'given': 'Serge'}, '6963300/3DVACENY')]\n"
     ]
    }
   ],
   "source": [
    "citations = notebook.get('metadata').get('cite2c').get('citations')\n",
    "citations_ids = [k for k in citations.keys()]\n",
    "\n",
    "authors_citations_links = flatten([[(a,k) for a in x.get('author', [])] for (k,x) in citations.items()])\n",
    "# print(citations_ids)\n",
    "print(authors_citations_links[:1])"
   ]
  },
  {
   "cell_type": "markdown",
   "id": "connected-bandwidth",
   "metadata": {},
   "source": [
    "`authors_citations`is a list of tuples (author, reference) cited in the paper.\n",
    "Let's see where the citations are looping the nootebook cells"
   ]
  },
  {
   "cell_type": "code",
   "execution_count": 108,
   "id": "caroline-sample",
   "metadata": {},
   "outputs": [
    {
     "name": "stdout",
     "output_type": "stream",
     "text": [
      "[{'a': {'family': 'Zaagsma', 'given': 'Gerben'}, 'refs': ['6963300/7LBYNZC9', 'undefined'], 'count_refs': 2, 'count_citations': 0}, {'a': {'family': 'Beiner', 'given': 'Guy'}, 'refs': ['6963300/9A62ALCK', '6963300/TB6GZLEU'], 'count_refs': 2, 'count_citations': 0}]\n"
     ]
    }
   ],
   "source": [
    "# collect \n",
    "authors_citations_grouped_by_author = {}\n",
    "for a,ref in authors_citations_links:\n",
    "    author_name = f\"{a.get('family')}-{a.get('given')}\"\n",
    "    if authors_citations_grouped_by_author.get(author_name, None) is None:\n",
    "        authors_citations_grouped_by_author[author_name] = {\n",
    "            'a': a,\n",
    "            'refs':[], \n",
    "            'count_refs': 0,\n",
    "            'count_citations': 0\n",
    "        }\n",
    "    authors_citations_grouped_by_author[author_name]['refs'].append(ref)\n",
    "    authors_citations_grouped_by_author[author_name]['count_refs'] += 1 \n",
    "# sort by number of publications\n",
    "hall_of_fame = sorted(\n",
    "    authors_citations_grouped_by_author.values(), \n",
    "    key=lambda x: x.get('count_refs'), reverse=True\n",
    ")\n",
    "print(hall_of_fame[:2])"
   ]
  },
  {
   "cell_type": "code",
   "execution_count": 109,
   "id": "boxed-concord",
   "metadata": {},
   "outputs": [
    {
     "name": "stdout",
     "output_type": "stream",
     "text": [
      "Covington, Sarah : 10 ['6963300/TQU6YI5K']\n",
      "Ó Siochrú, Micheál : 6 ['6963300/HYGCRXKH']\n",
      "de Blacam, Aodh : 6 ['6963300/QTDMGGCU']\n",
      "Perkins, Sonya : 5 ['6963300/GECT7PG7', '6963300/S8XC7HEE']\n",
      "Elliott, Marianne : 3 ['6963300/RZUHQB3Z', '6963300/Z3UGXIQZ']\n",
      "Ory, Pascal : 3 ['6963300/96SHBX6B']\n",
      "J. S. Morrill,  : 3 ['6963300/FW8GA7FH']\n",
      "Dillon, James : 3 ['6963300/WF75PUSN']\n",
      "Beiner, Guy : 2 ['6963300/9A62ALCK', '6963300/TB6GZLEU']\n",
      "MacManus, Francis : 2 ['6963300/A882G2RW', '6963300/WYAHHLCQ']\n",
      "Revel, Jacques : 2 ['6963300/FDMFSTA2', '6963300/WC2BWFWY']\n",
      "Delacroix, Christian : 2 ['6963300/PAHCHIIP', '6963300/SM32VD28']\n",
      "Fairclough, Norman : 2 ['6963300/PQA2T3Z3', '6963300/RPJ4GP4E']\n",
      "John Patrick Prendergast,  : 2 ['6963300/3E75G3KF']\n",
      "'Ultach',  : 2 ['6963300/6W6VBX96']\n",
      "Irish Propaganda Bureau,  : 2 ['6963300/9S7VRZAL']\n",
      "Kalifa, Dominique : 2 ['6963300/B5F7ANP9']\n",
      "Cunningham, John : 2 ['6963300/F7W7B4CY']\n",
      "Barnard, Toby : 2 ['6963300/FSFUERFE']\n",
      "Murray, Nora J. : 2 ['6963300/LS5CTR5E']\n",
      "Venayre, Sylvain : 2 ['6963300/ST4LH6K6']\n",
      "Cronin, Seán : 2 ['6963300/SUT8AGP7']\n",
      "Cade-Stewart, Michael : 2 ['6963300/U8ZCGWBA']\n",
      "Kennedy, Róisín : 2 ['6963300/XE3AFUCD']\n",
      "Newton, Douglas : 2 ['6963300/ZNT7WHHJ']\n",
      "Zaagsma, Gerben : 1 ['6963300/7LBYNZC9', 'undefined']\n",
      "Heiden, Serge : 1 ['6963300/3DVACENY']\n",
      "Schmid, Helmut : 1 ['6963300/3HTPDGN9']\n",
      "Cheallaigh, Máirín Ní : 1 ['6963300/3XESVZYT']\n",
      "Petrie, Sir Charles : 1 ['6963300/4Z6KCVKD']\n",
      "Paschal, Father : 1 ['6963300/5JQGTDDT']\n",
      "Vadelorge, Loïc : 1 ['6963300/5TGMJ3CJ']\n",
      "Walsh, The Reverend T. J. : 1 ['6963300/5ZFSPYWC']\n",
      "Jankélévitch, Vladimir : 1 ['6963300/7ELM6MIE']\n",
      "Barillas, Laure : 1 ['6963300/7ELM6MIE']\n",
      "Guinfolleau, Pierre-Alban : 1 ['6963300/7ELM6MIE']\n",
      "Worms, Frédéric : 1 ['6963300/7ELM6MIE']\n",
      "Bartlett, Thomas : 1 ['6963300/7FUEQ69G']\n",
      "Dooley, Terence : 1 ['6963300/7MWUX9SV']\n",
      "McCarthy, Tony : 1 ['6963300/7MWUX9SV']\n",
      "O'Cahill, Donal : 1 ['6963300/7RYXYJYD']\n",
      "Murphy, Elaine : 1 ['6963300/7YILCPLT']\n",
      "O'Connor, Joseph : 1 ['6963300/85I8TUIU']\n",
      "Baker, Paul : 1 ['6963300/DE5GQ74H']\n",
      "Levon, Erez : 1 ['6963300/DE5GQ74H']\n",
      "Donoghue, John : 1 ['6963300/E9JQW3NR']\n",
      "Ó Giolláin, Diarmuid : 1 ['6963300/EJNQECDQ']\n",
      "Carson, Niall : 1 ['6963300/FBI5RWX3']\n",
      "Breathnach, Diarmuid : 1 ['6963300/FNKKRHQL']\n",
      "Ferro, Marc : 1 ['6963300/GR2NTGFK']\n",
      "Murray, Raymond : 1 ['6963300/H5PRTGVV']\n",
      "Foucault, Michel : 1 ['6963300/I56ETXN7']\n",
      "Guilhaumou, Jacques : 1 ['6963300/IE7MWMNE']\n",
      "Ryan, Louise : 1 ['6963300/JEGIWIZ9']\n",
      "Bew, Paul : 1 ['6963300/MLSNZDGW']\n",
      "Bew, John : 1 ['6963300/MLSNZDGW']\n",
      "Moynihan, Maurice : 1 ['6963300/MM5A3KAY']\n",
      "Collins, Peter J. : 1 ['6963300/MNHSJ9DT']\n",
      "Genet, Jean-Philippe : 1 ['6963300/NMHEN5PB']\n",
      "Bottigheimer, Karl S. : 1 ['6963300/P77RX6LF']\n",
      "Dosse, François : 1 ['6963300/PAHCHIIP']\n",
      "Garcia, Patrick : 1 ['6963300/PAHCHIIP']\n",
      "Father Henry Anglin,  : 1 ['6963300/PL5QSV25']\n",
      "Nelson, Bruce : 1 ['6963300/R3EGAV8J']\n",
      "Caball, Marc : 1 ['6963300/R55FW8XY']\n",
      "Ginzburg, Carlo : 1 ['6963300/RZ9V2K54']\n",
      "Dineen, Patrick S. : 1 ['6963300/SSHG3SU8']\n",
      "Wilkinson, Mark D. : 1 ['6963300/ULDMAAAL']\n",
      "Dumontier, Michel : 1 ['6963300/ULDMAAAL']\n",
      "Aalbersberg, IJsbrand Jan : 1 ['6963300/ULDMAAAL']\n",
      "Appleton, Gabrielle : 1 ['6963300/ULDMAAAL']\n",
      "Axton, Myles : 1 ['6963300/ULDMAAAL']\n",
      "Baak, Arie : 1 ['6963300/ULDMAAAL']\n",
      "Blomberg, Niklas : 1 ['6963300/ULDMAAAL']\n",
      "Boiten, Jan-Willem : 1 ['6963300/ULDMAAAL']\n",
      "da Silva Santos, Luiz Bonino : 1 ['6963300/ULDMAAAL']\n",
      "Bourne, Philip E. : 1 ['6963300/ULDMAAAL']\n",
      "Bouwman, Jildau : 1 ['6963300/ULDMAAAL']\n",
      "Brookes, Anthony J. : 1 ['6963300/ULDMAAAL']\n",
      "Clark, Tim : 1 ['6963300/ULDMAAAL']\n",
      "Crosas, Mercè : 1 ['6963300/ULDMAAAL']\n",
      "Dillo, Ingrid : 1 ['6963300/ULDMAAAL']\n",
      "Dumon, Olivier : 1 ['6963300/ULDMAAAL']\n",
      "Edmunds, Scott : 1 ['6963300/ULDMAAAL']\n",
      "Evelo, Chris T. : 1 ['6963300/ULDMAAAL']\n",
      "Finkers, Richard : 1 ['6963300/ULDMAAAL']\n",
      "Gonzalez-Beltran, Alejandra : 1 ['6963300/ULDMAAAL']\n",
      "Gray, Alasdair J.G. : 1 ['6963300/ULDMAAAL']\n",
      "Groth, Paul : 1 ['6963300/ULDMAAAL']\n",
      "Goble, Carole : 1 ['6963300/ULDMAAAL']\n",
      "Grethe, Jeffrey S. : 1 ['6963300/ULDMAAAL']\n",
      "Heringa, Jaap : 1 ['6963300/ULDMAAAL']\n",
      "’t Hoen, Peter A.C : 1 ['6963300/ULDMAAAL']\n",
      "Hooft, Rob : 1 ['6963300/ULDMAAAL']\n",
      "Kuhn, Tobias : 1 ['6963300/ULDMAAAL']\n",
      "Kok, Ruben : 1 ['6963300/ULDMAAAL']\n",
      "Kok, Joost : 1 ['6963300/ULDMAAAL']\n",
      "Lusher, Scott J. : 1 ['6963300/ULDMAAAL']\n",
      "Martone, Maryann E. : 1 ['6963300/ULDMAAAL']\n",
      "Mons, Albert : 1 ['6963300/ULDMAAAL']\n",
      "Packer, Abel L. : 1 ['6963300/ULDMAAAL']\n",
      "Persson, Bengt : 1 ['6963300/ULDMAAAL']\n",
      "Rocca-Serra, Philippe : 1 ['6963300/ULDMAAAL']\n",
      "Roos, Marco : 1 ['6963300/ULDMAAAL']\n",
      "van Schaik, Rene : 1 ['6963300/ULDMAAAL']\n",
      "Sansone, Susanna-Assunta : 1 ['6963300/ULDMAAAL']\n",
      "Schultes, Erik : 1 ['6963300/ULDMAAAL']\n",
      "Sengstag, Thierry : 1 ['6963300/ULDMAAAL']\n",
      "Slater, Ted : 1 ['6963300/ULDMAAAL']\n",
      "Strawn, George : 1 ['6963300/ULDMAAAL']\n",
      "Swertz, Morris A. : 1 ['6963300/ULDMAAAL']\n",
      "Thompson, Mark : 1 ['6963300/ULDMAAAL']\n",
      "van der Lei, Johan : 1 ['6963300/ULDMAAAL']\n",
      "van Mulligen, Erik : 1 ['6963300/ULDMAAAL']\n",
      "Velterop, Jan : 1 ['6963300/ULDMAAAL']\n",
      "Waagmeester, Andra : 1 ['6963300/ULDMAAAL']\n",
      "Wittenburg, Peter : 1 ['6963300/ULDMAAAL']\n",
      "Wolstencroft, Katherine : 1 ['6963300/ULDMAAAL']\n",
      "Zhao, Jun : 1 ['6963300/ULDMAAAL']\n",
      "Mons, Barend : 1 ['6963300/ULDMAAAL']\n",
      "MacLeod, Catriona : 1 ['6963300/UTRMPL45']\n",
      "Leerssen, Joseph Th : 1 ['6963300/V6NUVPGR']\n",
      "Matthews, Kelly : 1 ['6963300/VQS4B25C']\n",
      "Carleton, William : 1 ['6963300/VX4JTNUA']\n",
      "Yeats, William Butler : 1 ['6963300/ZDR9YTSL']\n",
      "Van de Wiele, Jozef : 1 ['6963300/ZL9334SH']\n",
      "Brubaker, Rogers : 1 ['6963300/ZNA9FX73']\n"
     ]
    }
   ],
   "source": [
    "cells = notebook.get('cells')\n",
    "\n",
    "\n",
    "for cell in cells:\n",
    "    tags = cell.get('metadata').get('tags', [])\n",
    "    if 'hidden' in tags:\n",
    "        continue\n",
    "    source = ''.join(cell.get('source', []))\n",
    "    \n",
    "    if not source:\n",
    "        continue\n",
    "    # does it contains a cite2c marker?\n",
    "    notes = re.findall(r'data-cite=\\\"([^\\\"]+)\\\"', source)\n",
    "    if not notes:\n",
    "        continue\n",
    "    for note_key in notes:\n",
    "        for author in hall_of_fame:\n",
    "            if note_key in author['refs']:\n",
    "                author['count_citations'] += 1\n",
    "\n",
    "# sort\n",
    "authors = sorted(hall_of_fame, key=lambda x: x.get('count_citations'), reverse=True)\n",
    "\n",
    "for a in authors:\n",
    "    name = f\"{a.get('a').get('family')}, {a.get('a').get('given')}\"\n",
    "    print(f\"{name} : {a.get('count_citations')} {a.get('refs')}\")"
   ]
  },
  {
   "cell_type": "code",
   "execution_count": null,
   "id": "assigned-authentication",
   "metadata": {},
   "outputs": [],
   "source": []
  },
  {
   "cell_type": "code",
   "execution_count": null,
   "id": "pregnant-neighbor",
   "metadata": {},
   "outputs": [],
   "source": []
  }
 ],
 "metadata": {
  "kernelspec": {
   "display_name": "Python 3",
   "language": "python",
   "name": "python3"
  },
  "language_info": {
   "codemirror_mode": {
    "name": "ipython",
    "version": 3
   },
   "file_extension": ".py",
   "mimetype": "text/x-python",
   "name": "python",
   "nbconvert_exporter": "python",
   "pygments_lexer": "ipython3",
   "version": "3.8.3"
  }
 },
 "nbformat": 4,
 "nbformat_minor": 5
}
