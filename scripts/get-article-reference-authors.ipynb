{
 "cells": [
  {
   "cell_type": "code",
   "execution_count": 1,
   "id": "authentic-family",
   "metadata": {},
   "outputs": [
    {
     "name": "stdout",
     "output_type": "stream",
     "text": [
      "Requirement already satisfied: requests in /Users/daniele.guido/.local/share/virtualenvs/jupyterlab-_lcE_LjZ/lib/python3.8/site-packages (2.25.1)\n",
      "Requirement already satisfied: chardet<5,>=3.0.2 in /Users/daniele.guido/.local/share/virtualenvs/jupyterlab-_lcE_LjZ/lib/python3.8/site-packages (from requests) (4.0.0)\n",
      "Requirement already satisfied: idna<3,>=2.5 in /Users/daniele.guido/.local/share/virtualenvs/jupyterlab-_lcE_LjZ/lib/python3.8/site-packages (from requests) (2.10)\n",
      "Requirement already satisfied: certifi>=2017.4.17 in /Users/daniele.guido/.local/share/virtualenvs/jupyterlab-_lcE_LjZ/lib/python3.8/site-packages (from requests) (2020.12.5)\n",
      "Requirement already satisfied: urllib3<1.27,>=1.21.1 in /Users/daniele.guido/.local/share/virtualenvs/jupyterlab-_lcE_LjZ/lib/python3.8/site-packages (from requests) (1.26.3)\n"
     ]
    }
   ],
   "source": [
    "# Install a pip package in the current Jupyter kernel\n",
    "import sys\n",
    "!{sys.executable} -m pip install requests\n"
   ]
  },
  {
   "cell_type": "code",
   "execution_count": 2,
   "id": "impossible-bride",
   "metadata": {},
   "outputs": [],
   "source": [
    "import requests\n",
    "import re\n",
    "from IPython.display import display"
   ]
  },
  {
   "cell_type": "code",
   "execution_count": 110,
   "id": "jewish-redhead",
   "metadata": {},
   "outputs": [],
   "source": [
    "r = requests.get('https://raw.githubusercontent.com/jdh-observer/jdh001-4yxHGiqXYRbX/main/TopicSpecificCorpusBuilding.ipynb')\n",
    "notebook = r.json()\n",
    "def flatten(t):\n",
    "    return [item for sublist in t for item in sublist]"
   ]
  },
  {
   "cell_type": "markdown",
   "id": "ethical-victor",
   "metadata": {},
   "source": [
    "Get citations keys and listed authors from the notebook metadata:"
   ]
  },
  {
   "cell_type": "code",
   "execution_count": 111,
   "id": "regional-cinema",
   "metadata": {},
   "outputs": [
    {
     "name": "stdout",
     "output_type": "stream",
     "text": [
      "[({'family': 'Patwardhan', 'given': 'Siddharth'}, '6142573/2FLWKIR9')]\n"
     ]
    }
   ],
   "source": [
    "citations = notebook.get('metadata').get('cite2c').get('citations')\n",
    "citations_ids = [k for k in citations.keys()]\n",
    "\n",
    "authors_citations_links = flatten([[(a,k) for a in x.get('author', [])] for (k,x) in citations.items()])\n",
    "# print(citations_ids)\n",
    "print(authors_citations_links[:1])"
   ]
  },
  {
   "cell_type": "markdown",
   "id": "connected-bandwidth",
   "metadata": {},
   "source": [
    "`authors_citations`is a list of tuples (author, reference) cited in the paper.\n",
    "Let's see where the citations are looping the nootebook cells"
   ]
  },
  {
   "cell_type": "code",
   "execution_count": 113,
   "id": "widespread-definition",
   "metadata": {},
   "outputs": [
    {
     "name": "stdout",
     "output_type": "stream",
     "text": [
      "[{'a': {'family': 'Pfanzelter', 'given': 'Eva'}, 'refs': ['6142573/5FI5SV3F', '6142573/DHFC4A24', '6142573/FRE6XIFV', '6142573/JMD7CSSP', '6142573/NBV4BG2G'], 'count_refs': 5, 'count_citations': 0}, {'a': {'family': 'Zosa', 'given': 'Elaine'}, 'refs': ['6142573/5ZGM8EKM', '6142573/SCBME2FU', '6142573/VJZ89VCM'], 'count_refs': 3, 'count_citations': 0}]\n"
     ]
    }
   ],
   "source": [
    "# collect \n",
    "authors_citations_grouped_by_author = {}\n",
    "for a,ref in authors_citations_links:\n",
    "    author_name = f\"{a.get('family')}-{a.get('given')}\"\n",
    "    if authors_citations_grouped_by_author.get(author_name, None) is None:\n",
    "        authors_citations_grouped_by_author[author_name] = {\n",
    "            'a': a,\n",
    "            'refs':[], \n",
    "            'count_refs': 0,\n",
    "            'count_citations': 0\n",
    "        }\n",
    "    authors_citations_grouped_by_author[author_name]['refs'].append(ref)\n",
    "    authors_citations_grouped_by_author[author_name]['count_refs'] += 1 \n",
    "# sort by number of publications\n",
    "hall_of_fame = sorted(\n",
    "    authors_citations_grouped_by_author.values(), \n",
    "    key=lambda x: x.get('count_refs'), reverse=True\n",
    ")\n",
    "print(hall_of_fame[:2])"
   ]
  },
  {
   "cell_type": "code",
   "execution_count": 114,
   "id": "boxed-concord",
   "metadata": {},
   "outputs": [
    {
     "name": "stdout",
     "output_type": "stream",
     "text": [
      "Pfanzelter, Eva : 4 ['6142573/5FI5SV3F', '6142573/DHFC4A24', '6142573/FRE6XIFV', '6142573/JMD7CSSP', '6142573/NBV4BG2G']\n",
      "Zosa, Elaine : 3 ['6142573/5ZGM8EKM', '6142573/SCBME2FU', '6142573/VJZ89VCM']\n",
      "Tolonen, Mikko : 3 ['6142573/5ZGM8EKM', '6142573/FRE6XIFV', '6142573/VJZ89VCM']\n",
      "Oberbichler, Sarah : 3 ['6142573/JMD7CSSP', '6142573/NBV4BG2G', '6142573/YQFJLI5C']\n",
      "Blei, David M. : 3 ['6142573/CVSFNSE2', '6142573/VPCBKFBD']\n",
      "Navigli, Roberto : 3 ['6142573/LVI27PCC', '6142573/U48CR9BT']\n",
      "Hasko, Victoria : 3 ['6142573/DXVIWVKG']\n",
      "Lu, Jinghui : 3 ['6142573/YJ6WDMIM']\n",
      "Henchion, Maeve : 3 ['6142573/YJ6WDMIM']\n",
      "Namee, Brian Mac : 3 ['6142573/YJ6WDMIM']\n",
      "Föhr, Pascal : 3 ['8918850/AH3TIH3N']\n",
      "Hengchen, Simon : 2 ['6142573/5ZGM8EKM', '6142573/VJZ89VCM']\n",
      "Marjanen, Jani : 2 ['6142573/5ZGM8EKM', '6142573/VJZ89VCM']\n",
      "Pivovarova, Lidia : 2 ['6142573/5ZGM8EKM', '6142573/VJZ89VCM']\n",
      "Doucet, Antoine : 2 ['6142573/FRE6XIFV', '6142573/G3B3QXYX']\n",
      "Granroth-Wilding, Mark : 2 ['6142573/FRE6XIFV', '6142573/SCBME2FU']\n",
      "Fickers, Andreas : 2 ['6142573/JMZAZWUX', '6142573/NY822LF2']\n",
      "Corpas Pastor, Gloria : 2 ['6142573/3YMW54I3']\n",
      "Seghiri Domínguez, Míriam : 2 ['6142573/3YMW54I3']\n",
      "Poznan, Kristina E. : 2 ['6142573/HP5RBUIN']\n",
      "Lin, J. : 2 ['6142573/LM8L24CE']\n",
      "Chowdhury, Gobinda G. : 2 ['6142573/RZWYTHC7']\n",
      "Gabrielatos, Costas : 2 ['6142573/TTCX55K3']\n",
      "Ng, Andrew Y. : 2 ['6142573/VPCBKFBD']\n",
      "Jordan, Michael I. : 2 ['6142573/VPCBKFBD']\n",
      "Boyd-Graber, Jordan : 2 ['6142573/WLBLU3DX']\n",
      "Blei, David : 2 ['6142573/WLBLU3DX']\n",
      "Zhu, Xiaojin : 2 ['6142573/WLBLU3DX']\n",
      "Wyman, Mark : 1 ['6142573/74BYZPVE', '6142573/BXVFU4ZK']\n",
      "Saha, Diganta : 1 ['6142573/B3YGSZTZ', '6142573/SC642F4H']\n",
      "Dagan, Ido : 1 ['6142573/WSN56ZDB', '6142573/Y4CJJ4XN']\n",
      "Lee, Lillian : 1 ['6142573/WSN56ZDB', '6142573/Y4CJJ4XN']\n",
      "Patwardhan, Siddharth : 1 ['6142573/2FLWKIR9']\n",
      "Banerjee, Satanjeev : 1 ['6142573/2FLWKIR9']\n",
      "Pedersen, Ted : 1 ['6142573/2FLWKIR9']\n",
      "O’Callaghan, Derek : 1 ['6142573/3MAA8Z5M']\n",
      "Greene, Derek : 1 ['6142573/3MAA8Z5M']\n",
      "Carthy, Joe : 1 ['6142573/3MAA8Z5M']\n",
      "Cunningham, Pádraig : 1 ['6142573/3MAA8Z5M']\n",
      "Waine, Anthony Edward : 1 ['6142573/6IFE7WQI']\n",
      "Malone, Daniel : 1 ['6142573/9KTJU78H']\n",
      "Haber, Peter : 1 ['6142573/B353HSFG']\n",
      "O’Halloran, Kay L. : 1 ['6142573/BEHFC5EB']\n",
      "Tan, Sabine : 1 ['6142573/BEHFC5EB']\n",
      "Pham, Duc-Son : 1 ['6142573/BEHFC5EB']\n",
      "Bateman, John : 1 ['6142573/BEHFC5EB']\n",
      "Vande Moere, Andrew : 1 ['6142573/BEHFC5EB']\n",
      "Maier, Daniel : 1 ['6142573/BMJS79M7']\n",
      "Waldherr, A. : 1 ['6142573/BMJS79M7']\n",
      "Miltner, P. : 1 ['6142573/BMJS79M7']\n",
      "Wiedemann, G. : 1 ['6142573/BMJS79M7']\n",
      "Niekler, A. : 1 ['6142573/BMJS79M7']\n",
      "Keinert, A. : 1 ['6142573/BMJS79M7']\n",
      "Pfetsch, B. : 1 ['6142573/BMJS79M7']\n",
      "Heyer, G. : 1 ['6142573/BMJS79M7']\n",
      "Reber, U. : 1 ['6142573/BMJS79M7']\n",
      "Häussler, T. : 1 ['6142573/BMJS79M7']\n",
      "Schmid-Petri, H. : 1 ['6142573/BMJS79M7']\n",
      "Adam, S. : 1 ['6142573/BMJS79M7']\n",
      "Zhao, Weizhong : 1 ['6142573/CHE86H2F']\n",
      "Chen, James J : 1 ['6142573/CHE86H2F']\n",
      "Perkins, Roger : 1 ['6142573/CHE86H2F']\n",
      "Liu, Zhichao : 1 ['6142573/CHE86H2F']\n",
      "Ge, Weigong : 1 ['6142573/CHE86H2F']\n",
      "Ding, Yijun : 1 ['6142573/CHE86H2F']\n",
      "Zou, Wen : 1 ['6142573/CHE86H2F']\n",
      "Raineri, Sophie : 1 ['6142573/DZ5DRETR']\n",
      "Debras, Camille : 1 ['6142573/DZ5DRETR']\n",
      "Gasteiner, Martin : 1 ['6142573/FRE6XIFV']\n",
      "Kaiser, Max : 1 ['6142573/FRE6XIFV']\n",
      "Kaukonen, Minna : 1 ['6142573/FRE6XIFV']\n",
      "Labahn, Roger : 1 ['6142573/FRE6XIFV']\n",
      "Moreux, Jean-Philippe : 1 ['6142573/FRE6XIFV']\n",
      "Muehlberger, Günter : 1 ['6142573/FRE6XIFV']\n",
      "Therenty, Marie-Eve : 1 ['6142573/FRE6XIFV']\n",
      "Toivonen, Hannu : 1 ['6142573/FRE6XIFV']\n",
      "Jean-Caurant, Axel : 1 ['6142573/G3B3QXYX']\n",
      "Olivier, Claudia : 1 ['6142573/GP9W87WP']\n",
      "Steyer, Kathrin : 1 ['6142573/GRIVXPM6']\n",
      "Lauer, Meike : 1 ['6142573/GRIVXPM6']\n",
      "Niekler, Andreas : 1 ['6142573/JETQF4X2']\n",
      "Jähnichen, Patrick : 1 ['6142573/JETQF4X2']\n",
      "Steidl, Annemarie : 1 ['6142573/K2RNGLST']\n",
      "Bubenhofer, Noah : 1 ['6142573/KAFFLBWQ']\n",
      "Koolen, Marijn : 1 ['6142573/LAF2DBJT']\n",
      "van Gorp, Jasmijn : 1 ['6142573/LAF2DBJT']\n",
      "van Ossenbruggen, Jacco : 1 ['6142573/LAF2DBJT']\n",
      "Mogashoa, Tebogo : 1 ['6142573/N6WP2ZUH']\n",
      "Hechl, Stefan : 1 ['6142573/NBV4BG2G']\n",
      "Marjanen, J. : 1 ['6142573/NBV4BG2G']\n",
      "Foucault, Michel : 1 ['6142573/PBSKPE7S']\n",
      "Fothergill, Richard : 1 ['6142573/QA64ENM8']\n",
      "Cook, Paul : 1 ['6142573/QA64ENM8']\n",
      "Baldwin, Timothy : 1 ['6142573/QA64ENM8']\n",
      "Karov, Yael : 1 ['6142573/QA8I2BAZ']\n",
      "Edelman, Shimon : 1 ['6142573/QA8I2BAZ']\n",
      "Kürnberger, Ferdinand : 1 ['6142573/RWUWZF7D']\n",
      "Ranjan Pal, Alok : 1 ['6142573/SC642F4H']\n",
      "Pasini, Tommaso : 1 ['6142573/U48CR9BT']\n",
      "Pereira, Fernando : 1 ['6142573/WSN56ZDB']\n",
      "Busse, Dietrich : 1 ['6142573/X8HTUPMY']\n",
      "Fairclough, Norman : 1 ['6142573/YGUFHGJK']\n",
      "Currle, Edda : 1 ['6142573/YKNUBLK6']\n",
      "Pal, Alok Ranjan : 0 ['6142573/B3YGSZTZ']\n",
      "Leyh, Peter : 0 ['6142573/VJ7HSBUL']\n",
      "Pereira, Fernando C. N. : 0 ['6142573/Y4CJJ4XN']\n"
     ]
    }
   ],
   "source": [
    "cells = notebook.get('cells')\n",
    "\n",
    "\n",
    "for cell in cells:\n",
    "    tags = cell.get('metadata').get('tags', [])\n",
    "    if 'hidden' in tags:\n",
    "        continue\n",
    "    source = ''.join(cell.get('source', []))\n",
    "    \n",
    "    if not source:\n",
    "        continue\n",
    "    # does it contains a cite2c marker?\n",
    "    notes = re.findall(r'data-cite=\\\"([^\\\"]+)\\\"', source)\n",
    "    if not notes:\n",
    "        continue\n",
    "    for note_key in notes:\n",
    "        for author in hall_of_fame:\n",
    "            if note_key in author['refs']:\n",
    "                author['count_citations'] += 1\n",
    "\n",
    "# sort\n",
    "authors = sorted(hall_of_fame, key=lambda x: x.get('count_citations'), reverse=True)\n",
    "\n",
    "for a in authors:\n",
    "    name = f\"{a.get('a').get('family')}, {a.get('a').get('given')}\"\n",
    "    print(f\"{name} : {a.get('count_citations')} {a.get('refs')}\")"
   ]
  },
  {
   "cell_type": "code",
   "execution_count": null,
   "id": "assigned-authentication",
   "metadata": {},
   "outputs": [],
   "source": []
  },
  {
   "cell_type": "code",
   "execution_count": null,
   "id": "pregnant-neighbor",
   "metadata": {},
   "outputs": [],
   "source": []
  }
 ],
 "metadata": {
  "kernelspec": {
   "display_name": "Python 3",
   "language": "python",
   "name": "python3"
  },
  "language_info": {
   "codemirror_mode": {
    "name": "ipython",
    "version": 3
   },
   "file_extension": ".py",
   "mimetype": "text/x-python",
   "name": "python",
   "nbconvert_exporter": "python",
   "pygments_lexer": "ipython3",
   "version": "3.8.3"
  }
 },
 "nbformat": 4,
 "nbformat_minor": 5
}
