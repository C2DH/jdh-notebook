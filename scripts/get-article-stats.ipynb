{
 "cells": [
  {
   "cell_type": "code",
   "execution_count": 2,
   "metadata": {},
   "outputs": [
    {
     "name": "stdout",
     "output_type": "stream",
     "text": [
      "Requirement already satisfied: requests in /Users/elisabeth.guerard/.pyenv/versions/anaconda3-2020.02/lib/python3.7/site-packages (2.24.0)\n",
      "Requirement already satisfied: chardet<4,>=3.0.2 in /Users/elisabeth.guerard/.pyenv/versions/anaconda3-2020.02/lib/python3.7/site-packages (from requests) (3.0.4)\n",
      "Requirement already satisfied: urllib3!=1.25.0,!=1.25.1,<1.26,>=1.21.1 in /Users/elisabeth.guerard/.pyenv/versions/anaconda3-2020.02/lib/python3.7/site-packages (from requests) (1.25.11)\n",
      "Requirement already satisfied: idna<3,>=2.5 in /Users/elisabeth.guerard/.pyenv/versions/anaconda3-2020.02/lib/python3.7/site-packages (from requests) (2.10)\n",
      "Requirement already satisfied: certifi>=2017.4.17 in /Users/elisabeth.guerard/.pyenv/versions/anaconda3-2020.02/lib/python3.7/site-packages (from requests) (2021.5.30)\n"
     ]
    }
   ],
   "source": [
    "# Install a pip package in the current Jupyter kernel\n",
    "import sys\n",
    "!{sys.executable} -m pip install requests\n"
   ]
  },
  {
   "cell_type": "code",
   "execution_count": 3,
   "metadata": {},
   "outputs": [],
   "source": [
    "import requests\n",
    "import re\n",
    "from IPython.display import display"
   ]
  },
  {
   "cell_type": "markdown",
   "metadata": {},
   "source": [
    "# Notebook on GitHub"
   ]
  },
  {
   "cell_type": "markdown",
   "metadata": {},
   "source": [
    "Take the raw url of your notebook"
   ]
  },
  {
   "cell_type": "code",
   "execution_count": 11,
   "metadata": {},
   "outputs": [],
   "source": [
    "r = requests.get('https://raw.githubusercontent.com/C2DH/jdh-notebook/master/author_guideline_template.ipynb')\n",
    "r.headers['content-type']\n",
    "notebook = r.json()\n"
   ]
  },
  {
   "cell_type": "markdown",
   "metadata": {},
   "source": [
    "# Local notebook"
   ]
  },
  {
   "cell_type": "markdown",
   "metadata": {},
   "source": [
    "- Make a copy of your ipynb file and rename it on .json \n",
    "- Define the localPath variable"
   ]
  },
  {
   "cell_type": "code",
   "execution_count": 1,
   "metadata": {},
   "outputs": [
    {
     "ename": "FileNotFoundError",
     "evalue": "[Errno 2] No such file or directory: '/Users/elisabeth.guerard/c2dh/jdh-notebook/jdh001_0000_0002_0237_2532.json'",
     "output_type": "error",
     "traceback": [
      "\u001b[0;31m---------------------------------------------------------------------------\u001b[0m",
      "\u001b[0;31mFileNotFoundError\u001b[0m                         Traceback (most recent call last)",
      "\u001b[0;32m<ipython-input-1-9fcd69a09722>\u001b[0m in \u001b[0;36m<module>\u001b[0;34m\u001b[0m\n\u001b[1;32m      1\u001b[0m \u001b[0;32mimport\u001b[0m \u001b[0mjson\u001b[0m\u001b[0;34m\u001b[0m\u001b[0;34m\u001b[0m\u001b[0m\n\u001b[1;32m      2\u001b[0m \u001b[0mlocalPath\u001b[0m \u001b[0;34m=\u001b[0m \u001b[0;34m'/Users/elisabeth.guerard/c2dh/jdh-notebook/jdh001_0000_0002_0237_2532.json'\u001b[0m\u001b[0;34m\u001b[0m\u001b[0;34m\u001b[0m\u001b[0m\n\u001b[0;32m----> 3\u001b[0;31m \u001b[0;32mwith\u001b[0m \u001b[0mopen\u001b[0m\u001b[0;34m(\u001b[0m\u001b[0mlocalPath\u001b[0m\u001b[0;34m)\u001b[0m \u001b[0;32mas\u001b[0m \u001b[0mf\u001b[0m\u001b[0;34m:\u001b[0m\u001b[0;34m\u001b[0m\u001b[0;34m\u001b[0m\u001b[0m\n\u001b[0m\u001b[1;32m      4\u001b[0m     \u001b[0mnotebook\u001b[0m \u001b[0;34m=\u001b[0m \u001b[0mjson\u001b[0m\u001b[0;34m.\u001b[0m\u001b[0mload\u001b[0m\u001b[0;34m(\u001b[0m\u001b[0mf\u001b[0m\u001b[0;34m)\u001b[0m\u001b[0;34m\u001b[0m\u001b[0;34m\u001b[0m\u001b[0m\n",
      "\u001b[0;31mFileNotFoundError\u001b[0m: [Errno 2] No such file or directory: '/Users/elisabeth.guerard/c2dh/jdh-notebook/jdh001_0000_0002_0237_2532.json'"
     ]
    }
   ],
   "source": [
    "import json\n",
    "localPath = '/Users/elisabeth.guerard/c2dh/jdh-notebook/jdh001_0000_0002_0237_2532.json'\n",
    "with open(localPath) as f:\n",
    "    notebook = json.load(f)"
   ]
  },
  {
   "cell_type": "markdown",
   "metadata": {},
   "source": [
    "# Generate statistics"
   ]
  },
  {
   "cell_type": "markdown",
   "metadata": {},
   "source": [
    "Copy paste the result in the form https://journalofdigitalhistory.org/en/fingerprint"
   ]
  },
  {
   "cell_type": "code",
   "execution_count": 12,
   "metadata": {
    "scrolled": true
   },
   "outputs": [
    {
     "data": {
      "text/plain": [
       "'{\"stats\": {\"countLines\": 23, \"countChars\": 1822, \"countContributors\": 3, \"countHeadings\": 5, \"countHermeneuticCells\": 1, \"countHermeneuticOnlyCells\": 1, \"countCodeCells\": 1, \"countCells\": 14, \"extentChars\": [7, 446], \"extentLines\": [1, 4]}, \"cells\": [{\"type\": \"markdown\", \"countLines\": 1, \"countChars\": 7, \"tags\": [\"title\"], \"isMetadata\": true, \"isHermeneutic\": false, \"isFigure\": false, \"isFullWidth\": false, \"isHeading\": true}, {\"type\": \"markdown\", \"countLines\": 2, \"countChars\": 162, \"tags\": [\"contributor\"], \"isMetadata\": true, \"isHermeneutic\": false, \"isFigure\": false, \"isFullWidth\": false, \"isHeading\": true}, {\"type\": \"markdown\", \"countLines\": 2, \"countChars\": 170, \"tags\": [\"contributor\"], \"isMetadata\": true, \"isHermeneutic\": false, \"isFigure\": false, \"isFullWidth\": false, \"isHeading\": true}, {\"type\": \"markdown\", \"countLines\": 2, \"countChars\": 170, \"tags\": [\"contributor\"], \"isMetadata\": true, \"isHermeneutic\": false, \"isFigure\": false, \"isFullWidth\": false, \"isHeading\": true}, {\"type\": \"markdown\", \"countLines\": 2, \"countChars\": 416, \"tags\": [\"copyright\"], \"isMetadata\": false, \"isHermeneutic\": false, \"isFigure\": false, \"isFullWidth\": false, \"isHeading\": false}, {\"type\": \"markdown\", \"countLines\": 2, \"countChars\": 446, \"tags\": [\"copyright\"], \"isMetadata\": false, \"isHermeneutic\": false, \"isFigure\": false, \"isFullWidth\": false, \"isHeading\": false}, {\"type\": \"code\", \"countLines\": 2, \"countChars\": 89, \"tags\": [\"cover\"], \"isMetadata\": false, \"isHermeneutic\": false, \"isFigure\": false, \"isFullWidth\": false, \"isHeading\": false}, {\"type\": \"markdown\", \"countLines\": 1, \"countChars\": 54, \"tags\": [\"disclaimer\"], \"isMetadata\": true, \"isHermeneutic\": false, \"isFigure\": false, \"isFullWidth\": false, \"isHeading\": false}, {\"type\": \"markdown\", \"countLines\": 1, \"countChars\": 52, \"tags\": [\"keywords\"], \"isMetadata\": false, \"isHermeneutic\": false, \"isFigure\": false, \"isFullWidth\": false, \"isHeading\": false}, {\"type\": \"markdown\", \"countLines\": 1, \"countChars\": 25, \"tags\": [\"abstract\"], \"isMetadata\": true, \"isHermeneutic\": false, \"isFigure\": false, \"isFullWidth\": false, \"isHeading\": false}, {\"type\": \"markdown\", \"countLines\": 1, \"countChars\": 15, \"tags\": [], \"isMetadata\": false, \"isHermeneutic\": false, \"isFigure\": false, \"isFullWidth\": false, \"isHeading\": true}, {\"type\": \"markdown\", \"countLines\": 1, \"countChars\": 109, \"tags\": [], \"isMetadata\": false, \"isHermeneutic\": false, \"isFigure\": false, \"isFullWidth\": false, \"isHeading\": false}, {\"type\": \"markdown\", \"countLines\": 1, \"countChars\": 31, \"tags\": [\"hermeneutics\"], \"isMetadata\": false, \"isHermeneutic\": true, \"isFigure\": false, \"isFullWidth\": false, \"isHeading\": false}, {\"type\": \"markdown\", \"countLines\": 4, \"countChars\": 76, \"tags\": [\"table-1\"], \"isMetadata\": false, \"isHermeneutic\": false, \"isFigure\": false, \"isFullWidth\": false, \"isHeading\": false}]}'"
      ]
     },
     "execution_count": 12,
     "metadata": {},
     "output_type": "execute_result"
    }
   ],
   "source": [
    "# use the cached response\n",
    "cells = notebook.get('cells')\n",
    "# output\n",
    "cells_stats = []\n",
    "# loop through cells and save relevant informations\n",
    "for cell in cells:\n",
    "    c = {\n",
    "       'type': cell['cell_type'] \n",
    "    }\n",
    "    # just skip if it's empty\n",
    "    source = cell.get('source', [])\n",
    "    if not source:\n",
    "        continue\n",
    "    # check cell metadata\n",
    "    tags = cell.get('metadata').get('tags', [])\n",
    "    if 'hidden' in tags:\n",
    "        continue\n",
    "    c['countLines'] = len(source)\n",
    "    c['countChars'] = len(''.join(source))\n",
    "    c['tags'] = tags\n",
    "    # c['source'] = cell.get('source')\n",
    "    c['isMetadata'] = any(tag in ['title', 'abstract', 'contributor', 'disclaimer'] for tag in tags)\n",
    "    c['isHermeneutic'] = any(tag in ['hermeneutics', 'hermeneutics-step'] for tag in tags)\n",
    "    c['isFigure'] = any(tag.startswith('figure-') for tag in tags)\n",
    "    c['isFullWidth'] = any(tag == 'full-width' for tag in tags)\n",
    "    c['isHeading'] = cell['cell_type'] == 'markdown' and re.match(r'\\s*#+\\s', ''.join(cell.get('source'))) is not None\n",
    "    cells_stats.append(c)\n",
    "\n",
    "json.dumps({\n",
    "    'stats': {\n",
    "        'countLines': sum([c['countLines'] for c in cells_stats]),\n",
    "        'countChars': sum([c['countChars'] for c in cells_stats]),\n",
    "        'countContributors': sum(['contributor' in c['tags'] for c in cells_stats]),\n",
    "        'countHeadings': sum([c['isHeading'] for c in cells_stats]),\n",
    "        'countHermeneuticCells': sum([c['isHermeneutic'] for c in cells_stats]),\n",
    "        'countHermeneuticOnlyCells': sum(['hermeneutics' in c['tags'] for c in cells_stats]),\n",
    "        'countCodeCells': sum([c['type'] == 'code' for c in cells_stats]),\n",
    "        'countCells': len(cells_stats),\n",
    "        'extentChars': [min([c['countChars'] for c in cells_stats]), max([c['countChars'] for c in cells_stats])],\n",
    "        'extentLines': [min([c['countLines'] for c in cells_stats]), max([c['countLines'] for c in cells_stats])]\n",
    "    },\n",
    "    'cells': cells_stats\n",
    "})"
   ]
  },
  {
   "cell_type": "code",
   "execution_count": null,
   "metadata": {},
   "outputs": [],
   "source": []
  },
  {
   "cell_type": "code",
   "execution_count": null,
   "metadata": {},
   "outputs": [],
   "source": []
  },
  {
   "cell_type": "code",
   "execution_count": null,
   "metadata": {},
   "outputs": [],
   "source": []
  }
 ],
 "metadata": {
  "citation-manager": {
   "items": {}
  },
  "kernelspec": {
   "display_name": "Python 3",
   "language": "python",
   "name": "python3"
  },
  "language_info": {
   "codemirror_mode": {
    "name": "ipython",
    "version": 3
   },
   "file_extension": ".py",
   "mimetype": "text/x-python",
   "name": "python",
   "nbconvert_exporter": "python",
   "pygments_lexer": "ipython3",
   "version": "3.7.10"
  },
  "toc": {
   "base_numbering": 1,
   "nav_menu": {},
   "number_sections": true,
   "sideBar": true,
   "skip_h1_title": false,
   "title_cell": "Table of Contents",
   "title_sidebar": "Contents",
   "toc_cell": false,
   "toc_position": {},
   "toc_section_display": true,
   "toc_window_display": false
  }
 },
 "nbformat": 4,
 "nbformat_minor": 5
}
