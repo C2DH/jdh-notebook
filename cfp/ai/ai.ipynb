{
 "cells": [
  {
   "cell_type": "markdown",
   "metadata": {
    "tags": [
     "title"
    ]
   },
   "source": [
    "# AI & History"
   ]
  },
  {
   "cell_type": "markdown",
   "metadata": {},
   "source": [
    "## A special issue for the *Journal of Digital History*"
   ]
  },
  {
   "cell_type": "markdown",
   "metadata": {
    "tags": [
     "abstract"
    ]
   },
   "source": [
    "Proposal by [Frédéric Clavert ![orcid](https://orcid.org/sites/default/files/images/orcid_16x16.png)](https://orcid.org/0000-0002-0237-2532), [Amanda Regan ![orcid](https://orcid.org/sites/default/files/images/orcid_16x16.png)](https://orcid.org/0000-0002-4260-5839) and [Sean Takats ![orcid](https://orcid.org/sites/default/files/images/orcid_16x16.png)](https://orcid.org/0000-0002-7851-5069)."
   ]
  },
  {
   "cell_type": "markdown",
   "metadata": {},
   "source": [
    "With the emergence of large language models predicated upon transformer architecture (2017) and image generation systems, generative artificial intelligence has demonstrated considerable potential for diverse research applications across the humanities and social sciences, as well as strong ethical challenges."
   ]
  },
  {
   "cell_type": "markdown",
   "metadata": {
    "citation-manager": {
     "citations": {
      "3pwqc": [
       {
        "id": "4583/LDXY7FTY",
        "source": "zotero"
       }
      ],
      "5lqel": [
       {
        "id": "4583/YQ73A8EF",
        "source": "zotero"
       }
      ],
      "7c5ef": [
       {
        "id": "4583/T8GZWC6S",
        "source": "zotero"
       }
      ],
      "ep75g": [
       {
        "id": "4583/9KV326BZ",
        "source": "zotero"
       }
      ],
      "ft1br": [
       {
        "id": "4583/57JYGG4I",
        "source": "zotero"
       }
      ],
      "luval": [
       {
        "id": "4583/XL4ALY7K",
        "source": "zotero"
       }
      ],
      "m8ncm": [
       {
        "id": "4583/37XEGU7W",
        "source": "zotero"
       }
      ],
      "sdhs8": [
       {
        "id": "4583/WHBCNYE6",
        "source": "zotero"
       }
      ],
      "tkab7": [
       {
        "id": "4583/RAASRNCB",
        "source": "zotero"
       }
      ]
     }
    }
   },
   "source": [
    "Following the introduction of ChatGPT (2022), scholarly publications dealing with the human past, including history and memory studies, have undertaken examinations of generative AI's applications within these disciplines (<cite id=\"ft1br\"><a href=\"#zotero%7C4583%2F57JYGG4I\">(Kansteiner, 2022)</a></cite>). The *American Historical Review* dedicated a forum (<cite id=\"7c5ef\"><a href=\"#zotero%7C4583%2FT8GZWC6S\">(Meadows &#38; Sternfeld, 2023)</a></cite>) which highlights both the achievements of AI in history (particularly its ability to utilize large collections of primary sources) and the risks that this usage poses to historical research, primarily the reproduction of certain biases, notably but not exclusively those of gender and race. Thus, as the introduction to this forum reminds us: 'To ponder the effects of artificial intelligence on the field of history quite often requires interrogating fundamental concepts such as truth, evidence, and authenticity.'  In a similar vein, *Memory Studies Review* dedicated a special issue to investigating the implications of generative platforms for collective memory formation and evolution (<cite id=\"luval\"><a href=\"#zotero%7C4583%2FXL4ALY7K\">(Gensburger &#38; Clavert, 2024)</a></cite>). Holocaust studies scholars are investigating which narrative chatbots based on AI are putting forward (<cite id=\"3pwqc\"><a href=\"#zotero%7C4583%2FLDXY7FTY\">(Makhortykh, 2023)</a></cite>). Significant discourse has emerged regarding AI implementation in archival institutions confronting exponentially increasing document volumes (<cite id=\"m8ncm\"><a href=\"#zotero%7C4583%2F37XEGU7W\">(Jaillant &#38; Caputo, 2022)</a></cite>). Photographic archives, presenting distinct methodological considerations, have garnered particular scholarly attention (<cite id=\"ep75g\"><a href=\"#zotero%7C4583%2F9KV326BZ\">(Dentler et al., 2024)</a></cite>; <cite id=\"sdhs8\"><a href=\"#zotero%7C4583%2FWHBCNYE6\">(Arnold &#38; Tilton, 2023)</a></cite>). Digital historians are currently trying to figure out what AI 'knows' about the past (<cite id=\"5lqel\"><a href=\"#zotero%7C4583%2FYQ73A8EF\">(Hutchinson, 2022)</a></cite>). Furthermore, generative AI holds the potential to fundamentally transform routine historical methodologies (<cite id=\"tkab7\"><a href=\"#zotero%7C4583%2FRAASRNCB\">(Clavert &#38; Muller, 2024)</a></cite>), independent of major digital history initiatives. This proliferation of AI within historical and other past-related scholarship portends substantial modifications to methodology."
   ]
  },
  {
   "cell_type": "markdown",
   "metadata": {
    "citation-manager": {
     "citations": {
      "8rgq8": [
       {
        "id": "4583/TG589ZGX",
        "source": "zotero"
       }
      ],
      "ks9am": [
       {
        "id": "4583/CVBG28R2",
        "source": "zotero"
       }
      ],
      "wwuoo": [
       {
        "id": "4583/TW6GSDGI",
        "source": "zotero"
       }
      ]
     }
    },
    "editable": true,
    "slideshow": {
     "slide_type": ""
    },
    "tags": []
   },
   "source": [
    "Nevertheless, this ostensible paradigm shift in historical investigation builds upon decades of computational advancement, considering the foundational work of early computer science pioneers (<cite id=\"ks9am\"><a href=\"#zotero%7C4583%2FCVBG28R2\">(Turing, 1950)</a></cite>; <cite id=\"wwuoo\"><a href=\"#zotero%7C4583%2FTW6GSDGI\">(Turing, 1937)</a></cite> ; <cite id=\"8rgq8\"><a href=\"#zotero%7C4583%2FTG589ZGX\">(von Neumann, 1945)</a></cite>) and even earlier, if we include the contributions of Charles Babbage and Ada Lovelace. While historians must examine the disciplinary implications of increasingly prevalent AI-enabled software, it is imperative to contextualize this recent technological integration within a broader historical framework, our primary objective of this *Journal of Digital History* call for papers."
   ]
  },
  {
   "cell_type": "markdown",
   "metadata": {
    "citation-manager": {
     "citations": {
      "w4jxq": [
       {
        "id": "4583/MGUE4AS4",
        "source": "zotero"
       }
      ]
     }
    }
   },
   "source": [
    "Abstract submissions may address any implementation of AI in studies of the human past while maintaining historical and hermeneutical perspectives to appropriately situate contemporary generative AI developments within their historical context. Additionally, submissions should examine these practices within the broader evolution of computational methods (including antecedent mechanographic systems) in humanities and social sciences research since the post-war period (for instance: <cite id=\"w4jxq\"><a href=\"#zotero%7C4583%2FMGUE4AS4\">(François Furet &#38; Adeline Daumard, 1959)</a></cite>).\n",
    "Submissions must adhere to the journal's established multilayered article format (narrative/hermeneutic/code and data). Prospective contributors are strongly advised to review the [Author Guidelines](https://journalofdigitalhistory.org/en/guidelines) prior to submission."
   ]
  },
  {
   "cell_type": "markdown",
   "metadata": {},
   "source": [
    "The submission process comprises two distinct phases: initial abstract submission via the journal's digital platform, followed by complete manuscript submission. Issue coordinators will subsequently contact authors of selected abstracts to discuss manuscript feasibility and requisite writing environment parameters."
   ]
  },
  {
   "cell_type": "markdown",
   "metadata": {},
   "source": [
    "## Submissions"
   ]
  },
  {
   "cell_type": "markdown",
   "metadata": {},
   "source": [
    "Abstracts should be submitted through the [Journal of Digital History dedicated webpage](https://journalofdigitalhistory.org/en/submit) no later than May, 1st 2025. Please note that acceptance of an abstract does not ensure final publication since all articles must go through the journal’s usual review process."
   ]
  },
  {
   "cell_type": "markdown",
   "metadata": {},
   "source": [
    "| Time schedule| &nbsp; | &nbsp;|\n",
    "|---|---|---|\n",
    "| May 31st, 2025 |&nbsp;| Deadline for submitting abstracts |\n",
    "| June 15th, 2025 |&nbsp;| Notification of abstract acceptance |\n",
    "| December 31st, 2025 |&nbsp;| Deadline for submitting full article manuscripts|\n",
    "| January-June 2026 |&nbsp;| Review process and revisions |\n",
    "| September 2026 |&nbsp;| Publication of special issue |\n"
   ]
  },
  {
   "cell_type": "markdown",
   "metadata": {},
   "source": [
    "## About the editors"
   ]
  },
  {
   "cell_type": "markdown",
   "metadata": {},
   "source": [
    "**Frédéric Clavert** is an assistant professor in European Contemporary History at the Centre for Contemporary and Digital History (C²DH), University of Luxembourg. With Sarah Gensburger, he has co-edited the *Memory Studies Review* special issue [“Is AI the Future of Collective Memory?”](https://brill.com/view/journals/mesr/1/2/mesr.1.issue-2.xml)."
   ]
  },
  {
   "cell_type": "markdown",
   "metadata": {},
   "source": [
    "**Amanda Regan** is an assistant professor in the Department of History and Geography and Clemson University. She teaches digital methods for history in Clemson's new [Digital History Ph.D. program](https://www.clemson.edu/cah/academics/history-and-geography/graduate/digital-history-phd/index.html) and is the co-director of [*Mapping the Gay Guides*](https://www.mappingthegayguides.org/)."
   ]
  },
  {
   "cell_type": "markdown",
   "metadata": {},
   "source": [
    "**Sean Takats** is a professor of Digital History and [FNR PEARL](https://www.fnr.lu/funding-instruments/pearl/) Chair at the University of Luxembourg, where he leads the [DHARPA project](https://dharpa.org/). He is Director of Zotero and Principal Investigator of Tropy."
   ]
  },
  {
   "cell_type": "code",
   "execution_count": null,
   "metadata": {},
   "outputs": [],
   "source": []
  }
 ],
 "metadata": {
  "authors": [
   {
    "name": "Maria Eriksson"
   },
   {
    "name": "Pelle Snickars"
   }
  ],
  "celltoolbar": "Tags",
  "citation-manager": {
   "items": {
    "zotero": {
     "4583/37XEGU7W": {
      "DOI": "10.1007/s00146-021-01367-x",
      "URL": "https://link.springer.com/10.1007/s00146-021-01367-x",
      "abstract": "Co-authored by a Computer Scientist and a Digital Humanist, this article examines the challenges faced by cultural heritage institutions in the digital age, which have led to the closure of the vast majority of born-digital archival collections. It focuses particularly on cultural organizations such as libraries, museums and archives, used by historians, literary scholars and other Humanities scholars. Most born-digital records held by cultural organizations are inaccessible due to privacy, copyright, commercial and technical issues. Even when born-digital data are publicly available (as in the case of web archives), users often need to physically travel to repositories such as the British Library or the Bibliothèque Nationale de France to consult web pages. Provided with enough sample data from which to learn and train their models, AI, and more specifically machine learning algorithms, offer the opportunity to improve and ease the access to digital archives by learning to perform complex human tasks. These vary from providing intelligent support for searching the archives to automate tedious and time-consuming tasks. In this article, we focus on sensitivity review as a practical solution to unlock digital archives that would allow archival institutions to make non-sensitive information available. This promise to make archives more accessible does not come free of warnings for potential pitfalls and risks: inherent errors, \"black box\" approaches that make the algorithm inscrutable, and risks related to bias, fake, or partial information. Our central argument is that AI can deliver its promise to make digital archival collections more accessible, but it also creates new challenges - particularly in terms of ethics. In the conclusion, we insist on the importance of fairness, accountability and transparency in the process of making digital archives more accessible.",
      "accessed": {
       "date-parts": [
        [
         2022,
         11,
         29
        ]
       ]
      },
      "author": [
       {
        "family": "Jaillant",
        "given": "Lise"
       },
       {
        "family": "Caputo",
        "given": "Annalina"
       }
      ],
      "container-title": "AI & SOCIETY",
      "id": "4583/37XEGU7W",
      "issue": "3",
      "issued": {
       "date-parts": [
        [
         "2022"
        ]
       ]
      },
      "journalAbbreviation": "AI & Soc",
      "language": "en",
      "page": "823-835",
      "shortTitle": "Unlocking digital archives",
      "system_id": "zotero|4583/37XEGU7W",
      "title": "Unlocking digital archives: cross-disciplinary perspectives on AI and born-digital data",
      "type": "article-journal",
      "volume": "37"
     },
     "4583/57JYGG4I": {
      "DOI": "10.1111/hith.12282",
      "URL": "https://onlinelibrary.wiley.com/doi/10.1111/hith.12282",
      "abstract": "Artificial intelligence is making history, literally. Machine learning tools are playing a key role in crafting images and stories about the past in popular culture. AI has probably also already invaded the history classroom. Large language models such as GPT-3 are able to generate compelling, non-plagiarized texts in response to simple natural language inputs, thus providing students with an opportunity to produce high-quality written assignments with minimum effort. In a similar vein, tools like GPT-3 are likely to revolutionize historical studies, enabling historians and other professionals who deal in texts to rely on AIgenerated intermediate work products, such as accurate translations, summaries, and chronologies. But present-day large language models fail at key tasks that historians hold in high regard. They are structurally incapable of telling the truth and tracking pieces of information through layers of texts. What's more, they lack ethical self-reflexivity. Therefore, for the time being, the writing of academic history will require human agency. But for historical theorists, large language models might offer an opportunity to test basic hypotheses about the nature of historical writing. Historical theorists can, for instance, have customized large language models write a series of descriptive, narrative, and assertive histories about the same events, thereby enabling them to explore the precise relation between description, narration, and argumentation in historical writing. In short, with specifically designed large language models, historical theorists can run the kinds of largescale writing experiments that they could never put into practice with real historians.",
      "accessed": {
       "date-parts": [
        [
         2023,
         3,
         26
        ]
       ]
      },
      "author": [
       {
        "family": "Kansteiner",
        "given": "Wulf"
       }
      ],
      "container-title": "History and Theory",
      "id": "4583/57JYGG4I",
      "issue": "4",
      "issued": {
       "date-parts": [
        [
         "2022"
        ]
       ]
      },
      "journalAbbreviation": "History and Theory",
      "language": "en",
      "page": "119-133",
      "shortTitle": "DIGITAL DOPING FOR HISTORIANS",
      "system_id": "zotero|4583/57JYGG4I",
      "title": "Digital Doping for Historians: Can History, Memory, and Historical Theory Be Rendered Artificially Intelligent?",
      "type": "article-journal",
      "volume": "61"
     },
     "4583/9KV326BZ": {
      "URL": "http://www.digitalhumanities.org/dhq/vol/18/2/000742/000742.html",
      "abstract": "In recent decades, archival institutions have digitized an enormous quantity of material under the rubric of open access, including from colonial archives. However, much of the most sensitive material from these collections remains undigitized or difficult to discover and use. More recently, a critical reconsideration of open digital access has also taken place, particularly when it comes to sensitive material from the colonial archive. Collectively, this has created a situation in which the colonial photography archive risks becoming overly sanitized as well as difficult to navigate and analyze.",
      "accessed": {
       "date-parts": [
        [
         2025,
         1,
         2
        ]
       ]
      },
      "author": [
       {
        "family": "Dentler",
        "given": "Jonathan"
       },
       {
        "family": "Jaillant",
        "given": "Lise"
       },
       {
        "family": "Foliard",
        "given": "Daniel"
       },
       {
        "family": "Schuh",
        "given": "Julien"
       }
      ],
      "container-title": "Digital Humanities Quarterly",
      "id": "4583/9KV326BZ",
      "issue": "2",
      "issued": {
       "date-parts": [
        [
         2024
        ]
       ]
      },
      "shortTitle": "Sensitivity and Access",
      "system_id": "zotero|4583/9KV326BZ",
      "title": "Sensitivity and Access: Unlocking the Colonial Visual Archive with Machine Learning",
      "type": "article-journal",
      "volume": "18"
     },
     "4583/CVBG28R2": {
      "URL": "http://www.jstor.org/stable/2251299",
      "accessed": {
       "date-parts": [
        [
         2025,
         1,
         2
        ]
       ]
      },
      "archive": "JSTOR",
      "author": [
       {
        "family": "Turing",
        "given": "Alan M."
       }
      ],
      "container-title": "Mind",
      "id": "4583/CVBG28R2",
      "issue": "236",
      "issued": {
       "date-parts": [
        [
         1950
        ]
       ]
      },
      "note": "Publisher: [Oxford University Press, Mind Association]",
      "page": "433-460",
      "system_id": "zotero|4583/CVBG28R2",
      "title": "Computing Machinery and Intelligence",
      "type": "article-journal",
      "volume": "59"
     },
     "4583/LDXY7FTY": {
      "DOI": "10.1515/eehs-2023-0053",
      "URL": "https://www.degruyter.com/document/doi/10.1515/eehs-2023-0053/html",
      "accessed": {
       "date-parts": [
        [
         2023,
         11,
         29
        ]
       ]
      },
      "author": [
       {
        "family": "Makhortykh",
        "given": "Mykola"
       }
      ],
      "container-title": "Eastern European Holocaust Studies",
      "id": "4583/LDXY7FTY",
      "issue": "0",
      "issued": {
       "date-parts": [
        [
         2023,
         11,
         27
        ]
       ]
      },
      "language": "en",
      "shortTitle": "Open Forum",
      "system_id": "zotero|4583/LDXY7FTY",
      "title": "Open Forum: Possibilities and Risks of Artificial Intelligence for Holocaust Memory",
      "type": "article-journal",
      "volume": "0"
     },
     "4583/MGUE4AS4": {
      "URL": "http://www.persee.fr/web/revues/home/prescript/article/ahess_0395-2649_1959_num_14_4_2865",
      "accessed": {
       "date-parts": [
        [
         2008,
         10,
         14
        ]
       ]
      },
      "author": [
       {
        "family": "François Furet",
        "given": ""
       },
       {
        "family": "Adeline Daumard",
        "given": ""
       }
      ],
      "call-number": "0011",
      "container-title": "Annales ESC",
      "id": "4583/MGUE4AS4",
      "issue": "4",
      "issued": {
       "date-parts": [
        [
         1959
        ]
       ]
      },
      "language": "Français",
      "page": "676-693",
      "system_id": "zotero|4583/MGUE4AS4",
      "title": "Méthodes de l'Histoire sociale: les Archives notariales et la Mécanographie",
      "type": "article-journal",
      "volume": "14"
     },
     "4583/RAASRNCB": {
      "DOI": "10.3917/vin.162.0013",
      "URL": "https://shs.cairn.info/revue-vingt-et-vingt-et-un-revue-d-histoire-2024-2-page-13",
      "accessed": {
       "date-parts": [
        [
         2024,
         10,
         14
        ]
       ]
      },
      "author": [
       {
        "family": "Clavert",
        "given": "Frédéric"
       },
       {
        "family": "Muller",
        "given": "Caroline"
       }
      ],
      "container-title": "20 & 21. Revue d'histoire",
      "id": "4583/RAASRNCB",
      "issue": "2",
      "issued": {
       "date-parts": [
        [
         2024,
         10,
         8
        ]
       ]
      },
      "language": "fr",
      "note": "Publisher: Presses de Sciences Po",
      "page": "13-26",
      "shortTitle": "L’histoire au temps des algorithmes",
      "system_id": "zotero|4583/RAASRNCB",
      "title": "L’histoire au temps des algorithmes: Une réflexion prospective sur l’introduction de l’intelligence artificielle en histoire au 21e siècle",
      "type": "article-journal",
      "volume": "162"
     },
     "4583/T8GZWC6S": {
      "DOI": "10.1093/ahr/rhad362",
      "URL": "https://doi.org/10.1093/ahr/rhad362",
      "abstract": "This AHR History Lab forum brings together scholars and practitioners from within and outside the historical discipline to consider the methodological and epistemological implications of artificial intelligence (AI) on historical practice. It is our hope that the following short essays will be the first of many such conversations on this immense topic in these pages. In conceiving of this interdisciplinary forum, our goal was less to provide an introductory primer on artificial intelligence for historians than to allow the participants ample room to interpret what they consider the relevant issues connecting artificial intelligence with history.",
      "accessed": {
       "date-parts": [
        [
         2023,
         10,
         5
        ]
       ]
      },
      "author": [
       {
        "family": "Meadows",
        "given": "R. Darrell"
       },
       {
        "family": "Sternfeld",
        "given": "Joshua"
       }
      ],
      "container-title": "The American Historical Review",
      "id": "4583/T8GZWC6S",
      "issue": "3",
      "issued": {
       "date-parts": [
        [
         2023,
         9,
         1
        ]
       ]
      },
      "journalAbbreviation": "The American Historical Review",
      "page": "1345-1349",
      "shortTitle": "Artificial Intelligence and the Practice of History",
      "system_id": "zotero|4583/T8GZWC6S",
      "title": "Artificial Intelligence and the Practice of History: A Forum",
      "type": "article-journal",
      "volume": "128"
     },
     "4583/TG589ZGX": {
      "author": [
       {
        "family": "von Neumann",
        "given": "John"
       }
      ],
      "id": "4583/TG589ZGX",
      "issued": {
       "date-parts": [
        [
         1945
        ]
       ]
      },
      "language": "en",
      "system_id": "zotero|4583/TG589ZGX",
      "title": "First Draft of a Report on the EDVAC",
      "type": "article-journal"
     },
     "4583/TW6GSDGI": {
      "author": [
       {
        "family": "Turing",
        "given": "Alan M."
       }
      ],
      "container-title": "Proceedings of the London Mathematical Society",
      "id": "4583/TW6GSDGI",
      "issue": "1",
      "issued": {
       "date-parts": [
        [
         1937
        ]
       ]
      },
      "language": "en",
      "page": "230-265",
      "system_id": "zotero|4583/TW6GSDGI",
      "title": "On Computable Numbers, with an Application to the Entscheidungsproblem",
      "type": "article-journal",
      "volume": "s2-42"
     },
     "4583/WHBCNYE6": {
      "ISBN": "978-0-262-37516-0",
      "URL": "https://direct.mit.edu/books/oa-monograph/5674/Distant-ViewingComputational-Exploration-of",
      "abstract": "A new theory and methodology for the application of computer vision methods to the computational analysis of collected, digitized visual materials, called",
      "accessed": {
       "date-parts": [
        [
         2025,
         1,
         2
        ]
       ]
      },
      "author": [
       {
        "family": "Arnold",
        "given": "Taylor"
       },
       {
        "family": "Tilton",
        "given": "Lauren"
       }
      ],
      "id": "4583/WHBCNYE6",
      "issued": {
       "date-parts": [
        [
         2023,
         10,
         17
        ]
       ]
      },
      "language": "en",
      "note": "DOI: 10.7551/mitpress/14046.001.0001",
      "publisher": "The MIT Press",
      "shortTitle": "Distant Viewing",
      "system_id": "zotero|4583/WHBCNYE6",
      "title": "Distant Viewing: Computational Exploration of Digital Images",
      "type": "book"
     },
     "4583/XL4ALY7K": {
      "DOI": "10.1163/29498902-202400019",
      "URL": "https://brill.com/view/journals/mesr/1/2/article-p195_001.xml",
      "abstract": "Abstract\n            \n              This\n              Memory Studies Review\n              special issue explores the intricate relationship between artificial intelligence (\n              ai\n              ) and collective memory. In the one hand, the emergence of generative\n              ai\n              , exemplified by ChatGPT’s 2022 release, appears to herald a new infrastructure for collective memory. On the other, the memory studies work highlights the limits and the backlashes of this new form of memory in its social dimension. This leads to raise a provocative, open-ended question: Is artificial intelligence the future of collective memory? Our issue brings together diverse perspectives from memory studies scholars of different backgrounds and machine learning practitioners, fostering critical engagement with\n              ai\n              in memory practices. This multidisciplinary approach offers an initial exploration of the interactions between\n              ai\n              -powered software, platforms, and collective memory. The articles herein present a multifaceted analysis of\n              ai\n              ’s role in shaping collective memory’s future. We advocate for increased interdisciplinary collaboration and ethical reflection in this rapidly evolving domain, providing memory studies scholars with a foundation for understanding and engaging with these technological transformations.",
      "accessed": {
       "date-parts": [
        [
         2024,
         12,
         14
        ]
       ]
      },
      "author": [
       {
        "family": "Gensburger",
        "given": "Sarah"
       },
       {
        "family": "Clavert",
        "given": "Frédéric"
       }
      ],
      "container-title": "Memory Studies Review",
      "id": "4583/XL4ALY7K",
      "issue": "2",
      "issued": {
       "date-parts": [
        [
         2024,
         12,
         10
        ]
       ]
      },
      "journalAbbreviation": "Mem. Stud. Rev.",
      "language": "en",
      "page": "195-208",
      "system_id": "zotero|4583/XL4ALY7K",
      "title": "Is Artificial Intelligence the Future of Collective Memory?",
      "type": "article-journal",
      "volume": "1"
     },
     "4583/YQ73A8EF": {
      "URL": "https://dr-hutchinson-what-do-ais-know-about-history-app-i3l5jo.streamlit.app/",
      "accessed": {
       "date-parts": [
        [
         2023,
         10,
         5
        ]
       ]
      },
      "author": [
       {
        "family": "Hutchinson",
        "given": "Daniel"
       }
      ],
      "id": "4583/YQ73A8EF",
      "issued": {
       "date-parts": [
        [
         2022
        ]
       ]
      },
      "system_id": "zotero|4583/YQ73A8EF",
      "title": "What Do AIs 'Know' About History? A Digital History Experiment",
      "type": "book"
     }
    }
   },
   "style": "apa.csl"
  },
  "jdh": {
   "helmet": {
    "og:description": "Special issue | Call for Papers",
    "og:image": "https://raw.githubusercontent.com/C2DH/jdh-notebook/master/cfp/digital-tools/socialmediacover.png",
    "og:title": "Digital Tools",
    "twitter:card": "summary_large_image",
    "twitter:data1": "31 October 2022",
    "twitter:data2": "01 April 2023",
    "twitter:label1": "Deadline",
    "twitter:label2": "Full submissions due",
    "twitter:site": "@Journal_DigHist"
   }
  },
  "kernelspec": {
   "display_name": "Python 3 (ipykernel)",
   "language": "python",
   "name": "python3"
  },
  "language_info": {
   "codemirror_mode": {
    "name": "ipython",
    "version": 3
   },
   "file_extension": ".py",
   "mimetype": "text/x-python",
   "name": "python",
   "nbconvert_exporter": "python",
   "pygments_lexer": "ipython3",
   "version": "3.13.2"
  },
  "panel-cell-order": [
   "9e096620",
   "8d5a5d69",
   "7e3b3390",
   "248faac1",
   "180fe686",
   "a0efce54",
   "014ff36f",
   "2f20adee",
   "555d887e"
  ],
  "title": "Digital Tools",
  "toc": {
   "base_numbering": 1,
   "nav_menu": {},
   "number_sections": true,
   "sideBar": true,
   "skip_h1_title": false,
   "title_cell": "Table of Contents",
   "title_sidebar": "Contents",
   "toc_cell": false,
   "toc_position": {},
   "toc_section_display": true,
   "toc_window_display": false
  }
 },
 "nbformat": 4,
 "nbformat_minor": 4
}
