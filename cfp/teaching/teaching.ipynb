{
 "cells": [
  {
   "cell_type": "markdown",
   "id": "f4d0a889-f0d5-4228-9e4d-0852e8de5a4c",
   "metadata": {},
   "source": [
    "# Teaching Digital History\n",
    "*An Open Ended Issue for the Journal of Digital History*"
   ]
  },
  {
   "cell_type": "markdown",
   "id": "363d97ef-b773-4b15-8379-e081778ca461",
   "metadata": {},
   "source": [
    "Proposal by [Amanda Maden ![orcid](https://orcid.org/sites/default/files/images/orcid_16x16.png)](https://orcid.org/0000-0002-5609-8807), [Emmanuel Ngue Um ![orcid](https://orcid.org/sites/default/files/images/orcid_16x16.png)](https://orcid.org/0000-0002-8467-5990), [Silke Schwandt ![orcid](https://orcid.org/sites/default/files/images/orcid_16x16.png)](https://orcid.org/0000-0001-8303-4668)"
   ]
  },
  {
   "cell_type": "markdown",
   "id": "e0713cf8-1fd6-4021-b767-d1c3ee7e193c",
   "metadata": {},
   "source": [
    "## What are Open Ended Issues?"
   ]
  },
  {
   "cell_type": "markdown",
   "id": "29a9028f-fa3e-4e5a-81f3-24c1fc7b474e",
   "metadata": {},
   "source": [
    "Since the publication of its first issue, the Journal of Digital History has published regular and special issues. Their common point is that they are streams rather than ‘traditional’ issues: we publish articles on an ongoing basis. But those issues have all a starting and an ending point."
   ]
  },
  {
   "cell_type": "markdown",
   "id": "702f96b9-df97-4263-81fb-9aa38c8554bf",
   "metadata": {},
   "source": [
    "Open Ended Issues will also see their articles published along the way. They will have a starting date, but no (foreseeable) ending. Open Ended Issues concern themes where research, research practices and research results are moving fast. Open Ended Issues are a way to observe and report emerging research in the making."
   ]
  },
  {
   "cell_type": "markdown",
   "id": "eddb4876-322f-4e41-9079-daff04257b7e",
   "metadata": {},
   "source": [
    "Open ended Issues will also foster discussion and debate."
   ]
  },
  {
   "cell_type": "markdown",
   "id": "6f2bd855-5f6c-4f9d-b308-86118f579b55",
   "metadata": {},
   "source": [
    "## Teaching Digital History: a brief and incomplete history"
   ]
  },
  {
   "cell_type": "markdown",
   "id": "9ed8b230-947f-430f-bf64-611cdd0fea39",
   "metadata": {},
   "source": [
    "Teaching the use of computers and computing in historical studies is not the next big thing. In fact, it’s a quite old thing; historians have been using computers for analysis since the 1950s. In France, the first article published in a well-known academic journal was as early as 1959 (<cite data-cite=\"8918850/N3B4HF3T\"></cite>), teaching the use of computers in history became more common in Anglo and European academia by the 1970s but by 1993 (<cite data-cite=\"8918850/G2FN9ZUJ\"></cite>) computer-aided historical methodology had yet to become widespread, especially outside of Europe and North America. Moreover, publications in the scholarship of teaching and learning digital history haven’t kept up with other fields. Though some case studies have been published (<cite data-cite=\"8918850/U8TD9NBN\"></cite>; <cite data-cite=\"8918850/IHRHWJRU\"></cite>) and a few guides (<cite data-cite=\"8918850/BDWFQHZM\"></cite>; <cite data-cite=\"8918850/9JU5VE7K\"></cite>) as yet there isn’t a robust body of literature on teaching Digital History; there is an immense amount of work still to be done (<cite data-cite=\"8918850/3TQVC2CU\"></cite>)."
   ]
  },
  {
   "cell_type": "markdown",
   "id": "fad44bed-e108-4525-bb44-6ee6118a882f",
   "metadata": {},
   "source": [
    "Today, digital history teaching practices vary around the world - especially regarding the different levels of institutionalization. For instance, in most countries of West, Central and East Africa, while digital tools and mainstream computational methods like computational statistics and GIS are increasingly becoming part of the historian’s  toolkit, the field of Digital History is still to emerge as an academic discipline in its own right. Some universities might have Digital History programmes that include reflections on digital history pedagogy as well as teaching digital tools. At German universities, while the academic field of Digital History is slowly stabilizing through the establishment of chairs in history departments (so far in Bielefeld, Berlin, and Bamberg), the question of teaching and integrating its methods and theories into history curricula is still open. North American and British Universities have a longer tradition of digital history centers and research clusters dating back to the 1990s, and yet teaching digital history has yet to become ubiquitous, particularly in other parts of the globe. Resources, training, and funding are unevenly spread and best practices are still developing."
   ]
  },
  {
   "cell_type": "markdown",
   "id": "14946913-3540-4bb7-a117-01307fb1447b",
   "metadata": {},
   "source": [
    "## Teaching Digital History: a CfP"
   ]
  },
  {
   "cell_type": "markdown",
   "id": "f36aec17-ff31-42f2-8593-97178d24c82c",
   "metadata": {},
   "source": [
    "For its first Open Ended Issue, the Journal of Digital History will explore how we teach digital history and how we think about the pedagogy of digital history. We are particularly interested in questions of how we can integrate digital history into the traditional curriculum, the best practices for teaching it, how we would like to teach it in regions of the world where such a practice is nascent, and how to further solidify the scholarship of teaching and learning as a sub-discipline. Teaching Digital History is a practice in constant motion, based on an unstable set of pedagogical toolkits, that is multifaceted as digital history itself is multifaceted."
   ]
  },
  {
   "cell_type": "markdown",
   "id": "61da83e6-6b57-4759-bc8d-64e6ddc1aae2",
   "metadata": {},
   "source": [
    "Following the innovative practices of the Journal of Digital History, submitted articles will be multilayered. Though articles can start from different points of view – teaching practices, pedagogical theory – contributions will develop three layers:\n",
    "- the narrative layer – that will expose your main arguments;\n",
    "- the hermeneutics layer – that will explain the (computing or pedagogical) tools that allow to put your arguments into practice, and their critical reviews;\n",
    "- the data layer – that can be, for this open issue, made of different things: surveys, interviews, curriculum(s), teaching modules."
   ]
  },
  {
   "cell_type": "markdown",
   "id": "7be1fc9a-3a8c-4751-993a-c67535619668",
   "metadata": {},
   "source": [
    "The Open Ended Issue’s editorial team will welcome articles on many subjects, that include but are not limited to:\n",
    "- teaching Digital History as a topic;\n",
    "- teaching DH-related tools (GIS, development languages, text processing, topic modeling tools) as methods to study history;\n",
    "- pedagogical tools/theories/practices: confrontation with new tools and paradigms, peer group projects, hand’s on courses, (interdisciplinary) team teaching scenarios, development of digital self learning tools, engagement, digital storytelling, etc;\n",
    "- how does the implementation of digital tools and digitization change the way we teach history?\n",
    "- failures and hindrances in the teaching of Digital history;\n",
    "- digital history text-book related articles (not the text-book itself, but a discussion on its scope, on how it should be written, on which skills should be taught, etc);\n",
    "- History of teaching Digital History."
   ]
  },
  {
   "cell_type": "markdown",
   "id": "aa558f37-c231-4e20-9c7f-ec45dd3b9ea3",
   "metadata": {},
   "source": [
    "If you have any questions or want to discuss a proposal, please contact the special issue editors at [jdh.admin@uni.lu](mailto:jdh.admin@uni.lu?subject=Web%20History%20Special%20issue)."
   ]
  },
  {
   "cell_type": "markdown",
   "id": "4584fa87-41bf-48fa-b350-f481008ba6f4",
   "metadata": {},
   "source": [
    "## How to submit"
   ]
  },
  {
   "cell_type": "markdown",
   "id": "a912d030-02bf-4931-85f8-1af15a36957e",
   "metadata": {},
   "source": [
    "As this is an open-ended issue, submitting an article can be done any time. To submit an abstract [please go to the dedicated page](https://journalofdigitalhistory.org/en/submit)."
   ]
  }
 ],
 "metadata": {
  "citation-manager": {
   "items": {}
  },
  "cite2c": {
   "citations": {
    "8918850/3TQVC2CU": {
     "URL": "https://dhiha.hypotheses.org/2619",
     "abstract": "Enseigner le numérique aux historien·ne·s – perspectives internationales #dhiha8Teaching History in the Digital Age – International Perspectives #dhiha8 Atelier de l’IHA et du Luxembourg Centre for Contemporary and Digital History (C2DH)Organisé par : Frédéric...",
     "author": [
      {
       "family": "dhiparis",
       "given": ""
      }
     ],
     "container-title": "Digital Humanities à l'Institut historique allemand",
     "genre": "Billet",
     "id": "8918850/3TQVC2CU",
     "issued": {
      "year": 2018
     },
     "language": "fr-FR",
     "title": "Enseigner le numérique aux historien·ne·s – perspectives internationales #dhiha8",
     "type": "post-weblog"
    },
    "8918850/9JU5VE7K": {
     "ISBN": "978-1-4780-1768-4",
     "abstract": "A Primer for Teaching Digital History is a guide for college and high school teachers who are teaching digital history for the first time or for experienced teachers who want to reinvigorate their pedagogy. It can also serve those who are training future teachers to prepare their own syllabi, as well as teachers who want to incorporate digital history into their history courses. Offering design principles for approaching digital history that represent the possibilities that digital research and scholarship can take, Jennifer Guiliano outlines potential strategies and methods for building syllabi and curricula. Taking readers through the process of selecting data, identifying learning outcomes, and determining which tools students will use in the classroom, Guiliano outlines popular research methods including digital source criticism, text analysis, and visualization. She also discusses digital archives, exhibits, and collections as well as audiovisual and mixed-media narratives such as short documentaries, podcasts, and multimodal storytelling. Throughout, Guiliano illuminates how digital history can enhance understandings of not just what histories are told but how they are told and who has access to them.",
     "author": [
      {
       "family": "Guiliano",
       "given": "Jennifer"
      }
     ],
     "collection-title": "Design Principles for Teaching History",
     "event-place": "Durham, NC",
     "id": "8918850/9JU5VE7K",
     "issued": {
      "year": 2022
     },
     "number-of-pages": "272",
     "publisher": "Duke University Press",
     "publisher-place": "Durham, NC",
     "shortTitle": "A Primer for Teaching Digital History",
     "title": "A Primer for Teaching Digital History: Ten Design Principles",
     "title-short": "A Primer for Teaching Digital History",
     "type": "book"
    },
    "8918850/BDWFQHZM": {
     "ISBN": "978-0-472-90027-5",
     "URL": "https://muse.jhu.edu/pub/166/oa_monograph/book/22708",
     "abstract": "Although many humanities scholars have been talking and writing about the transition to the digital age for more than a decade, only in the last few years have we seen a convergence of the factors that make this transition possible: the spread of sufficient infrastructure on campuses, the creation of truly massive databases of humanities content, and a generation of students that has never known a world without easy Internet access.\n \nTeaching History in the Digital Age serves as a guide for practitioners on how to fruitfully employ the transformative changes of digital media in the research, writing, and teaching of history. T. Mills Kelly synthesizes more than two decades of research in digital history, offering practical advice on how to make best use of the results of this synthesis in the classroom and new ways of thinking about pedagogy in the digital humanities.",
     "accessed": {
      "day": 23,
      "month": 1,
      "year": 2023
     },
     "author": [
      {
       "family": "Kelly",
       "given": "T. Mills"
      }
     ],
     "event-place": "Ann Arbor",
     "id": "8918850/BDWFQHZM",
     "issued": {
      "year": 2013
     },
     "note": "DOI: 10.1353/book.22708",
     "publisher": "University of Michigan Press",
     "publisher-place": "Ann Arbor",
     "title": "Teaching History in the Digital Age",
     "type": "book"
    },
    "8918850/G2FN9ZUJ": {
     "author": [
      {
       "family": "Genet",
       "given": "Jean-Philippe"
      }
     ],
     "container-title": "Mémoire vive",
     "id": "8918850/G2FN9ZUJ",
     "issue": "9",
     "issued": {
      "season": "Juin",
      "year": 1993
     },
     "title": "La formation informatique des historiens en France: une urgence",
     "type": "article-journal"
    },
    "8918850/IHRHWJRU": {
     "URL": "http://www.gout-numerique.net/table-of-contents/les-historiens-numeriques-revent-ils-darchives-electroniques",
     "abstract": "Je me souviens de ma première rencontre avec Le goût de l'archive à la fin de l'année 2006. Je suis alors en première année de master, j'apprends à produire un récit historique et je découvre…",
     "accessed": {
      "day": 30,
      "month": 10,
      "year": 2019
     },
     "author": [
      {
       "family": "Poublanc",
       "given": "Sébastien"
      }
     ],
     "container-title": "Le goût de l'archive à l'ère numérique",
     "editor": [
      {
       "family": "Muller",
       "given": "Caroline"
      },
      {
       "family": "Clavert",
       "given": "Frédéric"
      }
     ],
     "id": "8918850/IHRHWJRU",
     "issued": {
      "season": "avril",
      "year": 2018
     },
     "language": "fr-FR",
     "shortTitle": "Les jeunes historiens rêvent-ils d’archives numériques ?",
     "title": "Les jeunes historiens rêvent-ils d’archives numériques ?",
     "title-short": "Les jeunes historiens rêvent-ils d’archives numériques ?",
     "type": "chapter"
    },
    "8918850/N3B4HF3T": {
     "URL": "http://www.persee.fr/web/revues/home/prescript/article/ahess_0395-2649_1959_num_14_4_2865",
     "accessed": {
      "day": 14,
      "month": 10,
      "year": 2008
     },
     "author": [
      {
       "family": "Furet",
       "given": "François"
      },
      {
       "family": "Daumard",
       "given": "Adeline"
      }
     ],
     "call-number": "0011",
     "container-title": "Annales ESC",
     "id": "8918850/N3B4HF3T",
     "issue": "4",
     "issued": {
      "year": 1959
     },
     "language": "Français",
     "page": "676-693",
     "page-first": "676",
     "title": "Méthodes de l'Histoire sociale: les Archives notariales et la Mécanographie",
     "type": "article-journal",
     "volume": "14"
    },
    "8918850/U8TD9NBN": {
     "author": [
      {
       "family": "Ruiz",
       "given": "Émilien"
      },
      {
       "family": "Heimburger",
       "given": "Franziska"
      }
     ],
     "container-title": "Revue d’histoire moderne et contemporaine",
     "id": "8918850/U8TD9NBN",
     "issue": "5",
     "issued": {
      "year": 2011
     },
     "page": "70-89",
     "page-first": "70",
     "shortTitle": "Faire de l'histoire à l'ère numérique",
     "title": "Faire de l'histoire à l'ère numérique : retours d'expériences",
     "title-short": "Faire de l'histoire à l'ère numérique",
     "type": "article-journal",
     "volume": "n° 58-4bis"
    }
   }
  },
  "kernelspec": {
   "display_name": "Python 3 (ipykernel)",
   "language": "python",
   "name": "python3"
  },
  "language_info": {
   "codemirror_mode": {
    "name": "ipython",
    "version": 3
   },
   "file_extension": ".py",
   "mimetype": "text/x-python",
   "name": "python",
   "nbconvert_exporter": "python",
   "pygments_lexer": "ipython3",
   "version": "3.7.13"
  },
  "toc": {
   "base_numbering": 1,
   "nav_menu": {},
   "number_sections": true,
   "sideBar": true,
   "skip_h1_title": false,
   "title_cell": "Table of Contents",
   "title_sidebar": "Contents",
   "toc_cell": false,
   "toc_position": {},
   "toc_section_display": true,
   "toc_window_display": false
  }
 },
 "nbformat": 4,
 "nbformat_minor": 5
}
