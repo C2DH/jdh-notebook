{
 "cells": [
  {
   "cell_type": "markdown",
   "metadata": {
    "tags": [
     "title"
    ]
   },
   "source": [
    "# Digital tools"
   ]
  },
  {
   "cell_type": "markdown",
   "metadata": {},
   "source": [
    "## Special issue for the Journal of Digital History"
   ]
  },
  {
   "cell_type": "markdown",
   "metadata": {
    "tags": [
     "abstract"
    ]
   },
   "source": [
    "Proposal by [Maria Eriksson ![orcid](https://orcid.org/sites/default/files/images/orcid_16x16.png)](https://orcid.org/0000-0002-7534-4268), [Pelle Snickars ![orcid](https://orcid.org/sites/default/files/images/orcid_16x16.png)](https://orcid.org/0000-0001-5122-1549)"
   ]
  },
  {
   "cell_type": "markdown",
   "metadata": {},
   "source": [
    "In the field of digital history, there exists a rapidly increasing range of digital tools to study the past. Online, a number of websites feature lists of DH-tools, using well-known applications such as Jupyter notebooks, Zotero, and Scalar—as well as a wide range of data visualization scripts, geographic mapping software, and timeline tools. Furthermore, digital historians are developing specialized digital toolboxes that draw inspiration from major platform strategies for managing digital collections and explore techniques for analyzing digital source materials using artificial intelligence and machine learning."
   ]
  },
  {
   "cell_type": "markdown",
   "metadata": {},
   "source": [
    "This special issue of the Journal of Digital History welcomes contributions that introduce and discuss digital toolkits for exploring historic source materials, be they sonic, textual, visual, or audiovisual. We seek to collect a broad range of publications that demonstrate and critically analyse new ways of exploring the past through computational means and strive to open up and problematize the use of digital methods in historic research. "
   ]
  },
  {
   "cell_type": "markdown",
   "metadata": {},
   "source": [
    "In line with the journal’s publication standards, the toolkits should be open source and the articles available in Jupyter Notebooks. Preferably, datasets used should also be open and available for being uploaded on the journal’s website. We especially welcome contributions that take advantage of the journal’s multi-layered structure for narrating and commenting on code, including analytical reflections on the possibilities and limitations of the analytical tools used. We also invite proposals for methods that combine multiple media modalities—from 3D to text, sound, and moving images. Finally, we encourage contributions that provide critical reflections on the role of digital tools in producing new (historic) knowledge, and/or strive to historize the use of digital methods among historians."
   ]
  },
  {
   "cell_type": "markdown",
   "metadata": {},
   "source": [
    "Authors should locate proposed submissions in a broader methodological and/or historical context and express a pedagogic interest in explaining, illustrating, and untangling the functionality of the proposed methods. The digital tools do not have to be fully programmed by the authors themselves—extending and reusing existing open-source code is naturally acceptable. However, the particular assemblage of code and scripts in the toolkits should be unique and display a novel level of complexity, with a scientific and/or methodological contextualization."
   ]
  },
  {
   "cell_type": "markdown",
   "metadata": {},
   "source": [
    "The topic of contributions may include—but are not limited to:\n",
    "\n",
    "- Textual, visual, audiovisual and/or sonic toolkits for exploring historic source materials, including discussions on the challenges and opportunities that such tools bring with them.\n",
    "- New methods of using AI and machine learning to analyze, annotate or extract information from historic sources, including techniques such as natural language processing, speech to text, facial/object detection, etc.\n",
    "- Toolkits that aim at preparing, organizing, and curating datasets.\n",
    "- Reflections on the process of (re-)training and adapting machine learning techniques for historic purposes. \n",
    "- Comparative investigations of the technical workings of different methods for analyzing digitized historic sources.\n",
    "- The history of the use of digital tools among historians, including hands-on illustrations of the evolution and development of digital tools and techniques."
   ]
  },
  {
   "cell_type": "markdown",
   "metadata": {},
   "source": [
    "If you have any questions or want to discuss a proposal, please contact the special issue editors at [jdh.admin@uni.lu](mailto:jdh.admin@uni.lu?subject=Web%20History%20Special%20issue)."
   ]
  },
  {
   "cell_type": "markdown",
   "metadata": {},
   "source": [
    "## Submissions"
   ]
  },
  {
   "cell_type": "markdown",
   "metadata": {},
   "source": [
    "Abstracts of a maximum of 500 words should be emailed to [Pelle Snickars](mailto:pelle.snickars@kultur.lu.se) and [Maria Eriksson](mailto:maria.c.eriksson@umu.se) no later than October 31, 2022. Please note that acceptance of an abstract does not ensure final publication since all articles must go through the journal’s usual review process."
   ]
  },
  {
   "cell_type": "markdown",
   "metadata": {},
   "source": [
    "| Time schedule| &nbsp; | &nbsp;|\n",
    "|---|---|---|\n",
    "| October 31st, 2022 |&nbsp;| Deadline for submitting abstracts |\n",
    "| November 15th, 2022 |&nbsp;| Notification of abstract acceptance |\n",
    "| April 1st, 2023 |&nbsp;| Deadline for submitting full article manuscripts|\n",
    "| April-September |&nbsp;| Review process and revisions |\n",
    "| September/October 2023 |&nbsp;| Publication of special issue |\n"
   ]
  },
  {
   "cell_type": "markdown",
   "metadata": {},
   "source": [
    "## About the guest editors"
   ]
  },
  {
   "cell_type": "markdown",
   "metadata": {},
   "source": [
    "**Maria Eriksson** is a postdoctoral fellow at [Humlab, Umeå University](https://www.umu.se/en/staff/maria-c-eriksson/) whose research is located at the intersection of media studies, social anthropology, the digital humanities, and science and technology studies. Since 2019, she has worked within the EU-funded research project [European History Reloaded: Curation and Appropriation of Digital Audiovisual Heritage](https://www.cadeah.eu/), where her research explores the use of AI/machine learning in navigating historic audiovisual archives and develops methods for studying video reuse. She is currently a visiting scholar/lecturer at Basel University, Switzerland."
   ]
  },
  {
   "cell_type": "markdown",
   "metadata": {},
   "source": [
    "**Pelle Snickars** is professor of digital cultures at Lund University. His research is situated at the intersection between media studies, media history and the digital humanities. Snickars is currently in charge of the research projects, [Welfare State Analytics. Text Mining and Modeling Swedish Politics, Media & Culture, 1945-1989](https://www.westac.se/en/) (Swedish Research Council), [Modern Times 1936](http://modernatider1936.se/) (Riksbankens Jubileumsfond), and co-ordinator of the national research program, [DIGARV—Digitisation and accessibility of cultural heritage](https://www.digarv.se/en/) (Swedish Research Council)."
   ]
  }
 ],
 "metadata": {
  "authors": [
   {
    "name": "Maria Eriksson"
   },
   {
    "name": "Pelle Snickars"
   }
  ],
  "celltoolbar": "Tags",
  "jdh": {
   "helmet": {
    "og:description": "Special issue | Call for Papers",
    "og:image": "https://raw.githubusercontent.com/C2DH/jdh-notebook/master/cfp/digital-tools/socialmediacover.png",
    "og:title": "Digital Tools",
    "twitter:card": "summary_large_image",
    "twitter:data1": "31 October 2022",
    "twitter:data2": "01 April 2023",
    "twitter:label1": "Deadline",
    "twitter:label2": "Full submissions due",
    "twitter:site": "@Journal_DigHist"
   }
  },
  "kernelspec": {
   "display_name": "Python 3 (ipykernel)",
   "language": "python",
   "name": "python3"
  },
  "language_info": {
   "codemirror_mode": {
    "name": "ipython",
    "version": 3
   },
   "file_extension": ".py",
   "mimetype": "text/x-python",
   "name": "python",
   "nbconvert_exporter": "python",
   "pygments_lexer": "ipython3",
   "version": "3.7.13"
  },
  "title": "Digital Tools",
  "toc": {
   "base_numbering": 1,
   "nav_menu": {},
   "number_sections": true,
   "sideBar": true,
   "skip_h1_title": false,
   "title_cell": "Table of Contents",
   "title_sidebar": "Contents",
   "toc_cell": false,
   "toc_position": {},
   "toc_section_display": true,
   "toc_window_display": false
  }
 },
 "nbformat": 4,
 "nbformat_minor": 4
}
