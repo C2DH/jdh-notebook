{
 "cells": [
  {
   "cell_type": "markdown",
   "metadata": {
    "tags": [
     "title"
    ]
   },
   "source": [
    "# Web History of Society and Social Institutions (History Seeing Through the Web)"
   ]
  },
  {
   "cell_type": "markdown",
   "metadata": {},
   "source": [
    "## Special issue for the Journal of Digital History"
   ]
  },
  {
   "cell_type": "markdown",
   "metadata": {},
   "source": [
    "Proposal by Nadezhda Povroznik[![orcid](https://orcid.org/sites/default/files/images/orcid_16x16.png)](https://orcid.org/0000-0003-2044-8147), Ian Milligan[![orcid](https://orcid.org/sites/default/files/images/orcid_16x16.png)](https://orcid.org/0000-0002-1470-7723), Anat Ben-David[![orcid](https://orcid.org/sites/default/files/images/orcid_16x16.png)](https://orcid.org/0000-0003-4510-5634)"
   ]
  },
  {
   "cell_type": "markdown",
   "metadata": {},
   "source": [
    "Historical studies of the world wide web (WWW) have been primarily concerned with the development of the medium. However, web archival materials are also crucial sources for understanding history – social, cultural, political, to name a few relevant subfields – as seen through the web. In the past decades, the web has become not only a new window for production, dissemination, and receiving information, but it has also grown a new environment, a significant part of the daily life of a modern human, and a substantial force in society. For example, as everyday people use the web to express their thoughts, document their activities, and engage with each other, these web archives increasingly form a trove of rich information on the social histories of global society.  Thus, while archival web materials can be used as primary sources that document social changes outside of the web (for example, migration or globalization), they also open up a window for understanding the co-construction of social changes along with the web (such as the formation of new communities – “virtual” or “real” alike – or the migration of social activism to the web, among others). "
   ]
  },
  {
   "cell_type": "markdown",
   "metadata": {},
   "source": [
    "The special issue aims to broaden the field of historical web research by advancing new understandings of the processes related to the development of the WWW from a historical perspective. We seek original, high-quality contributions that demonstrate the unique value of archived web materials for social historians. "
   ]
  },
  {
   "cell_type": "markdown",
   "metadata": {},
   "source": [
    "The Journal for Digital History offers a unique open-access publishing model in the historical sciences that promotes a new form of data-driven scholarship and transmedia storytelling. Each article includes a narration layer involving transmedia storytelling, a hermeneutic layer exploring the methodological implications of using digital tools and data, and a data layer providing access to data and code utilizing a professional infrastructure. Jupyter Notebooks are at the heart of the edition and exploration of articles. We therefore strongly encourage data-driven contribution that can benefit from the multi-layer publishing model in ways that can demonstrate the usefulness (and limitations) of archived web materials for social, historical research. "
   ]
  },
  {
   "cell_type": "markdown",
   "metadata": {},
   "source": [
    "Since the mid-1990s, web preservation initiatives have gathered vast amounts of web data and special collections devoted to various aspects of historical research. Existing web archives, such as the Internet Archive and national web archives of national libraries worldwide, maintain valuable historical sources for studying shifts provoked by the development of the WWW and the Internet. However, archived web materials are often incomplete and lack sufficient contextualization that might affect the research results and distort history. Therefore, we also welcome submissions on source criticism and evaluation of information."
   ]
  },
  {
   "cell_type": "markdown",
   "metadata": {},
   "source": [
    "The topics of the special issue intend to address the social aspects of web history. They include, but are not limited to the following:\n",
    "- reconstruction and deconstruction of contemporary history via archived web resources;\n",
    "- the development of the information society;\n",
    "- online communities and cyber communities: creation, transformation and lifecycles;\n",
    "- online activism and social movements on the web in a historical perspective;\n",
    "- history of institutions seen through the web: functions, features, platforms;\n",
    "- understanding the limitations of these sources for web history, including technical or ethical challenges; and\n",
    "- biases in data and source-criticism in research of social history seen through the web."
   ]
  },
  {
   "cell_type": "markdown",
   "metadata": {},
   "source": [
    "If you have any questions or want to discuss a proposal, please contact the special issue editors at [jdh.admin@uni.lu](mailto:jdh.admin@uni.lu?subject=Web%20History%20Special%20issue)."
   ]
  },
  {
   "cell_type": "markdown",
   "metadata": {},
   "source": [
    "## Deadlines"
   ]
  },
  {
   "cell_type": "markdown",
   "metadata": {},
   "source": [
    "| Submission of 500-word abstracts |&nbsp;| 31 May 2022 |\n",
    "|---|---|---|\n",
    "| Notification of decision on abstracts |&nbsp;| 15 June 2022 |\n",
    "| Full submissions due |&nbsp;| 30 November 2022 |"
   ]
  }
 ],
 "metadata": {
  "celltoolbar": "Tags",
  "kernelspec": {
   "display_name": "Python 3",
   "language": "python",
   "name": "python3"
  },
  "language_info": {
   "codemirror_mode": {
    "name": "ipython",
    "version": 3
   },
   "file_extension": ".py",
   "mimetype": "text/x-python",
   "name": "python",
   "nbconvert_exporter": "python",
   "pygments_lexer": "ipython3",
   "version": "3.7.10"
  },
  "toc": {
   "base_numbering": 1,
   "nav_menu": {},
   "number_sections": true,
   "sideBar": true,
   "skip_h1_title": false,
   "title_cell": "Table of Contents",
   "title_sidebar": "Contents",
   "toc_cell": false,
   "toc_position": {},
   "toc_section_display": true,
   "toc_window_display": false
  }
 },
 "nbformat": 4,
 "nbformat_minor": 4
}
