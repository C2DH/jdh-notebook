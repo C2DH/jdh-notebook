{
 "cells": [
  {
   "cell_type": "markdown",
   "metadata": {},
   "source": [
    "# Get dataverse of the journal JDH"
   ]
  },
  {
   "cell_type": "markdown",
   "metadata": {},
   "source": [
    "## By using request"
   ]
  },
  {
   "cell_type": "markdown",
   "metadata": {},
   "source": [
    "### Establish connection"
   ]
  },
  {
   "cell_type": "code",
   "execution_count": 1,
   "metadata": {},
   "outputs": [
    {
     "data": {
      "text/plain": [
       "200"
      ]
     },
     "execution_count": 1,
     "metadata": {},
     "output_type": "execute_result"
    }
   ],
   "source": [
    "import requests\n",
    "headers = {\n",
    "    'X-Dataverse-key': 'c5e97d0b-9786-4163-9af7-3a3b96ad67d9',\n",
    "}\n",
    "response = requests.get('http://data-test.c2dh.uni.lux:9090/api/dataverses/jdh', headers=headers)\n",
    "status=response.status_code\n",
    "status"
   ]
  },
  {
   "cell_type": "code",
   "execution_count": 2,
   "metadata": {},
   "outputs": [
    {
     "data": {
      "text/plain": [
       "b'{\"status\":\"OK\",\"data\":{\"id\":513,\"alias\":\"jdh\",\"name\":\"Journal of Digital Humanities\",\"affiliation\":\"C2DH\",\"dataverseContacts\":[{\"displayOrder\":0,\"contactEmail\":\"frederic.maguin@uni.lu\"}],\"permissionRoot\":true,\"description\":\"Dataverse for the Journal of Digital Humanities.\",\"dataverseType\":\"JOURNALS\",\"ownerId\":1,\"creationDate\":\"2020-10-09T16:51:15Z\"}}'"
      ]
     },
     "execution_count": 2,
     "metadata": {},
     "output_type": "execute_result"
    }
   ],
   "source": [
    "response.content"
   ]
  },
  {
   "cell_type": "markdown",
   "metadata": {},
   "source": [
    "### Get a specific article"
   ]
  },
  {
   "cell_type": "code",
   "execution_count": 3,
   "metadata": {},
   "outputs": [
    {
     "data": {
      "text/plain": [
       "b'{\"status\":\"OK\",\"data\":{\"id\":515,\"identifier\":\"FK2/MFWJJ8\",\"persistentUrl\":\"https://doi.org/10.5072/FK2/MFWJJ8\",\"protocol\":\"doi\",\"authority\":\"10.5072\",\"publisher\":\"C2DH Data\",\"storageIdentifier\":\"file://10.5072/FK2/MFWJJ8\",\"latestVersion\":{\"id\":11,\"datasetId\":515,\"datasetPersistentId\":\"doi:10.5072/FK2/MFWJJ8\",\"storageIdentifier\":\"file://10.5072/FK2/MFWJJ8\",\"versionState\":\"DRAFT\",\"lastUpdateTime\":\"2020-10-09T17:15:57Z\",\"createTime\":\"2020-10-09T17:12:02Z\",\"license\":\"CC0\",\"termsOfUse\":\"CC0 Waiver\",\"fileAccessRequest\":false,\"metadataBlocks\":{\"citation\":{\"displayName\":\"Citation Metadata\",\"fields\":[{\"typeName\":\"title\",\"multiple\":false,\"typeClass\":\"primitive\",\"value\":\"JDH Issue #001 Article #01\"},{\"typeName\":\"author\",\"multiple\":true,\"typeClass\":\"compound\",\"value\":[{\"authorName\":{\"typeName\":\"authorName\",\"multiple\":false,\"typeClass\":\"primitive\",\"value\":\"Fr\\xc3\\xa9d\\xc3\\xa9ric Maguin\"},\"authorAffiliation\":{\"typeName\":\"authorAffiliation\",\"multiple\":false,\"typeClass\":\"primitive\",\"value\":\"C2DH\"}}]},{\"typeName\":\"datasetContact\",\"multiple\":true,\"typeClass\":\"compound\",\"value\":[{\"datasetContactName\":{\"typeName\":\"datasetContactName\",\"multiple\":false,\"typeClass\":\"primitive\",\"value\":\"Fr\\xc3\\xa9d\\xc3\\xa9ric Maguin\"},\"datasetContactAffiliation\":{\"typeName\":\"datasetContactAffiliation\",\"multiple\":false,\"typeClass\":\"primitive\",\"value\":\"C2DH\"},\"datasetContactEmail\":{\"typeName\":\"datasetContactEmail\",\"multiple\":false,\"typeClass\":\"primitive\",\"value\":\"frederic.maguin@uni.lu\"}}]},{\"typeName\":\"dsDescription\",\"multiple\":true,\"typeClass\":\"compound\",\"value\":[{\"dsDescriptionValue\":{\"typeName\":\"dsDescriptionValue\",\"multiple\":false,\"typeClass\":\"primitive\",\"value\":\"The first article of the first issue.\"}}]},{\"typeName\":\"subject\",\"multiple\":true,\"typeClass\":\"controlledVocabulary\",\"value\":[\"Social Sciences\"]},{\"typeName\":\"publication\",\"multiple\":true,\"typeClass\":\"compound\",\"value\":[{\"publicationCitation\":{\"typeName\":\"publicationCitation\",\"multiple\":false,\"typeClass\":\"primitive\",\"value\":\"Journal of Digital History\"}}]},{\"typeName\":\"notesText\",\"multiple\":false,\"typeClass\":\"primitive\",\"value\":\"Lorem Ipsum...\"},{\"typeName\":\"depositor\",\"multiple\":false,\"typeClass\":\"primitive\",\"value\":\"Fr\\xc3\\xa9d\\xc3\\xa9ric Maguin\"},{\"typeName\":\"dateOfDeposit\",\"multiple\":false,\"typeClass\":\"primitive\",\"value\":\"2020-10-09\"}]}},\"files\":[{\"description\":\"Test data.\",\"label\":\"data.csv\",\"restricted\":false,\"version\":1,\"datasetVersionId\":11,\"dataFile\":{\"id\":516,\"persistentId\":\"\",\"pidURL\":\"\",\"filename\":\"data.csv\",\"contentType\":\"text/csv\",\"filesize\":15,\"description\":\"Test data.\",\"storageIdentifier\":\"file://1750e5c820a-409ff4821c8f\",\"rootDataFileId\":-1,\"md5\":\"177e364a7608d94f5480eab24c18091a\",\"checksum\":{\"type\":\"MD5\",\"value\":\"177e364a7608d94f5480eab24c18091a\"},\"creationDate\":\"2020-10-09\"}}]}}}'"
      ]
     },
     "execution_count": 3,
     "metadata": {},
     "output_type": "execute_result"
    }
   ],
   "source": [
    "import requests\n",
    "headers = {\n",
    "    'X-Dataverse-key': 'c5e97d0b-9786-4163-9af7-3a3b96ad67d9',\n",
    "}\n",
    "params = (\n",
    "    ('persistentId', 'doi:10.5072/FK2/MFWJJ8'),\n",
    ")\n",
    "#GET on a specific article\n",
    "response = requests.get('http://data-test.c2dh.uni.lux:9090/api/datasets/:persistentId/', headers=headers, params=params)\n",
    "response.content"
   ]
  },
  {
   "cell_type": "markdown",
   "metadata": {},
   "source": [
    "### Get zip article"
   ]
  },
  {
   "cell_type": "code",
   "execution_count": 4,
   "metadata": {},
   "outputs": [],
   "source": [
    "#here solution by coping on the disk\n",
    "import urllib3\n",
    "import shutil\n",
    "http = urllib3.PoolManager()\n",
    "headers = {\n",
    "    'X-Dataverse-key': 'c5e97d0b-9786-4163-9af7-3a3b96ad67d9',\n",
    "}\n",
    "url='http://data-test.c2dh.uni.lux:9090/api/access/dataset/:persistentId/?persistentId=doi:10.5072/FK2/MFWJJ8'\n",
    "path='/Users/elisabeth.guerard/c2dh/JDH/jdh-notebook/poc/dataverse_jdh.zip'\n",
    "with http.request('GET', url, headers=headers, preload_content=False) as r, open(path, 'wb') as out_file:       \n",
    "    shutil.copyfileobj(r, out_file)\n",
    "\n"
   ]
  },
  {
   "cell_type": "markdown",
   "metadata": {},
   "source": [
    "## By using pyDataverse"
   ]
  },
  {
   "cell_type": "markdown",
   "metadata": {},
   "source": [
    "### For JDH"
   ]
  },
  {
   "cell_type": "markdown",
   "metadata": {},
   "source": [
    "#### Establish connection"
   ]
  },
  {
   "cell_type": "code",
   "execution_count": 48,
   "metadata": {},
   "outputs": [
    {
     "data": {
      "text/plain": [
       "'OK'"
      ]
     },
     "execution_count": 48,
     "metadata": {},
     "output_type": "execute_result"
    }
   ],
   "source": [
    "from pyDataverse.api import Api\n",
    "from pyDataverse.models import Dataverse\n",
    "# establish connection\n",
    "base_url = 'http://data-test.c2dh.uni.lux:9090'\n",
    "api = Api(base_url,api_token='c5e97d0b-9786-4163-9af7-3a3b96ad67d9')\n",
    "api.status"
   ]
  },
  {
   "cell_type": "markdown",
   "metadata": {},
   "source": [
    "#### Get JDH  dataverse"
   ]
  },
  {
   "cell_type": "code",
   "execution_count": 51,
   "metadata": {},
   "outputs": [
    {
     "data": {
      "text/plain": [
       "<Response [401]>"
      ]
     },
     "execution_count": 51,
     "metadata": {},
     "output_type": "execute_result"
    }
   ],
   "source": [
    "from pyDataverse.api import Api\n",
    "from pyDataverse.models import Dataverse\n",
    "# establish connection\n",
    "base_url = 'http://data-test.c2dh.uni.lux:9090'\n",
    "api = Api(base_url,api_token='c5e97d0b-9786-4163-9af7-3a3b96ad67d9')\n",
    "dv = 'jdh'  # dataverse alias or id\n",
    "resp = api.get_dataverse(dv)\n",
    "resp"
   ]
  },
  {
   "cell_type": "markdown",
   "metadata": {},
   "source": [
    "### Connect to the dataverse of Harvard"
   ]
  },
  {
   "cell_type": "code",
   "execution_count": 34,
   "metadata": {},
   "outputs": [
    {
     "data": {
      "text/plain": [
       "'OK'"
      ]
     },
     "execution_count": 34,
     "metadata": {},
     "output_type": "execute_result"
    }
   ],
   "source": [
    "from pyDataverse.api import Api\n",
    "from pyDataverse.models import Dataverse\n",
    "# establish connection\n",
    "base_url = 'https://dataverse.harvard.edu/'\n",
    "api = Api(base_url)\n",
    "api.status\n"
   ]
  },
  {
   "cell_type": "code",
   "execution_count": 36,
   "metadata": {},
   "outputs": [
    {
     "data": {
      "text/plain": [
       "{'status': 'OK',\n",
       " 'data': {'id': 4027676,\n",
       "  'alias': 'dfc_landimpermanencesyndrome',\n",
       "  'name': 'DFC – Influence of Land Impermanence Syndrome',\n",
       "  'affiliation': 'Bioversity International',\n",
       "  'dataverseContacts': [{'displayOrder': 0,\n",
       "    'contactEmail': 'a.fongar@cgiar.org'},\n",
       "   {'displayOrder': 0, 'contactEmail': 'b.ekesa@cgiar.org'}],\n",
       "  'permissionRoot': True,\n",
       "  'description': 'Trócaire in partnership with Bioversity International researched on the Influence of Land Impermanence Syndrome on Conservation and Utilization of Agrobiodiversity and the subsequent Effect on Food Attitudes, Choices and Consumption Patterns within the context of the Acholi and Teso regions. The project aimed to design appropriate interventions (including advocacy strategies) based on the research findings and recommendations. Whilst land tenure stability/instability has been of great concern across Uganda, few studies have been conducted to elucidate how this influences people’s food choices and consumption patterns. Even less attention has been given to understanding how land tenure stability/instability affects short- and long-term decisions on agro-biodiversity conservation and utilization and how all this influences people’s access to and choice of food.',\n",
       "  'dataverseType': 'RESEARCH_PROJECTS',\n",
       "  'ownerId': 2680762,\n",
       "  'creationDate': '2020-08-17T13:24:30Z'}}"
      ]
     },
     "execution_count": 36,
     "metadata": {},
     "output_type": "execute_result"
    }
   ],
   "source": [
    "from pyDataverse.api import Api\n",
    "from pyDataverse.models import Dataverse\n",
    "# establish connection\n",
    "base_url = 'https://dataverse.harvard.edu/'\n",
    "api = Api(base_url)\n",
    "dv = 'dfc_landimpermanencesyndrome'  # dataverse alias or id\n",
    "resp = api.get_dataverse(dv)\n",
    "resp.json()"
   ]
  },
  {
   "cell_type": "code",
   "execution_count": 37,
   "metadata": {},
   "outputs": [
    {
     "data": {
      "text/plain": [
       "'2020-08-17T13:24:30Z'"
      ]
     },
     "execution_count": 37,
     "metadata": {},
     "output_type": "execute_result"
    }
   ],
   "source": [
    "#Example here : https://dataverse.harvard.edu/dataverse/dfc_landimpermanencesyndrome\n",
    "from pyDataverse.api import Api\n",
    "from pyDataverse.models import Dataverse\n",
    "# establish connection\n",
    "base_url = 'https://dataverse.harvard.edu/'\n",
    "api = Api(base_url)\n",
    "dv = 'dfc_landimpermanencesyndrome'  # dataverse alias or id\n",
    "resp = api.get_dataverse(dv)\n",
    "resp.json()['data']['creationDate']"
   ]
  },
  {
   "cell_type": "code",
   "execution_count": 45,
   "metadata": {},
   "outputs": [
    {
     "data": {
      "text/plain": [
       "{'status': 'OK',\n",
       " 'data': {'id': 4027719,\n",
       "  'identifier': 'DVN/R1XZ5T',\n",
       "  'persistentUrl': 'https://doi.org/10.7910/DVN/R1XZ5T',\n",
       "  'protocol': 'doi',\n",
       "  'authority': '10.7910',\n",
       "  'publisher': 'Harvard Dataverse',\n",
       "  'publicationDate': '2020-10-02',\n",
       "  'storageIdentifier': 's3://10.7910/DVN/R1XZ5T',\n",
       "  'latestVersion': {'id': 203994,\n",
       "   'datasetId': 4027719,\n",
       "   'datasetPersistentId': 'doi:10.7910/DVN/R1XZ5T',\n",
       "   'storageIdentifier': 's3://10.7910/DVN/R1XZ5T',\n",
       "   'versionNumber': 1,\n",
       "   'versionMinorNumber': 0,\n",
       "   'versionState': 'RELEASED',\n",
       "   'UNF': 'UNF:6:DjGd9ayk2cS2so9g/RI/dA==',\n",
       "   'lastUpdateTime': '2020-10-02T06:34:09Z',\n",
       "   'releaseTime': '2020-10-02T06:34:09Z',\n",
       "   'createTime': '2020-08-17T14:51:31Z',\n",
       "   'license': 'CC0',\n",
       "   'termsOfUse': 'CC0 Waiver',\n",
       "   'fileAccessRequest': False,\n",
       "   'metadataBlocks': {'citation': {'displayName': 'Citation Metadata',\n",
       "     'fields': [{'typeName': 'title',\n",
       "       'multiple': False,\n",
       "       'typeClass': 'primitive',\n",
       "       'value': 'Influence of Land Impermanence Syndrome on Conservation and Utilization of Agrobiodiversity and the subsequent Effect on Food Attitudes, Choices and Consumption Patterns'},\n",
       "      {'typeName': 'author',\n",
       "       'multiple': True,\n",
       "       'typeClass': 'compound',\n",
       "       'value': [{'authorName': {'typeName': 'authorName',\n",
       "          'multiple': False,\n",
       "          'typeClass': 'primitive',\n",
       "          'value': 'Ekesa, Beatrice'},\n",
       "         'authorAffiliation': {'typeName': 'authorAffiliation',\n",
       "          'multiple': False,\n",
       "          'typeClass': 'primitive',\n",
       "          'value': 'Bioversity International'},\n",
       "         'authorIdentifierScheme': {'typeName': 'authorIdentifierScheme',\n",
       "          'multiple': False,\n",
       "          'typeClass': 'controlledVocabulary',\n",
       "          'value': 'ORCID'},\n",
       "         'authorIdentifier': {'typeName': 'authorIdentifier',\n",
       "          'multiple': False,\n",
       "          'typeClass': 'primitive',\n",
       "          'value': 'https://orcid.org/0000-0002-2630-258X'}}]},\n",
       "      {'typeName': 'datasetContact',\n",
       "       'multiple': True,\n",
       "       'typeClass': 'compound',\n",
       "       'value': [{'datasetContactName': {'typeName': 'datasetContactName',\n",
       "          'multiple': False,\n",
       "          'typeClass': 'primitive',\n",
       "          'value': 'Ekesa, Beatrice'},\n",
       "         'datasetContactAffiliation': {'typeName': 'datasetContactAffiliation',\n",
       "          'multiple': False,\n",
       "          'typeClass': 'primitive',\n",
       "          'value': 'Bioversity International'},\n",
       "         'datasetContactEmail': {'typeName': 'datasetContactEmail',\n",
       "          'multiple': False,\n",
       "          'typeClass': 'primitive',\n",
       "          'value': 'b.ekesa@cgiar.org'}}]},\n",
       "      {'typeName': 'dsDescription',\n",
       "       'multiple': True,\n",
       "       'typeClass': 'compound',\n",
       "       'value': [{'dsDescriptionValue': {'typeName': 'dsDescriptionValue',\n",
       "          'multiple': False,\n",
       "          'typeClass': 'primitive',\n",
       "          'value': 'Trócaire in partnership with Bioversity International researched on the Influence of Land Impermanence Syndrome on Conservation and Utilization of Agrobiodiversity and the subsequent Effect on Food Attitudes, Choices and Consumption Patterns within the context of the Acholi and Teso regions. The project aimed to design appropriate interventions (including advocacy strategies) based on the research findings and recommendations. Whilst land tenure stability/instability has been of great concern across Uganda, few studies have been conducted to elucidate how this influences people’s food choices and consumption patterns. Even less attention has been given to understanding how land tenure stability/instability affects short- and long-term decisions on agro-biodiversity conservation and utilization and how all this influences people’s access to and choice of food.'}}]},\n",
       "      {'typeName': 'subject',\n",
       "       'multiple': True,\n",
       "       'typeClass': 'controlledVocabulary',\n",
       "       'value': ['Agricultural Sciences']},\n",
       "      {'typeName': 'keyword',\n",
       "       'multiple': True,\n",
       "       'typeClass': 'compound',\n",
       "       'value': [{'keywordValue': {'typeName': 'keywordValue',\n",
       "          'multiple': False,\n",
       "          'typeClass': 'primitive',\n",
       "          'value': 'Land Impermanence Syndrome, Household Food Insecurity, Agrobiodiversity, Dietary Diversity'}}]},\n",
       "      {'typeName': 'publication',\n",
       "       'multiple': True,\n",
       "       'typeClass': 'compound',\n",
       "       'value': [{'publicationCitation': {'typeName': 'publicationCitation',\n",
       "          'multiple': False,\n",
       "          'typeClass': 'primitive',\n",
       "          'value': 'Ekesa at al (2020). Diversifying agriculture in post-conflict areas: 7 things we can change. 5 p. https://cgspace.cgiar.org/handle/10568/107414'},\n",
       "         'publicationURL': {'typeName': 'publicationURL',\n",
       "          'multiple': False,\n",
       "          'typeClass': 'primitive',\n",
       "          'value': 'https://hdl.handle.net/10568/107414'}},\n",
       "        {'publicationCitation': {'typeName': 'publicationCitation',\n",
       "          'multiple': False,\n",
       "          'typeClass': 'primitive',\n",
       "          'value': 'Ekesa Beatrice et al (2020). Relationships between land tenure insecurity, agrobiodiversity and dietary diversity of women of reproductive age: Evidence from Acholi and Teso Subregions of Uganda. Maternal and Child Nutrition'},\n",
       "         'publicationIDType': {'typeName': 'publicationIDType',\n",
       "          'multiple': False,\n",
       "          'typeClass': 'controlledVocabulary',\n",
       "          'value': 'doi'},\n",
       "         'publicationIDNumber': {'typeName': 'publicationIDNumber',\n",
       "          'multiple': False,\n",
       "          'typeClass': 'primitive',\n",
       "          'value': '10.1111/mcn.12965'}}]},\n",
       "      {'typeName': 'language',\n",
       "       'multiple': True,\n",
       "       'typeClass': 'controlledVocabulary',\n",
       "       'value': ['English']},\n",
       "      {'typeName': 'producer',\n",
       "       'multiple': True,\n",
       "       'typeClass': 'compound',\n",
       "       'value': [{'producerName': {'typeName': 'producerName',\n",
       "          'multiple': False,\n",
       "          'typeClass': 'primitive',\n",
       "          'value': 'Ekesa, Beatrice'},\n",
       "         'producerAffiliation': {'typeName': 'producerAffiliation',\n",
       "          'multiple': False,\n",
       "          'typeClass': 'primitive',\n",
       "          'value': 'Bioversity International'},\n",
       "         'producerURL': {'typeName': 'producerURL',\n",
       "          'multiple': False,\n",
       "          'typeClass': 'primitive',\n",
       "          'value': 'https://www.bioversityinternational.org/'}}]},\n",
       "      {'typeName': 'depositor',\n",
       "       'multiple': False,\n",
       "       'typeClass': 'primitive',\n",
       "       'value': 'Fongar, Andrea'},\n",
       "      {'typeName': 'dateOfDeposit',\n",
       "       'multiple': False,\n",
       "       'typeClass': 'primitive',\n",
       "       'value': '2020-08-17'},\n",
       "      {'typeName': 'kindOfData',\n",
       "       'multiple': True,\n",
       "       'typeClass': 'primitive',\n",
       "       'value': ['Quantitative Data']},\n",
       "      {'typeName': 'software',\n",
       "       'multiple': True,\n",
       "       'typeClass': 'compound',\n",
       "       'value': [{'softwareName': {'typeName': 'softwareName',\n",
       "          'multiple': False,\n",
       "          'typeClass': 'primitive',\n",
       "          'value': 'CAPI'}}]}]}},\n",
       "   'files': [{'description': 'This the data set, which includes one main data sheet and several sub-sheets including the collected data from 2018 in Acholi and Teso sub-region of Uganda.',\n",
       "     'label': 'DFC_data_af_0820.tab',\n",
       "     'restricted': False,\n",
       "     'version': 3,\n",
       "     'datasetVersionId': 203994,\n",
       "     'dataFile': {'id': 4027720,\n",
       "      'persistentId': '',\n",
       "      'pidURL': '',\n",
       "      'filename': 'DFC_data_af_0820.tab',\n",
       "      'contentType': 'text/tab-separated-values',\n",
       "      'filesize': 1686415,\n",
       "      'description': 'This the data set, which includes one main data sheet and several sub-sheets including the collected data from 2018 in Acholi and Teso sub-region of Uganda.',\n",
       "      'storageIdentifier': 's3://dvn-cloud:173fce5e057-e37329ca91ed',\n",
       "      'originalFileFormat': 'application/vnd.openxmlformats-officedocument.spreadsheetml.sheet',\n",
       "      'originalFormatLabel': 'MS Excel Spreadsheet',\n",
       "      'originalFileSize': 3009192,\n",
       "      'originalFileName': 'DFC_data_af_0820.xlsx',\n",
       "      'UNF': 'UNF:6:8vItjYoEkD5nVo/XjkEorg==',\n",
       "      'rootDataFileId': -1,\n",
       "      'md5': 'b4d1451fee6650770d5c5e8783c8df50',\n",
       "      'checksum': {'type': 'MD5', 'value': 'b4d1451fee6650770d5c5e8783c8df50'},\n",
       "      'creationDate': '2020-08-17'}},\n",
       "    {'description': 'The file includes the codes used for data entry and explanations to the questionnaire and data set. ',\n",
       "     'label': 'DFC_Questions_CodeBook.tab',\n",
       "     'restricted': False,\n",
       "     'version': 3,\n",
       "     'datasetVersionId': 203994,\n",
       "     'dataFile': {'id': 4027722,\n",
       "      'persistentId': '',\n",
       "      'pidURL': '',\n",
       "      'filename': 'DFC_Questions_CodeBook.tab',\n",
       "      'contentType': 'text/tab-separated-values',\n",
       "      'filesize': 105904,\n",
       "      'description': 'The file includes the codes used for data entry and explanations to the questionnaire and data set. ',\n",
       "      'storageIdentifier': 's3://dvn-cloud:173fce32d55-160039b336e4',\n",
       "      'originalFileFormat': 'application/vnd.openxmlformats-officedocument.spreadsheetml.sheet',\n",
       "      'originalFormatLabel': 'MS Excel Spreadsheet',\n",
       "      'originalFileSize': 118569,\n",
       "      'originalFileName': 'DFC_Questions_CodeBook.xlsx',\n",
       "      'UNF': 'UNF:6:mfUc/03Pg1oMlK4PcchJ4Q==',\n",
       "      'rootDataFileId': -1,\n",
       "      'md5': '0f90cae51d156ef3e005f31f3c90ae82',\n",
       "      'checksum': {'type': 'MD5', 'value': '0f90cae51d156ef3e005f31f3c90ae82'},\n",
       "      'creationDate': '2020-08-17'}},\n",
       "    {'description': 'The file includes the used household questionnaire for data collected in the research project. ',\n",
       "     'label': 'Household questionnaire DFC Jan  2018-Final.pdf',\n",
       "     'restricted': False,\n",
       "     'version': 1,\n",
       "     'datasetVersionId': 203994,\n",
       "     'dataFile': {'id': 4027721,\n",
       "      'persistentId': '',\n",
       "      'pidURL': '',\n",
       "      'filename': 'Household questionnaire DFC Jan  2018-Final.pdf',\n",
       "      'contentType': 'application/pdf',\n",
       "      'filesize': 1075975,\n",
       "      'description': 'The file includes the used household questionnaire for data collected in the research project. ',\n",
       "      'storageIdentifier': 's3://dvn-cloud:173fce4b0a9-54b4340fc19c',\n",
       "      'rootDataFileId': -1,\n",
       "      'md5': '637d5616f487d8adc6e7f007d5f04ae9',\n",
       "      'checksum': {'type': 'MD5', 'value': '637d5616f487d8adc6e7f007d5f04ae9'},\n",
       "      'creationDate': '2020-08-17'}}]}}}"
      ]
     },
     "execution_count": 45,
     "metadata": {},
     "output_type": "execute_result"
    }
   ],
   "source": [
    "# get dataset\n",
    "# https://dataverse.harvard.edu/dataset.xhtml?persistentId=doi:10.7910/DVN/R1XZ5T\n",
    "identifier = 'doi:10.7910/DVN/R1XZ5T'\n",
    "resp = api.get_dataset(identifier)\n",
    "resp.json()\n"
   ]
  },
  {
   "cell_type": "code",
   "execution_count": 44,
   "metadata": {},
   "outputs": [
    {
     "data": {
      "text/plain": [
       "<Response [404]>"
      ]
     },
     "execution_count": 44,
     "metadata": {},
     "output_type": "execute_result"
    }
   ],
   "source": [
    "# get datafile\n",
    "#Example here : https://dataverse.harvard.edu/dataverse/dfc_landimpermanencesyndrome\n",
    "from pyDataverse.api import Api\n",
    "from pyDataverse.models import Dataverse\n",
    "# establish connection\n",
    "base_url = 'https://dataverse.harvard.edu/'\n",
    "api = Api(base_url)\n",
    "datafile_id = 'doi:10.7910/DVN/R1XZ5T'  # file id of the datafile\n",
    "resp = api.get_datafile(datafile_id)\n",
    "resp"
   ]
  },
  {
   "cell_type": "code",
   "execution_count": 16,
   "metadata": {},
   "outputs": [
    {
     "ename": "ApiResponseError",
     "evalue": "No response from api request https://dataverse.harvard.edu/api/dataverse/dfc_landimpermanencesyndrome/api/v1/info/server.",
     "output_type": "error",
     "traceback": [
      "\u001b[0;31m---------------------------------------------------------------------------\u001b[0m",
      "\u001b[0;31mApiResponseError\u001b[0m                          Traceback (most recent call last)",
      "\u001b[0;32m<ipython-input-16-792ce8fe1234>\u001b[0m in \u001b[0;36m<module>\u001b[0;34m\u001b[0m\n\u001b[1;32m      4\u001b[0m \u001b[0;31m#https://dataverse.harvard.edu/dataverse/dfc_landimpermanencesyndrome\u001b[0m\u001b[0;34m\u001b[0m\u001b[0;34m\u001b[0m\u001b[0;34m\u001b[0m\u001b[0m\n\u001b[1;32m      5\u001b[0m \u001b[0mbase_url\u001b[0m \u001b[0;34m=\u001b[0m \u001b[0;34m'https://dataverse.harvard.edu/api/dataverse/dfc_landimpermanencesyndrome'\u001b[0m\u001b[0;34m\u001b[0m\u001b[0;34m\u001b[0m\u001b[0m\n\u001b[0;32m----> 6\u001b[0;31m \u001b[0mapi\u001b[0m \u001b[0;34m=\u001b[0m \u001b[0mApi\u001b[0m\u001b[0;34m(\u001b[0m\u001b[0mbase_url\u001b[0m\u001b[0;34m)\u001b[0m\u001b[0;34m\u001b[0m\u001b[0;34m\u001b[0m\u001b[0m\n\u001b[0m\u001b[1;32m      7\u001b[0m \u001b[0mapi\u001b[0m\u001b[0;34m.\u001b[0m\u001b[0mstatus\u001b[0m\u001b[0;34m\u001b[0m\u001b[0;34m\u001b[0m\u001b[0m\n",
      "\u001b[0;32m/Applications/anaconda3/lib/python3.7/site-packages/pyDataverse/api.py\u001b[0m in \u001b[0;36m__init__\u001b[0;34m(self, base_url, api_token, api_version)\u001b[0m\n\u001b[1;32m    100\u001b[0m                     \u001b[0mself\u001b[0m\u001b[0;34m.\u001b[0m\u001b[0mstatus\u001b[0m \u001b[0;34m=\u001b[0m \u001b[0;34m'ERROR'\u001b[0m\u001b[0;34m\u001b[0m\u001b[0;34m\u001b[0m\u001b[0m\n\u001b[1;32m    101\u001b[0m                     raise ApiResponseError(\n\u001b[0;32m--> 102\u001b[0;31m                         \u001b[0;34m'No response from api request {0}.'\u001b[0m\u001b[0;34m.\u001b[0m\u001b[0mformat\u001b[0m\u001b[0;34m(\u001b[0m\u001b[0murl\u001b[0m\u001b[0;34m)\u001b[0m\u001b[0;34m\u001b[0m\u001b[0;34m\u001b[0m\u001b[0m\n\u001b[0m\u001b[1;32m    103\u001b[0m                     )\n\u001b[1;32m    104\u001b[0m             \u001b[0;32mexcept\u001b[0m \u001b[0mKeyError\u001b[0m \u001b[0;32mas\u001b[0m \u001b[0me\u001b[0m\u001b[0;34m:\u001b[0m\u001b[0;34m\u001b[0m\u001b[0;34m\u001b[0m\u001b[0m\n",
      "\u001b[0;31mApiResponseError\u001b[0m: No response from api request https://dataverse.harvard.edu/api/dataverse/dfc_landimpermanencesyndrome/api/v1/info/server."
     ]
    }
   ],
   "source": []
  },
  {
   "cell_type": "markdown",
   "metadata": {},
   "source": []
  },
  {
   "cell_type": "code",
   "execution_count": 12,
   "metadata": {},
   "outputs": [
    {
     "data": {
      "text/plain": [
       "b'{\"status\":\"OK\",\"data\":{\"id\":515,\"identifier\":\"FK2/MFWJJ8\",\"persistentUrl\":\"https://doi.org/10.5072/FK2/MFWJJ8\",\"protocol\":\"doi\",\"authority\":\"10.5072\",\"publisher\":\"C2DH Data\",\"storageIdentifier\":\"file://10.5072/FK2/MFWJJ8\",\"latestVersion\":{\"id\":11,\"datasetId\":515,\"datasetPersistentId\":\"doi:10.5072/FK2/MFWJJ8\",\"storageIdentifier\":\"file://10.5072/FK2/MFWJJ8\",\"versionState\":\"DRAFT\",\"lastUpdateTime\":\"2020-10-09T17:15:57Z\",\"createTime\":\"2020-10-09T17:12:02Z\",\"license\":\"CC0\",\"termsOfUse\":\"CC0 Waiver\",\"fileAccessRequest\":false,\"metadataBlocks\":{\"citation\":{\"displayName\":\"Citation Metadata\",\"fields\":[{\"typeName\":\"title\",\"multiple\":false,\"typeClass\":\"primitive\",\"value\":\"JDH Issue #001 Article #01\"},{\"typeName\":\"author\",\"multiple\":true,\"typeClass\":\"compound\",\"value\":[{\"authorName\":{\"typeName\":\"authorName\",\"multiple\":false,\"typeClass\":\"primitive\",\"value\":\"Fr\\xc3\\xa9d\\xc3\\xa9ric Maguin\"},\"authorAffiliation\":{\"typeName\":\"authorAffiliation\",\"multiple\":false,\"typeClass\":\"primitive\",\"value\":\"C2DH\"}}]},{\"typeName\":\"datasetContact\",\"multiple\":true,\"typeClass\":\"compound\",\"value\":[{\"datasetContactName\":{\"typeName\":\"datasetContactName\",\"multiple\":false,\"typeClass\":\"primitive\",\"value\":\"Fr\\xc3\\xa9d\\xc3\\xa9ric Maguin\"},\"datasetContactAffiliation\":{\"typeName\":\"datasetContactAffiliation\",\"multiple\":false,\"typeClass\":\"primitive\",\"value\":\"C2DH\"},\"datasetContactEmail\":{\"typeName\":\"datasetContactEmail\",\"multiple\":false,\"typeClass\":\"primitive\",\"value\":\"frederic.maguin@uni.lu\"}}]},{\"typeName\":\"dsDescription\",\"multiple\":true,\"typeClass\":\"compound\",\"value\":[{\"dsDescriptionValue\":{\"typeName\":\"dsDescriptionValue\",\"multiple\":false,\"typeClass\":\"primitive\",\"value\":\"The first article of the first issue.\"}}]},{\"typeName\":\"subject\",\"multiple\":true,\"typeClass\":\"controlledVocabulary\",\"value\":[\"Social Sciences\"]},{\"typeName\":\"publication\",\"multiple\":true,\"typeClass\":\"compound\",\"value\":[{\"publicationCitation\":{\"typeName\":\"publicationCitation\",\"multiple\":false,\"typeClass\":\"primitive\",\"value\":\"Journal of Digital History\"}}]},{\"typeName\":\"notesText\",\"multiple\":false,\"typeClass\":\"primitive\",\"value\":\"Lorem Ipsum...\"},{\"typeName\":\"depositor\",\"multiple\":false,\"typeClass\":\"primitive\",\"value\":\"Fr\\xc3\\xa9d\\xc3\\xa9ric Maguin\"},{\"typeName\":\"dateOfDeposit\",\"multiple\":false,\"typeClass\":\"primitive\",\"value\":\"2020-10-09\"}]}},\"files\":[{\"description\":\"Test data.\",\"label\":\"data.csv\",\"restricted\":false,\"version\":1,\"datasetVersionId\":11,\"dataFile\":{\"id\":516,\"persistentId\":\"\",\"pidURL\":\"\",\"filename\":\"data.csv\",\"contentType\":\"text/csv\",\"filesize\":15,\"description\":\"Test data.\",\"storageIdentifier\":\"file://1750e5c820a-409ff4821c8f\",\"rootDataFileId\":-1,\"md5\":\"177e364a7608d94f5480eab24c18091a\",\"checksum\":{\"type\":\"MD5\",\"value\":\"177e364a7608d94f5480eab24c18091a\"},\"creationDate\":\"2020-10-09\"}}]}}}'"
      ]
     },
     "execution_count": 12,
     "metadata": {},
     "output_type": "execute_result"
    }
   ],
   "source": []
  },
  {
   "cell_type": "markdown",
   "metadata": {},
   "source": [
    "# GET all the files of an article in a zip\n",
    "\n"
   ]
  },
  {
   "cell_type": "code",
   "execution_count": 13,
   "metadata": {},
   "outputs": [
    {
     "data": {
      "text/plain": [
       "<Response [200]>"
      ]
     },
     "execution_count": 13,
     "metadata": {},
     "output_type": "execute_result"
    }
   ],
   "source": []
  },
  {
   "cell_type": "code",
   "execution_count": 14,
   "metadata": {},
   "outputs": [
    {
     "data": {
      "text/plain": [
       "b'PK\\x03\\x04\\x14\\x00\\x08\\x08\\x08\\x00\\xa5\\x82MQ\\x00\\x00\\x00\\x00\\x00\\x00\\x00\\x00\\x00\\x00\\x00\\x00\\x08\\x00\\x00\\x00data.csv300\\xd4I\\xacJ-*\\xa9\\xd4\\xb1\\xb4\\xb4\\xe4\\x02\\x00PK\\x07\\x08Z-5\\x87\\x11\\x00\\x00\\x00\\x0f\\x00\\x00\\x00PK\\x03\\x04\\x14\\x00\\x08\\x08\\x08\\x00\\xa5\\x82MQ\\x00\\x00\\x00\\x00\\x00\\x00\\x00\\x00\\x00\\x00\\x00\\x00\\x0c\\x00\\x00\\x00MANIFEST.TXTKI,I\\xd4K..S\\xd0(I\\xad(\\xd1\\x07\\xb24\\x15\\x0cM\\x15\\x92*KR\\x8b\\xf5x\\xb9\\x00PK\\x07\\x08\\xcf\\xc2V\\x00\\x1f\\x00\\x00\\x00\\x1f\\x00\\x00\\x00PK\\x01\\x02\\x14\\x00\\x14\\x00\\x08\\x08\\x08\\x00\\xa5\\x82MQZ-5\\x87\\x11\\x00\\x00\\x00\\x0f\\x00\\x00\\x00\\x08\\x00\\x00\\x00\\x00\\x00\\x00\\x00\\x00\\x00\\x00\\x00\\x00\\x00\\x00\\x00\\x00\\x00data.csvPK\\x01\\x02\\x14\\x00\\x14\\x00\\x08\\x08\\x08\\x00\\xa5\\x82MQ\\xcf\\xc2V\\x00\\x1f\\x00\\x00\\x00\\x1f\\x00\\x00\\x00\\x0c\\x00\\x00\\x00\\x00\\x00\\x00\\x00\\x00\\x00\\x00\\x00\\x00\\x00G\\x00\\x00\\x00MANIFEST.TXTPK\\x05\\x06\\x00\\x00\\x00\\x00\\x02\\x00\\x02\\x00p\\x00\\x00\\x00\\xa0\\x00\\x00\\x00\\x00\\x00'"
      ]
     },
     "execution_count": 14,
     "metadata": {},
     "output_type": "execute_result"
    }
   ],
   "source": [
    "response.content"
   ]
  },
  {
   "cell_type": "code",
   "execution_count": 16,
   "metadata": {},
   "outputs": [
    {
     "ename": "NameError",
     "evalue": "name 'file' is not defined",
     "output_type": "error",
     "traceback": [
      "\u001b[0;31m---------------------------------------------------------------------------\u001b[0m",
      "\u001b[0;31mNameError\u001b[0m                                 Traceback (most recent call last)",
      "\u001b[0;32m<ipython-input-16-54258b072751>\u001b[0m in \u001b[0;36m<module>\u001b[0;34m\u001b[0m\n\u001b[0;32m----> 1\u001b[0;31m \u001b[0mfile\u001b[0m\u001b[0;34m.\u001b[0m\u001b[0mwrite\u001b[0m\u001b[0;34m(\u001b[0m\u001b[0mresponse\u001b[0m\u001b[0;34m.\u001b[0m\u001b[0mcontent\u001b[0m\u001b[0;34m)\u001b[0m\u001b[0;34m\u001b[0m\u001b[0;34m\u001b[0m\u001b[0m\n\u001b[0m",
      "\u001b[0;31mNameError\u001b[0m: name 'file' is not defined"
     ]
    }
   ],
   "source": [
    "file.write(response.content)"
   ]
  },
  {
   "cell_type": "code",
   "execution_count": null,
   "metadata": {},
   "outputs": [],
   "source": []
  }
 ],
 "metadata": {
  "kernelspec": {
   "display_name": "Python 3",
   "language": "python",
   "name": "python3"
  },
  "language_info": {
   "codemirror_mode": {
    "name": "ipython",
    "version": 3
   },
   "file_extension": ".py",
   "mimetype": "text/x-python",
   "name": "python",
   "nbconvert_exporter": "python",
   "pygments_lexer": "ipython3",
   "version": "3.7.6"
  },
  "toc": {
   "base_numbering": 1,
   "nav_menu": {},
   "number_sections": true,
   "sideBar": true,
   "skip_h1_title": false,
   "title_cell": "Table of Contents",
   "title_sidebar": "Contents",
   "toc_cell": false,
   "toc_position": {
    "height": "calc(100% - 180px)",
    "left": "10px",
    "top": "150px",
    "width": "252px"
   },
   "toc_section_display": true,
   "toc_window_display": true
  }
 },
 "nbformat": 4,
 "nbformat_minor": 4
}
