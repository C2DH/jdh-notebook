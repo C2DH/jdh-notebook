{
 "cells": [
  {
   "cell_type": "markdown",
   "metadata": {},
   "source": [
    "# How to install-activate-use some extensions?"
   ]
  },
  {
   "cell_type": "markdown",
   "metadata": {},
   "source": [
    "## The table of contents"
   ]
  },
  {
   "cell_type": "markdown",
   "metadata": {},
   "source": [
    "The toc2 extension enables to collect all running headers and display them in a floating window, as a sidebar or with a navigation menu."
   ]
  },
  {
   "cell_type": "markdown",
   "metadata": {},
   "source": [
    "### Install"
   ]
  },
  {
   "cell_type": "markdown",
   "metadata": {},
   "source": [
    "Run the requirements.txt of this [GitHub project](https://github.com/C2DH/jdh-notebook/blob/master/requirements.txt) with the following command in the console:\n",
    "```bash\n",
    "pip install -r requirements.txt\n",
    "```"
   ]
  },
  {
   "cell_type": "markdown",
   "metadata": {},
   "source": [
    "Or run the following commanf in the console:\n",
    "```bash\n",
    "pip install jupyter_contrib_nbextensions\n",
    "```"
   ]
  },
  {
   "cell_type": "markdown",
   "metadata": {},
   "source": [
    "### Activate"
   ]
  },
  {
   "cell_type": "markdown",
   "metadata": {},
   "source": [
    "By clicking on the Jupyter logo ![jupyter logo](../examples/img/jupyter-extenssion/how_to_jupyter_logo.png)"
   ]
  },
  {
   "cell_type": "markdown",
   "metadata": {},
   "source": [
    "Go to the subtab **Nbextensions**: ![jupyter subtab](../examples/img/jupyter-extenssion/how_to_extension.png)"
   ]
  },
  {
   "cell_type": "markdown",
   "metadata": {},
   "source": [
    "And check the appropriate checkbox related to the table of contents, here **Table of Contents (2)**\n",
    "![activate extension](../examples/img/jupyter-extenssion/how_to_table_content.png)  "
   ]
  },
  {
   "cell_type": "markdown",
   "metadata": {},
   "source": [
    "> By selecting the extension, you can configure some options"
   ]
  },
  {
   "cell_type": "markdown",
   "metadata": {},
   "source": [
    "> Want to know more, look at here:\n",
    "    https://jupyter-contrib-nbextensions.readthedocs.io/en/latest/install.html"
   ]
  },
  {
   "cell_type": "markdown",
   "metadata": {},
   "source": [
    "> Want to know more, look at here:\n",
    "    https://jupyter-contrib-nbextensions.readthedocs.io/en/latest/nbextensions/toc2/README.html"
   ]
  },
  {
   "cell_type": "markdown",
   "metadata": {},
   "source": [
    "### Use"
   ]
  },
  {
   "cell_type": "markdown",
   "metadata": {},
   "source": [
    "By opening a jupyter notebook file, the following button should be available, press on it to activate the table of contents: ![button table of contents](../examples/img/jupyter-extenssion/how_to_button_content.png)\n",
    "\n"
   ]
  },
  {
   "cell_type": "markdown",
   "metadata": {},
   "source": []
  },
  {
   "cell_type": "markdown",
   "metadata": {},
   "source": [
    "## The cite2c plugin"
   ]
  },
  {
   "cell_type": "markdown",
   "metadata": {},
   "source": [
    "This plugin allow you to find citations from a Zotero library and insert them into Markdown cells. "
   ]
  },
  {
   "cell_type": "markdown",
   "metadata": {},
   "source": [
    "> It requires Jupyter Notebook 4.2 or above.\n",
    "> You need to have a [Zotero](https://www.zotero.org/) account in order to use it"
   ]
  },
  {
   "cell_type": "markdown",
   "metadata": {},
   "source": [
    "### Install"
   ]
  },
  {
   "cell_type": "markdown",
   "metadata": {},
   "source": [
    "Run the requirements.txt of this [GitHub project](https://github.com/C2DH/jdh-notebook/blob/master/requirements.txt) with the following command in the console:\n",
    "```bash\n",
    "pip install -r requirements.txt\n",
    "```"
   ]
  },
  {
   "cell_type": "markdown",
   "metadata": {},
   "source": [
    "Or run the following commanf in the console:\n",
    "```bash\n",
    "pip install cite2c\n",
    "```\n"
   ]
  },
  {
   "cell_type": "markdown",
   "metadata": {},
   "source": [
    "### Activate"
   ]
  },
  {
   "cell_type": "markdown",
   "metadata": {},
   "source": [
    "Run the following command in the console:\n",
    "```bash\n",
    "python -m cite2c.install\n",
    "```\n",
    "Start/Restart the Notebook server"
   ]
  },
  {
   "cell_type": "markdown",
   "metadata": {},
   "source": [
    "Or by clicking on the Jupyter logo ![jupyter logo](../examples/img/jupyter-extenssion/how_to_jupyter_logo.png)"
   ]
  },
  {
   "cell_type": "markdown",
   "metadata": {},
   "source": [
    "Go to the subtab **Nbextensions**: ![jupyter subtab](../examples/img/jupyter-extenssion/how_to_extension.png)\n"
   ]
  },
  {
   "cell_type": "markdown",
   "metadata": {},
   "source": [
    "And check the appropriate checkbox related to cite2c, here **cite2c/main**\n",
    "![activate extension](../examples/img/jupyter-extenssion/how_to_activate_extensions.png)    "
   ]
  },
  {
   "cell_type": "markdown",
   "metadata": {},
   "source": [
    "### Use"
   ]
  },
  {
   "cell_type": "markdown",
   "metadata": {},
   "source": [
    "> In order to use this extension a Zotero account is required."
   ]
  },
  {
   "cell_type": "markdown",
   "metadata": {},
   "source": [
    "By opening a jupyter notebook file, the following button should be available: ![button cite2c](../examples/img/jupyter-extenssion/how_to_button_cite2c.png)\n",
    "\n"
   ]
  },
  {
   "cell_type": "code",
   "execution_count": null,
   "metadata": {},
   "outputs": [],
   "source": []
  },
  {
   "cell_type": "markdown",
   "metadata": {},
   "source": [
    "By clicking the first time on the **Cite** button, a redirection is made to the Zotero login page: https://www.zotero.org/user/login \n"
   ]
  },
  {
   "cell_type": "markdown",
   "metadata": {},
   "source": [
    "Enter your credentials in order to log into your Zotero's account.\n",
    "The following page is displayed:\n",
    "![accept cite2c](../examples/img/jupyter-extenssion/how_to_private_key.png)"
   ]
  },
  {
   "cell_type": "markdown",
   "metadata": {},
   "source": [
    "Click on the **Accept Default** button to allow cite2c to access your account."
   ]
  },
  {
   "cell_type": "markdown",
   "metadata": {},
   "source": [
    "Now by clicking on the **Cite** button:\n",
    "![insert citation](../examples/img/jupyter-extenssion/how_to_insert_citation.png)"
   ]
  },
  {
   "cell_type": "markdown",
   "metadata": {},
   "source": [
    "> Want to know more look at the dedicated page to the project:\n",
    "    https://github.com/takluyver/cite2c"
   ]
  },
  {
   "cell_type": "markdown",
   "metadata": {},
   "source": [
    "# Usefull links"
   ]
  },
  {
   "cell_type": "markdown",
   "metadata": {},
   "source": [
    "- [Nb extensions](https://jupyter-contrib-nbextensions.readthedocs.io/en/latest/install.html)\n",
    "- [Table of contents](https://jupyter-contrib-nbextensions.readthedocs.io/en/latest/nbextensions/toc2/README.html)\n",
    "- [cite2c](https://github.com/takluyver/cite2c)"
   ]
  }
 ],
 "metadata": {
  "kernelspec": {
   "display_name": "Python 3",
   "language": "python",
   "name": "python3"
  },
  "language_info": {
   "codemirror_mode": {
    "name": "ipython",
    "version": 3
   },
   "file_extension": ".py",
   "mimetype": "text/x-python",
   "name": "python",
   "nbconvert_exporter": "python",
   "pygments_lexer": "ipython3",
   "version": "3.7.6"
  },
  "toc": {
   "base_numbering": 1,
   "nav_menu": {},
   "number_sections": true,
   "sideBar": true,
   "skip_h1_title": false,
   "title_cell": "Table of Contents",
   "title_sidebar": "Contents",
   "toc_cell": false,
   "toc_position": {},
   "toc_section_display": true,
   "toc_window_display": true
  }
 },
 "nbformat": 4,
 "nbformat_minor": 4
}
