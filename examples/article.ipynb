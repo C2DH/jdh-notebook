{
 "cells": [
  {
   "cell_type": "markdown",
   "id": "seasonal-theology",
   "metadata": {
    "jdh": {
     "section": "title"
    }
   },
   "source": [
    "# Commémorations, scandale et circulation de l’information: le Centenaire de la bataille de Verdun sur Twitter"
   ]
  },
  {
   "cell_type": "markdown",
   "id": "widespread-privilege",
   "metadata": {
    "jdh": {
     "section": "abstract"
    }
   },
   "source": [
    "The Centenary of the Great War gave birth to numerous commemorations. On the on-line social network Twitter, millions of tweets mention it. By analyzing data collected on Twitter, this article, after giving an overview of the traces of the centenary on this network, looks at the case of the polemical commemorations of the Battle of Verdun."
   ]
  },
  {
   "cell_type": "markdown",
   "id": "biological-joining",
   "metadata": {
    "jdh": {
     "section": "contributor"
    },
    "tags": [
     "contributor"
    ]
   },
   "source": [
    "### Frédéric Clavert"
   ]
  },
  {
   "cell_type": "markdown",
   "id": "psychological-battery",
   "metadata": {
    "jdh": {
     "section": "keywords"
    },
    "tags": [
     "keywords"
    ]
   },
   "source": [
    "Verdun, Commemoration"
   ]
  },
  {
   "cell_type": "markdown",
   "id": "forced-johnston",
   "metadata": {},
   "source": [
    "On the occasion of the Centenary of the Great War, many countries, former belligerents, have organized large series of commemorations since November 2013.\n",
    "To our knowledge, this is the first large-scale commemoration in a new media context, that of digital social networks, which have - most notably Facebook and Twitter - been used massively during the ceremonies, but also on an ongoing basis throughout the Centennial.\n",
    "We will look more specifically at the use of *Twitter* during the Centenary."
   ]
  },
  {
   "cell_type": "markdown",
   "id": "assured-guyana",
   "metadata": {},
   "source": [
    "Created in March 2006, Twitter is a digital social network known as microblogging, allowing short messages of 140 characters to be published on the twitter.com platform, 280 since November 2017.\n",
    "These messages can be retweeted, i.e. quoted as is or with a comment. A user can mention one (or more) other(s) by writing their pseudonyms beginning with \" @ \" to, for example, start a discussion. He can also insert a hashtag or \"mot-dièse\", i.e. a keyword preceded by a cross (\"#\")."
   ]
  },
  {
   "cell_type": "markdown",
   "id": "trained-citizenship",
   "metadata": {},
   "source": [
    "The use of the hashtag, a feature invented by Twitter users, can correspond to different practices: enhancing an idea, ironicizing or joining a topic more widely discussed by other Twitter accounts. The latter are of a very wide variety: institutional accounts, personal accounts but also automated accounts of various kinds (bots).\n",
    "Twitter, unlike Facebook for example, is based on a model of relative openness of access to its data."
   ]
  },
  {
   "cell_type": "code",
   "execution_count": 38,
   "id": "present-tolerance",
   "metadata": {},
   "outputs": [
    {
     "data": {
      "text/plain": [
       "'{\"jdh\": {\"module\": \"text_object\", \"text\": {\"bootstrapColumLayout\": {\"md\": {\"offset\": 0, \"span\": 7, \"order\": 12}}}, \"object\": {\"type\": \"text\", \"bootstrapColumLayout\": {\"md\": {\"offset\": 1, \"order\": 1, \"span\": 2}}, \"source\": [\"## 5M tweets collected\", \"**85%** in English\", \"**10%** in French\"], \"cssClassName\": [\"text-right\", \"text-dark\"]}}}'"
      ]
     },
     "metadata": {
      "jdh": {
       "module": "text_object",
       "object": {
        "bootstrapColumLayout": {
         "md": {
          "offset": 1,
          "order": 1,
          "span": 2
         }
        },
        "cssClassName": [
         "text-right",
         "text-dark"
        ],
        "source": [
         "## 5M tweets collected",
         "**85%** in English",
         "**10%** in French"
        ],
        "type": "text"
       },
       "text": {
        "bootstrapColumLayout": {
         "md": {
          "offset": 0,
          "order": 12,
          "span": 7
         }
        }
       }
      }
     },
     "output_type": "display_data"
    }
   ],
   "source": [
    "import json\n",
    "from IPython.display import display\n",
    "\n",
    "metadata={ \"jdh\":{\n",
    "    \"module\": \"text_object\",\n",
    "    \"text\": {\n",
    "        \"bootstrapColumLayout\": { \"md\": { \"offset\":0, \"span\": 7, \"order\": 12 } }\n",
    "    },\n",
    "    \"object\": {\n",
    "        \"type\": \"text\",\n",
    "        \"bootstrapColumLayout\": { \"md\": { \"offset\": 1, \"order\": 1, \"span\": 2 } },\n",
    "        \"source\": [\n",
    "            \"## 5M tweets collected\",\n",
    "            \"**85%** in English\",\n",
    "            \"**10%** in French\",\n",
    "        ],\n",
    "        \"cssClassName\": [\"text-right\", \"text-dark\"]\n",
    "    }\n",
    "}}\n",
    "display(json.dumps(metadata), metadata=metadata)"
   ]
  },
  {
   "cell_type": "markdown",
   "id": "regular-tumor",
   "metadata": {},
   "source": [
    "In April 2014, we were thus able to start collecting data around the Centenary of the Great War: using the so-called streaming programming interface, we have collected around **5.000.000** tweets to date, based on keywords in English, German and French.\n",
    "The collection will continue, as far as possible, until the centenary of the Treaty of Versailles signed with Germany on 28 June 1919.  However, the operational version of the database used here covers the period from April 2014 to November 2016."
   ]
  },
  {
   "cell_type": "markdown",
   "id": "moving-fleece",
   "metadata": {},
   "source": [
    "This version of the database contains nearly 3.5 millions tweets of which 1.1 million are original tweets and about 2.4 million are retweets. These tweets involved just over 840,000 users.\n",
    "They contain a total of more than 140,000 hashtags or hashtag words, 120,000 of which have been used ten times or less. Approximately 85% of the tweets collected are in English, 10% of the tweets are in French. The remaining 5% are in various languages."
   ]
  },
  {
   "cell_type": "markdown",
   "id": "artificial-conservative",
   "metadata": {},
   "source": [
    "One of the interests of this research project is to examine the interactions that can exist between commemorations, traces of collective memory on the one hand, and the use of digital social networks, particularly Twitter, on the other. In order to do so, we use so-called remote reading processes, such as those presented in Franco Moretti's Graphs, maps and trees (2007)."
   ]
  },
  {
   "cell_type": "markdown",
   "id": "entitled-norman",
   "metadata": {},
   "source": [
    "## The Centennial of the Great War on Twitter: generalities"
   ]
  },
  {
   "cell_type": "markdown",
   "id": "placed-evans",
   "metadata": {},
   "source": [
    "Twitter was and still is a place of expression around the First World War. In order to understand the uses that are expressed there around the Centenary, the echoes of the commemorations that are expressed there, we will first look at the general temporality of the tweets we have collected (figure 1)."
   ]
  },
  {
   "cell_type": "code",
   "execution_count": 46,
   "id": "wireless-individual",
   "metadata": {
    "jdh": {
     "hidden": true
    }
   },
   "outputs": [
    {
     "name": "stdout",
     "output_type": "stream",
     "text": [
      "ok\n"
     ]
    }
   ],
   "source": [
    "# generate random data, for demostration purposes only.\n",
    "import random\n",
    "import math\n",
    "import datetime\n",
    "rand_state = random.Random()\n",
    "\n",
    "# Lee Byron random data generator\n",
    "def bump(a,n):\n",
    "    x = 1 / (0.1 + rand_state.random())\n",
    "    y = 2 * rand_state.random() - 0.5\n",
    "    z = 10 / (0.1 + rand_state.random())\n",
    "    r = range(n)\n",
    "    for i in r:\n",
    "      w = (i / n - y) * z\n",
    "      a[i] += x * math.exp(-w * w)\n",
    "\n",
    "def bumps(n, m):\n",
    "    a = [0] * n\n",
    "    for i in range(m):\n",
    "        bump(a, n)\n",
    "    return a\n",
    "\n",
    "base = datetime.date.fromisoformat('2014-01-01')\n",
    "numdays = 100\n",
    "cValues = bumps(numdays, numdays)\n",
    "values = [{\n",
    "    't': x.isoformat(),\n",
    "    'c': round((i% 100) * cValues[i])\n",
    "} for i,x in enumerate([base + datetime.timedelta(days=x) for x in range(numdays)])]\n",
    "print('ok')"
   ]
  },
  {
   "cell_type": "code",
   "execution_count": 50,
   "id": "sustained-telescope",
   "metadata": {},
   "outputs": [
    {
     "data": {
      "application/json": [
       {
        "c": 0,
        "t": "2014-01-01"
       },
       {
        "c": 18,
        "t": "2014-01-02"
       },
       {
        "c": 33,
        "t": "2014-01-03"
       },
       {
        "c": 45,
        "t": "2014-01-04"
       },
       {
        "c": 56,
        "t": "2014-01-05"
       },
       {
        "c": 68,
        "t": "2014-01-06"
       },
       {
        "c": 82,
        "t": "2014-01-07"
       },
       {
        "c": 103,
        "t": "2014-01-08"
       },
       {
        "c": 128,
        "t": "2014-01-09"
       },
       {
        "c": 155,
        "t": "2014-01-10"
       },
       {
        "c": 177,
        "t": "2014-01-11"
       },
       {
        "c": 193,
        "t": "2014-01-12"
       },
       {
        "c": 208,
        "t": "2014-01-13"
       },
       {
        "c": 230,
        "t": "2014-01-14"
       },
       {
        "c": 257,
        "t": "2014-01-15"
       },
       {
        "c": 278,
        "t": "2014-01-16"
       },
       {
        "c": 285,
        "t": "2014-01-17"
       },
       {
        "c": 284,
        "t": "2014-01-18"
       },
       {
        "c": 286,
        "t": "2014-01-19"
       },
       {
        "c": 292,
        "t": "2014-01-20"
       },
       {
        "c": 300,
        "t": "2014-01-21"
       },
       {
        "c": 307,
        "t": "2014-01-22"
       },
       {
        "c": 314,
        "t": "2014-01-23"
       },
       {
        "c": 320,
        "t": "2014-01-24"
       },
       {
        "c": 330,
        "t": "2014-01-25"
       },
       {
        "c": 346,
        "t": "2014-01-26"
       },
       {
        "c": 371,
        "t": "2014-01-27"
       },
       {
        "c": 410,
        "t": "2014-01-28"
       },
       {
        "c": 459,
        "t": "2014-01-29"
       },
       {
        "c": 513,
        "t": "2014-01-30"
       },
       {
        "c": 563,
        "t": "2014-01-31"
       },
       {
        "c": 598,
        "t": "2014-02-01"
       },
       {
        "c": 612,
        "t": "2014-02-02"
       },
       {
        "c": 606,
        "t": "2014-02-03"
       },
       {
        "c": 586,
        "t": "2014-02-04"
       },
       {
        "c": 564,
        "t": "2014-02-05"
       },
       {
        "c": 542,
        "t": "2014-02-06"
       },
       {
        "c": 519,
        "t": "2014-02-07"
       },
       {
        "c": 496,
        "t": "2014-02-08"
       },
       {
        "c": 479,
        "t": "2014-02-09"
       },
       {
        "c": 479,
        "t": "2014-02-10"
       },
       {
        "c": 496,
        "t": "2014-02-11"
       },
       {
        "c": 520,
        "t": "2014-02-12"
       },
       {
        "c": 539,
        "t": "2014-02-13"
       },
       {
        "c": 549,
        "t": "2014-02-14"
       },
       {
        "c": 560,
        "t": "2014-02-15"
       },
       {
        "c": 604,
        "t": "2014-02-16"
       },
       {
        "c": 720,
        "t": "2014-02-17"
       },
       {
        "c": 897,
        "t": "2014-02-18"
       },
       {
        "c": 1026,
        "t": "2014-02-19"
       },
       {
        "c": 1026,
        "t": "2014-02-20"
       },
       {
        "c": 954,
        "t": "2014-02-21"
       },
       {
        "c": 908,
        "t": "2014-02-22"
       },
       {
        "c": 902,
        "t": "2014-02-23"
       },
       {
        "c": 904,
        "t": "2014-02-24"
       },
       {
        "c": 894,
        "t": "2014-02-25"
       },
       {
        "c": 875,
        "t": "2014-02-26"
       },
       {
        "c": 852,
        "t": "2014-02-27"
       },
       {
        "c": 832,
        "t": "2014-02-28"
       },
       {
        "c": 819,
        "t": "2014-03-01"
       },
       {
        "c": 818,
        "t": "2014-03-02"
       },
       {
        "c": 826,
        "t": "2014-03-03"
       },
       {
        "c": 819,
        "t": "2014-03-04"
       },
       {
        "c": 779,
        "t": "2014-03-05"
       },
       {
        "c": 715,
        "t": "2014-03-06"
       },
       {
        "c": 657,
        "t": "2014-03-07"
       },
       {
        "c": 617,
        "t": "2014-03-08"
       },
       {
        "c": 597,
        "t": "2014-03-09"
       },
       {
        "c": 599,
        "t": "2014-03-10"
       },
       {
        "c": 626,
        "t": "2014-03-11"
       },
       {
        "c": 673,
        "t": "2014-03-12"
       },
       {
        "c": 736,
        "t": "2014-03-13"
       },
       {
        "c": 823,
        "t": "2014-03-14"
       },
       {
        "c": 963,
        "t": "2014-03-15"
       },
       {
        "c": 1145,
        "t": "2014-03-16"
       },
       {
        "c": 1265,
        "t": "2014-03-17"
       },
       {
        "c": 1203,
        "t": "2014-03-18"
       },
       {
        "c": 969,
        "t": "2014-03-19"
       },
       {
        "c": 701,
        "t": "2014-03-20"
       },
       {
        "c": 516,
        "t": "2014-03-21"
       },
       {
        "c": 432,
        "t": "2014-03-22"
       },
       {
        "c": 412,
        "t": "2014-03-23"
       },
       {
        "c": 423,
        "t": "2014-03-24"
       },
       {
        "c": 452,
        "t": "2014-03-25"
       },
       {
        "c": 498,
        "t": "2014-03-26"
       },
       {
        "c": 561,
        "t": "2014-03-27"
       },
       {
        "c": 638,
        "t": "2014-03-28"
       },
       {
        "c": 721,
        "t": "2014-03-29"
       },
       {
        "c": 799,
        "t": "2014-03-30"
       },
       {
        "c": 867,
        "t": "2014-03-31"
       },
       {
        "c": 930,
        "t": "2014-04-01"
       },
       {
        "c": 1002,
        "t": "2014-04-02"
       },
       {
        "c": 1099,
        "t": "2014-04-03"
       },
       {
        "c": 1231,
        "t": "2014-04-04"
       },
       {
        "c": 1397,
        "t": "2014-04-05"
       },
       {
        "c": 1585,
        "t": "2014-04-06"
       },
       {
        "c": 1787,
        "t": "2014-04-07"
       },
       {
        "c": 2014,
        "t": "2014-04-08"
       },
       {
        "c": 2222,
        "t": "2014-04-09"
       },
       {
        "c": 2307,
        "t": "2014-04-10"
       }
      ],
      "text/plain": [
       "<IPython.core.display.JSON object>"
      ]
     },
     "metadata": {
      "application/json": {
       "expanded": false,
       "root": "root"
      },
      "jdh": {
       "module": "text_object",
       "object": {
        "bootstrapColumLayout": {
         "md": {
          "offset": 0,
          "order": 1,
          "span": 8
         }
        },
        "component": "TrendLine",
        "cssClassName": [
         "bg-white"
        ],
        "heightRatio": 0.9,
        "position": "sticky",
        "spec": {
         "$schema": "https://vega.github.io/schema/vega-lite/v4.json",
         "data": {
          "values": [
           {
            "c": 0,
            "t": "2014-01-01"
           },
           {
            "c": 18,
            "t": "2014-01-02"
           },
           {
            "c": 33,
            "t": "2014-01-03"
           },
           {
            "c": 45,
            "t": "2014-01-04"
           },
           {
            "c": 56,
            "t": "2014-01-05"
           },
           {
            "c": 68,
            "t": "2014-01-06"
           },
           {
            "c": 82,
            "t": "2014-01-07"
           },
           {
            "c": 103,
            "t": "2014-01-08"
           },
           {
            "c": 128,
            "t": "2014-01-09"
           },
           {
            "c": 155,
            "t": "2014-01-10"
           },
           {
            "c": 177,
            "t": "2014-01-11"
           },
           {
            "c": 193,
            "t": "2014-01-12"
           },
           {
            "c": 208,
            "t": "2014-01-13"
           },
           {
            "c": 230,
            "t": "2014-01-14"
           },
           {
            "c": 257,
            "t": "2014-01-15"
           },
           {
            "c": 278,
            "t": "2014-01-16"
           },
           {
            "c": 285,
            "t": "2014-01-17"
           },
           {
            "c": 284,
            "t": "2014-01-18"
           },
           {
            "c": 286,
            "t": "2014-01-19"
           },
           {
            "c": 292,
            "t": "2014-01-20"
           },
           {
            "c": 300,
            "t": "2014-01-21"
           },
           {
            "c": 307,
            "t": "2014-01-22"
           },
           {
            "c": 314,
            "t": "2014-01-23"
           },
           {
            "c": 320,
            "t": "2014-01-24"
           },
           {
            "c": 330,
            "t": "2014-01-25"
           },
           {
            "c": 346,
            "t": "2014-01-26"
           },
           {
            "c": 371,
            "t": "2014-01-27"
           },
           {
            "c": 410,
            "t": "2014-01-28"
           },
           {
            "c": 459,
            "t": "2014-01-29"
           },
           {
            "c": 513,
            "t": "2014-01-30"
           },
           {
            "c": 563,
            "t": "2014-01-31"
           },
           {
            "c": 598,
            "t": "2014-02-01"
           },
           {
            "c": 612,
            "t": "2014-02-02"
           },
           {
            "c": 606,
            "t": "2014-02-03"
           },
           {
            "c": 586,
            "t": "2014-02-04"
           },
           {
            "c": 564,
            "t": "2014-02-05"
           },
           {
            "c": 542,
            "t": "2014-02-06"
           },
           {
            "c": 519,
            "t": "2014-02-07"
           },
           {
            "c": 496,
            "t": "2014-02-08"
           },
           {
            "c": 479,
            "t": "2014-02-09"
           },
           {
            "c": 479,
            "t": "2014-02-10"
           },
           {
            "c": 496,
            "t": "2014-02-11"
           },
           {
            "c": 520,
            "t": "2014-02-12"
           },
           {
            "c": 539,
            "t": "2014-02-13"
           },
           {
            "c": 549,
            "t": "2014-02-14"
           },
           {
            "c": 560,
            "t": "2014-02-15"
           },
           {
            "c": 604,
            "t": "2014-02-16"
           },
           {
            "c": 720,
            "t": "2014-02-17"
           },
           {
            "c": 897,
            "t": "2014-02-18"
           },
           {
            "c": 1026,
            "t": "2014-02-19"
           },
           {
            "c": 1026,
            "t": "2014-02-20"
           },
           {
            "c": 954,
            "t": "2014-02-21"
           },
           {
            "c": 908,
            "t": "2014-02-22"
           },
           {
            "c": 902,
            "t": "2014-02-23"
           },
           {
            "c": 904,
            "t": "2014-02-24"
           },
           {
            "c": 894,
            "t": "2014-02-25"
           },
           {
            "c": 875,
            "t": "2014-02-26"
           },
           {
            "c": 852,
            "t": "2014-02-27"
           },
           {
            "c": 832,
            "t": "2014-02-28"
           },
           {
            "c": 819,
            "t": "2014-03-01"
           },
           {
            "c": 818,
            "t": "2014-03-02"
           },
           {
            "c": 826,
            "t": "2014-03-03"
           },
           {
            "c": 819,
            "t": "2014-03-04"
           },
           {
            "c": 779,
            "t": "2014-03-05"
           },
           {
            "c": 715,
            "t": "2014-03-06"
           },
           {
            "c": 657,
            "t": "2014-03-07"
           },
           {
            "c": 617,
            "t": "2014-03-08"
           },
           {
            "c": 597,
            "t": "2014-03-09"
           },
           {
            "c": 599,
            "t": "2014-03-10"
           },
           {
            "c": 626,
            "t": "2014-03-11"
           },
           {
            "c": 673,
            "t": "2014-03-12"
           },
           {
            "c": 736,
            "t": "2014-03-13"
           },
           {
            "c": 823,
            "t": "2014-03-14"
           },
           {
            "c": 963,
            "t": "2014-03-15"
           },
           {
            "c": 1145,
            "t": "2014-03-16"
           },
           {
            "c": 1265,
            "t": "2014-03-17"
           },
           {
            "c": 1203,
            "t": "2014-03-18"
           },
           {
            "c": 969,
            "t": "2014-03-19"
           },
           {
            "c": 701,
            "t": "2014-03-20"
           },
           {
            "c": 516,
            "t": "2014-03-21"
           },
           {
            "c": 432,
            "t": "2014-03-22"
           },
           {
            "c": 412,
            "t": "2014-03-23"
           },
           {
            "c": 423,
            "t": "2014-03-24"
           },
           {
            "c": 452,
            "t": "2014-03-25"
           },
           {
            "c": 498,
            "t": "2014-03-26"
           },
           {
            "c": 561,
            "t": "2014-03-27"
           },
           {
            "c": 638,
            "t": "2014-03-28"
           },
           {
            "c": 721,
            "t": "2014-03-29"
           },
           {
            "c": 799,
            "t": "2014-03-30"
           },
           {
            "c": 867,
            "t": "2014-03-31"
           },
           {
            "c": 930,
            "t": "2014-04-01"
           },
           {
            "c": 1002,
            "t": "2014-04-02"
           },
           {
            "c": 1099,
            "t": "2014-04-03"
           },
           {
            "c": 1231,
            "t": "2014-04-04"
           },
           {
            "c": 1397,
            "t": "2014-04-05"
           },
           {
            "c": 1585,
            "t": "2014-04-06"
           },
           {
            "c": 1787,
            "t": "2014-04-07"
           },
           {
            "c": 2014,
            "t": "2014-04-08"
           },
           {
            "c": 2222,
            "t": "2014-04-09"
           },
           {
            "c": 2307,
            "t": "2014-04-10"
           }
          ]
         },
         "encoding": {
          "x": {
           "field": "t",
           "type": "temporal"
          },
          "y": {
           "field": "c",
           "type": "quantitative"
          }
         },
         "mark": {
          "interpolate": "monotone",
          "type": "line"
         }
        },
        "steps": [
         {
          "bootstrapColumLayout": {
           "md": {
            "offset": 2,
            "span": 3
           },
           "xl": {
            "offset": 0,
            "span": 12
           }
          },
          "focus": [
           50
          ],
          "justifyContent": "start",
          "source": [
           "1 first paragraph"
          ]
         },
         {
          "focus": [
           70,
           10
          ],
          "source": [
           "2 second paragraph"
          ]
         },
         {
          "focus": [
           40
          ],
          "source": [
           "2 second paragraph"
          ]
         }
        ],
        "type": "vega"
       },
       "text": {
        "bootstrapColumLayout": {
         "md": {
          "offset": 0,
          "order": 12,
          "span": 3
         }
        }
       }
      }
     },
     "output_type": "display_data"
    }
   ],
   "source": [
    "from IPython.display import display, JSON\n",
    "\n",
    "spec = {\n",
    "    \"$schema\": \"https://vega.github.io/schema/vega-lite/v4.json\",\n",
    "    \"data\": {\n",
    "        \"values\": values\n",
    "    },\n",
    "    \"encoding\": {\n",
    "        \"x\": { \"field\": \"t\", \"type\": \"temporal\" },\n",
    "        \"y\": { \"field\": \"c\", \"type\": \"quantitative\" }\n",
    "    },\n",
    "    \"mark\": { \"interpolate\": \"monotone\", \"type\": \"line\" }\n",
    "}\n",
    "\n",
    "metadata={\n",
    "    \"jdh\":{\n",
    "        \"module\": \"text_object\",\n",
    "        \"text\": {\n",
    "            \"bootstrapColumLayout\": { \"md\": { \"offset\":0, \"span\": 3, \"order\": 12 } }\n",
    "        },\n",
    "        \"object\": {\n",
    "            \"type\": \"vega\",\n",
    "            \"bootstrapColumLayout\": { \"md\": { \"offset\": 0, \"order\": 1, \"span\": 8 } },\n",
    "            \"component\": \"TrendLine\",\n",
    "            \"cssClassName\": [ \"bg-white\" ],\n",
    "            \"position\": \"sticky\",\n",
    "            \"heightRatio\": .9,\n",
    "            \"spec\": spec,\n",
    "            \"steps\": [\n",
    "                {\n",
    "                    \"source\": [\"1 first paragraph\"],\n",
    "                    \"focus\": [50],\n",
    "                    \"bootstrapColumLayout\": {\n",
    "                        \"md\": { \"span\":3, \"offset\":2 },\n",
    "                        \"xl\": { \"span\":12, \"offset\":0 }\n",
    "                    },\n",
    "                    \"justifyContent\": \"start\",\n",
    "                },\n",
    "                {\n",
    "                    \"source\": [\"2 second paragraph\"],\n",
    "                    \"focus\": [70, 10],\n",
    "                },\n",
    "                {\n",
    "                    \"source\": [\"2 second paragraph\"],\n",
    "                    \"focus\": [40],\n",
    "                }\n",
    "            ]\n",
    "        }\n",
    "    }\n",
    "}\n",
    "display(JSON(values), metadata=metadata)"
   ]
  },
  {
   "cell_type": "markdown",
   "id": "located-banana",
   "metadata": {},
   "source": [
    "Looking at the number of tweets per day, we can make a double observation:\n",
    "\n",
    "1. many \"peaks\", i.e. days or sets of days where the number of tweets is significantly higher than the rest of the year, correspond to great moments of commemoration on the one hand;\n",
    "\n",
    "2. a set of [two peaks](notes/two-peaks) show a different profile from the other peaks on the other hand.\n",
    "\n",
    "The *peaks* observed here are of different kinds: events concerning all the belligerents (28 June 2014, the centenary of the assassination of Archduke François-Ferdinand); 11 November - which affects all the belligerents but is primarily commemorated in France (3, 5 and 11) and is also the only recurring event in our database; the entries into the war (2), but whose commemoration was first marked by the centenary of 4 August 1914, i.e. the entry into the war of the United Kingdom; events concerning a group of belligerents including the centenary of the landing of Galipoli, which became ANZAC Day, the day of commemoration of Australia and New Zealand (4) or the centenary of the Easter rising in Ireland (7); and, finally, the centenary of the great battles of the year 1916 (6 and 8-10).\n",
    "In the latter case, the Franco-British commemoration of the centenary of the Battle of the Somme (1 July 2016) was the day when the Great War was probably the most tweeted (10).\n",
    "\n",
    "The centenary of the Battle of Verdun (6, 8 and 9) was the subject of two major commemorations (and a series of more specific and smaller-scale commemorations): in February 2016, for the hundredth anniversary of the beginning of the battle, a ceremony in the presence of the French Minister of Defence and featuring a tribute to the fallen Saint-Cyr officers; on 29 May 2016, for a Franco-German ceremony at the Douaumont ossuary.\n",
    "\n",
    "However, this second commemoration of the Battle of Verdun is the subject of a special profile, with a double peak (8, 9), the first of which precedes the commemoration.\n",
    "\n",
    "The November 11th commemorations and those related to the Battle of Verdun are events where French-language tweets are in the majority, while during the rest of the period studied, the number of English-language tweets is much higher. By looking at a sub-corpus of French tweets, we can look at the content of the sub-corpus and, above all, at its temporality.\n"
   ]
  },
  {
   "cell_type": "code",
   "execution_count": 51,
   "id": "superb-clarity",
   "metadata": {},
   "outputs": [
    {
     "data": {
      "image/jpeg": "[encoded data removed]",
      "text/plain": [
       "<IPython.core.display.Image object>"
      ]
     },
     "metadata": {
      "image/jpeg": {
       "height": 300,
       "width": 300
      },
      "jdh": {
       "module": "text_object",
       "object": {
        "position": "sticky",
        "steps": [
         {
          "source": [
           "Eldon Square War Memorial. General view of Eldon Square on St George's Day, 23 April 1925 (TWAM ref. DF.GRA/1/2).[Tyne & Wear Archives & Museums](https://www.flickr.com/photos/twm_news/28124602970/in/photolist-JRgWBL-jzZNuJ-aDKH2d-nJtp8t-hRZicc-2cGxxS5-e2DK71-ntPEnA-8Y6dgE-dNUXdM-VqmmbM-6c9vRS-2iTLtSv-dtySdo-ecsKXe-uAsFRG-njnQpm-NNNE2w-ziAsBE-vmk2V2-29poxMt-MgGPEh-ejeDc6-owbvd4-2diuCp9-2ejXgyS-AUccby-ACKVcs-8Y67E5-AT3QJC-zYu4vz-otuhqL-cNytkN-75zNWa-MgFbV4-MgGPBw-xwsJL3-26Kb9To-nj41VB-oyeD2K-NNkou2-nj3pk9-ow5YKR-ecyobS-NEwkUz-MQtxWP-htWNUY-7eU2Mg-rPKXHa-azPFpy)"
          ]
         }
        ],
        "type": "image"
       }
      }
     },
     "output_type": "display_data"
    }
   ],
   "source": [
    "import requests\n",
    "from IPython.display import Image                        \n",
    "url='https://live.staticflickr.com/8760/28124602970_6e4a70e185_b_d.jpg'\n",
    "display(Image(requests.get(url).content,width=300, height=300), metadata={\"jdh\": {\n",
    "    \"module\": \"text_object\",\n",
    "    \"object\": {\n",
    "        \"type\": \"image\",\n",
    "        \"position\": \"sticky\",\n",
    "        \"steps\": [{\n",
    "            \"source\": [\"Eldon Square War Memorial. General view of Eldon Square on St George's Day, 23 April 1925 (TWAM ref. DF.GRA/1/2).[Tyne & Wear Archives & Museums](https://www.flickr.com/photos/twm_news/28124602970/in/photolist-JRgWBL-jzZNuJ-aDKH2d-nJtp8t-hRZicc-2cGxxS5-e2DK71-ntPEnA-8Y6dgE-dNUXdM-VqmmbM-6c9vRS-2iTLtSv-dtySdo-ecsKXe-uAsFRG-njnQpm-NNNE2w-ziAsBE-vmk2V2-29poxMt-MgGPEh-ejeDc6-owbvd4-2diuCp9-2ejXgyS-AUccby-ACKVcs-8Y67E5-AT3QJC-zYu4vz-otuhqL-cNytkN-75zNWa-MgFbV4-MgGPBw-xwsJL3-26Kb9To-nj41VB-oyeD2K-NNkou2-nj3pk9-ow5YKR-ecyobS-NEwkUz-MQtxWP-htWNUY-7eU2Mg-rPKXHa-azPFpy)\"]\n",
    "        }]\n",
    "    }\n",
    "}}) "
   ]
  },
  {
   "cell_type": "markdown",
   "id": "opened-rebecca",
   "metadata": {},
   "source": [
    "The November 11th commemorations and those related to the Battle of Verdun are events where French-language tweets are in the majority, while during the rest of the period studied, the number of English-language tweets is much higher. By looking at a sub-corpus of French tweets, we can look at the content of the sub-corpus and, above all, at its temporality.\n",
    "The November 11th commemorations and those related to the Battle of Verdun are events where French-language tweets are in the majority, while during the rest of the period studied, the number of English-language tweets is much higher. By looking at a sub-corpus of French tweets, we can look at the content of the sub-corpus and, above all, at its temporality.\n",
    "The November 11th commemorations and those related to the Battle of Verdun are events where French-language tweets are in the majority, while during the rest of the period studied, the number of English-language tweets is much higher. By looking at a sub-corpus of French tweets, we can look at the content of the sub-corpus and, above all, at its temporality.\n",
    "\n",
    "The November 11th commemorations and those related to the Battle of Verdun are events where French-language tweets are in the majority, while during the rest of the period studied, the number of English-language tweets is much higher. By looking at a sub-corpus of French tweets, we can look at the content of the sub-corpus and, above all, at its temporality.\n",
    "The November 11th commemorations and those related to the Battle of Verdun are events where French-language tweets are in the majority, while during the rest of the period studied, the number of English-language tweets is much higher. By looking at a sub-corpus of French tweets, we can look at the content of the sub-corpus and, above all, at its temporality."
   ]
  },
  {
   "cell_type": "code",
   "execution_count": 49,
   "id": "continent-james",
   "metadata": {},
   "outputs": [
    {
     "data": {
      "application/json": [
       {
        "c": 0,
        "layer": "v0",
        "t": "2014-01-01"
       },
       {
        "c": 0,
        "layer": "v1",
        "t": "2014-01-01"
       },
       {
        "c": 0,
        "layer": "v2",
        "t": "2014-01-01"
       },
       {
        "c": 0,
        "layer": "v3",
        "t": "2014-01-01"
       },
       {
        "c": 0,
        "layer": "v4",
        "t": "2014-01-01"
       },
       {
        "c": 0,
        "layer": "v5",
        "t": "2014-01-01"
       },
       {
        "c": 0,
        "layer": "v6",
        "t": "2014-01-01"
       },
       {
        "c": 0,
        "layer": "v7",
        "t": "2014-01-01"
       },
       {
        "c": 0,
        "layer": "v8",
        "t": "2014-01-01"
       },
       {
        "c": 0,
        "layer": "v9",
        "t": "2014-01-01"
       },
       {
        "c": 0,
        "layer": "v10",
        "t": "2014-01-01"
       },
       {
        "c": 0,
        "layer": "v11",
        "t": "2014-01-01"
       },
       {
        "c": 0,
        "layer": "v12",
        "t": "2014-01-01"
       },
       {
        "c": 0,
        "layer": "v13",
        "t": "2014-01-01"
       },
       {
        "c": 0,
        "layer": "v14",
        "t": "2014-01-01"
       },
       {
        "c": 12,
        "layer": "v0",
        "t": "2014-01-02"
       },
       {
        "c": 5,
        "layer": "v1",
        "t": "2014-01-02"
       },
       {
        "c": 14,
        "layer": "v2",
        "t": "2014-01-02"
       },
       {
        "c": 24,
        "layer": "v3",
        "t": "2014-01-02"
       },
       {
        "c": 8,
        "layer": "v4",
        "t": "2014-01-02"
       },
       {
        "c": 11,
        "layer": "v5",
        "t": "2014-01-02"
       },
       {
        "c": 9,
        "layer": "v6",
        "t": "2014-01-02"
       },
       {
        "c": 11,
        "layer": "v7",
        "t": "2014-01-02"
       },
       {
        "c": 11,
        "layer": "v8",
        "t": "2014-01-02"
       },
       {
        "c": 10,
        "layer": "v9",
        "t": "2014-01-02"
       },
       {
        "c": 12,
        "layer": "v10",
        "t": "2014-01-02"
       },
       {
        "c": 14,
        "layer": "v11",
        "t": "2014-01-02"
       },
       {
        "c": 21,
        "layer": "v12",
        "t": "2014-01-02"
       },
       {
        "c": 16,
        "layer": "v13",
        "t": "2014-01-02"
       },
       {
        "c": 7,
        "layer": "v14",
        "t": "2014-01-02"
       },
       {
        "c": 23,
        "layer": "v0",
        "t": "2014-01-03"
       },
       {
        "c": 12,
        "layer": "v1",
        "t": "2014-01-03"
       },
       {
        "c": 30,
        "layer": "v2",
        "t": "2014-01-03"
       },
       {
        "c": 48,
        "layer": "v3",
        "t": "2014-01-03"
       },
       {
        "c": 17,
        "layer": "v4",
        "t": "2014-01-03"
       },
       {
        "c": 23,
        "layer": "v5",
        "t": "2014-01-03"
       },
       {
        "c": 17,
        "layer": "v6",
        "t": "2014-01-03"
       },
       {
        "c": 21,
        "layer": "v7",
        "t": "2014-01-03"
       },
       {
        "c": 23,
        "layer": "v8",
        "t": "2014-01-03"
       },
       {
        "c": 16,
        "layer": "v9",
        "t": "2014-01-03"
       },
       {
        "c": 24,
        "layer": "v10",
        "t": "2014-01-03"
       },
       {
        "c": 34,
        "layer": "v11",
        "t": "2014-01-03"
       },
       {
        "c": 40,
        "layer": "v12",
        "t": "2014-01-03"
       },
       {
        "c": 30,
        "layer": "v13",
        "t": "2014-01-03"
       },
       {
        "c": 13,
        "layer": "v14",
        "t": "2014-01-03"
       },
       {
        "c": 35,
        "layer": "v0",
        "t": "2014-01-04"
       },
       {
        "c": 20,
        "layer": "v1",
        "t": "2014-01-04"
       },
       {
        "c": 46,
        "layer": "v2",
        "t": "2014-01-04"
       },
       {
        "c": 66,
        "layer": "v3",
        "t": "2014-01-04"
       },
       {
        "c": 28,
        "layer": "v4",
        "t": "2014-01-04"
       },
       {
        "c": 32,
        "layer": "v5",
        "t": "2014-01-04"
       },
       {
        "c": 25,
        "layer": "v6",
        "t": "2014-01-04"
       },
       {
        "c": 32,
        "layer": "v7",
        "t": "2014-01-04"
       },
       {
        "c": 35,
        "layer": "v8",
        "t": "2014-01-04"
       },
       {
        "c": 19,
        "layer": "v9",
        "t": "2014-01-04"
       },
       {
        "c": 38,
        "layer": "v10",
        "t": "2014-01-04"
       },
       {
        "c": 60,
        "layer": "v11",
        "t": "2014-01-04"
       },
       {
        "c": 60,
        "layer": "v12",
        "t": "2014-01-04"
       },
       {
        "c": 41,
        "layer": "v13",
        "t": "2014-01-04"
       },
       {
        "c": 18,
        "layer": "v14",
        "t": "2014-01-04"
       },
       {
        "c": 48,
        "layer": "v0",
        "t": "2014-01-05"
       },
       {
        "c": 24,
        "layer": "v1",
        "t": "2014-01-05"
       },
       {
        "c": 63,
        "layer": "v2",
        "t": "2014-01-05"
       },
       {
        "c": 76,
        "layer": "v3",
        "t": "2014-01-05"
       },
       {
        "c": 41,
        "layer": "v4",
        "t": "2014-01-05"
       },
       {
        "c": 41,
        "layer": "v5",
        "t": "2014-01-05"
       },
       {
        "c": 35,
        "layer": "v6",
        "t": "2014-01-05"
       },
       {
        "c": 44,
        "layer": "v7",
        "t": "2014-01-05"
       },
       {
        "c": 47,
        "layer": "v8",
        "t": "2014-01-05"
       },
       {
        "c": 22,
        "layer": "v9",
        "t": "2014-01-05"
       },
       {
        "c": 54,
        "layer": "v10",
        "t": "2014-01-05"
       },
       {
        "c": 86,
        "layer": "v11",
        "t": "2014-01-05"
       },
       {
        "c": 80,
        "layer": "v12",
        "t": "2014-01-05"
       },
       {
        "c": 48,
        "layer": "v13",
        "t": "2014-01-05"
       },
       {
        "c": 23,
        "layer": "v14",
        "t": "2014-01-05"
       },
       {
        "c": 64,
        "layer": "v0",
        "t": "2014-01-06"
       },
       {
        "c": 38,
        "layer": "v1",
        "t": "2014-01-06"
       },
       {
        "c": 80,
        "layer": "v2",
        "t": "2014-01-06"
       },
       {
        "c": 84,
        "layer": "v3",
        "t": "2014-01-06"
       },
       {
        "c": 58,
        "layer": "v4",
        "t": "2014-01-06"
       },
       {
        "c": 50,
        "layer": "v5",
        "t": "2014-01-06"
       },
       {
        "c": 49,
        "layer": "v6",
        "t": "2014-01-06"
       },
       {
        "c": 59,
        "layer": "v7",
        "t": "2014-01-06"
       },
       {
        "c": 57,
        "layer": "v8",
        "t": "2014-01-06"
       },
       {
        "c": 26,
        "layer": "v9",
        "t": "2014-01-06"
       },
       {
        "c": 65,
        "layer": "v10",
        "t": "2014-01-06"
       },
       {
        "c": 101,
        "layer": "v11",
        "t": "2014-01-06"
       },
       {
        "c": 99,
        "layer": "v12",
        "t": "2014-01-06"
       },
       {
        "c": 54,
        "layer": "v13",
        "t": "2014-01-06"
       },
       {
        "c": 26,
        "layer": "v14",
        "t": "2014-01-06"
       },
       {
        "c": 81,
        "layer": "v0",
        "t": "2014-01-07"
       },
       {
        "c": 84,
        "layer": "v1",
        "t": "2014-01-07"
       },
       {
        "c": 96,
        "layer": "v2",
        "t": "2014-01-07"
       },
       {
        "c": 94,
        "layer": "v3",
        "t": "2014-01-07"
       },
       {
        "c": 76,
        "layer": "v4",
        "t": "2014-01-07"
       },
       {
        "c": 60,
        "layer": "v5",
        "t": "2014-01-07"
       },
       {
        "c": 69,
        "layer": "v6",
        "t": "2014-01-07"
       },
       {
        "c": 74,
        "layer": "v7",
        "t": "2014-01-07"
       },
       {
        "c": 64,
        "layer": "v8",
        "t": "2014-01-07"
       },
       {
        "c": 29,
        "layer": "v9",
        "t": "2014-01-07"
       },
       {
        "c": 78,
        "layer": "v10",
        "t": "2014-01-07"
       },
       {
        "c": 104,
        "layer": "v11",
        "t": "2014-01-07"
       },
       {
        "c": 111,
        "layer": "v12",
        "t": "2014-01-07"
       },
       {
        "c": 63,
        "layer": "v13",
        "t": "2014-01-07"
       },
       {
        "c": 29,
        "layer": "v14",
        "t": "2014-01-07"
       },
       {
        "c": 104,
        "layer": "v0",
        "t": "2014-01-08"
       },
       {
        "c": 111,
        "layer": "v1",
        "t": "2014-01-08"
       },
       {
        "c": 109,
        "layer": "v2",
        "t": "2014-01-08"
       },
       {
        "c": 117,
        "layer": "v3",
        "t": "2014-01-08"
       },
       {
        "c": 95,
        "layer": "v4",
        "t": "2014-01-08"
       },
       {
        "c": 71,
        "layer": "v5",
        "t": "2014-01-08"
       },
       {
        "c": 92,
        "layer": "v6",
        "t": "2014-01-08"
       },
       {
        "c": 90,
        "layer": "v7",
        "t": "2014-01-08"
       },
       {
        "c": 68,
        "layer": "v8",
        "t": "2014-01-08"
       },
       {
        "c": 33,
        "layer": "v9",
        "t": "2014-01-08"
       },
       {
        "c": 95,
        "layer": "v10",
        "t": "2014-01-08"
       },
       {
        "c": 98,
        "layer": "v11",
        "t": "2014-01-08"
       },
       {
        "c": 119,
        "layer": "v12",
        "t": "2014-01-08"
       },
       {
        "c": 78,
        "layer": "v13",
        "t": "2014-01-08"
       },
       {
        "c": 31,
        "layer": "v14",
        "t": "2014-01-08"
       },
       {
        "c": 115,
        "layer": "v0",
        "t": "2014-01-09"
       },
       {
        "c": 109,
        "layer": "v1",
        "t": "2014-01-09"
       },
       {
        "c": 121,
        "layer": "v2",
        "t": "2014-01-09"
       },
       {
        "c": 146,
        "layer": "v3",
        "t": "2014-01-09"
       },
       {
        "c": 120,
        "layer": "v4",
        "t": "2014-01-09"
       },
       {
        "c": 84,
        "layer": "v5",
        "t": "2014-01-09"
       },
       {
        "c": 112,
        "layer": "v6",
        "t": "2014-01-09"
       },
       {
        "c": 106,
        "layer": "v7",
        "t": "2014-01-09"
       },
       {
        "c": 72,
        "layer": "v8",
        "t": "2014-01-09"
       },
       {
        "c": 37,
        "layer": "v9",
        "t": "2014-01-09"
       },
       {
        "c": 111,
        "layer": "v10",
        "t": "2014-01-09"
       },
       {
        "c": 89,
        "layer": "v11",
        "t": "2014-01-09"
       },
       {
        "c": 126,
        "layer": "v12",
        "t": "2014-01-09"
       },
       {
        "c": 98,
        "layer": "v13",
        "t": "2014-01-09"
       },
       {
        "c": 34,
        "layer": "v14",
        "t": "2014-01-09"
       },
       {
        "c": 109,
        "layer": "v0",
        "t": "2014-01-10"
       },
       {
        "c": 122,
        "layer": "v1",
        "t": "2014-01-10"
       },
       {
        "c": 130,
        "layer": "v2",
        "t": "2014-01-10"
       },
       {
        "c": 144,
        "layer": "v3",
        "t": "2014-01-10"
       },
       {
        "c": 163,
        "layer": "v4",
        "t": "2014-01-10"
       },
       {
        "c": 99,
        "layer": "v5",
        "t": "2014-01-10"
       },
       {
        "c": 122,
        "layer": "v6",
        "t": "2014-01-10"
       },
       {
        "c": 126,
        "layer": "v7",
        "t": "2014-01-10"
       },
       {
        "c": 76,
        "layer": "v8",
        "t": "2014-01-10"
       },
       {
        "c": 45,
        "layer": "v9",
        "t": "2014-01-10"
       },
       {
        "c": 126,
        "layer": "v10",
        "t": "2014-01-10"
       },
       {
        "c": 90,
        "layer": "v11",
        "t": "2014-01-10"
       },
       {
        "c": 132,
        "layer": "v12",
        "t": "2014-01-10"
       },
       {
        "c": 113,
        "layer": "v13",
        "t": "2014-01-10"
       },
       {
        "c": 39,
        "layer": "v14",
        "t": "2014-01-10"
       },
       {
        "c": 111,
        "layer": "v0",
        "t": "2014-01-11"
       },
       {
        "c": 143,
        "layer": "v1",
        "t": "2014-01-11"
       },
       {
        "c": 137,
        "layer": "v2",
        "t": "2014-01-11"
       },
       {
        "c": 133,
        "layer": "v3",
        "t": "2014-01-11"
       },
       {
        "c": 227,
        "layer": "v4",
        "t": "2014-01-11"
       },
       {
        "c": 115,
        "layer": "v5",
        "t": "2014-01-11"
       },
       {
        "c": 126,
        "layer": "v6",
        "t": "2014-01-11"
       },
       {
        "c": 149,
        "layer": "v7",
        "t": "2014-01-11"
       },
       {
        "c": 79,
        "layer": "v8",
        "t": "2014-01-11"
       },
       {
        "c": 67,
        "layer": "v9",
        "t": "2014-01-11"
       },
       {
        "c": 139,
        "layer": "v10",
        "t": "2014-01-11"
       },
       {
        "c": 132,
        "layer": "v11",
        "t": "2014-01-11"
       },
       {
        "c": 136,
        "layer": "v12",
        "t": "2014-01-11"
       },
       {
        "c": 113,
        "layer": "v13",
        "t": "2014-01-11"
       },
       {
        "c": 43,
        "layer": "v14",
        "t": "2014-01-11"
       },
       {
        "c": 118,
        "layer": "v0",
        "t": "2014-01-12"
       },
       {
        "c": 163,
        "layer": "v1",
        "t": "2014-01-12"
       },
       {
        "c": 143,
        "layer": "v2",
        "t": "2014-01-12"
       },
       {
        "c": 128,
        "layer": "v3",
        "t": "2014-01-12"
       },
       {
        "c": 266,
        "layer": "v4",
        "t": "2014-01-12"
       },
       {
        "c": 133,
        "layer": "v5",
        "t": "2014-01-12"
       },
       {
        "c": 128,
        "layer": "v6",
        "t": "2014-01-12"
       },
       {
        "c": 172,
        "layer": "v7",
        "t": "2014-01-12"
       },
       {
        "c": 84,
        "layer": "v8",
        "t": "2014-01-12"
       },
       {
        "c": 107,
        "layer": "v9",
        "t": "2014-01-12"
       },
       {
        "c": 149,
        "layer": "v10",
        "t": "2014-01-12"
       },
       {
        "c": 124,
        "layer": "v11",
        "t": "2014-01-12"
       },
       {
        "c": 141,
        "layer": "v12",
        "t": "2014-01-12"
       },
       {
        "c": 105,
        "layer": "v13",
        "t": "2014-01-12"
       },
       {
        "c": 46,
        "layer": "v14",
        "t": "2014-01-12"
       },
       {
        "c": 126,
        "layer": "v0",
        "t": "2014-01-13"
       },
       {
        "c": 160,
        "layer": "v1",
        "t": "2014-01-13"
       },
       {
        "c": 148,
        "layer": "v2",
        "t": "2014-01-13"
       },
       {
        "c": 134,
        "layer": "v3",
        "t": "2014-01-13"
       },
       {
        "c": 269,
        "layer": "v4",
        "t": "2014-01-13"
       },
       {
        "c": 152,
        "layer": "v5",
        "t": "2014-01-13"
       },
       {
        "c": 134,
        "layer": "v6",
        "t": "2014-01-13"
       },
       {
        "c": 190,
        "layer": "v7",
        "t": "2014-01-13"
       },
       {
        "c": 93,
        "layer": "v8",
        "t": "2014-01-13"
       },
       {
        "c": 154,
        "layer": "v9",
        "t": "2014-01-13"
       },
       {
        "c": 160,
        "layer": "v10",
        "t": "2014-01-13"
       },
       {
        "c": 68,
        "layer": "v11",
        "t": "2014-01-13"
       },
       {
        "c": 146,
        "layer": "v12",
        "t": "2014-01-13"
       },
       {
        "c": 99,
        "layer": "v13",
        "t": "2014-01-13"
       },
       {
        "c": 48,
        "layer": "v14",
        "t": "2014-01-13"
       },
       {
        "c": 130,
        "layer": "v0",
        "t": "2014-01-14"
       },
       {
        "c": 156,
        "layer": "v1",
        "t": "2014-01-14"
       },
       {
        "c": 151,
        "layer": "v2",
        "t": "2014-01-14"
       },
       {
        "c": 156,
        "layer": "v3",
        "t": "2014-01-14"
       },
       {
        "c": 279,
        "layer": "v4",
        "t": "2014-01-14"
       },
       {
        "c": 172,
        "layer": "v5",
        "t": "2014-01-14"
       },
       {
        "c": 145,
        "layer": "v6",
        "t": "2014-01-14"
       },
       {
        "c": 201,
        "layer": "v7",
        "t": "2014-01-14"
       },
       {
        "c": 103,
        "layer": "v8",
        "t": "2014-01-14"
       },
       {
        "c": 178,
        "layer": "v9",
        "t": "2014-01-14"
       },
       {
        "c": 171,
        "layer": "v10",
        "t": "2014-01-14"
       },
       {
        "c": 58,
        "layer": "v11",
        "t": "2014-01-14"
       },
       {
        "c": 152,
        "layer": "v12",
        "t": "2014-01-14"
       },
       {
        "c": 107,
        "layer": "v13",
        "t": "2014-01-14"
       },
       {
        "c": 50,
        "layer": "v14",
        "t": "2014-01-14"
       },
       {
        "c": 130,
        "layer": "v0",
        "t": "2014-01-15"
       },
       {
        "c": 172,
        "layer": "v1",
        "t": "2014-01-15"
       },
       {
        "c": 148,
        "layer": "v2",
        "t": "2014-01-15"
       },
       {
        "c": 185,
        "layer": "v3",
        "t": "2014-01-15"
       },
       {
        "c": 307,
        "layer": "v4",
        "t": "2014-01-15"
       },
       {
        "c": 195,
        "layer": "v5",
        "t": "2014-01-15"
       },
       {
        "c": 157,
        "layer": "v6",
        "t": "2014-01-15"
       },
       {
        "c": 208,
        "layer": "v7",
        "t": "2014-01-15"
       },
       {
        "c": 109,
        "layer": "v8",
        "t": "2014-01-15"
       },
       {
        "c": 164,
        "layer": "v9",
        "t": "2014-01-15"
       },
       {
        "c": 182,
        "layer": "v10",
        "t": "2014-01-15"
       },
       {
        "c": 61,
        "layer": "v11",
        "t": "2014-01-15"
       },
       {
        "c": 159,
        "layer": "v12",
        "t": "2014-01-15"
       },
       {
        "c": 134,
        "layer": "v13",
        "t": "2014-01-15"
       },
       {
        "c": 56,
        "layer": "v14",
        "t": "2014-01-15"
       },
       {
        "c": 131,
        "layer": "v0",
        "t": "2014-01-16"
       },
       {
        "c": 198,
        "layer": "v1",
        "t": "2014-01-16"
       },
       {
        "c": 145,
        "layer": "v2",
        "t": "2014-01-16"
       },
       {
        "c": 214,
        "layer": "v3",
        "t": "2014-01-16"
       },
       {
        "c": 344,
        "layer": "v4",
        "t": "2014-01-16"
       },
       {
        "c": 219,
        "layer": "v5",
        "t": "2014-01-16"
       },
       {
        "c": 167,
        "layer": "v6",
        "t": "2014-01-16"
       },
       {
        "c": 214,
        "layer": "v7",
        "t": "2014-01-16"
       },
       {
        "c": 114,
        "layer": "v8",
        "t": "2014-01-16"
       },
       {
        "c": 132,
        "layer": "v9",
        "t": "2014-01-16"
       },
       {
        "c": 190,
        "layer": "v10",
        "t": "2014-01-16"
       },
       {
        "c": 68,
        "layer": "v11",
        "t": "2014-01-16"
       },
       {
        "c": 166,
        "layer": "v12",
        "t": "2014-01-16"
       },
       {
        "c": 184,
        "layer": "v13",
        "t": "2014-01-16"
       },
       {
        "c": 76,
        "layer": "v14",
        "t": "2014-01-16"
       },
       {
        "c": 133,
        "layer": "v0",
        "t": "2014-01-17"
       },
       {
        "c": 228,
        "layer": "v1",
        "t": "2014-01-17"
       },
       {
        "c": 151,
        "layer": "v2",
        "t": "2014-01-17"
       },
       {
        "c": 256,
        "layer": "v3",
        "t": "2014-01-17"
       },
       {
        "c": 389,
        "layer": "v4",
        "t": "2014-01-17"
       },
       {
        "c": 244,
        "layer": "v5",
        "t": "2014-01-17"
       },
       {
        "c": 185,
        "layer": "v6",
        "t": "2014-01-17"
       },
       {
        "c": 225,
        "layer": "v7",
        "t": "2014-01-17"
       },
       {
        "c": 128,
        "layer": "v8",
        "t": "2014-01-17"
       },
       {
        "c": 113,
        "layer": "v9",
        "t": "2014-01-17"
       },
       {
        "c": 194,
        "layer": "v10",
        "t": "2014-01-17"
       },
       {
        "c": 79,
        "layer": "v11",
        "t": "2014-01-17"
       },
       {
        "c": 174,
        "layer": "v12",
        "t": "2014-01-17"
       },
       {
        "c": 250,
        "layer": "v13",
        "t": "2014-01-17"
       },
       {
        "c": 120,
        "layer": "v14",
        "t": "2014-01-17"
       },
       {
        "c": 140,
        "layer": "v0",
        "t": "2014-01-18"
       },
       {
        "c": 259,
        "layer": "v1",
        "t": "2014-01-18"
       },
       {
        "c": 172,
        "layer": "v2",
        "t": "2014-01-18"
       },
       {
        "c": 311,
        "layer": "v3",
        "t": "2014-01-18"
       },
       {
        "c": 435,
        "layer": "v4",
        "t": "2014-01-18"
       },
       {
        "c": 269,
        "layer": "v5",
        "t": "2014-01-18"
       },
       {
        "c": 201,
        "layer": "v6",
        "t": "2014-01-18"
       },
       {
        "c": 261,
        "layer": "v7",
        "t": "2014-01-18"
       },
       {
        "c": 156,
        "layer": "v8",
        "t": "2014-01-18"
       },
       {
        "c": 119,
        "layer": "v9",
        "t": "2014-01-18"
       },
       {
        "c": 192,
        "layer": "v10",
        "t": "2014-01-18"
       },
       {
        "c": 94,
        "layer": "v11",
        "t": "2014-01-18"
       },
       {
        "c": 180,
        "layer": "v12",
        "t": "2014-01-18"
       },
       {
        "c": 311,
        "layer": "v13",
        "t": "2014-01-18"
       },
       {
        "c": 152,
        "layer": "v14",
        "t": "2014-01-18"
       },
       {
        "c": 150,
        "layer": "v0",
        "t": "2014-01-19"
       },
       {
        "c": 290,
        "layer": "v1",
        "t": "2014-01-19"
       },
       {
        "c": 218,
        "layer": "v2",
        "t": "2014-01-19"
       },
       {
        "c": 365,
        "layer": "v3",
        "t": "2014-01-19"
       },
       {
        "c": 475,
        "layer": "v4",
        "t": "2014-01-19"
       },
       {
        "c": 293,
        "layer": "v5",
        "t": "2014-01-19"
       },
       {
        "c": 193,
        "layer": "v6",
        "t": "2014-01-19"
       },
       {
        "c": 334,
        "layer": "v7",
        "t": "2014-01-19"
       },
       {
        "c": 192,
        "layer": "v8",
        "t": "2014-01-19"
       },
       {
        "c": 139,
        "layer": "v9",
        "t": "2014-01-19"
       },
       {
        "c": 185,
        "layer": "v10",
        "t": "2014-01-19"
       },
       {
        "c": 112,
        "layer": "v11",
        "t": "2014-01-19"
       },
       {
        "c": 185,
        "layer": "v12",
        "t": "2014-01-19"
       },
       {
        "c": 342,
        "layer": "v13",
        "t": "2014-01-19"
       },
       {
        "c": 172,
        "layer": "v14",
        "t": "2014-01-19"
       },
       {
        "c": 164,
        "layer": "v0",
        "t": "2014-01-20"
       },
       {
        "c": 321,
        "layer": "v1",
        "t": "2014-01-20"
       },
       {
        "c": 307,
        "layer": "v2",
        "t": "2014-01-20"
       },
       {
        "c": 402,
        "layer": "v3",
        "t": "2014-01-20"
       },
       {
        "c": 502,
        "layer": "v4",
        "t": "2014-01-20"
       },
       {
        "c": 314,
        "layer": "v5",
        "t": "2014-01-20"
       },
       {
        "c": 193,
        "layer": "v6",
        "t": "2014-01-20"
       },
       {
        "c": 379,
        "layer": "v7",
        "t": "2014-01-20"
       },
       {
        "c": 216,
        "layer": "v8",
        "t": "2014-01-20"
       },
       {
        "c": 158,
        "layer": "v9",
        "t": "2014-01-20"
       },
       {
        "c": 172,
        "layer": "v10",
        "t": "2014-01-20"
       },
       {
        "c": 135,
        "layer": "v11",
        "t": "2014-01-20"
       },
       {
        "c": 189,
        "layer": "v12",
        "t": "2014-01-20"
       },
       {
        "c": 343,
        "layer": "v13",
        "t": "2014-01-20"
       },
       {
        "c": 203,
        "layer": "v14",
        "t": "2014-01-20"
       },
       {
        "c": 182,
        "layer": "v0",
        "t": "2014-01-21"
       },
       {
        "c": 349,
        "layer": "v1",
        "t": "2014-01-21"
       },
       {
        "c": 444,
        "layer": "v2",
        "t": "2014-01-21"
       },
       {
        "c": 417,
        "layer": "v3",
        "t": "2014-01-21"
       },
       {
        "c": 514,
        "layer": "v4",
        "t": "2014-01-21"
       },
       {
        "c": 332,
        "layer": "v5",
        "t": "2014-01-21"
       },
       {
        "c": 207,
        "layer": "v6",
        "t": "2014-01-21"
       },
       {
        "c": 362,
        "layer": "v7",
        "t": "2014-01-21"
       },
       {
        "c": 222,
        "layer": "v8",
        "t": "2014-01-21"
       },
       {
        "c": 169,
        "layer": "v9",
        "t": "2014-01-21"
       },
       {
        "c": 157,
        "layer": "v10",
        "t": "2014-01-21"
       },
       {
        "c": 165,
        "layer": "v11",
        "t": "2014-01-21"
       },
       {
        "c": 191,
        "layer": "v12",
        "t": "2014-01-21"
       },
       {
        "c": 332,
        "layer": "v13",
        "t": "2014-01-21"
       },
       {
        "c": 243,
        "layer": "v14",
        "t": "2014-01-21"
       },
       {
        "c": 202,
        "layer": "v0",
        "t": "2014-01-22"
       },
       {
        "c": 377,
        "layer": "v1",
        "t": "2014-01-22"
       },
       {
        "c": 580,
        "layer": "v2",
        "t": "2014-01-22"
       },
       {
        "c": 410,
        "layer": "v3",
        "t": "2014-01-22"
       },
       {
        "c": 512,
        "layer": "v4",
        "t": "2014-01-22"
       },
       {
        "c": 348,
        "layer": "v5",
        "t": "2014-01-22"
       },
       {
        "c": 224,
        "layer": "v6",
        "t": "2014-01-22"
       },
       {
        "c": 343,
        "layer": "v7",
        "t": "2014-01-22"
       },
       {
        "c": 224,
        "layer": "v8",
        "t": "2014-01-22"
       },
       {
        "c": 185,
        "layer": "v9",
        "t": "2014-01-22"
       },
       {
        "c": 143,
        "layer": "v10",
        "t": "2014-01-22"
       },
       {
        "c": 199,
        "layer": "v11",
        "t": "2014-01-22"
       },
       {
        "c": 193,
        "layer": "v12",
        "t": "2014-01-22"
       },
       {
        "c": 324,
        "layer": "v13",
        "t": "2014-01-22"
       },
       {
        "c": 304,
        "layer": "v14",
        "t": "2014-01-22"
       },
       {
        "c": 224,
        "layer": "v0",
        "t": "2014-01-23"
       },
       {
        "c": 402,
        "layer": "v1",
        "t": "2014-01-23"
       },
       {
        "c": 641,
        "layer": "v2",
        "t": "2014-01-23"
       },
       {
        "c": 391,
        "layer": "v3",
        "t": "2014-01-23"
       },
       {
        "c": 500,
        "layer": "v4",
        "t": "2014-01-23"
       },
       {
        "c": 364,
        "layer": "v5",
        "t": "2014-01-23"
       },
       {
        "c": 240,
        "layer": "v6",
        "t": "2014-01-23"
       },
       {
        "c": 333,
        "layer": "v7",
        "t": "2014-01-23"
       },
       {
        "c": 234,
        "layer": "v8",
        "t": "2014-01-23"
       },
       {
        "c": 232,
        "layer": "v9",
        "t": "2014-01-23"
       },
       {
        "c": 131,
        "layer": "v10",
        "t": "2014-01-23"
       },
       {
        "c": 230,
        "layer": "v11",
        "t": "2014-01-23"
       },
       {
        "c": 193,
        "layer": "v12",
        "t": "2014-01-23"
       },
       {
        "c": 330,
        "layer": "v13",
        "t": "2014-01-23"
       },
       {
        "c": 370,
        "layer": "v14",
        "t": "2014-01-23"
       },
       {
        "c": 249,
        "layer": "v0",
        "t": "2014-01-24"
       },
       {
        "c": 425,
        "layer": "v1",
        "t": "2014-01-24"
       },
       {
        "c": 629,
        "layer": "v2",
        "t": "2014-01-24"
       },
       {
        "c": 368,
        "layer": "v3",
        "t": "2014-01-24"
       },
       {
        "c": 479,
        "layer": "v4",
        "t": "2014-01-24"
       },
       {
        "c": 380,
        "layer": "v5",
        "t": "2014-01-24"
       },
       {
        "c": 257,
        "layer": "v6",
        "t": "2014-01-24"
       },
       {
        "c": 335,
        "layer": "v7",
        "t": "2014-01-24"
       },
       {
        "c": 251,
        "layer": "v8",
        "t": "2014-01-24"
       },
       {
        "c": 323,
        "layer": "v9",
        "t": "2014-01-24"
       },
       {
        "c": 125,
        "layer": "v10",
        "t": "2014-01-24"
       },
       {
        "c": 257,
        "layer": "v11",
        "t": "2014-01-24"
       },
       {
        "c": 196,
        "layer": "v12",
        "t": "2014-01-24"
       },
       {
        "c": 349,
        "layer": "v13",
        "t": "2014-01-24"
       },
       {
        "c": 433,
        "layer": "v14",
        "t": "2014-01-24"
       },
       {
        "c": 274,
        "layer": "v0",
        "t": "2014-01-25"
       },
       {
        "c": 443,
        "layer": "v1",
        "t": "2014-01-25"
       },
       {
        "c": 611,
        "layer": "v2",
        "t": "2014-01-25"
       },
       {
        "c": 347,
        "layer": "v3",
        "t": "2014-01-25"
       },
       {
        "c": 443,
        "layer": "v4",
        "t": "2014-01-25"
       },
       {
        "c": 397,
        "layer": "v5",
        "t": "2014-01-25"
       },
       {
        "c": 277,
        "layer": "v6",
        "t": "2014-01-25"
       },
       {
        "c": 348,
        "layer": "v7",
        "t": "2014-01-25"
       },
       {
        "c": 272,
        "layer": "v8",
        "t": "2014-01-25"
       },
       {
        "c": 410,
        "layer": "v9",
        "t": "2014-01-25"
       },
       {
        "c": 124,
        "layer": "v10",
        "t": "2014-01-25"
       },
       {
        "c": 284,
        "layer": "v11",
        "t": "2014-01-25"
       },
       {
        "c": 204,
        "layer": "v12",
        "t": "2014-01-25"
       },
       {
        "c": 376,
        "layer": "v13",
        "t": "2014-01-25"
       },
       {
        "c": 495,
        "layer": "v14",
        "t": "2014-01-25"
       },
       {
        "c": 298,
        "layer": "v0",
        "t": "2014-01-26"
       },
       {
        "c": 459,
        "layer": "v1",
        "t": "2014-01-26"
       },
       {
        "c": 617,
        "layer": "v2",
        "t": "2014-01-26"
       },
       {
        "c": 333,
        "layer": "v3",
        "t": "2014-01-26"
       },
       {
        "c": 401,
        "layer": "v4",
        "t": "2014-01-26"
       },
       {
        "c": 414,
        "layer": "v5",
        "t": "2014-01-26"
       },
       {
        "c": 300,
        "layer": "v6",
        "t": "2014-01-26"
       },
       {
        "c": 368,
        "layer": "v7",
        "t": "2014-01-26"
       },
       {
        "c": 301,
        "layer": "v8",
        "t": "2014-01-26"
       },
       {
        "c": 413,
        "layer": "v9",
        "t": "2014-01-26"
       },
       {
        "c": 129,
        "layer": "v10",
        "t": "2014-01-26"
       },
       {
        "c": 320,
        "layer": "v11",
        "t": "2014-01-26"
       },
       {
        "c": 218,
        "layer": "v12",
        "t": "2014-01-26"
       },
       {
        "c": 406,
        "layer": "v13",
        "t": "2014-01-26"
       },
       {
        "c": 558,
        "layer": "v14",
        "t": "2014-01-26"
       },
       {
        "c": 322,
        "layer": "v0",
        "t": "2014-01-27"
       },
       {
        "c": 473,
        "layer": "v1",
        "t": "2014-01-27"
       },
       {
        "c": 636,
        "layer": "v2",
        "t": "2014-01-27"
       },
       {
        "c": 327,
        "layer": "v3",
        "t": "2014-01-27"
       },
       {
        "c": 367,
        "layer": "v4",
        "t": "2014-01-27"
       },
       {
        "c": 433,
        "layer": "v5",
        "t": "2014-01-27"
       },
       {
        "c": 328,
        "layer": "v6",
        "t": "2014-01-27"
       },
       {
        "c": 384,
        "layer": "v7",
        "t": "2014-01-27"
       },
       {
        "c": 340,
        "layer": "v8",
        "t": "2014-01-27"
       },
       {
        "c": 344,
        "layer": "v9",
        "t": "2014-01-27"
       },
       {
        "c": 139,
        "layer": "v10",
        "t": "2014-01-27"
       },
       {
        "c": 364,
        "layer": "v11",
        "t": "2014-01-27"
       },
       {
        "c": 217,
        "layer": "v12",
        "t": "2014-01-27"
       },
       {
        "c": 444,
        "layer": "v13",
        "t": "2014-01-27"
       },
       {
        "c": 618,
        "layer": "v14",
        "t": "2014-01-27"
       },
       {
        "c": 344,
        "layer": "v0",
        "t": "2014-01-28"
       },
       {
        "c": 486,
        "layer": "v1",
        "t": "2014-01-28"
       },
       {
        "c": 658,
        "layer": "v2",
        "t": "2014-01-28"
       },
       {
        "c": 329,
        "layer": "v3",
        "t": "2014-01-28"
       },
       {
        "c": 348,
        "layer": "v4",
        "t": "2014-01-28"
       },
       {
        "c": 452,
        "layer": "v5",
        "t": "2014-01-28"
       },
       {
        "c": 366,
        "layer": "v6",
        "t": "2014-01-28"
       },
       {
        "c": 393,
        "layer": "v7",
        "t": "2014-01-28"
       },
       {
        "c": 382,
        "layer": "v8",
        "t": "2014-01-28"
       },
       {
        "c": 288,
        "layer": "v9",
        "t": "2014-01-28"
       },
       {
        "c": 153,
        "layer": "v10",
        "t": "2014-01-28"
       },
       {
        "c": 412,
        "layer": "v11",
        "t": "2014-01-28"
       },
       {
        "c": 196,
        "layer": "v12",
        "t": "2014-01-28"
       },
       {
        "c": 495,
        "layer": "v13",
        "t": "2014-01-28"
       },
       {
        "c": 672,
        "layer": "v14",
        "t": "2014-01-28"
       },
       {
        "c": 367,
        "layer": "v0",
        "t": "2014-01-29"
       },
       {
        "c": 497,
        "layer": "v1",
        "t": "2014-01-29"
       },
       {
        "c": 686,
        "layer": "v2",
        "t": "2014-01-29"
       },
       {
        "c": 340,
        "layer": "v3",
        "t": "2014-01-29"
       },
       {
        "c": 343,
        "layer": "v4",
        "t": "2014-01-29"
       },
       {
        "c": 471,
        "layer": "v5",
        "t": "2014-01-29"
       },
       {
        "c": 408,
        "layer": "v6",
        "t": "2014-01-29"
       },
       {
        "c": 395,
        "layer": "v7",
        "t": "2014-01-29"
       },
       {
        "c": 413,
        "layer": "v8",
        "t": "2014-01-29"
       },
       {
        "c": 296,
        "layer": "v9",
        "t": "2014-01-29"
       },
       {
        "c": 170,
        "layer": "v10",
        "t": "2014-01-29"
       },
       {
        "c": 455,
        "layer": "v11",
        "t": "2014-01-29"
       },
       {
        "c": 176,
        "layer": "v12",
        "t": "2014-01-29"
       },
       {
        "c": 551,
        "layer": "v13",
        "t": "2014-01-29"
       },
       {
        "c": 718,
        "layer": "v14",
        "t": "2014-01-29"
       },
       {
        "c": 393,
        "layer": "v0",
        "t": "2014-01-30"
       },
       {
        "c": 507,
        "layer": "v1",
        "t": "2014-01-30"
       },
       {
        "c": 720,
        "layer": "v2",
        "t": "2014-01-30"
       },
       {
        "c": 359,
        "layer": "v3",
        "t": "2014-01-30"
       },
       {
        "c": 347,
        "layer": "v4",
        "t": "2014-01-30"
       },
       {
        "c": 489,
        "layer": "v5",
        "t": "2014-01-30"
       },
       {
        "c": 417,
        "layer": "v6",
        "t": "2014-01-30"
       },
       {
        "c": 392,
        "layer": "v7",
        "t": "2014-01-30"
       },
       {
        "c": 421,
        "layer": "v8",
        "t": "2014-01-30"
       },
       {
        "c": 348,
        "layer": "v9",
        "t": "2014-01-30"
       },
       {
        "c": 187,
        "layer": "v10",
        "t": "2014-01-30"
       },
       {
        "c": 485,
        "layer": "v11",
        "t": "2014-01-30"
       },
       {
        "c": 166,
        "layer": "v12",
        "t": "2014-01-30"
       },
       {
        "c": 588,
        "layer": "v13",
        "t": "2014-01-30"
       },
       {
        "c": 755,
        "layer": "v14",
        "t": "2014-01-30"
       },
       {
        "c": 423,
        "layer": "v0",
        "t": "2014-01-31"
       },
       {
        "c": 512,
        "layer": "v1",
        "t": "2014-01-31"
       },
       {
        "c": 755,
        "layer": "v2",
        "t": "2014-01-31"
       },
       {
        "c": 386,
        "layer": "v3",
        "t": "2014-01-31"
       },
       {
        "c": 359,
        "layer": "v4",
        "t": "2014-01-31"
       },
       {
        "c": 507,
        "layer": "v5",
        "t": "2014-01-31"
       },
       {
        "c": 403,
        "layer": "v6",
        "t": "2014-01-31"
       },
       {
        "c": 389,
        "layer": "v7",
        "t": "2014-01-31"
       },
       {
        "c": 402,
        "layer": "v8",
        "t": "2014-01-31"
       },
       {
        "c": 361,
        "layer": "v9",
        "t": "2014-01-31"
       },
       {
        "c": 206,
        "layer": "v10",
        "t": "2014-01-31"
       },
       {
        "c": 501,
        "layer": "v11",
        "t": "2014-01-31"
       },
       {
        "c": 161,
        "layer": "v12",
        "t": "2014-01-31"
       },
       {
        "c": 602,
        "layer": "v13",
        "t": "2014-01-31"
       },
       {
        "c": 782,
        "layer": "v14",
        "t": "2014-01-31"
       },
       {
        "c": 458,
        "layer": "v0",
        "t": "2014-02-01"
       },
       {
        "c": 513,
        "layer": "v1",
        "t": "2014-02-01"
       },
       {
        "c": 784,
        "layer": "v2",
        "t": "2014-02-01"
       },
       {
        "c": 420,
        "layer": "v3",
        "t": "2014-02-01"
       },
       {
        "c": 376,
        "layer": "v4",
        "t": "2014-02-01"
       },
       {
        "c": 528,
        "layer": "v5",
        "t": "2014-02-01"
       },
       {
        "c": 382,
        "layer": "v6",
        "t": "2014-02-01"
       },
       {
        "c": 389,
        "layer": "v7",
        "t": "2014-02-01"
       },
       {
        "c": 366,
        "layer": "v8",
        "t": "2014-02-01"
       },
       {
        "c": 362,
        "layer": "v9",
        "t": "2014-02-01"
       },
       {
        "c": 228,
        "layer": "v10",
        "t": "2014-02-01"
       },
       {
        "c": 501,
        "layer": "v11",
        "t": "2014-02-01"
       },
       {
        "c": 158,
        "layer": "v12",
        "t": "2014-02-01"
       },
       {
        "c": 615,
        "layer": "v13",
        "t": "2014-02-01"
       },
       {
        "c": 799,
        "layer": "v14",
        "t": "2014-02-01"
       },
       {
        "c": 496,
        "layer": "v0",
        "t": "2014-02-02"
       },
       {
        "c": 510,
        "layer": "v1",
        "t": "2014-02-02"
       },
       {
        "c": 803,
        "layer": "v2",
        "t": "2014-02-02"
       },
       {
        "c": 457,
        "layer": "v3",
        "t": "2014-02-02"
       },
       {
        "c": 397,
        "layer": "v4",
        "t": "2014-02-02"
       },
       {
        "c": 560,
        "layer": "v5",
        "t": "2014-02-02"
       },
       {
        "c": 357,
        "layer": "v6",
        "t": "2014-02-02"
       },
       {
        "c": 395,
        "layer": "v7",
        "t": "2014-02-02"
       },
       {
        "c": 324,
        "layer": "v8",
        "t": "2014-02-02"
       },
       {
        "c": 375,
        "layer": "v9",
        "t": "2014-02-02"
       },
       {
        "c": 252,
        "layer": "v10",
        "t": "2014-02-02"
       },
       {
        "c": 491,
        "layer": "v11",
        "t": "2014-02-02"
       },
       {
        "c": 155,
        "layer": "v12",
        "t": "2014-02-02"
       },
       {
        "c": 647,
        "layer": "v13",
        "t": "2014-02-02"
       },
       {
        "c": 809,
        "layer": "v14",
        "t": "2014-02-02"
       },
       {
        "c": 534,
        "layer": "v0",
        "t": "2014-02-03"
       },
       {
        "c": 503,
        "layer": "v1",
        "t": "2014-02-03"
       },
       {
        "c": 810,
        "layer": "v2",
        "t": "2014-02-03"
       },
       {
        "c": 495,
        "layer": "v3",
        "t": "2014-02-03"
       },
       {
        "c": 421,
        "layer": "v4",
        "t": "2014-02-03"
       },
       {
        "c": 619,
        "layer": "v5",
        "t": "2014-02-03"
       },
       {
        "c": 336,
        "layer": "v6",
        "t": "2014-02-03"
       },
       {
        "c": 406,
        "layer": "v7",
        "t": "2014-02-03"
       },
       {
        "c": 284,
        "layer": "v8",
        "t": "2014-02-03"
       },
       {
        "c": 389,
        "layer": "v9",
        "t": "2014-02-03"
       },
       {
        "c": 269,
        "layer": "v10",
        "t": "2014-02-03"
       },
       {
        "c": 478,
        "layer": "v11",
        "t": "2014-02-03"
       },
       {
        "c": 152,
        "layer": "v12",
        "t": "2014-02-03"
       },
       {
        "c": 695,
        "layer": "v13",
        "t": "2014-02-03"
       },
       {
        "c": 817,
        "layer": "v14",
        "t": "2014-02-03"
       },
       {
        "c": 567,
        "layer": "v0",
        "t": "2014-02-04"
       },
       {
        "c": 495,
        "layer": "v1",
        "t": "2014-02-04"
       },
       {
        "c": 802,
        "layer": "v2",
        "t": "2014-02-04"
       },
       {
        "c": 533,
        "layer": "v3",
        "t": "2014-02-04"
       },
       {
        "c": 447,
        "layer": "v4",
        "t": "2014-02-04"
       },
       {
        "c": 680,
        "layer": "v5",
        "t": "2014-02-04"
       },
       {
        "c": 326,
        "layer": "v6",
        "t": "2014-02-04"
       },
       {
        "c": 421,
        "layer": "v7",
        "t": "2014-02-04"
       },
       {
        "c": 252,
        "layer": "v8",
        "t": "2014-02-04"
       },
       {
        "c": 409,
        "layer": "v9",
        "t": "2014-02-04"
       },
       {
        "c": 273,
        "layer": "v10",
        "t": "2014-02-04"
       },
       {
        "c": 465,
        "layer": "v11",
        "t": "2014-02-04"
       },
       {
        "c": 150,
        "layer": "v12",
        "t": "2014-02-04"
       },
       {
        "c": 744,
        "layer": "v13",
        "t": "2014-02-04"
       },
       {
        "c": 828,
        "layer": "v14",
        "t": "2014-02-04"
       },
       {
        "c": 590,
        "layer": "v0",
        "t": "2014-02-05"
       },
       {
        "c": 487,
        "layer": "v1",
        "t": "2014-02-05"
       },
       {
        "c": 779,
        "layer": "v2",
        "t": "2014-02-05"
       },
       {
        "c": 570,
        "layer": "v3",
        "t": "2014-02-05"
       },
       {
        "c": 475,
        "layer": "v4",
        "t": "2014-02-05"
       },
       {
        "c": 695,
        "layer": "v5",
        "t": "2014-02-05"
       },
       {
        "c": 328,
        "layer": "v6",
        "t": "2014-02-05"
       },
       {
        "c": 443,
        "layer": "v7",
        "t": "2014-02-05"
       },
       {
        "c": 233,
        "layer": "v8",
        "t": "2014-02-05"
       },
       {
        "c": 430,
        "layer": "v9",
        "t": "2014-02-05"
       },
       {
        "c": 274,
        "layer": "v10",
        "t": "2014-02-05"
       },
       {
        "c": 456,
        "layer": "v11",
        "t": "2014-02-05"
       },
       {
        "c": 152,
        "layer": "v12",
        "t": "2014-02-05"
       },
       {
        "c": 778,
        "layer": "v13",
        "t": "2014-02-05"
       },
       {
        "c": 848,
        "layer": "v14",
        "t": "2014-02-05"
       },
       {
        "c": 600,
        "layer": "v0",
        "t": "2014-02-06"
       },
       {
        "c": 480,
        "layer": "v1",
        "t": "2014-02-06"
       },
       {
        "c": 745,
        "layer": "v2",
        "t": "2014-02-06"
       },
       {
        "c": 606,
        "layer": "v3",
        "t": "2014-02-06"
       },
       {
        "c": 506,
        "layer": "v4",
        "t": "2014-02-06"
       },
       {
        "c": 707,
        "layer": "v5",
        "t": "2014-02-06"
       },
       {
        "c": 342,
        "layer": "v6",
        "t": "2014-02-06"
       },
       {
        "c": 483,
        "layer": "v7",
        "t": "2014-02-06"
       },
       {
        "c": 228,
        "layer": "v8",
        "t": "2014-02-06"
       },
       {
        "c": 442,
        "layer": "v9",
        "t": "2014-02-06"
       },
       {
        "c": 283,
        "layer": "v10",
        "t": "2014-02-06"
       },
       {
        "c": 450,
        "layer": "v11",
        "t": "2014-02-06"
       },
       {
        "c": 161,
        "layer": "v12",
        "t": "2014-02-06"
       },
       {
        "c": 792,
        "layer": "v13",
        "t": "2014-02-06"
       },
       {
        "c": 882,
        "layer": "v14",
        "t": "2014-02-06"
       },
       {
        "c": 594,
        "layer": "v0",
        "t": "2014-02-07"
       },
       {
        "c": 474,
        "layer": "v1",
        "t": "2014-02-07"
       },
       {
        "c": 704,
        "layer": "v2",
        "t": "2014-02-07"
       },
       {
        "c": 639,
        "layer": "v3",
        "t": "2014-02-07"
       },
       {
        "c": 538,
        "layer": "v4",
        "t": "2014-02-07"
       },
       {
        "c": 759,
        "layer": "v5",
        "t": "2014-02-07"
       },
       {
        "c": 363,
        "layer": "v6",
        "t": "2014-02-07"
       },
       {
        "c": 543,
        "layer": "v7",
        "t": "2014-02-07"
       },
       {
        "c": 236,
        "layer": "v8",
        "t": "2014-02-07"
       },
       {
        "c": 435,
        "layer": "v9",
        "t": "2014-02-07"
       },
       {
        "c": 304,
        "layer": "v10",
        "t": "2014-02-07"
       },
       {
        "c": 443,
        "layer": "v11",
        "t": "2014-02-07"
       },
       {
        "c": 180,
        "layer": "v12",
        "t": "2014-02-07"
       },
       {
        "c": 790,
        "layer": "v13",
        "t": "2014-02-07"
       },
       {
        "c": 929,
        "layer": "v14",
        "t": "2014-02-07"
       },
       {
        "c": 573,
        "layer": "v0",
        "t": "2014-02-08"
       },
       {
        "c": 472,
        "layer": "v1",
        "t": "2014-02-08"
       },
       {
        "c": 661,
        "layer": "v2",
        "t": "2014-02-08"
       },
       {
        "c": 669,
        "layer": "v3",
        "t": "2014-02-08"
       },
       {
        "c": 572,
        "layer": "v4",
        "t": "2014-02-08"
       },
       {
        "c": 828,
        "layer": "v5",
        "t": "2014-02-08"
       },
       {
        "c": 391,
        "layer": "v6",
        "t": "2014-02-08"
       },
       {
        "c": 597,
        "layer": "v7",
        "t": "2014-02-08"
       },
       {
        "c": 256,
        "layer": "v8",
        "t": "2014-02-08"
       },
       {
        "c": 423,
        "layer": "v9",
        "t": "2014-02-08"
       },
       {
        "c": 339,
        "layer": "v10",
        "t": "2014-02-08"
       },
       {
        "c": 434,
        "layer": "v11",
        "t": "2014-02-08"
       },
       {
        "c": 212,
        "layer": "v12",
        "t": "2014-02-08"
       },
       {
        "c": 782,
        "layer": "v13",
        "t": "2014-02-08"
       },
       {
        "c": 976,
        "layer": "v14",
        "t": "2014-02-08"
       },
       {
        "c": 541,
        "layer": "v0",
        "t": "2014-02-09"
       },
       {
        "c": 486,
        "layer": "v1",
        "t": "2014-02-09"
       },
       {
        "c": 620,
        "layer": "v2",
        "t": "2014-02-09"
       },
       {
        "c": 694,
        "layer": "v3",
        "t": "2014-02-09"
       },
       {
        "c": 605,
        "layer": "v4",
        "t": "2014-02-09"
       },
       {
        "c": 865,
        "layer": "v5",
        "t": "2014-02-09"
       },
       {
        "c": 441,
        "layer": "v6",
        "t": "2014-02-09"
       },
       {
        "c": 610,
        "layer": "v7",
        "t": "2014-02-09"
       },
       {
        "c": 283,
        "layer": "v8",
        "t": "2014-02-09"
       },
       {
        "c": 430,
        "layer": "v9",
        "t": "2014-02-09"
       },
       {
        "c": 389,
        "layer": "v10",
        "t": "2014-02-09"
       },
       {
        "c": 426,
        "layer": "v11",
        "t": "2014-02-09"
       },
       {
        "c": 262,
        "layer": "v12",
        "t": "2014-02-09"
       },
       {
        "c": 776,
        "layer": "v13",
        "t": "2014-02-09"
       },
       {
        "c": 989,
        "layer": "v14",
        "t": "2014-02-09"
       },
       {
        "c": 501,
        "layer": "v0",
        "t": "2014-02-10"
       },
       {
        "c": 515,
        "layer": "v1",
        "t": "2014-02-10"
       },
       {
        "c": 593,
        "layer": "v2",
        "t": "2014-02-10"
       },
       {
        "c": 712,
        "layer": "v3",
        "t": "2014-02-10"
       },
       {
        "c": 635,
        "layer": "v4",
        "t": "2014-02-10"
       },
       {
        "c": 865,
        "layer": "v5",
        "t": "2014-02-10"
       },
       {
        "c": 509,
        "layer": "v6",
        "t": "2014-02-10"
       },
       {
        "c": 594,
        "layer": "v7",
        "t": "2014-02-10"
       },
       {
        "c": 312,
        "layer": "v8",
        "t": "2014-02-10"
       },
       {
        "c": 477,
        "layer": "v9",
        "t": "2014-02-10"
       },
       {
        "c": 468,
        "layer": "v10",
        "t": "2014-02-10"
       },
       {
        "c": 424,
        "layer": "v11",
        "t": "2014-02-10"
       },
       {
        "c": 332,
        "layer": "v12",
        "t": "2014-02-10"
       },
       {
        "c": 780,
        "layer": "v13",
        "t": "2014-02-10"
       },
       {
        "c": 942,
        "layer": "v14",
        "t": "2014-02-10"
       },
       {
        "c": 458,
        "layer": "v0",
        "t": "2014-02-11"
       },
       {
        "c": 516,
        "layer": "v1",
        "t": "2014-02-11"
       },
       {
        "c": 624,
        "layer": "v2",
        "t": "2014-02-11"
       },
       {
        "c": 722,
        "layer": "v3",
        "t": "2014-02-11"
       },
       {
        "c": 659,
        "layer": "v4",
        "t": "2014-02-11"
       },
       {
        "c": 852,
        "layer": "v5",
        "t": "2014-02-11"
       },
       {
        "c": 521,
        "layer": "v6",
        "t": "2014-02-11"
       },
       {
        "c": 590,
        "layer": "v7",
        "t": "2014-02-11"
       },
       {
        "c": 339,
        "layer": "v8",
        "t": "2014-02-11"
       },
       {
        "c": 564,
        "layer": "v9",
        "t": "2014-02-11"
       },
       {
        "c": 590,
        "layer": "v10",
        "t": "2014-02-11"
       },
       {
        "c": 430,
        "layer": "v11",
        "t": "2014-02-11"
       },
       {
        "c": 415,
        "layer": "v12",
        "t": "2014-02-11"
       },
       {
        "c": 795,
        "layer": "v13",
        "t": "2014-02-11"
       },
       {
        "c": 842,
        "layer": "v14",
        "t": "2014-02-11"
       },
       {
        "c": 420,
        "layer": "v0",
        "t": "2014-02-12"
       },
       {
        "c": 480,
        "layer": "v1",
        "t": "2014-02-12"
       },
       {
        "c": 693,
        "layer": "v2",
        "t": "2014-02-12"
       },
       {
        "c": 726,
        "layer": "v3",
        "t": "2014-02-12"
       },
       {
        "c": 675,
        "layer": "v4",
        "t": "2014-02-12"
       },
       {
        "c": 834,
        "layer": "v5",
        "t": "2014-02-12"
       },
       {
        "c": 494,
        "layer": "v6",
        "t": "2014-02-12"
       },
       {
        "c": 612,
        "layer": "v7",
        "t": "2014-02-12"
       },
       {
        "c": 364,
        "layer": "v8",
        "t": "2014-02-12"
       },
       {
        "c": 665,
        "layer": "v9",
        "t": "2014-02-12"
       },
       {
        "c": 725,
        "layer": "v10",
        "t": "2014-02-12"
       },
       {
        "c": 447,
        "layer": "v11",
        "t": "2014-02-12"
       },
       {
        "c": 494,
        "layer": "v12",
        "t": "2014-02-12"
       },
       {
        "c": 813,
        "layer": "v13",
        "t": "2014-02-12"
       },
       {
        "c": 727,
        "layer": "v14",
        "t": "2014-02-12"
       },
       {
        "c": 412,
        "layer": "v0",
        "t": "2014-02-13"
       },
       {
        "c": 454,
        "layer": "v1",
        "t": "2014-02-13"
       },
       {
        "c": 625,
        "layer": "v2",
        "t": "2014-02-13"
       },
       {
        "c": 726,
        "layer": "v3",
        "t": "2014-02-13"
       },
       {
        "c": 681,
        "layer": "v4",
        "t": "2014-02-13"
       },
       {
        "c": 801,
        "layer": "v5",
        "t": "2014-02-13"
       },
       {
        "c": 504,
        "layer": "v6",
        "t": "2014-02-13"
       },
       {
        "c": 646,
        "layer": "v7",
        "t": "2014-02-13"
       },
       {
        "c": 387,
        "layer": "v8",
        "t": "2014-02-13"
       },
       {
        "c": 745,
        "layer": "v9",
        "t": "2014-02-13"
       },
       {
        "c": 787,
        "layer": "v10",
        "t": "2014-02-13"
       },
       {
        "c": 471,
        "layer": "v11",
        "t": "2014-02-13"
       },
       {
        "c": 540,
        "layer": "v12",
        "t": "2014-02-13"
       },
       {
        "c": 822,
        "layer": "v13",
        "t": "2014-02-13"
       },
       {
        "c": 629,
        "layer": "v14",
        "t": "2014-02-13"
       },
       {
        "c": 433,
        "layer": "v0",
        "t": "2014-02-14"
       },
       {
        "c": 461,
        "layer": "v1",
        "t": "2014-02-14"
       },
       {
        "c": 584,
        "layer": "v2",
        "t": "2014-02-14"
       },
       {
        "c": 725,
        "layer": "v3",
        "t": "2014-02-14"
       },
       {
        "c": 679,
        "layer": "v4",
        "t": "2014-02-14"
       },
       {
        "c": 752,
        "layer": "v5",
        "t": "2014-02-14"
       },
       {
        "c": 540,
        "layer": "v6",
        "t": "2014-02-14"
       },
       {
        "c": 676,
        "layer": "v7",
        "t": "2014-02-14"
       },
       {
        "c": 404,
        "layer": "v8",
        "t": "2014-02-14"
       },
       {
        "c": 789,
        "layer": "v9",
        "t": "2014-02-14"
       },
       {
        "c": 758,
        "layer": "v10",
        "t": "2014-02-14"
       },
       {
        "c": 498,
        "layer": "v11",
        "t": "2014-02-14"
       },
       {
        "c": 541,
        "layer": "v12",
        "t": "2014-02-14"
       },
       {
        "c": 815,
        "layer": "v13",
        "t": "2014-02-14"
       },
       {
        "c": 564,
        "layer": "v14",
        "t": "2014-02-14"
       },
       {
        "c": 395,
        "layer": "v0",
        "t": "2014-02-15"
       },
       {
        "c": 493,
        "layer": "v1",
        "t": "2014-02-15"
       },
       {
        "c": 613,
        "layer": "v2",
        "t": "2014-02-15"
       },
       {
        "c": 723,
        "layer": "v3",
        "t": "2014-02-15"
       },
       {
        "c": 669,
        "layer": "v4",
        "t": "2014-02-15"
       },
       {
        "c": 699,
        "layer": "v5",
        "t": "2014-02-15"
       },
       {
        "c": 577,
        "layer": "v6",
        "t": "2014-02-15"
       },
       {
        "c": 692,
        "layer": "v7",
        "t": "2014-02-15"
       },
       {
        "c": 412,
        "layer": "v8",
        "t": "2014-02-15"
       },
       {
        "c": 802,
        "layer": "v9",
        "t": "2014-02-15"
       },
       {
        "c": 695,
        "layer": "v10",
        "t": "2014-02-15"
       },
       {
        "c": 527,
        "layer": "v11",
        "t": "2014-02-15"
       },
       {
        "c": 508,
        "layer": "v12",
        "t": "2014-02-15"
       },
       {
        "c": 802,
        "layer": "v13",
        "t": "2014-02-15"
       },
       {
        "c": 538,
        "layer": "v14",
        "t": "2014-02-15"
       },
       {
        "c": 345,
        "layer": "v0",
        "t": "2014-02-16"
       },
       {
        "c": 503,
        "layer": "v1",
        "t": "2014-02-16"
       },
       {
        "c": 694,
        "layer": "v2",
        "t": "2014-02-16"
       },
       {
        "c": 712,
        "layer": "v3",
        "t": "2014-02-16"
       },
       {
        "c": 652,
        "layer": "v4",
        "t": "2014-02-16"
       },
       {
        "c": 653,
        "layer": "v5",
        "t": "2014-02-16"
       },
       {
        "c": 601,
        "layer": "v6",
        "t": "2014-02-16"
       },
       {
        "c": 693,
        "layer": "v7",
        "t": "2014-02-16"
       },
       {
        "c": 411,
        "layer": "v8",
        "t": "2014-02-16"
       },
       {
        "c": 804,
        "layer": "v9",
        "t": "2014-02-16"
       },
       {
        "c": 617,
        "layer": "v10",
        "t": "2014-02-16"
       },
       {
        "c": 553,
        "layer": "v11",
        "t": "2014-02-16"
       },
       {
        "c": 471,
        "layer": "v12",
        "t": "2014-02-16"
       },
       {
        "c": 798,
        "layer": "v13",
        "t": "2014-02-16"
       },
       {
        "c": 548,
        "layer": "v14",
        "t": "2014-02-16"
       },
       {
        "c": 322,
        "layer": "v0",
        "t": "2014-02-17"
       },
       {
        "c": 499,
        "layer": "v1",
        "t": "2014-02-17"
       },
       {
        "c": 818,
        "layer": "v2",
        "t": "2014-02-17"
       },
       {
        "c": 688,
        "layer": "v3",
        "t": "2014-02-17"
       },
       {
        "c": 632,
        "layer": "v4",
        "t": "2014-02-17"
       },
       {
        "c": 620,
        "layer": "v5",
        "t": "2014-02-17"
       },
       {
        "c": 606,
        "layer": "v6",
        "t": "2014-02-17"
       },
       {
        "c": 686,
        "layer": "v7",
        "t": "2014-02-17"
       },
       {
        "c": 406,
        "layer": "v8",
        "t": "2014-02-17"
       },
       {
        "c": 813,
        "layer": "v9",
        "t": "2014-02-17"
       },
       {
        "c": 555,
        "layer": "v10",
        "t": "2014-02-17"
       },
       {
        "c": 578,
        "layer": "v11",
        "t": "2014-02-17"
       },
       {
        "c": 456,
        "layer": "v12",
        "t": "2014-02-17"
       },
       {
        "c": 814,
        "layer": "v13",
        "t": "2014-02-17"
       },
       {
        "c": 577,
        "layer": "v14",
        "t": "2014-02-17"
       },
       {
        "c": 305,
        "layer": "v0",
        "t": "2014-02-18"
       },
       {
        "c": 529,
        "layer": "v1",
        "t": "2014-02-18"
       },
       {
        "c": 900,
        "layer": "v2",
        "t": "2014-02-18"
       },
       {
        "c": 660,
        "layer": "v3",
        "t": "2014-02-18"
       },
       {
        "c": 610,
        "layer": "v4",
        "t": "2014-02-18"
       },
       {
        "c": 606,
        "layer": "v5",
        "t": "2014-02-18"
       },
       {
        "c": 598,
        "layer": "v6",
        "t": "2014-02-18"
       },
       {
        "c": 673,
        "layer": "v7",
        "t": "2014-02-18"
       },
       {
        "c": 405,
        "layer": "v8",
        "t": "2014-02-18"
       },
       {
        "c": 839,
        "layer": "v9",
        "t": "2014-02-18"
       },
       {
        "c": 527,
        "layer": "v10",
        "t": "2014-02-18"
       },
       {
        "c": 606,
        "layer": "v11",
        "t": "2014-02-18"
       },
       {
        "c": 469,
        "layer": "v12",
        "t": "2014-02-18"
       },
       {
        "c": 852,
        "layer": "v13",
        "t": "2014-02-18"
       },
       {
        "c": 598,
        "layer": "v14",
        "t": "2014-02-18"
       },
       {
        "c": 307,
        "layer": "v0",
        "t": "2014-02-19"
       },
       {
        "c": 551,
        "layer": "v1",
        "t": "2014-02-19"
       },
       {
        "c": 999,
        "layer": "v2",
        "t": "2014-02-19"
       },
       {
        "c": 638,
        "layer": "v3",
        "t": "2014-02-19"
       },
       {
        "c": 593,
        "layer": "v4",
        "t": "2014-02-19"
       },
       {
        "c": 616,
        "layer": "v5",
        "t": "2014-02-19"
       },
       {
        "c": 585,
        "layer": "v6",
        "t": "2014-02-19"
       },
       {
        "c": 638,
        "layer": "v7",
        "t": "2014-02-19"
       },
       {
        "c": 414,
        "layer": "v8",
        "t": "2014-02-19"
       },
       {
        "c": 894,
        "layer": "v9",
        "t": "2014-02-19"
       },
       {
        "c": 515,
        "layer": "v10",
        "t": "2014-02-19"
       },
       {
        "c": 647,
        "layer": "v11",
        "t": "2014-02-19"
       },
       {
        "c": 503,
        "layer": "v12",
        "t": "2014-02-19"
       },
       {
        "c": 902,
        "layer": "v13",
        "t": "2014-02-19"
       },
       {
        "c": 588,
        "layer": "v14",
        "t": "2014-02-19"
       },
       {
        "c": 346,
        "layer": "v0",
        "t": "2014-02-20"
       },
       {
        "c": 531,
        "layer": "v1",
        "t": "2014-02-20"
       },
       {
        "c": 1151,
        "layer": "v2",
        "t": "2014-02-20"
       },
       {
        "c": 633,
        "layer": "v3",
        "t": "2014-02-20"
       },
       {
        "c": 602,
        "layer": "v4",
        "t": "2014-02-20"
       },
       {
        "c": 650,
        "layer": "v5",
        "t": "2014-02-20"
       },
       {
        "c": 578,
        "layer": "v6",
        "t": "2014-02-20"
       },
       {
        "c": 570,
        "layer": "v7",
        "t": "2014-02-20"
       },
       {
        "c": 438,
        "layer": "v8",
        "t": "2014-02-20"
       },
       {
        "c": 982,
        "layer": "v9",
        "t": "2014-02-20"
       },
       {
        "c": 508,
        "layer": "v10",
        "t": "2014-02-20"
       },
       {
        "c": 720,
        "layer": "v11",
        "t": "2014-02-20"
       },
       {
        "c": 545,
        "layer": "v12",
        "t": "2014-02-20"
       },
       {
        "c": 949,
        "layer": "v13",
        "t": "2014-02-20"
       },
       {
        "c": 545,
        "layer": "v14",
        "t": "2014-02-20"
       },
       {
        "c": 409,
        "layer": "v0",
        "t": "2014-02-21"
       },
       {
        "c": 506,
        "layer": "v1",
        "t": "2014-02-21"
       },
       {
        "c": 1241,
        "layer": "v2",
        "t": "2014-02-21"
       },
       {
        "c": 658,
        "layer": "v3",
        "t": "2014-02-21"
       },
       {
        "c": 676,
        "layer": "v4",
        "t": "2014-02-21"
       },
       {
        "c": 698,
        "layer": "v5",
        "t": "2014-02-21"
       },
       {
        "c": 576,
        "layer": "v6",
        "t": "2014-02-21"
       },
       {
        "c": 493,
        "layer": "v7",
        "t": "2014-02-21"
       },
       {
        "c": 488,
        "layer": "v8",
        "t": "2014-02-21"
       },
       {
        "c": 1093,
        "layer": "v9",
        "t": "2014-02-21"
       },
       {
        "c": 513,
        "layer": "v10",
        "t": "2014-02-21"
       },
       {
        "c": 833,
        "layer": "v11",
        "t": "2014-02-21"
       },
       {
        "c": 594,
        "layer": "v12",
        "t": "2014-02-21"
       },
       {
        "c": 978,
        "layer": "v13",
        "t": "2014-02-21"
       },
       {
        "c": 485,
        "layer": "v14",
        "t": "2014-02-21"
       },
       {
        "c": 442,
        "layer": "v0",
        "t": "2014-02-22"
       },
       {
        "c": 503,
        "layer": "v1",
        "t": "2014-02-22"
       },
       {
        "c": 1214,
        "layer": "v2",
        "t": "2014-02-22"
       },
       {
        "c": 719,
        "layer": "v3",
        "t": "2014-02-22"
       },
       {
        "c": 796,
        "layer": "v4",
        "t": "2014-02-22"
       },
       {
        "c": 736,
        "layer": "v5",
        "t": "2014-02-22"
       },
       {
        "c": 580,
        "layer": "v6",
        "t": "2014-02-22"
       },
       {
        "c": 445,
        "layer": "v7",
        "t": "2014-02-22"
       },
       {
        "c": 568,
        "layer": "v8",
        "t": "2014-02-22"
       },
       {
        "c": 1200,
        "layer": "v9",
        "t": "2014-02-22"
       },
       {
        "c": 539,
        "layer": "v10",
        "t": "2014-02-22"
       },
       {
        "c": 955,
        "layer": "v11",
        "t": "2014-02-22"
       },
       {
        "c": 650,
        "layer": "v12",
        "t": "2014-02-22"
       },
       {
        "c": 993,
        "layer": "v13",
        "t": "2014-02-22"
       },
       {
        "c": 428,
        "layer": "v14",
        "t": "2014-02-22"
       },
       {
        "c": 438,
        "layer": "v0",
        "t": "2014-02-23"
       },
       {
        "c": 514,
        "layer": "v1",
        "t": "2014-02-23"
       },
       {
        "c": 1148,
        "layer": "v2",
        "t": "2014-02-23"
       },
       {
        "c": 744,
        "layer": "v3",
        "t": "2014-02-23"
       },
       {
        "c": 848,
        "layer": "v4",
        "t": "2014-02-23"
       },
       {
        "c": 738,
        "layer": "v5",
        "t": "2014-02-23"
       },
       {
        "c": 586,
        "layer": "v6",
        "t": "2014-02-23"
       },
       {
        "c": 443,
        "layer": "v7",
        "t": "2014-02-23"
       },
       {
        "c": 639,
        "layer": "v8",
        "t": "2014-02-23"
       },
       {
        "c": 1262,
        "layer": "v9",
        "t": "2014-02-23"
       },
       {
        "c": 588,
        "layer": "v10",
        "t": "2014-02-23"
       },
       {
        "c": 1018,
        "layer": "v11",
        "t": "2014-02-23"
       },
       {
        "c": 683,
        "layer": "v12",
        "t": "2014-02-23"
       },
       {
        "c": 1005,
        "layer": "v13",
        "t": "2014-02-23"
       },
       {
        "c": 387,
        "layer": "v14",
        "t": "2014-02-23"
       },
       {
        "c": 446,
        "layer": "v0",
        "t": "2014-02-24"
       },
       {
        "c": 524,
        "layer": "v1",
        "t": "2014-02-24"
       },
       {
        "c": 1126,
        "layer": "v2",
        "t": "2014-02-24"
       },
       {
        "c": 755,
        "layer": "v3",
        "t": "2014-02-24"
       },
       {
        "c": 801,
        "layer": "v4",
        "t": "2014-02-24"
       },
       {
        "c": 689,
        "layer": "v5",
        "t": "2014-02-24"
       },
       {
        "c": 595,
        "layer": "v6",
        "t": "2014-02-24"
       },
       {
        "c": 483,
        "layer": "v7",
        "t": "2014-02-24"
       },
       {
        "c": 680,
        "layer": "v8",
        "t": "2014-02-24"
       },
       {
        "c": 1261,
        "layer": "v9",
        "t": "2014-02-24"
       },
       {
        "c": 653,
        "layer": "v10",
        "t": "2014-02-24"
       },
       {
        "c": 966,
        "layer": "v11",
        "t": "2014-02-24"
       },
       {
        "c": 665,
        "layer": "v12",
        "t": "2014-02-24"
       },
       {
        "c": 1021,
        "layer": "v13",
        "t": "2014-02-24"
       },
       {
        "c": 365,
        "layer": "v14",
        "t": "2014-02-24"
       },
       {
        "c": 483,
        "layer": "v0",
        "t": "2014-02-25"
       },
       {
        "c": 529,
        "layer": "v1",
        "t": "2014-02-25"
       },
       {
        "c": 1159,
        "layer": "v2",
        "t": "2014-02-25"
       },
       {
        "c": 791,
        "layer": "v3",
        "t": "2014-02-25"
       },
       {
        "c": 708,
        "layer": "v4",
        "t": "2014-02-25"
       },
       {
        "c": 597,
        "layer": "v5",
        "t": "2014-02-25"
       },
       {
        "c": 604,
        "layer": "v6",
        "t": "2014-02-25"
       },
       {
        "c": 552,
        "layer": "v7",
        "t": "2014-02-25"
       },
       {
        "c": 718,
        "layer": "v8",
        "t": "2014-02-25"
       },
       {
        "c": 1204,
        "layer": "v9",
        "t": "2014-02-25"
       },
       {
        "c": 752,
        "layer": "v10",
        "t": "2014-02-25"
       },
       {
        "c": 815,
        "layer": "v11",
        "t": "2014-02-25"
       },
       {
        "c": 628,
        "layer": "v12",
        "t": "2014-02-25"
       },
       {
        "c": 1038,
        "layer": "v13",
        "t": "2014-02-25"
       },
       {
        "c": 363,
        "layer": "v14",
        "t": "2014-02-25"
       },
       {
        "c": 539,
        "layer": "v0",
        "t": "2014-02-26"
       },
       {
        "c": 530,
        "layer": "v1",
        "t": "2014-02-26"
       },
       {
        "c": 1219,
        "layer": "v2",
        "t": "2014-02-26"
       },
       {
        "c": 829,
        "layer": "v3",
        "t": "2014-02-26"
       },
       {
        "c": 605,
        "layer": "v4",
        "t": "2014-02-26"
       },
       {
        "c": 487,
        "layer": "v5",
        "t": "2014-02-26"
       },
       {
        "c": 613,
        "layer": "v6",
        "t": "2014-02-26"
       },
       {
        "c": 630,
        "layer": "v7",
        "t": "2014-02-26"
       },
       {
        "c": 750,
        "layer": "v8",
        "t": "2014-02-26"
       },
       {
        "c": 1116,
        "layer": "v9",
        "t": "2014-02-26"
       },
       {
        "c": 882,
        "layer": "v10",
        "t": "2014-02-26"
       },
       {
        "c": 636,
        "layer": "v11",
        "t": "2014-02-26"
       },
       {
        "c": 603,
        "layer": "v12",
        "t": "2014-02-26"
       },
       {
        "c": 1052,
        "layer": "v13",
        "t": "2014-02-26"
       },
       {
        "c": 382,
        "layer": "v14",
        "t": "2014-02-26"
       },
       {
        "c": 608,
        "layer": "v0",
        "t": "2014-02-27"
       },
       {
        "c": 530,
        "layer": "v1",
        "t": "2014-02-27"
       },
       {
        "c": 1288,
        "layer": "v2",
        "t": "2014-02-27"
       },
       {
        "c": 861,
        "layer": "v3",
        "t": "2014-02-27"
       },
       {
        "c": 530,
        "layer": "v4",
        "t": "2014-02-27"
       },
       {
        "c": 383,
        "layer": "v5",
        "t": "2014-02-27"
       },
       {
        "c": 620,
        "layer": "v6",
        "t": "2014-02-27"
       },
       {
        "c": 693,
        "layer": "v7",
        "t": "2014-02-27"
       },
       {
        "c": 757,
        "layer": "v8",
        "t": "2014-02-27"
       },
       {
        "c": 1042,
        "layer": "v9",
        "t": "2014-02-27"
       },
       {
        "c": 850,
        "layer": "v10",
        "t": "2014-02-27"
       },
       {
        "c": 492,
        "layer": "v11",
        "t": "2014-02-27"
       },
       {
        "c": 588,
        "layer": "v12",
        "t": "2014-02-27"
       },
       {
        "c": 1057,
        "layer": "v13",
        "t": "2014-02-27"
       },
       {
        "c": 415,
        "layer": "v14",
        "t": "2014-02-27"
       },
       {
        "c": 681,
        "layer": "v0",
        "t": "2014-02-28"
       },
       {
        "c": 532,
        "layer": "v1",
        "t": "2014-02-28"
       },
       {
        "c": 1358,
        "layer": "v2",
        "t": "2014-02-28"
       },
       {
        "c": 890,
        "layer": "v3",
        "t": "2014-02-28"
       },
       {
        "c": 499,
        "layer": "v4",
        "t": "2014-02-28"
       },
       {
        "c": 304,
        "layer": "v5",
        "t": "2014-02-28"
       },
       {
        "c": 627,
        "layer": "v6",
        "t": "2014-02-28"
       },
       {
        "c": 721,
        "layer": "v7",
        "t": "2014-02-28"
       },
       {
        "c": 743,
        "layer": "v8",
        "t": "2014-02-28"
       },
       {
        "c": 1012,
        "layer": "v9",
        "t": "2014-02-28"
       },
       {
        "c": 689,
        "layer": "v10",
        "t": "2014-02-28"
       },
       {
        "c": 402,
        "layer": "v11",
        "t": "2014-02-28"
       },
       {
        "c": 590,
        "layer": "v12",
        "t": "2014-02-28"
       },
       {
        "c": 1052,
        "layer": "v13",
        "t": "2014-02-28"
       },
       {
        "c": 454,
        "layer": "v14",
        "t": "2014-02-28"
       },
       {
        "c": 747,
        "layer": "v0",
        "t": "2014-03-01"
       },
       {
        "c": 549,
        "layer": "v1",
        "t": "2014-03-01"
       },
       {
        "c": 1417,
        "layer": "v2",
        "t": "2014-03-01"
       },
       {
        "c": 913,
        "layer": "v3",
        "t": "2014-03-01"
       },
       {
        "c": 500,
        "layer": "v4",
        "t": "2014-03-01"
       },
       {
        "c": 266,
        "layer": "v5",
        "t": "2014-03-01"
       },
       {
        "c": 633,
        "layer": "v6",
        "t": "2014-03-01"
       },
       {
        "c": 714,
        "layer": "v7",
        "t": "2014-03-01"
       },
       {
        "c": 723,
        "layer": "v8",
        "t": "2014-03-01"
       },
       {
        "c": 922,
        "layer": "v9",
        "t": "2014-03-01"
       },
       {
        "c": 607,
        "layer": "v10",
        "t": "2014-03-01"
       },
       {
        "c": 354,
        "layer": "v11",
        "t": "2014-03-01"
       },
       {
        "c": 643,
        "layer": "v12",
        "t": "2014-03-01"
       },
       {
        "c": 1038,
        "layer": "v13",
        "t": "2014-03-01"
       },
       {
        "c": 491,
        "layer": "v14",
        "t": "2014-03-01"
       },
       {
        "c": 802,
        "layer": "v0",
        "t": "2014-03-02"
       },
       {
        "c": 586,
        "layer": "v1",
        "t": "2014-03-02"
       },
       {
        "c": 1454,
        "layer": "v2",
        "t": "2014-03-02"
       },
       {
        "c": 911,
        "layer": "v3",
        "t": "2014-03-02"
       },
       {
        "c": 516,
        "layer": "v4",
        "t": "2014-03-02"
       },
       {
        "c": 284,
        "layer": "v5",
        "t": "2014-03-02"
       },
       {
        "c": 638,
        "layer": "v6",
        "t": "2014-03-02"
       },
       {
        "c": 686,
        "layer": "v7",
        "t": "2014-03-02"
       },
       {
        "c": 710,
        "layer": "v8",
        "t": "2014-03-02"
       },
       {
        "c": 788,
        "layer": "v9",
        "t": "2014-03-02"
       },
       {
        "c": 584,
        "layer": "v10",
        "t": "2014-03-02"
       },
       {
        "c": 331,
        "layer": "v11",
        "t": "2014-03-02"
       },
       {
        "c": 779,
        "layer": "v12",
        "t": "2014-03-02"
       },
       {
        "c": 1017,
        "layer": "v13",
        "t": "2014-03-02"
       },
       {
        "c": 538,
        "layer": "v14",
        "t": "2014-03-02"
       },
       {
        "c": 854,
        "layer": "v0",
        "t": "2014-03-03"
       },
       {
        "c": 589,
        "layer": "v1",
        "t": "2014-03-03"
       },
       {
        "c": 1462,
        "layer": "v2",
        "t": "2014-03-03"
       },
       {
        "c": 868,
        "layer": "v3",
        "t": "2014-03-03"
       },
       {
        "c": 536,
        "layer": "v4",
        "t": "2014-03-03"
       },
       {
        "c": 359,
        "layer": "v5",
        "t": "2014-03-03"
       },
       {
        "c": 642,
        "layer": "v6",
        "t": "2014-03-03"
       },
       {
        "c": 662,
        "layer": "v7",
        "t": "2014-03-03"
       },
       {
        "c": 709,
        "layer": "v8",
        "t": "2014-03-03"
       },
       {
        "c": 728,
        "layer": "v9",
        "t": "2014-03-03"
       },
       {
        "c": 576,
        "layer": "v10",
        "t": "2014-03-03"
       },
       {
        "c": 328,
        "layer": "v11",
        "t": "2014-03-03"
       },
       {
        "c": 884,
        "layer": "v12",
        "t": "2014-03-03"
       },
       {
        "c": 989,
        "layer": "v13",
        "t": "2014-03-03"
       },
       {
        "c": 592,
        "layer": "v14",
        "t": "2014-03-03"
       },
       {
        "c": 912,
        "layer": "v0",
        "t": "2014-03-04"
       },
       {
        "c": 535,
        "layer": "v1",
        "t": "2014-03-04"
       },
       {
        "c": 1432,
        "layer": "v2",
        "t": "2014-03-04"
       },
       {
        "c": 798,
        "layer": "v3",
        "t": "2014-03-04"
       },
       {
        "c": 558,
        "layer": "v4",
        "t": "2014-03-04"
       },
       {
        "c": 458,
        "layer": "v5",
        "t": "2014-03-04"
       },
       {
        "c": 646,
        "layer": "v6",
        "t": "2014-03-04"
       },
       {
        "c": 654,
        "layer": "v7",
        "t": "2014-03-04"
       },
       {
        "c": 719,
        "layer": "v8",
        "t": "2014-03-04"
       },
       {
        "c": 726,
        "layer": "v9",
        "t": "2014-03-04"
       },
       {
        "c": 569,
        "layer": "v10",
        "t": "2014-03-04"
       },
       {
        "c": 340,
        "layer": "v11",
        "t": "2014-03-04"
       },
       {
        "c": 844,
        "layer": "v12",
        "t": "2014-03-04"
       },
       {
        "c": 958,
        "layer": "v13",
        "t": "2014-03-04"
       },
       {
        "c": 616,
        "layer": "v14",
        "t": "2014-03-04"
       },
       {
        "c": 988,
        "layer": "v0",
        "t": "2014-03-05"
       },
       {
        "c": 482,
        "layer": "v1",
        "t": "2014-03-05"
       },
       {
        "c": 1337,
        "layer": "v2",
        "t": "2014-03-05"
       },
       {
        "c": 725,
        "layer": "v3",
        "t": "2014-03-05"
       },
       {
        "c": 582,
        "layer": "v4",
        "t": "2014-03-05"
       },
       {
        "c": 520,
        "layer": "v5",
        "t": "2014-03-05"
       },
       {
        "c": 647,
        "layer": "v6",
        "t": "2014-03-05"
       },
       {
        "c": 669,
        "layer": "v7",
        "t": "2014-03-05"
       },
       {
        "c": 735,
        "layer": "v8",
        "t": "2014-03-05"
       },
       {
        "c": 751,
        "layer": "v9",
        "t": "2014-03-05"
       },
       {
        "c": 563,
        "layer": "v10",
        "t": "2014-03-05"
       },
       {
        "c": 363,
        "layer": "v11",
        "t": "2014-03-05"
       },
       {
        "c": 755,
        "layer": "v12",
        "t": "2014-03-05"
       },
       {
        "c": 927,
        "layer": "v13",
        "t": "2014-03-05"
       },
       {
        "c": 615,
        "layer": "v14",
        "t": "2014-03-05"
       },
       {
        "c": 1089,
        "layer": "v0",
        "t": "2014-03-06"
       },
       {
        "c": 446,
        "layer": "v1",
        "t": "2014-03-06"
       },
       {
        "c": 1183,
        "layer": "v2",
        "t": "2014-03-06"
       },
       {
        "c": 657,
        "layer": "v3",
        "t": "2014-03-06"
       },
       {
        "c": 607,
        "layer": "v4",
        "t": "2014-03-06"
       },
       {
        "c": 503,
        "layer": "v5",
        "t": "2014-03-06"
       },
       {
        "c": 645,
        "layer": "v6",
        "t": "2014-03-06"
       },
       {
        "c": 703,
        "layer": "v7",
        "t": "2014-03-06"
       },
       {
        "c": 756,
        "layer": "v8",
        "t": "2014-03-06"
       },
       {
        "c": 786,
        "layer": "v9",
        "t": "2014-03-06"
       },
       {
        "c": 558,
        "layer": "v10",
        "t": "2014-03-06"
       },
       {
        "c": 392,
        "layer": "v11",
        "t": "2014-03-06"
       },
       {
        "c": 718,
        "layer": "v12",
        "t": "2014-03-06"
       },
       {
        "c": 896,
        "layer": "v13",
        "t": "2014-03-06"
       },
       {
        "c": 633,
        "layer": "v14",
        "t": "2014-03-06"
       },
       {
        "c": 1177,
        "layer": "v0",
        "t": "2014-03-07"
       },
       {
        "c": 414,
        "layer": "v1",
        "t": "2014-03-07"
       },
       {
        "c": 1028,
        "layer": "v2",
        "t": "2014-03-07"
       },
       {
        "c": 594,
        "layer": "v3",
        "t": "2014-03-07"
       },
       {
        "c": 636,
        "layer": "v4",
        "t": "2014-03-07"
       },
       {
        "c": 424,
        "layer": "v5",
        "t": "2014-03-07"
       },
       {
        "c": 637,
        "layer": "v6",
        "t": "2014-03-07"
       },
       {
        "c": 755,
        "layer": "v7",
        "t": "2014-03-07"
       },
       {
        "c": 786,
        "layer": "v8",
        "t": "2014-03-07"
       },
       {
        "c": 818,
        "layer": "v9",
        "t": "2014-03-07"
       },
       {
        "c": 558,
        "layer": "v10",
        "t": "2014-03-07"
       },
       {
        "c": 420,
        "layer": "v11",
        "t": "2014-03-07"
       },
       {
        "c": 798,
        "layer": "v12",
        "t": "2014-03-07"
       },
       {
        "c": 870,
        "layer": "v13",
        "t": "2014-03-07"
       },
       {
        "c": 664,
        "layer": "v14",
        "t": "2014-03-07"
       },
       {
        "c": 1183,
        "layer": "v0",
        "t": "2014-03-08"
       },
       {
        "c": 386,
        "layer": "v1",
        "t": "2014-03-08"
       },
       {
        "c": 899,
        "layer": "v2",
        "t": "2014-03-08"
       },
       {
        "c": 536,
        "layer": "v3",
        "t": "2014-03-08"
       },
       {
        "c": 667,
        "layer": "v4",
        "t": "2014-03-08"
       },
       {
        "c": 344,
        "layer": "v5",
        "t": "2014-03-08"
       },
       {
        "c": 624,
        "layer": "v6",
        "t": "2014-03-08"
       },
       {
        "c": 818,
        "layer": "v7",
        "t": "2014-03-08"
       },
       {
        "c": 826,
        "layer": "v8",
        "t": "2014-03-08"
       },
       {
        "c": 838,
        "layer": "v9",
        "t": "2014-03-08"
       },
       {
        "c": 559,
        "layer": "v10",
        "t": "2014-03-08"
       },
       {
        "c": 444,
        "layer": "v11",
        "t": "2014-03-08"
       },
       {
        "c": 972,
        "layer": "v12",
        "t": "2014-03-08"
       },
       {
        "c": 862,
        "layer": "v13",
        "t": "2014-03-08"
       },
       {
        "c": 676,
        "layer": "v14",
        "t": "2014-03-08"
       },
       {
        "c": 1111,
        "layer": "v0",
        "t": "2014-03-09"
       },
       {
        "c": 364,
        "layer": "v1",
        "t": "2014-03-09"
       },
       {
        "c": 788,
        "layer": "v2",
        "t": "2014-03-09"
       },
       {
        "c": 483,
        "layer": "v3",
        "t": "2014-03-09"
       },
       {
        "c": 703,
        "layer": "v4",
        "t": "2014-03-09"
       },
       {
        "c": 314,
        "layer": "v5",
        "t": "2014-03-09"
       },
       {
        "c": 611,
        "layer": "v6",
        "t": "2014-03-09"
       },
       {
        "c": 885,
        "layer": "v7",
        "t": "2014-03-09"
       },
       {
        "c": 880,
        "layer": "v8",
        "t": "2014-03-09"
       },
       {
        "c": 851,
        "layer": "v9",
        "t": "2014-03-09"
       },
       {
        "c": 552,
        "layer": "v10",
        "t": "2014-03-09"
       },
       {
        "c": 468,
        "layer": "v11",
        "t": "2014-03-09"
       },
       {
        "c": 1119,
        "layer": "v12",
        "t": "2014-03-09"
       },
       {
        "c": 885,
        "layer": "v13",
        "t": "2014-03-09"
       },
       {
        "c": 666,
        "layer": "v14",
        "t": "2014-03-09"
       },
       {
        "c": 1021,
        "layer": "v0",
        "t": "2014-03-10"
       },
       {
        "c": 351,
        "layer": "v1",
        "t": "2014-03-10"
       },
       {
        "c": 688,
        "layer": "v2",
        "t": "2014-03-10"
       },
       {
        "c": 437,
        "layer": "v3",
        "t": "2014-03-10"
       },
       {
        "c": 742,
        "layer": "v4",
        "t": "2014-03-10"
       },
       {
        "c": 348,
        "layer": "v5",
        "t": "2014-03-10"
       },
       {
        "c": 609,
        "layer": "v6",
        "t": "2014-03-10"
       },
       {
        "c": 945,
        "layer": "v7",
        "t": "2014-03-10"
       },
       {
        "c": 948,
        "layer": "v8",
        "t": "2014-03-10"
       },
       {
        "c": 868,
        "layer": "v9",
        "t": "2014-03-10"
       },
       {
        "c": 535,
        "layer": "v10",
        "t": "2014-03-10"
       },
       {
        "c": 497,
        "layer": "v11",
        "t": "2014-03-10"
       },
       {
        "c": 1153,
        "layer": "v12",
        "t": "2014-03-10"
       },
       {
        "c": 890,
        "layer": "v13",
        "t": "2014-03-10"
       },
       {
        "c": 657,
        "layer": "v14",
        "t": "2014-03-10"
       },
       {
        "c": 937,
        "layer": "v0",
        "t": "2014-03-11"
       },
       {
        "c": 351,
        "layer": "v1",
        "t": "2014-03-11"
       },
       {
        "c": 598,
        "layer": "v2",
        "t": "2014-03-11"
       },
       {
        "c": 400,
        "layer": "v3",
        "t": "2014-03-11"
       },
       {
        "c": 787,
        "layer": "v4",
        "t": "2014-03-11"
       },
       {
        "c": 430,
        "layer": "v5",
        "t": "2014-03-11"
       },
       {
        "c": 624,
        "layer": "v6",
        "t": "2014-03-11"
       },
       {
        "c": 987,
        "layer": "v7",
        "t": "2014-03-11"
       },
       {
        "c": 1028,
        "layer": "v8",
        "t": "2014-03-11"
       },
       {
        "c": 893,
        "layer": "v9",
        "t": "2014-03-11"
       },
       {
        "c": 522,
        "layer": "v10",
        "t": "2014-03-11"
       },
       {
        "c": 540,
        "layer": "v11",
        "t": "2014-03-11"
       },
       {
        "c": 1103,
        "layer": "v12",
        "t": "2014-03-11"
       },
       {
        "c": 832,
        "layer": "v13",
        "t": "2014-03-11"
       },
       {
        "c": 663,
        "layer": "v14",
        "t": "2014-03-11"
       },
       {
        "c": 851,
        "layer": "v0",
        "t": "2014-03-12"
       },
       {
        "c": 366,
        "layer": "v1",
        "t": "2014-03-12"
       },
       {
        "c": 518,
        "layer": "v2",
        "t": "2014-03-12"
       },
       {
        "c": 373,
        "layer": "v3",
        "t": "2014-03-12"
       },
       {
        "c": 840,
        "layer": "v4",
        "t": "2014-03-12"
       },
       {
        "c": 542,
        "layer": "v5",
        "t": "2014-03-12"
       },
       {
        "c": 647,
        "layer": "v6",
        "t": "2014-03-12"
       },
       {
        "c": 1040,
        "layer": "v7",
        "t": "2014-03-12"
       },
       {
        "c": 1118,
        "layer": "v8",
        "t": "2014-03-12"
       },
       {
        "c": 925,
        "layer": "v9",
        "t": "2014-03-12"
       },
       {
        "c": 533,
        "layer": "v10",
        "t": "2014-03-12"
       },
       {
        "c": 601,
        "layer": "v11",
        "t": "2014-03-12"
       },
       {
        "c": 1019,
        "layer": "v12",
        "t": "2014-03-12"
       },
       {
        "c": 772,
        "layer": "v13",
        "t": "2014-03-12"
       },
       {
        "c": 686,
        "layer": "v14",
        "t": "2014-03-12"
       },
       {
        "c": 766,
        "layer": "v0",
        "t": "2014-03-13"
       },
       {
        "c": 399,
        "layer": "v1",
        "t": "2014-03-13"
       },
       {
        "c": 464,
        "layer": "v2",
        "t": "2014-03-13"
       },
       {
        "c": 359,
        "layer": "v3",
        "t": "2014-03-13"
       },
       {
        "c": 947,
        "layer": "v4",
        "t": "2014-03-13"
       },
       {
        "c": 668,
        "layer": "v5",
        "t": "2014-03-13"
       },
       {
        "c": 657,
        "layer": "v6",
        "t": "2014-03-13"
       },
       {
        "c": 1276,
        "layer": "v7",
        "t": "2014-03-13"
       },
       {
        "c": 1213,
        "layer": "v8",
        "t": "2014-03-13"
       },
       {
        "c": 956,
        "layer": "v9",
        "t": "2014-03-13"
       },
       {
        "c": 579,
        "layer": "v10",
        "t": "2014-03-13"
       },
       {
        "c": 681,
        "layer": "v11",
        "t": "2014-03-13"
       },
       {
        "c": 919,
        "layer": "v12",
        "t": "2014-03-13"
       },
       {
        "c": 759,
        "layer": "v13",
        "t": "2014-03-13"
       },
       {
        "c": 720,
        "layer": "v14",
        "t": "2014-03-13"
       },
       {
        "c": 693,
        "layer": "v0",
        "t": "2014-03-14"
       },
       {
        "c": 451,
        "layer": "v1",
        "t": "2014-03-14"
       },
       {
        "c": 464,
        "layer": "v2",
        "t": "2014-03-14"
       },
       {
        "c": 360,
        "layer": "v3",
        "t": "2014-03-14"
       },
       {
        "c": 1152,
        "layer": "v4",
        "t": "2014-03-14"
       },
       {
        "c": 803,
        "layer": "v5",
        "t": "2014-03-14"
       },
       {
        "c": 630,
        "layer": "v6",
        "t": "2014-03-14"
       },
       {
        "c": 1363,
        "layer": "v7",
        "t": "2014-03-14"
       },
       {
        "c": 1306,
        "layer": "v8",
        "t": "2014-03-14"
       },
       {
        "c": 981,
        "layer": "v9",
        "t": "2014-03-14"
       },
       {
        "c": 649,
        "layer": "v10",
        "t": "2014-03-14"
       },
       {
        "c": 772,
        "layer": "v11",
        "t": "2014-03-14"
       },
       {
        "c": 826,
        "layer": "v12",
        "t": "2014-03-14"
       },
       {
        "c": 810,
        "layer": "v13",
        "t": "2014-03-14"
       },
       {
        "c": 760,
        "layer": "v14",
        "t": "2014-03-14"
       },
       {
        "c": 639,
        "layer": "v0",
        "t": "2014-03-15"
       },
       {
        "c": 523,
        "layer": "v1",
        "t": "2014-03-15"
       },
       {
        "c": 397,
        "layer": "v2",
        "t": "2014-03-15"
       },
       {
        "c": 381,
        "layer": "v3",
        "t": "2014-03-15"
       },
       {
        "c": 1171,
        "layer": "v4",
        "t": "2014-03-15"
       },
       {
        "c": 951,
        "layer": "v5",
        "t": "2014-03-15"
       },
       {
        "c": 566,
        "layer": "v6",
        "t": "2014-03-15"
       },
       {
        "c": 1136,
        "layer": "v7",
        "t": "2014-03-15"
       },
       {
        "c": 1391,
        "layer": "v8",
        "t": "2014-03-15"
       },
       {
        "c": 997,
        "layer": "v9",
        "t": "2014-03-15"
       },
       {
        "c": 722,
        "layer": "v10",
        "t": "2014-03-15"
       },
       {
        "c": 865,
        "layer": "v11",
        "t": "2014-03-15"
       },
       {
        "c": 771,
        "layer": "v12",
        "t": "2014-03-15"
       },
       {
        "c": 914,
        "layer": "v13",
        "t": "2014-03-15"
       },
       {
        "c": 804,
        "layer": "v14",
        "t": "2014-03-15"
       },
       {
        "c": 602,
        "layer": "v0",
        "t": "2014-03-16"
       },
       {
        "c": 617,
        "layer": "v1",
        "t": "2014-03-16"
       },
       {
        "c": 284,
        "layer": "v2",
        "t": "2014-03-16"
       },
       {
        "c": 427,
        "layer": "v3",
        "t": "2014-03-16"
       },
       {
        "c": 1069,
        "layer": "v4",
        "t": "2014-03-16"
       },
       {
        "c": 1123,
        "layer": "v5",
        "t": "2014-03-16"
       },
       {
        "c": 487,
        "layer": "v6",
        "t": "2014-03-16"
       },
       {
        "c": 1133,
        "layer": "v7",
        "t": "2014-03-16"
       },
       {
        "c": 1463,
        "layer": "v8",
        "t": "2014-03-16"
       },
       {
        "c": 1003,
        "layer": "v9",
        "t": "2014-03-16"
       },
       {
        "c": 783,
        "layer": "v10",
        "t": "2014-03-16"
       },
       {
        "c": 946,
        "layer": "v11",
        "t": "2014-03-16"
       },
       {
        "c": 750,
        "layer": "v12",
        "t": "2014-03-16"
       },
       {
        "c": 854,
        "layer": "v13",
        "t": "2014-03-16"
       },
       {
        "c": 854,
        "layer": "v14",
        "t": "2014-03-16"
       },
       {
        "c": 573,
        "layer": "v0",
        "t": "2014-03-17"
       },
       {
        "c": 733,
        "layer": "v1",
        "t": "2014-03-17"
       },
       {
        "c": 226,
        "layer": "v2",
        "t": "2014-03-17"
       },
       {
        "c": 503,
        "layer": "v3",
        "t": "2014-03-17"
       },
       {
        "c": 1057,
        "layer": "v4",
        "t": "2014-03-17"
       },
       {
        "c": 1319,
        "layer": "v5",
        "t": "2014-03-17"
       },
       {
        "c": 420,
        "layer": "v6",
        "t": "2014-03-17"
       },
       {
        "c": 1217,
        "layer": "v7",
        "t": "2014-03-17"
       },
       {
        "c": 1528,
        "layer": "v8",
        "t": "2014-03-17"
       },
       {
        "c": 1001,
        "layer": "v9",
        "t": "2014-03-17"
       },
       {
        "c": 833,
        "layer": "v10",
        "t": "2014-03-17"
       },
       {
        "c": 1008,
        "layer": "v11",
        "t": "2014-03-17"
       },
       {
        "c": 717,
        "layer": "v12",
        "t": "2014-03-17"
       },
       {
        "c": 681,
        "layer": "v13",
        "t": "2014-03-17"
       },
       {
        "c": 910,
        "layer": "v14",
        "t": "2014-03-17"
       },
       {
        "c": 545,
        "layer": "v0",
        "t": "2014-03-18"
       },
       {
        "c": 871,
        "layer": "v1",
        "t": "2014-03-18"
       },
       {
        "c": 189,
        "layer": "v2",
        "t": "2014-03-18"
       },
       {
        "c": 609,
        "layer": "v3",
        "t": "2014-03-18"
       },
       {
        "c": 1062,
        "layer": "v4",
        "t": "2014-03-18"
       },
       {
        "c": 1508,
        "layer": "v5",
        "t": "2014-03-18"
       },
       {
        "c": 379,
        "layer": "v6",
        "t": "2014-03-18"
       },
       {
        "c": 1323,
        "layer": "v7",
        "t": "2014-03-18"
       },
       {
        "c": 1606,
        "layer": "v8",
        "t": "2014-03-18"
       },
       {
        "c": 994,
        "layer": "v9",
        "t": "2014-03-18"
       },
       {
        "c": 879,
        "layer": "v10",
        "t": "2014-03-18"
       },
       {
        "c": 1043,
        "layer": "v11",
        "t": "2014-03-18"
       },
       {
        "c": 656,
        "layer": "v12",
        "t": "2014-03-18"
       },
       {
        "c": 597,
        "layer": "v13",
        "t": "2014-03-18"
       },
       {
        "c": 977,
        "layer": "v14",
        "t": "2014-03-18"
       },
       {
        "c": 528,
        "layer": "v0",
        "t": "2014-03-19"
       },
       {
        "c": 1031,
        "layer": "v1",
        "t": "2014-03-19"
       },
       {
        "c": 159,
        "layer": "v2",
        "t": "2014-03-19"
       },
       {
        "c": 748,
        "layer": "v3",
        "t": "2014-03-19"
       },
       {
        "c": 1062,
        "layer": "v4",
        "t": "2014-03-19"
       },
       {
        "c": 1657,
        "layer": "v5",
        "t": "2014-03-19"
       },
       {
        "c": 358,
        "layer": "v6",
        "t": "2014-03-19"
       },
       {
        "c": 1439,
        "layer": "v7",
        "t": "2014-03-19"
       },
       {
        "c": 1688,
        "layer": "v8",
        "t": "2014-03-19"
       },
       {
        "c": 1001,
        "layer": "v9",
        "t": "2014-03-19"
       },
       {
        "c": 928,
        "layer": "v10",
        "t": "2014-03-19"
       },
       {
        "c": 1050,
        "layer": "v11",
        "t": "2014-03-19"
       },
       {
        "c": 597,
        "layer": "v12",
        "t": "2014-03-19"
       },
       {
        "c": 575,
        "layer": "v13",
        "t": "2014-03-19"
       },
       {
        "c": 1057,
        "layer": "v14",
        "t": "2014-03-19"
       },
       {
        "c": 547,
        "layer": "v0",
        "t": "2014-03-20"
       },
       {
        "c": 1205,
        "layer": "v1",
        "t": "2014-03-20"
       },
       {
        "c": 139,
        "layer": "v2",
        "t": "2014-03-20"
       },
       {
        "c": 913,
        "layer": "v3",
        "t": "2014-03-20"
       },
       {
        "c": 1074,
        "layer": "v4",
        "t": "2014-03-20"
       },
       {
        "c": 1781,
        "layer": "v5",
        "t": "2014-03-20"
       },
       {
        "c": 344,
        "layer": "v6",
        "t": "2014-03-20"
       },
       {
        "c": 1547,
        "layer": "v7",
        "t": "2014-03-20"
       },
       {
        "c": 1702,
        "layer": "v8",
        "t": "2014-03-20"
       },
       {
        "c": 1037,
        "layer": "v9",
        "t": "2014-03-20"
       },
       {
        "c": 980,
        "layer": "v10",
        "t": "2014-03-20"
       },
       {
        "c": 1032,
        "layer": "v11",
        "t": "2014-03-20"
       },
       {
        "c": 558,
        "layer": "v12",
        "t": "2014-03-20"
       },
       {
        "c": 586,
        "layer": "v13",
        "t": "2014-03-20"
       },
       {
        "c": 1158,
        "layer": "v14",
        "t": "2014-03-20"
       },
       {
        "c": 613,
        "layer": "v0",
        "t": "2014-03-21"
       },
       {
        "c": 1380,
        "layer": "v1",
        "t": "2014-03-21"
       },
       {
        "c": 128,
        "layer": "v2",
        "t": "2014-03-21"
       },
       {
        "c": 1096,
        "layer": "v3",
        "t": "2014-03-21"
       },
       {
        "c": 1147,
        "layer": "v4",
        "t": "2014-03-21"
       },
       {
        "c": 1895,
        "layer": "v5",
        "t": "2014-03-21"
       },
       {
        "c": 328,
        "layer": "v6",
        "t": "2014-03-21"
       },
       {
        "c": 1627,
        "layer": "v7",
        "t": "2014-03-21"
       },
       {
        "c": 1639,
        "layer": "v8",
        "t": "2014-03-21"
       },
       {
        "c": 1025,
        "layer": "v9",
        "t": "2014-03-21"
       },
       {
        "c": 1040,
        "layer": "v10",
        "t": "2014-03-21"
       },
       {
        "c": 991,
        "layer": "v11",
        "t": "2014-03-21"
       },
       {
        "c": 533,
        "layer": "v12",
        "t": "2014-03-21"
       },
       {
        "c": 611,
        "layer": "v13",
        "t": "2014-03-21"
       },
       {
        "c": 1288,
        "layer": "v14",
        "t": "2014-03-21"
       },
       {
        "c": 684,
        "layer": "v0",
        "t": "2014-03-22"
       },
       {
        "c": 1537,
        "layer": "v1",
        "t": "2014-03-22"
       },
       {
        "c": 127,
        "layer": "v2",
        "t": "2014-03-22"
       },
       {
        "c": 1288,
        "layer": "v3",
        "t": "2014-03-22"
       },
       {
        "c": 1352,
        "layer": "v4",
        "t": "2014-03-22"
       },
       {
        "c": 1989,
        "layer": "v5",
        "t": "2014-03-22"
       },
       {
        "c": 304,
        "layer": "v6",
        "t": "2014-03-22"
       },
       {
        "c": 1663,
        "layer": "v7",
        "t": "2014-03-22"
       },
       {
        "c": 1553,
        "layer": "v8",
        "t": "2014-03-22"
       },
       {
        "c": 958,
        "layer": "v9",
        "t": "2014-03-22"
       },
       {
        "c": 1214,
        "layer": "v10",
        "t": "2014-03-22"
       },
       {
        "c": 935,
        "layer": "v11",
        "t": "2014-03-22"
       },
       {
        "c": 517,
        "layer": "v12",
        "t": "2014-03-22"
       },
       {
        "c": 633,
        "layer": "v13",
        "t": "2014-03-22"
       },
       {
        "c": 1458,
        "layer": "v14",
        "t": "2014-03-22"
       },
       {
        "c": 706,
        "layer": "v0",
        "t": "2014-03-23"
       },
       {
        "c": 1659,
        "layer": "v1",
        "t": "2014-03-23"
       },
       {
        "c": 137,
        "layer": "v2",
        "t": "2014-03-23"
       },
       {
        "c": 1476,
        "layer": "v3",
        "t": "2014-03-23"
       },
       {
        "c": 1521,
        "layer": "v4",
        "t": "2014-03-23"
       },
       {
        "c": 2057,
        "layer": "v5",
        "t": "2014-03-23"
       },
       {
        "c": 274,
        "layer": "v6",
        "t": "2014-03-23"
       },
       {
        "c": 1644,
        "layer": "v7",
        "t": "2014-03-23"
       },
       {
        "c": 1484,
        "layer": "v8",
        "t": "2014-03-23"
       },
       {
        "c": 906,
        "layer": "v9",
        "t": "2014-03-23"
       },
       {
        "c": 1451,
        "layer": "v10",
        "t": "2014-03-23"
       },
       {
        "c": 867,
        "layer": "v11",
        "t": "2014-03-23"
       },
       {
        "c": 515,
        "layer": "v12",
        "t": "2014-03-23"
       },
       {
        "c": 641,
        "layer": "v13",
        "t": "2014-03-23"
       },
       {
        "c": 1676,
        "layer": "v14",
        "t": "2014-03-23"
       },
       {
        "c": 700,
        "layer": "v0",
        "t": "2014-03-24"
       },
       {
        "c": 1736,
        "layer": "v1",
        "t": "2014-03-24"
       },
       {
        "c": 157,
        "layer": "v2",
        "t": "2014-03-24"
       },
       {
        "c": 1650,
        "layer": "v3",
        "t": "2014-03-24"
       },
       {
        "c": 1473,
        "layer": "v4",
        "t": "2014-03-24"
       },
       {
        "c": 2109,
        "layer": "v5",
        "t": "2014-03-24"
       },
       {
        "c": 243,
        "layer": "v6",
        "t": "2014-03-24"
       },
       {
        "c": 1571,
        "layer": "v7",
        "t": "2014-03-24"
       },
       {
        "c": 1498,
        "layer": "v8",
        "t": "2014-03-24"
       },
       {
        "c": 852,
        "layer": "v9",
        "t": "2014-03-24"
       },
       {
        "c": 1213,
        "layer": "v10",
        "t": "2014-03-24"
       },
       {
        "c": 795,
        "layer": "v11",
        "t": "2014-03-24"
       },
       {
        "c": 536,
        "layer": "v12",
        "t": "2014-03-24"
       },
       {
        "c": 641,
        "layer": "v13",
        "t": "2014-03-24"
       },
       {
        "c": 1922,
        "layer": "v14",
        "t": "2014-03-24"
       },
       {
        "c": 723,
        "layer": "v0",
        "t": "2014-03-25"
       },
       {
        "c": 1773,
        "layer": "v1",
        "t": "2014-03-25"
       },
       {
        "c": 188,
        "layer": "v2",
        "t": "2014-03-25"
       },
       {
        "c": 1802,
        "layer": "v3",
        "t": "2014-03-25"
       },
       {
        "c": 1410,
        "layer": "v4",
        "t": "2014-03-25"
       },
       {
        "c": 2164,
        "layer": "v5",
        "t": "2014-03-25"
       },
       {
        "c": 214,
        "layer": "v6",
        "t": "2014-03-25"
       },
       {
        "c": 1452,
        "layer": "v7",
        "t": "2014-03-25"
       },
       {
        "c": 1635,
        "layer": "v8",
        "t": "2014-03-25"
       },
       {
        "c": 803,
        "layer": "v9",
        "t": "2014-03-25"
       },
       {
        "c": 1032,
        "layer": "v10",
        "t": "2014-03-25"
       },
       {
        "c": 721,
        "layer": "v11",
        "t": "2014-03-25"
       },
       {
        "c": 584,
        "layer": "v12",
        "t": "2014-03-25"
       },
       {
        "c": 651,
        "layer": "v13",
        "t": "2014-03-25"
       },
       {
        "c": 2142,
        "layer": "v14",
        "t": "2014-03-25"
       },
       {
        "c": 782,
        "layer": "v0",
        "t": "2014-03-26"
       },
       {
        "c": 1780,
        "layer": "v1",
        "t": "2014-03-26"
       },
       {
        "c": 228,
        "layer": "v2",
        "t": "2014-03-26"
       },
       {
        "c": 1926,
        "layer": "v3",
        "t": "2014-03-26"
       },
       {
        "c": 1364,
        "layer": "v4",
        "t": "2014-03-26"
       },
       {
        "c": 2243,
        "layer": "v5",
        "t": "2014-03-26"
       },
       {
        "c": 194,
        "layer": "v6",
        "t": "2014-03-26"
       },
       {
        "c": 1304,
        "layer": "v7",
        "t": "2014-03-26"
       },
       {
        "c": 1823,
        "layer": "v8",
        "t": "2014-03-26"
       },
       {
        "c": 789,
        "layer": "v9",
        "t": "2014-03-26"
       },
       {
        "c": 964,
        "layer": "v10",
        "t": "2014-03-26"
       },
       {
        "c": 651,
        "layer": "v11",
        "t": "2014-03-26"
       },
       {
        "c": 657,
        "layer": "v12",
        "t": "2014-03-26"
       },
       {
        "c": 692,
        "layer": "v13",
        "t": "2014-03-26"
       },
       {
        "c": 2260,
        "layer": "v14",
        "t": "2014-03-26"
       },
       {
        "c": 826,
        "layer": "v0",
        "t": "2014-03-27"
       },
       {
        "c": 1766,
        "layer": "v1",
        "t": "2014-03-27"
       },
       {
        "c": 276,
        "layer": "v2",
        "t": "2014-03-27"
       },
       {
        "c": 2018,
        "layer": "v3",
        "t": "2014-03-27"
       },
       {
        "c": 1280,
        "layer": "v4",
        "t": "2014-03-27"
       },
       {
        "c": 2356,
        "layer": "v5",
        "t": "2014-03-27"
       },
       {
        "c": 185,
        "layer": "v6",
        "t": "2014-03-27"
       },
       {
        "c": 1147,
        "layer": "v7",
        "t": "2014-03-27"
       },
       {
        "c": 1900,
        "layer": "v8",
        "t": "2014-03-27"
       },
       {
        "c": 710,
        "layer": "v9",
        "t": "2014-03-27"
       },
       {
        "c": 834,
        "layer": "v10",
        "t": "2014-03-27"
       },
       {
        "c": 590,
        "layer": "v11",
        "t": "2014-03-27"
       },
       {
        "c": 743,
        "layer": "v12",
        "t": "2014-03-27"
       },
       {
        "c": 753,
        "layer": "v13",
        "t": "2014-03-27"
       },
       {
        "c": 2224,
        "layer": "v14",
        "t": "2014-03-27"
       },
       {
        "c": 818,
        "layer": "v0",
        "t": "2014-03-28"
       },
       {
        "c": 1737,
        "layer": "v1",
        "t": "2014-03-28"
       },
       {
        "c": 331,
        "layer": "v2",
        "t": "2014-03-28"
       },
       {
        "c": 2077,
        "layer": "v3",
        "t": "2014-03-28"
       },
       {
        "c": 1179,
        "layer": "v4",
        "t": "2014-03-28"
       },
       {
        "c": 2484,
        "layer": "v5",
        "t": "2014-03-28"
       },
       {
        "c": 193,
        "layer": "v6",
        "t": "2014-03-28"
       },
       {
        "c": 999,
        "layer": "v7",
        "t": "2014-03-28"
       },
       {
        "c": 1768,
        "layer": "v8",
        "t": "2014-03-28"
       },
       {
        "c": 552,
        "layer": "v9",
        "t": "2014-03-28"
       },
       {
        "c": 823,
        "layer": "v10",
        "t": "2014-03-28"
       },
       {
        "c": 539,
        "layer": "v11",
        "t": "2014-03-28"
       },
       {
        "c": 828,
        "layer": "v12",
        "t": "2014-03-28"
       },
       {
        "c": 790,
        "layer": "v13",
        "t": "2014-03-28"
       },
       {
        "c": 2044,
        "layer": "v14",
        "t": "2014-03-28"
       },
       {
        "c": 782,
        "layer": "v0",
        "t": "2014-03-29"
       },
       {
        "c": 1696,
        "layer": "v1",
        "t": "2014-03-29"
       },
       {
        "c": 391,
        "layer": "v2",
        "t": "2014-03-29"
       },
       {
        "c": 2104,
        "layer": "v3",
        "t": "2014-03-29"
       },
       {
        "c": 1101,
        "layer": "v4",
        "t": "2014-03-29"
       },
       {
        "c": 2576,
        "layer": "v5",
        "t": "2014-03-29"
       },
       {
        "c": 226,
        "layer": "v6",
        "t": "2014-03-29"
       },
       {
        "c": 873,
        "layer": "v7",
        "t": "2014-03-29"
       },
       {
        "c": 1516,
        "layer": "v8",
        "t": "2014-03-29"
       },
       {
        "c": 455,
        "layer": "v9",
        "t": "2014-03-29"
       },
       {
        "c": 893,
        "layer": "v10",
        "t": "2014-03-29"
       },
       {
        "c": 503,
        "layer": "v11",
        "t": "2014-03-29"
       },
       {
        "c": 909,
        "layer": "v12",
        "t": "2014-03-29"
       },
       {
        "c": 767,
        "layer": "v13",
        "t": "2014-03-29"
       },
       {
        "c": 1790,
        "layer": "v14",
        "t": "2014-03-29"
       },
       {
        "c": 763,
        "layer": "v0",
        "t": "2014-03-30"
       },
       {
        "c": 1643,
        "layer": "v1",
        "t": "2014-03-30"
       },
       {
        "c": 454,
        "layer": "v2",
        "t": "2014-03-30"
       },
       {
        "c": 2097,
        "layer": "v3",
        "t": "2014-03-30"
       },
       {
        "c": 1070,
        "layer": "v4",
        "t": "2014-03-30"
       },
       {
        "c": 2574,
        "layer": "v5",
        "t": "2014-03-30"
       },
       {
        "c": 295,
        "layer": "v6",
        "t": "2014-03-30"
       },
       {
        "c": 779,
        "layer": "v7",
        "t": "2014-03-30"
       },
       {
        "c": 1316,
        "layer": "v8",
        "t": "2014-03-30"
       },
       {
        "c": 416,
        "layer": "v9",
        "t": "2014-03-30"
       },
       {
        "c": 989,
        "layer": "v10",
        "t": "2014-03-30"
       },
       {
        "c": 483,
        "layer": "v11",
        "t": "2014-03-30"
       },
       {
        "c": 994,
        "layer": "v12",
        "t": "2014-03-30"
       },
       {
        "c": 694,
        "layer": "v13",
        "t": "2014-03-30"
       },
       {
        "c": 1546,
        "layer": "v14",
        "t": "2014-03-30"
       },
       {
        "c": 788,
        "layer": "v0",
        "t": "2014-03-31"
       },
       {
        "c": 1580,
        "layer": "v1",
        "t": "2014-03-31"
       },
       {
        "c": 520,
        "layer": "v2",
        "t": "2014-03-31"
       },
       {
        "c": 2056,
        "layer": "v3",
        "t": "2014-03-31"
       },
       {
        "c": 1085,
        "layer": "v4",
        "t": "2014-03-31"
       },
       {
        "c": 2458,
        "layer": "v5",
        "t": "2014-03-31"
       },
       {
        "c": 403,
        "layer": "v6",
        "t": "2014-03-31"
       },
       {
        "c": 716,
        "layer": "v7",
        "t": "2014-03-31"
       },
       {
        "c": 1248,
        "layer": "v8",
        "t": "2014-03-31"
       },
       {
        "c": 410,
        "layer": "v9",
        "t": "2014-03-31"
       },
       {
        "c": 1090,
        "layer": "v10",
        "t": "2014-03-31"
       },
       {
        "c": 482,
        "layer": "v11",
        "t": "2014-03-31"
       },
       {
        "c": 1074,
        "layer": "v12",
        "t": "2014-03-31"
       },
       {
        "c": 616,
        "layer": "v13",
        "t": "2014-03-31"
       },
       {
        "c": 1364,
        "layer": "v14",
        "t": "2014-03-31"
       },
       {
        "c": 903,
        "layer": "v0",
        "t": "2014-04-01"
       },
       {
        "c": 1512,
        "layer": "v1",
        "t": "2014-04-01"
       },
       {
        "c": 589,
        "layer": "v2",
        "t": "2014-04-01"
       },
       {
        "c": 1982,
        "layer": "v3",
        "t": "2014-04-01"
       },
       {
        "c": 1136,
        "layer": "v4",
        "t": "2014-04-01"
       },
       {
        "c": 2266,
        "layer": "v5",
        "t": "2014-04-01"
       },
       {
        "c": 536,
        "layer": "v6",
        "t": "2014-04-01"
       },
       {
        "c": 679,
        "layer": "v7",
        "t": "2014-04-01"
       },
       {
        "c": 1289,
        "layer": "v8",
        "t": "2014-04-01"
       },
       {
        "c": 432,
        "layer": "v9",
        "t": "2014-04-01"
       },
       {
        "c": 1188,
        "layer": "v10",
        "t": "2014-04-01"
       },
       {
        "c": 500,
        "layer": "v11",
        "t": "2014-04-01"
       },
       {
        "c": 1116,
        "layer": "v12",
        "t": "2014-04-01"
       },
       {
        "c": 569,
        "layer": "v13",
        "t": "2014-04-01"
       },
       {
        "c": 1252,
        "layer": "v14",
        "t": "2014-04-01"
       },
       {
        "c": 1168,
        "layer": "v0",
        "t": "2014-04-02"
       },
       {
        "c": 1441,
        "layer": "v1",
        "t": "2014-04-02"
       },
       {
        "c": 665,
        "layer": "v2",
        "t": "2014-04-02"
       },
       {
        "c": 1879,
        "layer": "v3",
        "t": "2014-04-02"
       },
       {
        "c": 1200,
        "layer": "v4",
        "t": "2014-04-02"
       },
       {
        "c": 2062,
        "layer": "v5",
        "t": "2014-04-02"
       },
       {
        "c": 664,
        "layer": "v6",
        "t": "2014-04-02"
       },
       {
        "c": 658,
        "layer": "v7",
        "t": "2014-04-02"
       },
       {
        "c": 1401,
        "layer": "v8",
        "t": "2014-04-02"
       },
       {
        "c": 479,
        "layer": "v9",
        "t": "2014-04-02"
       },
       {
        "c": 1283,
        "layer": "v10",
        "t": "2014-04-02"
       },
       {
        "c": 538,
        "layer": "v11",
        "t": "2014-04-02"
       },
       {
        "c": 1097,
        "layer": "v12",
        "t": "2014-04-02"
       },
       {
        "c": 557,
        "layer": "v13",
        "t": "2014-04-02"
       },
       {
        "c": 1190,
        "layer": "v14",
        "t": "2014-04-02"
       },
       {
        "c": 1506,
        "layer": "v0",
        "t": "2014-04-03"
       },
       {
        "c": 1372,
        "layer": "v1",
        "t": "2014-04-03"
       },
       {
        "c": 749,
        "layer": "v2",
        "t": "2014-04-03"
       },
       {
        "c": 1761,
        "layer": "v3",
        "t": "2014-04-03"
       },
       {
        "c": 1247,
        "layer": "v4",
        "t": "2014-04-03"
       },
       {
        "c": 1894,
        "layer": "v5",
        "t": "2014-04-03"
       },
       {
        "c": 757,
        "layer": "v6",
        "t": "2014-04-03"
       },
       {
        "c": 637,
        "layer": "v7",
        "t": "2014-04-03"
       },
       {
        "c": 1387,
        "layer": "v8",
        "t": "2014-04-03"
       },
       {
        "c": 545,
        "layer": "v9",
        "t": "2014-04-03"
       },
       {
        "c": 1384,
        "layer": "v10",
        "t": "2014-04-03"
       },
       {
        "c": 599,
        "layer": "v11",
        "t": "2014-04-03"
       },
       {
        "c": 1034,
        "layer": "v12",
        "t": "2014-04-03"
       },
       {
        "c": 571,
        "layer": "v13",
        "t": "2014-04-03"
       },
       {
        "c": 1153,
        "layer": "v14",
        "t": "2014-04-03"
       },
       {
        "c": 1637,
        "layer": "v0",
        "t": "2014-04-04"
       },
       {
        "c": 1305,
        "layer": "v1",
        "t": "2014-04-04"
       },
       {
        "c": 828,
        "layer": "v2",
        "t": "2014-04-04"
       },
       {
        "c": 1640,
        "layer": "v3",
        "t": "2014-04-04"
       },
       {
        "c": 1255,
        "layer": "v4",
        "t": "2014-04-04"
       },
       {
        "c": 1773,
        "layer": "v5",
        "t": "2014-04-04"
       },
       {
        "c": 812,
        "layer": "v6",
        "t": "2014-04-04"
       },
       {
        "c": 600,
        "layer": "v7",
        "t": "2014-04-04"
       },
       {
        "c": 1245,
        "layer": "v8",
        "t": "2014-04-04"
       },
       {
        "c": 624,
        "layer": "v9",
        "t": "2014-04-04"
       },
       {
        "c": 1518,
        "layer": "v10",
        "t": "2014-04-04"
       },
       {
        "c": 683,
        "layer": "v11",
        "t": "2014-04-04"
       },
       {
        "c": 960,
        "layer": "v12",
        "t": "2014-04-04"
       },
       {
        "c": 602,
        "layer": "v13",
        "t": "2014-04-04"
       },
       {
        "c": 1129,
        "layer": "v14",
        "t": "2014-04-04"
       },
       {
        "c": 1432,
        "layer": "v0",
        "t": "2014-04-05"
       },
       {
        "c": 1245,
        "layer": "v1",
        "t": "2014-04-05"
       },
       {
        "c": 885,
        "layer": "v2",
        "t": "2014-04-05"
       },
       {
        "c": 1527,
        "layer": "v3",
        "t": "2014-04-05"
       },
       {
        "c": 1228,
        "layer": "v4",
        "t": "2014-04-05"
       },
       {
        "c": 1684,
        "layer": "v5",
        "t": "2014-04-05"
       },
       {
        "c": 851,
        "layer": "v6",
        "t": "2014-04-05"
       },
       {
        "c": 539,
        "layer": "v7",
        "t": "2014-04-05"
       },
       {
        "c": 1144,
        "layer": "v8",
        "t": "2014-04-05"
       },
       {
        "c": 714,
        "layer": "v9",
        "t": "2014-04-05"
       },
       {
        "c": 1765,
        "layer": "v10",
        "t": "2014-04-05"
       },
       {
        "c": 789,
        "layer": "v11",
        "t": "2014-04-05"
       },
       {
        "c": 886,
        "layer": "v12",
        "t": "2014-04-05"
       },
       {
        "c": 648,
        "layer": "v13",
        "t": "2014-04-05"
       },
       {
        "c": 1109,
        "layer": "v14",
        "t": "2014-04-05"
       },
       {
        "c": 1120,
        "layer": "v0",
        "t": "2014-04-06"
       },
       {
        "c": 1192,
        "layer": "v1",
        "t": "2014-04-06"
       },
       {
        "c": 907,
        "layer": "v2",
        "t": "2014-04-06"
       },
       {
        "c": 1426,
        "layer": "v3",
        "t": "2014-04-06"
       },
       {
        "c": 1190,
        "layer": "v4",
        "t": "2014-04-06"
       },
       {
        "c": 1610,
        "layer": "v5",
        "t": "2014-04-06"
       },
       {
        "c": 908,
        "layer": "v6",
        "t": "2014-04-06"
       },
       {
        "c": 459,
        "layer": "v7",
        "t": "2014-04-06"
       },
       {
        "c": 1076,
        "layer": "v8",
        "t": "2014-04-06"
       },
       {
        "c": 809,
        "layer": "v9",
        "t": "2014-04-06"
       },
       {
        "c": 2044,
        "layer": "v10",
        "t": "2014-04-06"
       },
       {
        "c": 915,
        "layer": "v11",
        "t": "2014-04-06"
       },
       {
        "c": 815,
        "layer": "v12",
        "t": "2014-04-06"
       },
       {
        "c": 710,
        "layer": "v13",
        "t": "2014-04-06"
       },
       {
        "c": 1079,
        "layer": "v14",
        "t": "2014-04-06"
       },
       {
        "c": 937,
        "layer": "v0",
        "t": "2014-04-07"
       },
       {
        "c": 1149,
        "layer": "v1",
        "t": "2014-04-07"
       },
       {
        "c": 905,
        "layer": "v2",
        "t": "2014-04-07"
       },
       {
        "c": 1337,
        "layer": "v3",
        "t": "2014-04-07"
       },
       {
        "c": 1161,
        "layer": "v4",
        "t": "2014-04-07"
       },
       {
        "c": 1535,
        "layer": "v5",
        "t": "2014-04-07"
       },
       {
        "c": 1015,
        "layer": "v6",
        "t": "2014-04-07"
       },
       {
        "c": 388,
        "layer": "v7",
        "t": "2014-04-07"
       },
       {
        "c": 1041,
        "layer": "v8",
        "t": "2014-04-07"
       },
       {
        "c": 900,
        "layer": "v9",
        "t": "2014-04-07"
       },
       {
        "c": 2126,
        "layer": "v10",
        "t": "2014-04-07"
       },
       {
        "c": 1056,
        "layer": "v11",
        "t": "2014-04-07"
       },
       {
        "c": 747,
        "layer": "v12",
        "t": "2014-04-07"
       },
       {
        "c": 790,
        "layer": "v13",
        "t": "2014-04-07"
       },
       {
        "c": 1027,
        "layer": "v14",
        "t": "2014-04-07"
       },
       {
        "c": 889,
        "layer": "v0",
        "t": "2014-04-08"
       },
       {
        "c": 1118,
        "layer": "v1",
        "t": "2014-04-08"
       },
       {
        "c": 901,
        "layer": "v2",
        "t": "2014-04-08"
       },
       {
        "c": 1260,
        "layer": "v3",
        "t": "2014-04-08"
       },
       {
        "c": 1150,
        "layer": "v4",
        "t": "2014-04-08"
       },
       {
        "c": 1449,
        "layer": "v5",
        "t": "2014-04-08"
       },
       {
        "c": 1186,
        "layer": "v6",
        "t": "2014-04-08"
       },
       {
        "c": 355,
        "layer": "v7",
        "t": "2014-04-08"
       },
       {
        "c": 1047,
        "layer": "v8",
        "t": "2014-04-08"
       },
       {
        "c": 963,
        "layer": "v9",
        "t": "2014-04-08"
       },
       {
        "c": 2198,
        "layer": "v10",
        "t": "2014-04-08"
       },
       {
        "c": 1204,
        "layer": "v11",
        "t": "2014-04-08"
       },
       {
        "c": 682,
        "layer": "v12",
        "t": "2014-04-08"
       },
       {
        "c": 889,
        "layer": "v13",
        "t": "2014-04-08"
       },
       {
        "c": 968,
        "layer": "v14",
        "t": "2014-04-08"
       },
       {
        "c": 899,
        "layer": "v0",
        "t": "2014-04-09"
       },
       {
        "c": 1102,
        "layer": "v1",
        "t": "2014-04-09"
       },
       {
        "c": 914,
        "layer": "v2",
        "t": "2014-04-09"
       },
       {
        "c": 1199,
        "layer": "v3",
        "t": "2014-04-09"
       },
       {
        "c": 1161,
        "layer": "v4",
        "t": "2014-04-09"
       },
       {
        "c": 1346,
        "layer": "v5",
        "t": "2014-04-09"
       },
       {
        "c": 1411,
        "layer": "v6",
        "t": "2014-04-09"
       },
       {
        "c": 340,
        "layer": "v7",
        "t": "2014-04-09"
       },
       {
        "c": 1092,
        "layer": "v8",
        "t": "2014-04-09"
       },
       {
        "c": 986,
        "layer": "v9",
        "t": "2014-04-09"
       },
       {
        "c": 2327,
        "layer": "v10",
        "t": "2014-04-09"
       },
       {
        "c": 1349,
        "layer": "v11",
        "t": "2014-04-09"
       },
       {
        "c": 654,
        "layer": "v12",
        "t": "2014-04-09"
       },
       {
        "c": 1004,
        "layer": "v13",
        "t": "2014-04-09"
       },
       {
        "c": 926,
        "layer": "v14",
        "t": "2014-04-09"
       },
       {
        "c": 936,
        "layer": "v0",
        "t": "2014-04-10"
       },
       {
        "c": 1104,
        "layer": "v1",
        "t": "2014-04-10"
       },
       {
        "c": 947,
        "layer": "v2",
        "t": "2014-04-10"
       },
       {
        "c": 1158,
        "layer": "v3",
        "t": "2014-04-10"
       },
       {
        "c": 1206,
        "layer": "v4",
        "t": "2014-04-10"
       },
       {
        "c": 1228,
        "layer": "v5",
        "t": "2014-04-10"
       },
       {
        "c": 1650,
        "layer": "v6",
        "t": "2014-04-10"
       },
       {
        "c": 289,
        "layer": "v7",
        "t": "2014-04-10"
       },
       {
        "c": 1169,
        "layer": "v8",
        "t": "2014-04-10"
       },
       {
        "c": 1002,
        "layer": "v9",
        "t": "2014-04-10"
       },
       {
        "c": 2495,
        "layer": "v10",
        "t": "2014-04-10"
       },
       {
        "c": 1486,
        "layer": "v11",
        "t": "2014-04-10"
       },
       {
        "c": 781,
        "layer": "v12",
        "t": "2014-04-10"
       },
       {
        "c": 1131,
        "layer": "v13",
        "t": "2014-04-10"
       },
       {
        "c": 903,
        "layer": "v14",
        "t": "2014-04-10"
       }
      ],
      "text/plain": [
       "<IPython.core.display.JSON object>"
      ]
     },
     "metadata": {
      "application/json": {
       "expanded": false,
       "root": "root"
      },
      "jdh": {
       "module": "text_object",
       "object": {
        "bootstrapColumLayout": {
         "md": {
          "offset": 0,
          "span": 7
         }
        },
        "component": "Stackgraph",
        "cssClassName": [
         "bg-white"
        ],
        "heightRatio": 0.8,
        "position": "sticky",
        "spec": {
         "$schema": "https://vega.github.io/schema/vega-lite/v4.json",
         "data": {
          "values": [
           {
            "c": 0,
            "layer": "v0",
            "t": "2014-01-01"
           },
           {
            "c": 0,
            "layer": "v1",
            "t": "2014-01-01"
           },
           {
            "c": 0,
            "layer": "v2",
            "t": "2014-01-01"
           },
           {
            "c": 0,
            "layer": "v3",
            "t": "2014-01-01"
           },
           {
            "c": 0,
            "layer": "v4",
            "t": "2014-01-01"
           },
           {
            "c": 0,
            "layer": "v5",
            "t": "2014-01-01"
           },
           {
            "c": 0,
            "layer": "v6",
            "t": "2014-01-01"
           },
           {
            "c": 0,
            "layer": "v7",
            "t": "2014-01-01"
           },
           {
            "c": 0,
            "layer": "v8",
            "t": "2014-01-01"
           },
           {
            "c": 0,
            "layer": "v9",
            "t": "2014-01-01"
           },
           {
            "c": 0,
            "layer": "v10",
            "t": "2014-01-01"
           },
           {
            "c": 0,
            "layer": "v11",
            "t": "2014-01-01"
           },
           {
            "c": 0,
            "layer": "v12",
            "t": "2014-01-01"
           },
           {
            "c": 0,
            "layer": "v13",
            "t": "2014-01-01"
           },
           {
            "c": 0,
            "layer": "v14",
            "t": "2014-01-01"
           },
           {
            "c": 12,
            "layer": "v0",
            "t": "2014-01-02"
           },
           {
            "c": 5,
            "layer": "v1",
            "t": "2014-01-02"
           },
           {
            "c": 14,
            "layer": "v2",
            "t": "2014-01-02"
           },
           {
            "c": 24,
            "layer": "v3",
            "t": "2014-01-02"
           },
           {
            "c": 8,
            "layer": "v4",
            "t": "2014-01-02"
           },
           {
            "c": 11,
            "layer": "v5",
            "t": "2014-01-02"
           },
           {
            "c": 9,
            "layer": "v6",
            "t": "2014-01-02"
           },
           {
            "c": 11,
            "layer": "v7",
            "t": "2014-01-02"
           },
           {
            "c": 11,
            "layer": "v8",
            "t": "2014-01-02"
           },
           {
            "c": 10,
            "layer": "v9",
            "t": "2014-01-02"
           },
           {
            "c": 12,
            "layer": "v10",
            "t": "2014-01-02"
           },
           {
            "c": 14,
            "layer": "v11",
            "t": "2014-01-02"
           },
           {
            "c": 21,
            "layer": "v12",
            "t": "2014-01-02"
           },
           {
            "c": 16,
            "layer": "v13",
            "t": "2014-01-02"
           },
           {
            "c": 7,
            "layer": "v14",
            "t": "2014-01-02"
           },
           {
            "c": 23,
            "layer": "v0",
            "t": "2014-01-03"
           },
           {
            "c": 12,
            "layer": "v1",
            "t": "2014-01-03"
           },
           {
            "c": 30,
            "layer": "v2",
            "t": "2014-01-03"
           },
           {
            "c": 48,
            "layer": "v3",
            "t": "2014-01-03"
           },
           {
            "c": 17,
            "layer": "v4",
            "t": "2014-01-03"
           },
           {
            "c": 23,
            "layer": "v5",
            "t": "2014-01-03"
           },
           {
            "c": 17,
            "layer": "v6",
            "t": "2014-01-03"
           },
           {
            "c": 21,
            "layer": "v7",
            "t": "2014-01-03"
           },
           {
            "c": 23,
            "layer": "v8",
            "t": "2014-01-03"
           },
           {
            "c": 16,
            "layer": "v9",
            "t": "2014-01-03"
           },
           {
            "c": 24,
            "layer": "v10",
            "t": "2014-01-03"
           },
           {
            "c": 34,
            "layer": "v11",
            "t": "2014-01-03"
           },
           {
            "c": 40,
            "layer": "v12",
            "t": "2014-01-03"
           },
           {
            "c": 30,
            "layer": "v13",
            "t": "2014-01-03"
           },
           {
            "c": 13,
            "layer": "v14",
            "t": "2014-01-03"
           },
           {
            "c": 35,
            "layer": "v0",
            "t": "2014-01-04"
           },
           {
            "c": 20,
            "layer": "v1",
            "t": "2014-01-04"
           },
           {
            "c": 46,
            "layer": "v2",
            "t": "2014-01-04"
           },
           {
            "c": 66,
            "layer": "v3",
            "t": "2014-01-04"
           },
           {
            "c": 28,
            "layer": "v4",
            "t": "2014-01-04"
           },
           {
            "c": 32,
            "layer": "v5",
            "t": "2014-01-04"
           },
           {
            "c": 25,
            "layer": "v6",
            "t": "2014-01-04"
           },
           {
            "c": 32,
            "layer": "v7",
            "t": "2014-01-04"
           },
           {
            "c": 35,
            "layer": "v8",
            "t": "2014-01-04"
           },
           {
            "c": 19,
            "layer": "v9",
            "t": "2014-01-04"
           },
           {
            "c": 38,
            "layer": "v10",
            "t": "2014-01-04"
           },
           {
            "c": 60,
            "layer": "v11",
            "t": "2014-01-04"
           },
           {
            "c": 60,
            "layer": "v12",
            "t": "2014-01-04"
           },
           {
            "c": 41,
            "layer": "v13",
            "t": "2014-01-04"
           },
           {
            "c": 18,
            "layer": "v14",
            "t": "2014-01-04"
           },
           {
            "c": 48,
            "layer": "v0",
            "t": "2014-01-05"
           },
           {
            "c": 24,
            "layer": "v1",
            "t": "2014-01-05"
           },
           {
            "c": 63,
            "layer": "v2",
            "t": "2014-01-05"
           },
           {
            "c": 76,
            "layer": "v3",
            "t": "2014-01-05"
           },
           {
            "c": 41,
            "layer": "v4",
            "t": "2014-01-05"
           },
           {
            "c": 41,
            "layer": "v5",
            "t": "2014-01-05"
           },
           {
            "c": 35,
            "layer": "v6",
            "t": "2014-01-05"
           },
           {
            "c": 44,
            "layer": "v7",
            "t": "2014-01-05"
           },
           {
            "c": 47,
            "layer": "v8",
            "t": "2014-01-05"
           },
           {
            "c": 22,
            "layer": "v9",
            "t": "2014-01-05"
           },
           {
            "c": 54,
            "layer": "v10",
            "t": "2014-01-05"
           },
           {
            "c": 86,
            "layer": "v11",
            "t": "2014-01-05"
           },
           {
            "c": 80,
            "layer": "v12",
            "t": "2014-01-05"
           },
           {
            "c": 48,
            "layer": "v13",
            "t": "2014-01-05"
           },
           {
            "c": 23,
            "layer": "v14",
            "t": "2014-01-05"
           },
           {
            "c": 64,
            "layer": "v0",
            "t": "2014-01-06"
           },
           {
            "c": 38,
            "layer": "v1",
            "t": "2014-01-06"
           },
           {
            "c": 80,
            "layer": "v2",
            "t": "2014-01-06"
           },
           {
            "c": 84,
            "layer": "v3",
            "t": "2014-01-06"
           },
           {
            "c": 58,
            "layer": "v4",
            "t": "2014-01-06"
           },
           {
            "c": 50,
            "layer": "v5",
            "t": "2014-01-06"
           },
           {
            "c": 49,
            "layer": "v6",
            "t": "2014-01-06"
           },
           {
            "c": 59,
            "layer": "v7",
            "t": "2014-01-06"
           },
           {
            "c": 57,
            "layer": "v8",
            "t": "2014-01-06"
           },
           {
            "c": 26,
            "layer": "v9",
            "t": "2014-01-06"
           },
           {
            "c": 65,
            "layer": "v10",
            "t": "2014-01-06"
           },
           {
            "c": 101,
            "layer": "v11",
            "t": "2014-01-06"
           },
           {
            "c": 99,
            "layer": "v12",
            "t": "2014-01-06"
           },
           {
            "c": 54,
            "layer": "v13",
            "t": "2014-01-06"
           },
           {
            "c": 26,
            "layer": "v14",
            "t": "2014-01-06"
           },
           {
            "c": 81,
            "layer": "v0",
            "t": "2014-01-07"
           },
           {
            "c": 84,
            "layer": "v1",
            "t": "2014-01-07"
           },
           {
            "c": 96,
            "layer": "v2",
            "t": "2014-01-07"
           },
           {
            "c": 94,
            "layer": "v3",
            "t": "2014-01-07"
           },
           {
            "c": 76,
            "layer": "v4",
            "t": "2014-01-07"
           },
           {
            "c": 60,
            "layer": "v5",
            "t": "2014-01-07"
           },
           {
            "c": 69,
            "layer": "v6",
            "t": "2014-01-07"
           },
           {
            "c": 74,
            "layer": "v7",
            "t": "2014-01-07"
           },
           {
            "c": 64,
            "layer": "v8",
            "t": "2014-01-07"
           },
           {
            "c": 29,
            "layer": "v9",
            "t": "2014-01-07"
           },
           {
            "c": 78,
            "layer": "v10",
            "t": "2014-01-07"
           },
           {
            "c": 104,
            "layer": "v11",
            "t": "2014-01-07"
           },
           {
            "c": 111,
            "layer": "v12",
            "t": "2014-01-07"
           },
           {
            "c": 63,
            "layer": "v13",
            "t": "2014-01-07"
           },
           {
            "c": 29,
            "layer": "v14",
            "t": "2014-01-07"
           },
           {
            "c": 104,
            "layer": "v0",
            "t": "2014-01-08"
           },
           {
            "c": 111,
            "layer": "v1",
            "t": "2014-01-08"
           },
           {
            "c": 109,
            "layer": "v2",
            "t": "2014-01-08"
           },
           {
            "c": 117,
            "layer": "v3",
            "t": "2014-01-08"
           },
           {
            "c": 95,
            "layer": "v4",
            "t": "2014-01-08"
           },
           {
            "c": 71,
            "layer": "v5",
            "t": "2014-01-08"
           },
           {
            "c": 92,
            "layer": "v6",
            "t": "2014-01-08"
           },
           {
            "c": 90,
            "layer": "v7",
            "t": "2014-01-08"
           },
           {
            "c": 68,
            "layer": "v8",
            "t": "2014-01-08"
           },
           {
            "c": 33,
            "layer": "v9",
            "t": "2014-01-08"
           },
           {
            "c": 95,
            "layer": "v10",
            "t": "2014-01-08"
           },
           {
            "c": 98,
            "layer": "v11",
            "t": "2014-01-08"
           },
           {
            "c": 119,
            "layer": "v12",
            "t": "2014-01-08"
           },
           {
            "c": 78,
            "layer": "v13",
            "t": "2014-01-08"
           },
           {
            "c": 31,
            "layer": "v14",
            "t": "2014-01-08"
           },
           {
            "c": 115,
            "layer": "v0",
            "t": "2014-01-09"
           },
           {
            "c": 109,
            "layer": "v1",
            "t": "2014-01-09"
           },
           {
            "c": 121,
            "layer": "v2",
            "t": "2014-01-09"
           },
           {
            "c": 146,
            "layer": "v3",
            "t": "2014-01-09"
           },
           {
            "c": 120,
            "layer": "v4",
            "t": "2014-01-09"
           },
           {
            "c": 84,
            "layer": "v5",
            "t": "2014-01-09"
           },
           {
            "c": 112,
            "layer": "v6",
            "t": "2014-01-09"
           },
           {
            "c": 106,
            "layer": "v7",
            "t": "2014-01-09"
           },
           {
            "c": 72,
            "layer": "v8",
            "t": "2014-01-09"
           },
           {
            "c": 37,
            "layer": "v9",
            "t": "2014-01-09"
           },
           {
            "c": 111,
            "layer": "v10",
            "t": "2014-01-09"
           },
           {
            "c": 89,
            "layer": "v11",
            "t": "2014-01-09"
           },
           {
            "c": 126,
            "layer": "v12",
            "t": "2014-01-09"
           },
           {
            "c": 98,
            "layer": "v13",
            "t": "2014-01-09"
           },
           {
            "c": 34,
            "layer": "v14",
            "t": "2014-01-09"
           },
           {
            "c": 109,
            "layer": "v0",
            "t": "2014-01-10"
           },
           {
            "c": 122,
            "layer": "v1",
            "t": "2014-01-10"
           },
           {
            "c": 130,
            "layer": "v2",
            "t": "2014-01-10"
           },
           {
            "c": 144,
            "layer": "v3",
            "t": "2014-01-10"
           },
           {
            "c": 163,
            "layer": "v4",
            "t": "2014-01-10"
           },
           {
            "c": 99,
            "layer": "v5",
            "t": "2014-01-10"
           },
           {
            "c": 122,
            "layer": "v6",
            "t": "2014-01-10"
           },
           {
            "c": 126,
            "layer": "v7",
            "t": "2014-01-10"
           },
           {
            "c": 76,
            "layer": "v8",
            "t": "2014-01-10"
           },
           {
            "c": 45,
            "layer": "v9",
            "t": "2014-01-10"
           },
           {
            "c": 126,
            "layer": "v10",
            "t": "2014-01-10"
           },
           {
            "c": 90,
            "layer": "v11",
            "t": "2014-01-10"
           },
           {
            "c": 132,
            "layer": "v12",
            "t": "2014-01-10"
           },
           {
            "c": 113,
            "layer": "v13",
            "t": "2014-01-10"
           },
           {
            "c": 39,
            "layer": "v14",
            "t": "2014-01-10"
           },
           {
            "c": 111,
            "layer": "v0",
            "t": "2014-01-11"
           },
           {
            "c": 143,
            "layer": "v1",
            "t": "2014-01-11"
           },
           {
            "c": 137,
            "layer": "v2",
            "t": "2014-01-11"
           },
           {
            "c": 133,
            "layer": "v3",
            "t": "2014-01-11"
           },
           {
            "c": 227,
            "layer": "v4",
            "t": "2014-01-11"
           },
           {
            "c": 115,
            "layer": "v5",
            "t": "2014-01-11"
           },
           {
            "c": 126,
            "layer": "v6",
            "t": "2014-01-11"
           },
           {
            "c": 149,
            "layer": "v7",
            "t": "2014-01-11"
           },
           {
            "c": 79,
            "layer": "v8",
            "t": "2014-01-11"
           },
           {
            "c": 67,
            "layer": "v9",
            "t": "2014-01-11"
           },
           {
            "c": 139,
            "layer": "v10",
            "t": "2014-01-11"
           },
           {
            "c": 132,
            "layer": "v11",
            "t": "2014-01-11"
           },
           {
            "c": 136,
            "layer": "v12",
            "t": "2014-01-11"
           },
           {
            "c": 113,
            "layer": "v13",
            "t": "2014-01-11"
           },
           {
            "c": 43,
            "layer": "v14",
            "t": "2014-01-11"
           },
           {
            "c": 118,
            "layer": "v0",
            "t": "2014-01-12"
           },
           {
            "c": 163,
            "layer": "v1",
            "t": "2014-01-12"
           },
           {
            "c": 143,
            "layer": "v2",
            "t": "2014-01-12"
           },
           {
            "c": 128,
            "layer": "v3",
            "t": "2014-01-12"
           },
           {
            "c": 266,
            "layer": "v4",
            "t": "2014-01-12"
           },
           {
            "c": 133,
            "layer": "v5",
            "t": "2014-01-12"
           },
           {
            "c": 128,
            "layer": "v6",
            "t": "2014-01-12"
           },
           {
            "c": 172,
            "layer": "v7",
            "t": "2014-01-12"
           },
           {
            "c": 84,
            "layer": "v8",
            "t": "2014-01-12"
           },
           {
            "c": 107,
            "layer": "v9",
            "t": "2014-01-12"
           },
           {
            "c": 149,
            "layer": "v10",
            "t": "2014-01-12"
           },
           {
            "c": 124,
            "layer": "v11",
            "t": "2014-01-12"
           },
           {
            "c": 141,
            "layer": "v12",
            "t": "2014-01-12"
           },
           {
            "c": 105,
            "layer": "v13",
            "t": "2014-01-12"
           },
           {
            "c": 46,
            "layer": "v14",
            "t": "2014-01-12"
           },
           {
            "c": 126,
            "layer": "v0",
            "t": "2014-01-13"
           },
           {
            "c": 160,
            "layer": "v1",
            "t": "2014-01-13"
           },
           {
            "c": 148,
            "layer": "v2",
            "t": "2014-01-13"
           },
           {
            "c": 134,
            "layer": "v3",
            "t": "2014-01-13"
           },
           {
            "c": 269,
            "layer": "v4",
            "t": "2014-01-13"
           },
           {
            "c": 152,
            "layer": "v5",
            "t": "2014-01-13"
           },
           {
            "c": 134,
            "layer": "v6",
            "t": "2014-01-13"
           },
           {
            "c": 190,
            "layer": "v7",
            "t": "2014-01-13"
           },
           {
            "c": 93,
            "layer": "v8",
            "t": "2014-01-13"
           },
           {
            "c": 154,
            "layer": "v9",
            "t": "2014-01-13"
           },
           {
            "c": 160,
            "layer": "v10",
            "t": "2014-01-13"
           },
           {
            "c": 68,
            "layer": "v11",
            "t": "2014-01-13"
           },
           {
            "c": 146,
            "layer": "v12",
            "t": "2014-01-13"
           },
           {
            "c": 99,
            "layer": "v13",
            "t": "2014-01-13"
           },
           {
            "c": 48,
            "layer": "v14",
            "t": "2014-01-13"
           },
           {
            "c": 130,
            "layer": "v0",
            "t": "2014-01-14"
           },
           {
            "c": 156,
            "layer": "v1",
            "t": "2014-01-14"
           },
           {
            "c": 151,
            "layer": "v2",
            "t": "2014-01-14"
           },
           {
            "c": 156,
            "layer": "v3",
            "t": "2014-01-14"
           },
           {
            "c": 279,
            "layer": "v4",
            "t": "2014-01-14"
           },
           {
            "c": 172,
            "layer": "v5",
            "t": "2014-01-14"
           },
           {
            "c": 145,
            "layer": "v6",
            "t": "2014-01-14"
           },
           {
            "c": 201,
            "layer": "v7",
            "t": "2014-01-14"
           },
           {
            "c": 103,
            "layer": "v8",
            "t": "2014-01-14"
           },
           {
            "c": 178,
            "layer": "v9",
            "t": "2014-01-14"
           },
           {
            "c": 171,
            "layer": "v10",
            "t": "2014-01-14"
           },
           {
            "c": 58,
            "layer": "v11",
            "t": "2014-01-14"
           },
           {
            "c": 152,
            "layer": "v12",
            "t": "2014-01-14"
           },
           {
            "c": 107,
            "layer": "v13",
            "t": "2014-01-14"
           },
           {
            "c": 50,
            "layer": "v14",
            "t": "2014-01-14"
           },
           {
            "c": 130,
            "layer": "v0",
            "t": "2014-01-15"
           },
           {
            "c": 172,
            "layer": "v1",
            "t": "2014-01-15"
           },
           {
            "c": 148,
            "layer": "v2",
            "t": "2014-01-15"
           },
           {
            "c": 185,
            "layer": "v3",
            "t": "2014-01-15"
           },
           {
            "c": 307,
            "layer": "v4",
            "t": "2014-01-15"
           },
           {
            "c": 195,
            "layer": "v5",
            "t": "2014-01-15"
           },
           {
            "c": 157,
            "layer": "v6",
            "t": "2014-01-15"
           },
           {
            "c": 208,
            "layer": "v7",
            "t": "2014-01-15"
           },
           {
            "c": 109,
            "layer": "v8",
            "t": "2014-01-15"
           },
           {
            "c": 164,
            "layer": "v9",
            "t": "2014-01-15"
           },
           {
            "c": 182,
            "layer": "v10",
            "t": "2014-01-15"
           },
           {
            "c": 61,
            "layer": "v11",
            "t": "2014-01-15"
           },
           {
            "c": 159,
            "layer": "v12",
            "t": "2014-01-15"
           },
           {
            "c": 134,
            "layer": "v13",
            "t": "2014-01-15"
           },
           {
            "c": 56,
            "layer": "v14",
            "t": "2014-01-15"
           },
           {
            "c": 131,
            "layer": "v0",
            "t": "2014-01-16"
           },
           {
            "c": 198,
            "layer": "v1",
            "t": "2014-01-16"
           },
           {
            "c": 145,
            "layer": "v2",
            "t": "2014-01-16"
           },
           {
            "c": 214,
            "layer": "v3",
            "t": "2014-01-16"
           },
           {
            "c": 344,
            "layer": "v4",
            "t": "2014-01-16"
           },
           {
            "c": 219,
            "layer": "v5",
            "t": "2014-01-16"
           },
           {
            "c": 167,
            "layer": "v6",
            "t": "2014-01-16"
           },
           {
            "c": 214,
            "layer": "v7",
            "t": "2014-01-16"
           },
           {
            "c": 114,
            "layer": "v8",
            "t": "2014-01-16"
           },
           {
            "c": 132,
            "layer": "v9",
            "t": "2014-01-16"
           },
           {
            "c": 190,
            "layer": "v10",
            "t": "2014-01-16"
           },
           {
            "c": 68,
            "layer": "v11",
            "t": "2014-01-16"
           },
           {
            "c": 166,
            "layer": "v12",
            "t": "2014-01-16"
           },
           {
            "c": 184,
            "layer": "v13",
            "t": "2014-01-16"
           },
           {
            "c": 76,
            "layer": "v14",
            "t": "2014-01-16"
           },
           {
            "c": 133,
            "layer": "v0",
            "t": "2014-01-17"
           },
           {
            "c": 228,
            "layer": "v1",
            "t": "2014-01-17"
           },
           {
            "c": 151,
            "layer": "v2",
            "t": "2014-01-17"
           },
           {
            "c": 256,
            "layer": "v3",
            "t": "2014-01-17"
           },
           {
            "c": 389,
            "layer": "v4",
            "t": "2014-01-17"
           },
           {
            "c": 244,
            "layer": "v5",
            "t": "2014-01-17"
           },
           {
            "c": 185,
            "layer": "v6",
            "t": "2014-01-17"
           },
           {
            "c": 225,
            "layer": "v7",
            "t": "2014-01-17"
           },
           {
            "c": 128,
            "layer": "v8",
            "t": "2014-01-17"
           },
           {
            "c": 113,
            "layer": "v9",
            "t": "2014-01-17"
           },
           {
            "c": 194,
            "layer": "v10",
            "t": "2014-01-17"
           },
           {
            "c": 79,
            "layer": "v11",
            "t": "2014-01-17"
           },
           {
            "c": 174,
            "layer": "v12",
            "t": "2014-01-17"
           },
           {
            "c": 250,
            "layer": "v13",
            "t": "2014-01-17"
           },
           {
            "c": 120,
            "layer": "v14",
            "t": "2014-01-17"
           },
           {
            "c": 140,
            "layer": "v0",
            "t": "2014-01-18"
           },
           {
            "c": 259,
            "layer": "v1",
            "t": "2014-01-18"
           },
           {
            "c": 172,
            "layer": "v2",
            "t": "2014-01-18"
           },
           {
            "c": 311,
            "layer": "v3",
            "t": "2014-01-18"
           },
           {
            "c": 435,
            "layer": "v4",
            "t": "2014-01-18"
           },
           {
            "c": 269,
            "layer": "v5",
            "t": "2014-01-18"
           },
           {
            "c": 201,
            "layer": "v6",
            "t": "2014-01-18"
           },
           {
            "c": 261,
            "layer": "v7",
            "t": "2014-01-18"
           },
           {
            "c": 156,
            "layer": "v8",
            "t": "2014-01-18"
           },
           {
            "c": 119,
            "layer": "v9",
            "t": "2014-01-18"
           },
           {
            "c": 192,
            "layer": "v10",
            "t": "2014-01-18"
           },
           {
            "c": 94,
            "layer": "v11",
            "t": "2014-01-18"
           },
           {
            "c": 180,
            "layer": "v12",
            "t": "2014-01-18"
           },
           {
            "c": 311,
            "layer": "v13",
            "t": "2014-01-18"
           },
           {
            "c": 152,
            "layer": "v14",
            "t": "2014-01-18"
           },
           {
            "c": 150,
            "layer": "v0",
            "t": "2014-01-19"
           },
           {
            "c": 290,
            "layer": "v1",
            "t": "2014-01-19"
           },
           {
            "c": 218,
            "layer": "v2",
            "t": "2014-01-19"
           },
           {
            "c": 365,
            "layer": "v3",
            "t": "2014-01-19"
           },
           {
            "c": 475,
            "layer": "v4",
            "t": "2014-01-19"
           },
           {
            "c": 293,
            "layer": "v5",
            "t": "2014-01-19"
           },
           {
            "c": 193,
            "layer": "v6",
            "t": "2014-01-19"
           },
           {
            "c": 334,
            "layer": "v7",
            "t": "2014-01-19"
           },
           {
            "c": 192,
            "layer": "v8",
            "t": "2014-01-19"
           },
           {
            "c": 139,
            "layer": "v9",
            "t": "2014-01-19"
           },
           {
            "c": 185,
            "layer": "v10",
            "t": "2014-01-19"
           },
           {
            "c": 112,
            "layer": "v11",
            "t": "2014-01-19"
           },
           {
            "c": 185,
            "layer": "v12",
            "t": "2014-01-19"
           },
           {
            "c": 342,
            "layer": "v13",
            "t": "2014-01-19"
           },
           {
            "c": 172,
            "layer": "v14",
            "t": "2014-01-19"
           },
           {
            "c": 164,
            "layer": "v0",
            "t": "2014-01-20"
           },
           {
            "c": 321,
            "layer": "v1",
            "t": "2014-01-20"
           },
           {
            "c": 307,
            "layer": "v2",
            "t": "2014-01-20"
           },
           {
            "c": 402,
            "layer": "v3",
            "t": "2014-01-20"
           },
           {
            "c": 502,
            "layer": "v4",
            "t": "2014-01-20"
           },
           {
            "c": 314,
            "layer": "v5",
            "t": "2014-01-20"
           },
           {
            "c": 193,
            "layer": "v6",
            "t": "2014-01-20"
           },
           {
            "c": 379,
            "layer": "v7",
            "t": "2014-01-20"
           },
           {
            "c": 216,
            "layer": "v8",
            "t": "2014-01-20"
           },
           {
            "c": 158,
            "layer": "v9",
            "t": "2014-01-20"
           },
           {
            "c": 172,
            "layer": "v10",
            "t": "2014-01-20"
           },
           {
            "c": 135,
            "layer": "v11",
            "t": "2014-01-20"
           },
           {
            "c": 189,
            "layer": "v12",
            "t": "2014-01-20"
           },
           {
            "c": 343,
            "layer": "v13",
            "t": "2014-01-20"
           },
           {
            "c": 203,
            "layer": "v14",
            "t": "2014-01-20"
           },
           {
            "c": 182,
            "layer": "v0",
            "t": "2014-01-21"
           },
           {
            "c": 349,
            "layer": "v1",
            "t": "2014-01-21"
           },
           {
            "c": 444,
            "layer": "v2",
            "t": "2014-01-21"
           },
           {
            "c": 417,
            "layer": "v3",
            "t": "2014-01-21"
           },
           {
            "c": 514,
            "layer": "v4",
            "t": "2014-01-21"
           },
           {
            "c": 332,
            "layer": "v5",
            "t": "2014-01-21"
           },
           {
            "c": 207,
            "layer": "v6",
            "t": "2014-01-21"
           },
           {
            "c": 362,
            "layer": "v7",
            "t": "2014-01-21"
           },
           {
            "c": 222,
            "layer": "v8",
            "t": "2014-01-21"
           },
           {
            "c": 169,
            "layer": "v9",
            "t": "2014-01-21"
           },
           {
            "c": 157,
            "layer": "v10",
            "t": "2014-01-21"
           },
           {
            "c": 165,
            "layer": "v11",
            "t": "2014-01-21"
           },
           {
            "c": 191,
            "layer": "v12",
            "t": "2014-01-21"
           },
           {
            "c": 332,
            "layer": "v13",
            "t": "2014-01-21"
           },
           {
            "c": 243,
            "layer": "v14",
            "t": "2014-01-21"
           },
           {
            "c": 202,
            "layer": "v0",
            "t": "2014-01-22"
           },
           {
            "c": 377,
            "layer": "v1",
            "t": "2014-01-22"
           },
           {
            "c": 580,
            "layer": "v2",
            "t": "2014-01-22"
           },
           {
            "c": 410,
            "layer": "v3",
            "t": "2014-01-22"
           },
           {
            "c": 512,
            "layer": "v4",
            "t": "2014-01-22"
           },
           {
            "c": 348,
            "layer": "v5",
            "t": "2014-01-22"
           },
           {
            "c": 224,
            "layer": "v6",
            "t": "2014-01-22"
           },
           {
            "c": 343,
            "layer": "v7",
            "t": "2014-01-22"
           },
           {
            "c": 224,
            "layer": "v8",
            "t": "2014-01-22"
           },
           {
            "c": 185,
            "layer": "v9",
            "t": "2014-01-22"
           },
           {
            "c": 143,
            "layer": "v10",
            "t": "2014-01-22"
           },
           {
            "c": 199,
            "layer": "v11",
            "t": "2014-01-22"
           },
           {
            "c": 193,
            "layer": "v12",
            "t": "2014-01-22"
           },
           {
            "c": 324,
            "layer": "v13",
            "t": "2014-01-22"
           },
           {
            "c": 304,
            "layer": "v14",
            "t": "2014-01-22"
           },
           {
            "c": 224,
            "layer": "v0",
            "t": "2014-01-23"
           },
           {
            "c": 402,
            "layer": "v1",
            "t": "2014-01-23"
           },
           {
            "c": 641,
            "layer": "v2",
            "t": "2014-01-23"
           },
           {
            "c": 391,
            "layer": "v3",
            "t": "2014-01-23"
           },
           {
            "c": 500,
            "layer": "v4",
            "t": "2014-01-23"
           },
           {
            "c": 364,
            "layer": "v5",
            "t": "2014-01-23"
           },
           {
            "c": 240,
            "layer": "v6",
            "t": "2014-01-23"
           },
           {
            "c": 333,
            "layer": "v7",
            "t": "2014-01-23"
           },
           {
            "c": 234,
            "layer": "v8",
            "t": "2014-01-23"
           },
           {
            "c": 232,
            "layer": "v9",
            "t": "2014-01-23"
           },
           {
            "c": 131,
            "layer": "v10",
            "t": "2014-01-23"
           },
           {
            "c": 230,
            "layer": "v11",
            "t": "2014-01-23"
           },
           {
            "c": 193,
            "layer": "v12",
            "t": "2014-01-23"
           },
           {
            "c": 330,
            "layer": "v13",
            "t": "2014-01-23"
           },
           {
            "c": 370,
            "layer": "v14",
            "t": "2014-01-23"
           },
           {
            "c": 249,
            "layer": "v0",
            "t": "2014-01-24"
           },
           {
            "c": 425,
            "layer": "v1",
            "t": "2014-01-24"
           },
           {
            "c": 629,
            "layer": "v2",
            "t": "2014-01-24"
           },
           {
            "c": 368,
            "layer": "v3",
            "t": "2014-01-24"
           },
           {
            "c": 479,
            "layer": "v4",
            "t": "2014-01-24"
           },
           {
            "c": 380,
            "layer": "v5",
            "t": "2014-01-24"
           },
           {
            "c": 257,
            "layer": "v6",
            "t": "2014-01-24"
           },
           {
            "c": 335,
            "layer": "v7",
            "t": "2014-01-24"
           },
           {
            "c": 251,
            "layer": "v8",
            "t": "2014-01-24"
           },
           {
            "c": 323,
            "layer": "v9",
            "t": "2014-01-24"
           },
           {
            "c": 125,
            "layer": "v10",
            "t": "2014-01-24"
           },
           {
            "c": 257,
            "layer": "v11",
            "t": "2014-01-24"
           },
           {
            "c": 196,
            "layer": "v12",
            "t": "2014-01-24"
           },
           {
            "c": 349,
            "layer": "v13",
            "t": "2014-01-24"
           },
           {
            "c": 433,
            "layer": "v14",
            "t": "2014-01-24"
           },
           {
            "c": 274,
            "layer": "v0",
            "t": "2014-01-25"
           },
           {
            "c": 443,
            "layer": "v1",
            "t": "2014-01-25"
           },
           {
            "c": 611,
            "layer": "v2",
            "t": "2014-01-25"
           },
           {
            "c": 347,
            "layer": "v3",
            "t": "2014-01-25"
           },
           {
            "c": 443,
            "layer": "v4",
            "t": "2014-01-25"
           },
           {
            "c": 397,
            "layer": "v5",
            "t": "2014-01-25"
           },
           {
            "c": 277,
            "layer": "v6",
            "t": "2014-01-25"
           },
           {
            "c": 348,
            "layer": "v7",
            "t": "2014-01-25"
           },
           {
            "c": 272,
            "layer": "v8",
            "t": "2014-01-25"
           },
           {
            "c": 410,
            "layer": "v9",
            "t": "2014-01-25"
           },
           {
            "c": 124,
            "layer": "v10",
            "t": "2014-01-25"
           },
           {
            "c": 284,
            "layer": "v11",
            "t": "2014-01-25"
           },
           {
            "c": 204,
            "layer": "v12",
            "t": "2014-01-25"
           },
           {
            "c": 376,
            "layer": "v13",
            "t": "2014-01-25"
           },
           {
            "c": 495,
            "layer": "v14",
            "t": "2014-01-25"
           },
           {
            "c": 298,
            "layer": "v0",
            "t": "2014-01-26"
           },
           {
            "c": 459,
            "layer": "v1",
            "t": "2014-01-26"
           },
           {
            "c": 617,
            "layer": "v2",
            "t": "2014-01-26"
           },
           {
            "c": 333,
            "layer": "v3",
            "t": "2014-01-26"
           },
           {
            "c": 401,
            "layer": "v4",
            "t": "2014-01-26"
           },
           {
            "c": 414,
            "layer": "v5",
            "t": "2014-01-26"
           },
           {
            "c": 300,
            "layer": "v6",
            "t": "2014-01-26"
           },
           {
            "c": 368,
            "layer": "v7",
            "t": "2014-01-26"
           },
           {
            "c": 301,
            "layer": "v8",
            "t": "2014-01-26"
           },
           {
            "c": 413,
            "layer": "v9",
            "t": "2014-01-26"
           },
           {
            "c": 129,
            "layer": "v10",
            "t": "2014-01-26"
           },
           {
            "c": 320,
            "layer": "v11",
            "t": "2014-01-26"
           },
           {
            "c": 218,
            "layer": "v12",
            "t": "2014-01-26"
           },
           {
            "c": 406,
            "layer": "v13",
            "t": "2014-01-26"
           },
           {
            "c": 558,
            "layer": "v14",
            "t": "2014-01-26"
           },
           {
            "c": 322,
            "layer": "v0",
            "t": "2014-01-27"
           },
           {
            "c": 473,
            "layer": "v1",
            "t": "2014-01-27"
           },
           {
            "c": 636,
            "layer": "v2",
            "t": "2014-01-27"
           },
           {
            "c": 327,
            "layer": "v3",
            "t": "2014-01-27"
           },
           {
            "c": 367,
            "layer": "v4",
            "t": "2014-01-27"
           },
           {
            "c": 433,
            "layer": "v5",
            "t": "2014-01-27"
           },
           {
            "c": 328,
            "layer": "v6",
            "t": "2014-01-27"
           },
           {
            "c": 384,
            "layer": "v7",
            "t": "2014-01-27"
           },
           {
            "c": 340,
            "layer": "v8",
            "t": "2014-01-27"
           },
           {
            "c": 344,
            "layer": "v9",
            "t": "2014-01-27"
           },
           {
            "c": 139,
            "layer": "v10",
            "t": "2014-01-27"
           },
           {
            "c": 364,
            "layer": "v11",
            "t": "2014-01-27"
           },
           {
            "c": 217,
            "layer": "v12",
            "t": "2014-01-27"
           },
           {
            "c": 444,
            "layer": "v13",
            "t": "2014-01-27"
           },
           {
            "c": 618,
            "layer": "v14",
            "t": "2014-01-27"
           },
           {
            "c": 344,
            "layer": "v0",
            "t": "2014-01-28"
           },
           {
            "c": 486,
            "layer": "v1",
            "t": "2014-01-28"
           },
           {
            "c": 658,
            "layer": "v2",
            "t": "2014-01-28"
           },
           {
            "c": 329,
            "layer": "v3",
            "t": "2014-01-28"
           },
           {
            "c": 348,
            "layer": "v4",
            "t": "2014-01-28"
           },
           {
            "c": 452,
            "layer": "v5",
            "t": "2014-01-28"
           },
           {
            "c": 366,
            "layer": "v6",
            "t": "2014-01-28"
           },
           {
            "c": 393,
            "layer": "v7",
            "t": "2014-01-28"
           },
           {
            "c": 382,
            "layer": "v8",
            "t": "2014-01-28"
           },
           {
            "c": 288,
            "layer": "v9",
            "t": "2014-01-28"
           },
           {
            "c": 153,
            "layer": "v10",
            "t": "2014-01-28"
           },
           {
            "c": 412,
            "layer": "v11",
            "t": "2014-01-28"
           },
           {
            "c": 196,
            "layer": "v12",
            "t": "2014-01-28"
           },
           {
            "c": 495,
            "layer": "v13",
            "t": "2014-01-28"
           },
           {
            "c": 672,
            "layer": "v14",
            "t": "2014-01-28"
           },
           {
            "c": 367,
            "layer": "v0",
            "t": "2014-01-29"
           },
           {
            "c": 497,
            "layer": "v1",
            "t": "2014-01-29"
           },
           {
            "c": 686,
            "layer": "v2",
            "t": "2014-01-29"
           },
           {
            "c": 340,
            "layer": "v3",
            "t": "2014-01-29"
           },
           {
            "c": 343,
            "layer": "v4",
            "t": "2014-01-29"
           },
           {
            "c": 471,
            "layer": "v5",
            "t": "2014-01-29"
           },
           {
            "c": 408,
            "layer": "v6",
            "t": "2014-01-29"
           },
           {
            "c": 395,
            "layer": "v7",
            "t": "2014-01-29"
           },
           {
            "c": 413,
            "layer": "v8",
            "t": "2014-01-29"
           },
           {
            "c": 296,
            "layer": "v9",
            "t": "2014-01-29"
           },
           {
            "c": 170,
            "layer": "v10",
            "t": "2014-01-29"
           },
           {
            "c": 455,
            "layer": "v11",
            "t": "2014-01-29"
           },
           {
            "c": 176,
            "layer": "v12",
            "t": "2014-01-29"
           },
           {
            "c": 551,
            "layer": "v13",
            "t": "2014-01-29"
           },
           {
            "c": 718,
            "layer": "v14",
            "t": "2014-01-29"
           },
           {
            "c": 393,
            "layer": "v0",
            "t": "2014-01-30"
           },
           {
            "c": 507,
            "layer": "v1",
            "t": "2014-01-30"
           },
           {
            "c": 720,
            "layer": "v2",
            "t": "2014-01-30"
           },
           {
            "c": 359,
            "layer": "v3",
            "t": "2014-01-30"
           },
           {
            "c": 347,
            "layer": "v4",
            "t": "2014-01-30"
           },
           {
            "c": 489,
            "layer": "v5",
            "t": "2014-01-30"
           },
           {
            "c": 417,
            "layer": "v6",
            "t": "2014-01-30"
           },
           {
            "c": 392,
            "layer": "v7",
            "t": "2014-01-30"
           },
           {
            "c": 421,
            "layer": "v8",
            "t": "2014-01-30"
           },
           {
            "c": 348,
            "layer": "v9",
            "t": "2014-01-30"
           },
           {
            "c": 187,
            "layer": "v10",
            "t": "2014-01-30"
           },
           {
            "c": 485,
            "layer": "v11",
            "t": "2014-01-30"
           },
           {
            "c": 166,
            "layer": "v12",
            "t": "2014-01-30"
           },
           {
            "c": 588,
            "layer": "v13",
            "t": "2014-01-30"
           },
           {
            "c": 755,
            "layer": "v14",
            "t": "2014-01-30"
           },
           {
            "c": 423,
            "layer": "v0",
            "t": "2014-01-31"
           },
           {
            "c": 512,
            "layer": "v1",
            "t": "2014-01-31"
           },
           {
            "c": 755,
            "layer": "v2",
            "t": "2014-01-31"
           },
           {
            "c": 386,
            "layer": "v3",
            "t": "2014-01-31"
           },
           {
            "c": 359,
            "layer": "v4",
            "t": "2014-01-31"
           },
           {
            "c": 507,
            "layer": "v5",
            "t": "2014-01-31"
           },
           {
            "c": 403,
            "layer": "v6",
            "t": "2014-01-31"
           },
           {
            "c": 389,
            "layer": "v7",
            "t": "2014-01-31"
           },
           {
            "c": 402,
            "layer": "v8",
            "t": "2014-01-31"
           },
           {
            "c": 361,
            "layer": "v9",
            "t": "2014-01-31"
           },
           {
            "c": 206,
            "layer": "v10",
            "t": "2014-01-31"
           },
           {
            "c": 501,
            "layer": "v11",
            "t": "2014-01-31"
           },
           {
            "c": 161,
            "layer": "v12",
            "t": "2014-01-31"
           },
           {
            "c": 602,
            "layer": "v13",
            "t": "2014-01-31"
           },
           {
            "c": 782,
            "layer": "v14",
            "t": "2014-01-31"
           },
           {
            "c": 458,
            "layer": "v0",
            "t": "2014-02-01"
           },
           {
            "c": 513,
            "layer": "v1",
            "t": "2014-02-01"
           },
           {
            "c": 784,
            "layer": "v2",
            "t": "2014-02-01"
           },
           {
            "c": 420,
            "layer": "v3",
            "t": "2014-02-01"
           },
           {
            "c": 376,
            "layer": "v4",
            "t": "2014-02-01"
           },
           {
            "c": 528,
            "layer": "v5",
            "t": "2014-02-01"
           },
           {
            "c": 382,
            "layer": "v6",
            "t": "2014-02-01"
           },
           {
            "c": 389,
            "layer": "v7",
            "t": "2014-02-01"
           },
           {
            "c": 366,
            "layer": "v8",
            "t": "2014-02-01"
           },
           {
            "c": 362,
            "layer": "v9",
            "t": "2014-02-01"
           },
           {
            "c": 228,
            "layer": "v10",
            "t": "2014-02-01"
           },
           {
            "c": 501,
            "layer": "v11",
            "t": "2014-02-01"
           },
           {
            "c": 158,
            "layer": "v12",
            "t": "2014-02-01"
           },
           {
            "c": 615,
            "layer": "v13",
            "t": "2014-02-01"
           },
           {
            "c": 799,
            "layer": "v14",
            "t": "2014-02-01"
           },
           {
            "c": 496,
            "layer": "v0",
            "t": "2014-02-02"
           },
           {
            "c": 510,
            "layer": "v1",
            "t": "2014-02-02"
           },
           {
            "c": 803,
            "layer": "v2",
            "t": "2014-02-02"
           },
           {
            "c": 457,
            "layer": "v3",
            "t": "2014-02-02"
           },
           {
            "c": 397,
            "layer": "v4",
            "t": "2014-02-02"
           },
           {
            "c": 560,
            "layer": "v5",
            "t": "2014-02-02"
           },
           {
            "c": 357,
            "layer": "v6",
            "t": "2014-02-02"
           },
           {
            "c": 395,
            "layer": "v7",
            "t": "2014-02-02"
           },
           {
            "c": 324,
            "layer": "v8",
            "t": "2014-02-02"
           },
           {
            "c": 375,
            "layer": "v9",
            "t": "2014-02-02"
           },
           {
            "c": 252,
            "layer": "v10",
            "t": "2014-02-02"
           },
           {
            "c": 491,
            "layer": "v11",
            "t": "2014-02-02"
           },
           {
            "c": 155,
            "layer": "v12",
            "t": "2014-02-02"
           },
           {
            "c": 647,
            "layer": "v13",
            "t": "2014-02-02"
           },
           {
            "c": 809,
            "layer": "v14",
            "t": "2014-02-02"
           },
           {
            "c": 534,
            "layer": "v0",
            "t": "2014-02-03"
           },
           {
            "c": 503,
            "layer": "v1",
            "t": "2014-02-03"
           },
           {
            "c": 810,
            "layer": "v2",
            "t": "2014-02-03"
           },
           {
            "c": 495,
            "layer": "v3",
            "t": "2014-02-03"
           },
           {
            "c": 421,
            "layer": "v4",
            "t": "2014-02-03"
           },
           {
            "c": 619,
            "layer": "v5",
            "t": "2014-02-03"
           },
           {
            "c": 336,
            "layer": "v6",
            "t": "2014-02-03"
           },
           {
            "c": 406,
            "layer": "v7",
            "t": "2014-02-03"
           },
           {
            "c": 284,
            "layer": "v8",
            "t": "2014-02-03"
           },
           {
            "c": 389,
            "layer": "v9",
            "t": "2014-02-03"
           },
           {
            "c": 269,
            "layer": "v10",
            "t": "2014-02-03"
           },
           {
            "c": 478,
            "layer": "v11",
            "t": "2014-02-03"
           },
           {
            "c": 152,
            "layer": "v12",
            "t": "2014-02-03"
           },
           {
            "c": 695,
            "layer": "v13",
            "t": "2014-02-03"
           },
           {
            "c": 817,
            "layer": "v14",
            "t": "2014-02-03"
           },
           {
            "c": 567,
            "layer": "v0",
            "t": "2014-02-04"
           },
           {
            "c": 495,
            "layer": "v1",
            "t": "2014-02-04"
           },
           {
            "c": 802,
            "layer": "v2",
            "t": "2014-02-04"
           },
           {
            "c": 533,
            "layer": "v3",
            "t": "2014-02-04"
           },
           {
            "c": 447,
            "layer": "v4",
            "t": "2014-02-04"
           },
           {
            "c": 680,
            "layer": "v5",
            "t": "2014-02-04"
           },
           {
            "c": 326,
            "layer": "v6",
            "t": "2014-02-04"
           },
           {
            "c": 421,
            "layer": "v7",
            "t": "2014-02-04"
           },
           {
            "c": 252,
            "layer": "v8",
            "t": "2014-02-04"
           },
           {
            "c": 409,
            "layer": "v9",
            "t": "2014-02-04"
           },
           {
            "c": 273,
            "layer": "v10",
            "t": "2014-02-04"
           },
           {
            "c": 465,
            "layer": "v11",
            "t": "2014-02-04"
           },
           {
            "c": 150,
            "layer": "v12",
            "t": "2014-02-04"
           },
           {
            "c": 744,
            "layer": "v13",
            "t": "2014-02-04"
           },
           {
            "c": 828,
            "layer": "v14",
            "t": "2014-02-04"
           },
           {
            "c": 590,
            "layer": "v0",
            "t": "2014-02-05"
           },
           {
            "c": 487,
            "layer": "v1",
            "t": "2014-02-05"
           },
           {
            "c": 779,
            "layer": "v2",
            "t": "2014-02-05"
           },
           {
            "c": 570,
            "layer": "v3",
            "t": "2014-02-05"
           },
           {
            "c": 475,
            "layer": "v4",
            "t": "2014-02-05"
           },
           {
            "c": 695,
            "layer": "v5",
            "t": "2014-02-05"
           },
           {
            "c": 328,
            "layer": "v6",
            "t": "2014-02-05"
           },
           {
            "c": 443,
            "layer": "v7",
            "t": "2014-02-05"
           },
           {
            "c": 233,
            "layer": "v8",
            "t": "2014-02-05"
           },
           {
            "c": 430,
            "layer": "v9",
            "t": "2014-02-05"
           },
           {
            "c": 274,
            "layer": "v10",
            "t": "2014-02-05"
           },
           {
            "c": 456,
            "layer": "v11",
            "t": "2014-02-05"
           },
           {
            "c": 152,
            "layer": "v12",
            "t": "2014-02-05"
           },
           {
            "c": 778,
            "layer": "v13",
            "t": "2014-02-05"
           },
           {
            "c": 848,
            "layer": "v14",
            "t": "2014-02-05"
           },
           {
            "c": 600,
            "layer": "v0",
            "t": "2014-02-06"
           },
           {
            "c": 480,
            "layer": "v1",
            "t": "2014-02-06"
           },
           {
            "c": 745,
            "layer": "v2",
            "t": "2014-02-06"
           },
           {
            "c": 606,
            "layer": "v3",
            "t": "2014-02-06"
           },
           {
            "c": 506,
            "layer": "v4",
            "t": "2014-02-06"
           },
           {
            "c": 707,
            "layer": "v5",
            "t": "2014-02-06"
           },
           {
            "c": 342,
            "layer": "v6",
            "t": "2014-02-06"
           },
           {
            "c": 483,
            "layer": "v7",
            "t": "2014-02-06"
           },
           {
            "c": 228,
            "layer": "v8",
            "t": "2014-02-06"
           },
           {
            "c": 442,
            "layer": "v9",
            "t": "2014-02-06"
           },
           {
            "c": 283,
            "layer": "v10",
            "t": "2014-02-06"
           },
           {
            "c": 450,
            "layer": "v11",
            "t": "2014-02-06"
           },
           {
            "c": 161,
            "layer": "v12",
            "t": "2014-02-06"
           },
           {
            "c": 792,
            "layer": "v13",
            "t": "2014-02-06"
           },
           {
            "c": 882,
            "layer": "v14",
            "t": "2014-02-06"
           },
           {
            "c": 594,
            "layer": "v0",
            "t": "2014-02-07"
           },
           {
            "c": 474,
            "layer": "v1",
            "t": "2014-02-07"
           },
           {
            "c": 704,
            "layer": "v2",
            "t": "2014-02-07"
           },
           {
            "c": 639,
            "layer": "v3",
            "t": "2014-02-07"
           },
           {
            "c": 538,
            "layer": "v4",
            "t": "2014-02-07"
           },
           {
            "c": 759,
            "layer": "v5",
            "t": "2014-02-07"
           },
           {
            "c": 363,
            "layer": "v6",
            "t": "2014-02-07"
           },
           {
            "c": 543,
            "layer": "v7",
            "t": "2014-02-07"
           },
           {
            "c": 236,
            "layer": "v8",
            "t": "2014-02-07"
           },
           {
            "c": 435,
            "layer": "v9",
            "t": "2014-02-07"
           },
           {
            "c": 304,
            "layer": "v10",
            "t": "2014-02-07"
           },
           {
            "c": 443,
            "layer": "v11",
            "t": "2014-02-07"
           },
           {
            "c": 180,
            "layer": "v12",
            "t": "2014-02-07"
           },
           {
            "c": 790,
            "layer": "v13",
            "t": "2014-02-07"
           },
           {
            "c": 929,
            "layer": "v14",
            "t": "2014-02-07"
           },
           {
            "c": 573,
            "layer": "v0",
            "t": "2014-02-08"
           },
           {
            "c": 472,
            "layer": "v1",
            "t": "2014-02-08"
           },
           {
            "c": 661,
            "layer": "v2",
            "t": "2014-02-08"
           },
           {
            "c": 669,
            "layer": "v3",
            "t": "2014-02-08"
           },
           {
            "c": 572,
            "layer": "v4",
            "t": "2014-02-08"
           },
           {
            "c": 828,
            "layer": "v5",
            "t": "2014-02-08"
           },
           {
            "c": 391,
            "layer": "v6",
            "t": "2014-02-08"
           },
           {
            "c": 597,
            "layer": "v7",
            "t": "2014-02-08"
           },
           {
            "c": 256,
            "layer": "v8",
            "t": "2014-02-08"
           },
           {
            "c": 423,
            "layer": "v9",
            "t": "2014-02-08"
           },
           {
            "c": 339,
            "layer": "v10",
            "t": "2014-02-08"
           },
           {
            "c": 434,
            "layer": "v11",
            "t": "2014-02-08"
           },
           {
            "c": 212,
            "layer": "v12",
            "t": "2014-02-08"
           },
           {
            "c": 782,
            "layer": "v13",
            "t": "2014-02-08"
           },
           {
            "c": 976,
            "layer": "v14",
            "t": "2014-02-08"
           },
           {
            "c": 541,
            "layer": "v0",
            "t": "2014-02-09"
           },
           {
            "c": 486,
            "layer": "v1",
            "t": "2014-02-09"
           },
           {
            "c": 620,
            "layer": "v2",
            "t": "2014-02-09"
           },
           {
            "c": 694,
            "layer": "v3",
            "t": "2014-02-09"
           },
           {
            "c": 605,
            "layer": "v4",
            "t": "2014-02-09"
           },
           {
            "c": 865,
            "layer": "v5",
            "t": "2014-02-09"
           },
           {
            "c": 441,
            "layer": "v6",
            "t": "2014-02-09"
           },
           {
            "c": 610,
            "layer": "v7",
            "t": "2014-02-09"
           },
           {
            "c": 283,
            "layer": "v8",
            "t": "2014-02-09"
           },
           {
            "c": 430,
            "layer": "v9",
            "t": "2014-02-09"
           },
           {
            "c": 389,
            "layer": "v10",
            "t": "2014-02-09"
           },
           {
            "c": 426,
            "layer": "v11",
            "t": "2014-02-09"
           },
           {
            "c": 262,
            "layer": "v12",
            "t": "2014-02-09"
           },
           {
            "c": 776,
            "layer": "v13",
            "t": "2014-02-09"
           },
           {
            "c": 989,
            "layer": "v14",
            "t": "2014-02-09"
           },
           {
            "c": 501,
            "layer": "v0",
            "t": "2014-02-10"
           },
           {
            "c": 515,
            "layer": "v1",
            "t": "2014-02-10"
           },
           {
            "c": 593,
            "layer": "v2",
            "t": "2014-02-10"
           },
           {
            "c": 712,
            "layer": "v3",
            "t": "2014-02-10"
           },
           {
            "c": 635,
            "layer": "v4",
            "t": "2014-02-10"
           },
           {
            "c": 865,
            "layer": "v5",
            "t": "2014-02-10"
           },
           {
            "c": 509,
            "layer": "v6",
            "t": "2014-02-10"
           },
           {
            "c": 594,
            "layer": "v7",
            "t": "2014-02-10"
           },
           {
            "c": 312,
            "layer": "v8",
            "t": "2014-02-10"
           },
           {
            "c": 477,
            "layer": "v9",
            "t": "2014-02-10"
           },
           {
            "c": 468,
            "layer": "v10",
            "t": "2014-02-10"
           },
           {
            "c": 424,
            "layer": "v11",
            "t": "2014-02-10"
           },
           {
            "c": 332,
            "layer": "v12",
            "t": "2014-02-10"
           },
           {
            "c": 780,
            "layer": "v13",
            "t": "2014-02-10"
           },
           {
            "c": 942,
            "layer": "v14",
            "t": "2014-02-10"
           },
           {
            "c": 458,
            "layer": "v0",
            "t": "2014-02-11"
           },
           {
            "c": 516,
            "layer": "v1",
            "t": "2014-02-11"
           },
           {
            "c": 624,
            "layer": "v2",
            "t": "2014-02-11"
           },
           {
            "c": 722,
            "layer": "v3",
            "t": "2014-02-11"
           },
           {
            "c": 659,
            "layer": "v4",
            "t": "2014-02-11"
           },
           {
            "c": 852,
            "layer": "v5",
            "t": "2014-02-11"
           },
           {
            "c": 521,
            "layer": "v6",
            "t": "2014-02-11"
           },
           {
            "c": 590,
            "layer": "v7",
            "t": "2014-02-11"
           },
           {
            "c": 339,
            "layer": "v8",
            "t": "2014-02-11"
           },
           {
            "c": 564,
            "layer": "v9",
            "t": "2014-02-11"
           },
           {
            "c": 590,
            "layer": "v10",
            "t": "2014-02-11"
           },
           {
            "c": 430,
            "layer": "v11",
            "t": "2014-02-11"
           },
           {
            "c": 415,
            "layer": "v12",
            "t": "2014-02-11"
           },
           {
            "c": 795,
            "layer": "v13",
            "t": "2014-02-11"
           },
           {
            "c": 842,
            "layer": "v14",
            "t": "2014-02-11"
           },
           {
            "c": 420,
            "layer": "v0",
            "t": "2014-02-12"
           },
           {
            "c": 480,
            "layer": "v1",
            "t": "2014-02-12"
           },
           {
            "c": 693,
            "layer": "v2",
            "t": "2014-02-12"
           },
           {
            "c": 726,
            "layer": "v3",
            "t": "2014-02-12"
           },
           {
            "c": 675,
            "layer": "v4",
            "t": "2014-02-12"
           },
           {
            "c": 834,
            "layer": "v5",
            "t": "2014-02-12"
           },
           {
            "c": 494,
            "layer": "v6",
            "t": "2014-02-12"
           },
           {
            "c": 612,
            "layer": "v7",
            "t": "2014-02-12"
           },
           {
            "c": 364,
            "layer": "v8",
            "t": "2014-02-12"
           },
           {
            "c": 665,
            "layer": "v9",
            "t": "2014-02-12"
           },
           {
            "c": 725,
            "layer": "v10",
            "t": "2014-02-12"
           },
           {
            "c": 447,
            "layer": "v11",
            "t": "2014-02-12"
           },
           {
            "c": 494,
            "layer": "v12",
            "t": "2014-02-12"
           },
           {
            "c": 813,
            "layer": "v13",
            "t": "2014-02-12"
           },
           {
            "c": 727,
            "layer": "v14",
            "t": "2014-02-12"
           },
           {
            "c": 412,
            "layer": "v0",
            "t": "2014-02-13"
           },
           {
            "c": 454,
            "layer": "v1",
            "t": "2014-02-13"
           },
           {
            "c": 625,
            "layer": "v2",
            "t": "2014-02-13"
           },
           {
            "c": 726,
            "layer": "v3",
            "t": "2014-02-13"
           },
           {
            "c": 681,
            "layer": "v4",
            "t": "2014-02-13"
           },
           {
            "c": 801,
            "layer": "v5",
            "t": "2014-02-13"
           },
           {
            "c": 504,
            "layer": "v6",
            "t": "2014-02-13"
           },
           {
            "c": 646,
            "layer": "v7",
            "t": "2014-02-13"
           },
           {
            "c": 387,
            "layer": "v8",
            "t": "2014-02-13"
           },
           {
            "c": 745,
            "layer": "v9",
            "t": "2014-02-13"
           },
           {
            "c": 787,
            "layer": "v10",
            "t": "2014-02-13"
           },
           {
            "c": 471,
            "layer": "v11",
            "t": "2014-02-13"
           },
           {
            "c": 540,
            "layer": "v12",
            "t": "2014-02-13"
           },
           {
            "c": 822,
            "layer": "v13",
            "t": "2014-02-13"
           },
           {
            "c": 629,
            "layer": "v14",
            "t": "2014-02-13"
           },
           {
            "c": 433,
            "layer": "v0",
            "t": "2014-02-14"
           },
           {
            "c": 461,
            "layer": "v1",
            "t": "2014-02-14"
           },
           {
            "c": 584,
            "layer": "v2",
            "t": "2014-02-14"
           },
           {
            "c": 725,
            "layer": "v3",
            "t": "2014-02-14"
           },
           {
            "c": 679,
            "layer": "v4",
            "t": "2014-02-14"
           },
           {
            "c": 752,
            "layer": "v5",
            "t": "2014-02-14"
           },
           {
            "c": 540,
            "layer": "v6",
            "t": "2014-02-14"
           },
           {
            "c": 676,
            "layer": "v7",
            "t": "2014-02-14"
           },
           {
            "c": 404,
            "layer": "v8",
            "t": "2014-02-14"
           },
           {
            "c": 789,
            "layer": "v9",
            "t": "2014-02-14"
           },
           {
            "c": 758,
            "layer": "v10",
            "t": "2014-02-14"
           },
           {
            "c": 498,
            "layer": "v11",
            "t": "2014-02-14"
           },
           {
            "c": 541,
            "layer": "v12",
            "t": "2014-02-14"
           },
           {
            "c": 815,
            "layer": "v13",
            "t": "2014-02-14"
           },
           {
            "c": 564,
            "layer": "v14",
            "t": "2014-02-14"
           },
           {
            "c": 395,
            "layer": "v0",
            "t": "2014-02-15"
           },
           {
            "c": 493,
            "layer": "v1",
            "t": "2014-02-15"
           },
           {
            "c": 613,
            "layer": "v2",
            "t": "2014-02-15"
           },
           {
            "c": 723,
            "layer": "v3",
            "t": "2014-02-15"
           },
           {
            "c": 669,
            "layer": "v4",
            "t": "2014-02-15"
           },
           {
            "c": 699,
            "layer": "v5",
            "t": "2014-02-15"
           },
           {
            "c": 577,
            "layer": "v6",
            "t": "2014-02-15"
           },
           {
            "c": 692,
            "layer": "v7",
            "t": "2014-02-15"
           },
           {
            "c": 412,
            "layer": "v8",
            "t": "2014-02-15"
           },
           {
            "c": 802,
            "layer": "v9",
            "t": "2014-02-15"
           },
           {
            "c": 695,
            "layer": "v10",
            "t": "2014-02-15"
           },
           {
            "c": 527,
            "layer": "v11",
            "t": "2014-02-15"
           },
           {
            "c": 508,
            "layer": "v12",
            "t": "2014-02-15"
           },
           {
            "c": 802,
            "layer": "v13",
            "t": "2014-02-15"
           },
           {
            "c": 538,
            "layer": "v14",
            "t": "2014-02-15"
           },
           {
            "c": 345,
            "layer": "v0",
            "t": "2014-02-16"
           },
           {
            "c": 503,
            "layer": "v1",
            "t": "2014-02-16"
           },
           {
            "c": 694,
            "layer": "v2",
            "t": "2014-02-16"
           },
           {
            "c": 712,
            "layer": "v3",
            "t": "2014-02-16"
           },
           {
            "c": 652,
            "layer": "v4",
            "t": "2014-02-16"
           },
           {
            "c": 653,
            "layer": "v5",
            "t": "2014-02-16"
           },
           {
            "c": 601,
            "layer": "v6",
            "t": "2014-02-16"
           },
           {
            "c": 693,
            "layer": "v7",
            "t": "2014-02-16"
           },
           {
            "c": 411,
            "layer": "v8",
            "t": "2014-02-16"
           },
           {
            "c": 804,
            "layer": "v9",
            "t": "2014-02-16"
           },
           {
            "c": 617,
            "layer": "v10",
            "t": "2014-02-16"
           },
           {
            "c": 553,
            "layer": "v11",
            "t": "2014-02-16"
           },
           {
            "c": 471,
            "layer": "v12",
            "t": "2014-02-16"
           },
           {
            "c": 798,
            "layer": "v13",
            "t": "2014-02-16"
           },
           {
            "c": 548,
            "layer": "v14",
            "t": "2014-02-16"
           },
           {
            "c": 322,
            "layer": "v0",
            "t": "2014-02-17"
           },
           {
            "c": 499,
            "layer": "v1",
            "t": "2014-02-17"
           },
           {
            "c": 818,
            "layer": "v2",
            "t": "2014-02-17"
           },
           {
            "c": 688,
            "layer": "v3",
            "t": "2014-02-17"
           },
           {
            "c": 632,
            "layer": "v4",
            "t": "2014-02-17"
           },
           {
            "c": 620,
            "layer": "v5",
            "t": "2014-02-17"
           },
           {
            "c": 606,
            "layer": "v6",
            "t": "2014-02-17"
           },
           {
            "c": 686,
            "layer": "v7",
            "t": "2014-02-17"
           },
           {
            "c": 406,
            "layer": "v8",
            "t": "2014-02-17"
           },
           {
            "c": 813,
            "layer": "v9",
            "t": "2014-02-17"
           },
           {
            "c": 555,
            "layer": "v10",
            "t": "2014-02-17"
           },
           {
            "c": 578,
            "layer": "v11",
            "t": "2014-02-17"
           },
           {
            "c": 456,
            "layer": "v12",
            "t": "2014-02-17"
           },
           {
            "c": 814,
            "layer": "v13",
            "t": "2014-02-17"
           },
           {
            "c": 577,
            "layer": "v14",
            "t": "2014-02-17"
           },
           {
            "c": 305,
            "layer": "v0",
            "t": "2014-02-18"
           },
           {
            "c": 529,
            "layer": "v1",
            "t": "2014-02-18"
           },
           {
            "c": 900,
            "layer": "v2",
            "t": "2014-02-18"
           },
           {
            "c": 660,
            "layer": "v3",
            "t": "2014-02-18"
           },
           {
            "c": 610,
            "layer": "v4",
            "t": "2014-02-18"
           },
           {
            "c": 606,
            "layer": "v5",
            "t": "2014-02-18"
           },
           {
            "c": 598,
            "layer": "v6",
            "t": "2014-02-18"
           },
           {
            "c": 673,
            "layer": "v7",
            "t": "2014-02-18"
           },
           {
            "c": 405,
            "layer": "v8",
            "t": "2014-02-18"
           },
           {
            "c": 839,
            "layer": "v9",
            "t": "2014-02-18"
           },
           {
            "c": 527,
            "layer": "v10",
            "t": "2014-02-18"
           },
           {
            "c": 606,
            "layer": "v11",
            "t": "2014-02-18"
           },
           {
            "c": 469,
            "layer": "v12",
            "t": "2014-02-18"
           },
           {
            "c": 852,
            "layer": "v13",
            "t": "2014-02-18"
           },
           {
            "c": 598,
            "layer": "v14",
            "t": "2014-02-18"
           },
           {
            "c": 307,
            "layer": "v0",
            "t": "2014-02-19"
           },
           {
            "c": 551,
            "layer": "v1",
            "t": "2014-02-19"
           },
           {
            "c": 999,
            "layer": "v2",
            "t": "2014-02-19"
           },
           {
            "c": 638,
            "layer": "v3",
            "t": "2014-02-19"
           },
           {
            "c": 593,
            "layer": "v4",
            "t": "2014-02-19"
           },
           {
            "c": 616,
            "layer": "v5",
            "t": "2014-02-19"
           },
           {
            "c": 585,
            "layer": "v6",
            "t": "2014-02-19"
           },
           {
            "c": 638,
            "layer": "v7",
            "t": "2014-02-19"
           },
           {
            "c": 414,
            "layer": "v8",
            "t": "2014-02-19"
           },
           {
            "c": 894,
            "layer": "v9",
            "t": "2014-02-19"
           },
           {
            "c": 515,
            "layer": "v10",
            "t": "2014-02-19"
           },
           {
            "c": 647,
            "layer": "v11",
            "t": "2014-02-19"
           },
           {
            "c": 503,
            "layer": "v12",
            "t": "2014-02-19"
           },
           {
            "c": 902,
            "layer": "v13",
            "t": "2014-02-19"
           },
           {
            "c": 588,
            "layer": "v14",
            "t": "2014-02-19"
           },
           {
            "c": 346,
            "layer": "v0",
            "t": "2014-02-20"
           },
           {
            "c": 531,
            "layer": "v1",
            "t": "2014-02-20"
           },
           {
            "c": 1151,
            "layer": "v2",
            "t": "2014-02-20"
           },
           {
            "c": 633,
            "layer": "v3",
            "t": "2014-02-20"
           },
           {
            "c": 602,
            "layer": "v4",
            "t": "2014-02-20"
           },
           {
            "c": 650,
            "layer": "v5",
            "t": "2014-02-20"
           },
           {
            "c": 578,
            "layer": "v6",
            "t": "2014-02-20"
           },
           {
            "c": 570,
            "layer": "v7",
            "t": "2014-02-20"
           },
           {
            "c": 438,
            "layer": "v8",
            "t": "2014-02-20"
           },
           {
            "c": 982,
            "layer": "v9",
            "t": "2014-02-20"
           },
           {
            "c": 508,
            "layer": "v10",
            "t": "2014-02-20"
           },
           {
            "c": 720,
            "layer": "v11",
            "t": "2014-02-20"
           },
           {
            "c": 545,
            "layer": "v12",
            "t": "2014-02-20"
           },
           {
            "c": 949,
            "layer": "v13",
            "t": "2014-02-20"
           },
           {
            "c": 545,
            "layer": "v14",
            "t": "2014-02-20"
           },
           {
            "c": 409,
            "layer": "v0",
            "t": "2014-02-21"
           },
           {
            "c": 506,
            "layer": "v1",
            "t": "2014-02-21"
           },
           {
            "c": 1241,
            "layer": "v2",
            "t": "2014-02-21"
           },
           {
            "c": 658,
            "layer": "v3",
            "t": "2014-02-21"
           },
           {
            "c": 676,
            "layer": "v4",
            "t": "2014-02-21"
           },
           {
            "c": 698,
            "layer": "v5",
            "t": "2014-02-21"
           },
           {
            "c": 576,
            "layer": "v6",
            "t": "2014-02-21"
           },
           {
            "c": 493,
            "layer": "v7",
            "t": "2014-02-21"
           },
           {
            "c": 488,
            "layer": "v8",
            "t": "2014-02-21"
           },
           {
            "c": 1093,
            "layer": "v9",
            "t": "2014-02-21"
           },
           {
            "c": 513,
            "layer": "v10",
            "t": "2014-02-21"
           },
           {
            "c": 833,
            "layer": "v11",
            "t": "2014-02-21"
           },
           {
            "c": 594,
            "layer": "v12",
            "t": "2014-02-21"
           },
           {
            "c": 978,
            "layer": "v13",
            "t": "2014-02-21"
           },
           {
            "c": 485,
            "layer": "v14",
            "t": "2014-02-21"
           },
           {
            "c": 442,
            "layer": "v0",
            "t": "2014-02-22"
           },
           {
            "c": 503,
            "layer": "v1",
            "t": "2014-02-22"
           },
           {
            "c": 1214,
            "layer": "v2",
            "t": "2014-02-22"
           },
           {
            "c": 719,
            "layer": "v3",
            "t": "2014-02-22"
           },
           {
            "c": 796,
            "layer": "v4",
            "t": "2014-02-22"
           },
           {
            "c": 736,
            "layer": "v5",
            "t": "2014-02-22"
           },
           {
            "c": 580,
            "layer": "v6",
            "t": "2014-02-22"
           },
           {
            "c": 445,
            "layer": "v7",
            "t": "2014-02-22"
           },
           {
            "c": 568,
            "layer": "v8",
            "t": "2014-02-22"
           },
           {
            "c": 1200,
            "layer": "v9",
            "t": "2014-02-22"
           },
           {
            "c": 539,
            "layer": "v10",
            "t": "2014-02-22"
           },
           {
            "c": 955,
            "layer": "v11",
            "t": "2014-02-22"
           },
           {
            "c": 650,
            "layer": "v12",
            "t": "2014-02-22"
           },
           {
            "c": 993,
            "layer": "v13",
            "t": "2014-02-22"
           },
           {
            "c": 428,
            "layer": "v14",
            "t": "2014-02-22"
           },
           {
            "c": 438,
            "layer": "v0",
            "t": "2014-02-23"
           },
           {
            "c": 514,
            "layer": "v1",
            "t": "2014-02-23"
           },
           {
            "c": 1148,
            "layer": "v2",
            "t": "2014-02-23"
           },
           {
            "c": 744,
            "layer": "v3",
            "t": "2014-02-23"
           },
           {
            "c": 848,
            "layer": "v4",
            "t": "2014-02-23"
           },
           {
            "c": 738,
            "layer": "v5",
            "t": "2014-02-23"
           },
           {
            "c": 586,
            "layer": "v6",
            "t": "2014-02-23"
           },
           {
            "c": 443,
            "layer": "v7",
            "t": "2014-02-23"
           },
           {
            "c": 639,
            "layer": "v8",
            "t": "2014-02-23"
           },
           {
            "c": 1262,
            "layer": "v9",
            "t": "2014-02-23"
           },
           {
            "c": 588,
            "layer": "v10",
            "t": "2014-02-23"
           },
           {
            "c": 1018,
            "layer": "v11",
            "t": "2014-02-23"
           },
           {
            "c": 683,
            "layer": "v12",
            "t": "2014-02-23"
           },
           {
            "c": 1005,
            "layer": "v13",
            "t": "2014-02-23"
           },
           {
            "c": 387,
            "layer": "v14",
            "t": "2014-02-23"
           },
           {
            "c": 446,
            "layer": "v0",
            "t": "2014-02-24"
           },
           {
            "c": 524,
            "layer": "v1",
            "t": "2014-02-24"
           },
           {
            "c": 1126,
            "layer": "v2",
            "t": "2014-02-24"
           },
           {
            "c": 755,
            "layer": "v3",
            "t": "2014-02-24"
           },
           {
            "c": 801,
            "layer": "v4",
            "t": "2014-02-24"
           },
           {
            "c": 689,
            "layer": "v5",
            "t": "2014-02-24"
           },
           {
            "c": 595,
            "layer": "v6",
            "t": "2014-02-24"
           },
           {
            "c": 483,
            "layer": "v7",
            "t": "2014-02-24"
           },
           {
            "c": 680,
            "layer": "v8",
            "t": "2014-02-24"
           },
           {
            "c": 1261,
            "layer": "v9",
            "t": "2014-02-24"
           },
           {
            "c": 653,
            "layer": "v10",
            "t": "2014-02-24"
           },
           {
            "c": 966,
            "layer": "v11",
            "t": "2014-02-24"
           },
           {
            "c": 665,
            "layer": "v12",
            "t": "2014-02-24"
           },
           {
            "c": 1021,
            "layer": "v13",
            "t": "2014-02-24"
           },
           {
            "c": 365,
            "layer": "v14",
            "t": "2014-02-24"
           },
           {
            "c": 483,
            "layer": "v0",
            "t": "2014-02-25"
           },
           {
            "c": 529,
            "layer": "v1",
            "t": "2014-02-25"
           },
           {
            "c": 1159,
            "layer": "v2",
            "t": "2014-02-25"
           },
           {
            "c": 791,
            "layer": "v3",
            "t": "2014-02-25"
           },
           {
            "c": 708,
            "layer": "v4",
            "t": "2014-02-25"
           },
           {
            "c": 597,
            "layer": "v5",
            "t": "2014-02-25"
           },
           {
            "c": 604,
            "layer": "v6",
            "t": "2014-02-25"
           },
           {
            "c": 552,
            "layer": "v7",
            "t": "2014-02-25"
           },
           {
            "c": 718,
            "layer": "v8",
            "t": "2014-02-25"
           },
           {
            "c": 1204,
            "layer": "v9",
            "t": "2014-02-25"
           },
           {
            "c": 752,
            "layer": "v10",
            "t": "2014-02-25"
           },
           {
            "c": 815,
            "layer": "v11",
            "t": "2014-02-25"
           },
           {
            "c": 628,
            "layer": "v12",
            "t": "2014-02-25"
           },
           {
            "c": 1038,
            "layer": "v13",
            "t": "2014-02-25"
           },
           {
            "c": 363,
            "layer": "v14",
            "t": "2014-02-25"
           },
           {
            "c": 539,
            "layer": "v0",
            "t": "2014-02-26"
           },
           {
            "c": 530,
            "layer": "v1",
            "t": "2014-02-26"
           },
           {
            "c": 1219,
            "layer": "v2",
            "t": "2014-02-26"
           },
           {
            "c": 829,
            "layer": "v3",
            "t": "2014-02-26"
           },
           {
            "c": 605,
            "layer": "v4",
            "t": "2014-02-26"
           },
           {
            "c": 487,
            "layer": "v5",
            "t": "2014-02-26"
           },
           {
            "c": 613,
            "layer": "v6",
            "t": "2014-02-26"
           },
           {
            "c": 630,
            "layer": "v7",
            "t": "2014-02-26"
           },
           {
            "c": 750,
            "layer": "v8",
            "t": "2014-02-26"
           },
           {
            "c": 1116,
            "layer": "v9",
            "t": "2014-02-26"
           },
           {
            "c": 882,
            "layer": "v10",
            "t": "2014-02-26"
           },
           {
            "c": 636,
            "layer": "v11",
            "t": "2014-02-26"
           },
           {
            "c": 603,
            "layer": "v12",
            "t": "2014-02-26"
           },
           {
            "c": 1052,
            "layer": "v13",
            "t": "2014-02-26"
           },
           {
            "c": 382,
            "layer": "v14",
            "t": "2014-02-26"
           },
           {
            "c": 608,
            "layer": "v0",
            "t": "2014-02-27"
           },
           {
            "c": 530,
            "layer": "v1",
            "t": "2014-02-27"
           },
           {
            "c": 1288,
            "layer": "v2",
            "t": "2014-02-27"
           },
           {
            "c": 861,
            "layer": "v3",
            "t": "2014-02-27"
           },
           {
            "c": 530,
            "layer": "v4",
            "t": "2014-02-27"
           },
           {
            "c": 383,
            "layer": "v5",
            "t": "2014-02-27"
           },
           {
            "c": 620,
            "layer": "v6",
            "t": "2014-02-27"
           },
           {
            "c": 693,
            "layer": "v7",
            "t": "2014-02-27"
           },
           {
            "c": 757,
            "layer": "v8",
            "t": "2014-02-27"
           },
           {
            "c": 1042,
            "layer": "v9",
            "t": "2014-02-27"
           },
           {
            "c": 850,
            "layer": "v10",
            "t": "2014-02-27"
           },
           {
            "c": 492,
            "layer": "v11",
            "t": "2014-02-27"
           },
           {
            "c": 588,
            "layer": "v12",
            "t": "2014-02-27"
           },
           {
            "c": 1057,
            "layer": "v13",
            "t": "2014-02-27"
           },
           {
            "c": 415,
            "layer": "v14",
            "t": "2014-02-27"
           },
           {
            "c": 681,
            "layer": "v0",
            "t": "2014-02-28"
           },
           {
            "c": 532,
            "layer": "v1",
            "t": "2014-02-28"
           },
           {
            "c": 1358,
            "layer": "v2",
            "t": "2014-02-28"
           },
           {
            "c": 890,
            "layer": "v3",
            "t": "2014-02-28"
           },
           {
            "c": 499,
            "layer": "v4",
            "t": "2014-02-28"
           },
           {
            "c": 304,
            "layer": "v5",
            "t": "2014-02-28"
           },
           {
            "c": 627,
            "layer": "v6",
            "t": "2014-02-28"
           },
           {
            "c": 721,
            "layer": "v7",
            "t": "2014-02-28"
           },
           {
            "c": 743,
            "layer": "v8",
            "t": "2014-02-28"
           },
           {
            "c": 1012,
            "layer": "v9",
            "t": "2014-02-28"
           },
           {
            "c": 689,
            "layer": "v10",
            "t": "2014-02-28"
           },
           {
            "c": 402,
            "layer": "v11",
            "t": "2014-02-28"
           },
           {
            "c": 590,
            "layer": "v12",
            "t": "2014-02-28"
           },
           {
            "c": 1052,
            "layer": "v13",
            "t": "2014-02-28"
           },
           {
            "c": 454,
            "layer": "v14",
            "t": "2014-02-28"
           },
           {
            "c": 747,
            "layer": "v0",
            "t": "2014-03-01"
           },
           {
            "c": 549,
            "layer": "v1",
            "t": "2014-03-01"
           },
           {
            "c": 1417,
            "layer": "v2",
            "t": "2014-03-01"
           },
           {
            "c": 913,
            "layer": "v3",
            "t": "2014-03-01"
           },
           {
            "c": 500,
            "layer": "v4",
            "t": "2014-03-01"
           },
           {
            "c": 266,
            "layer": "v5",
            "t": "2014-03-01"
           },
           {
            "c": 633,
            "layer": "v6",
            "t": "2014-03-01"
           },
           {
            "c": 714,
            "layer": "v7",
            "t": "2014-03-01"
           },
           {
            "c": 723,
            "layer": "v8",
            "t": "2014-03-01"
           },
           {
            "c": 922,
            "layer": "v9",
            "t": "2014-03-01"
           },
           {
            "c": 607,
            "layer": "v10",
            "t": "2014-03-01"
           },
           {
            "c": 354,
            "layer": "v11",
            "t": "2014-03-01"
           },
           {
            "c": 643,
            "layer": "v12",
            "t": "2014-03-01"
           },
           {
            "c": 1038,
            "layer": "v13",
            "t": "2014-03-01"
           },
           {
            "c": 491,
            "layer": "v14",
            "t": "2014-03-01"
           },
           {
            "c": 802,
            "layer": "v0",
            "t": "2014-03-02"
           },
           {
            "c": 586,
            "layer": "v1",
            "t": "2014-03-02"
           },
           {
            "c": 1454,
            "layer": "v2",
            "t": "2014-03-02"
           },
           {
            "c": 911,
            "layer": "v3",
            "t": "2014-03-02"
           },
           {
            "c": 516,
            "layer": "v4",
            "t": "2014-03-02"
           },
           {
            "c": 284,
            "layer": "v5",
            "t": "2014-03-02"
           },
           {
            "c": 638,
            "layer": "v6",
            "t": "2014-03-02"
           },
           {
            "c": 686,
            "layer": "v7",
            "t": "2014-03-02"
           },
           {
            "c": 710,
            "layer": "v8",
            "t": "2014-03-02"
           },
           {
            "c": 788,
            "layer": "v9",
            "t": "2014-03-02"
           },
           {
            "c": 584,
            "layer": "v10",
            "t": "2014-03-02"
           },
           {
            "c": 331,
            "layer": "v11",
            "t": "2014-03-02"
           },
           {
            "c": 779,
            "layer": "v12",
            "t": "2014-03-02"
           },
           {
            "c": 1017,
            "layer": "v13",
            "t": "2014-03-02"
           },
           {
            "c": 538,
            "layer": "v14",
            "t": "2014-03-02"
           },
           {
            "c": 854,
            "layer": "v0",
            "t": "2014-03-03"
           },
           {
            "c": 589,
            "layer": "v1",
            "t": "2014-03-03"
           },
           {
            "c": 1462,
            "layer": "v2",
            "t": "2014-03-03"
           },
           {
            "c": 868,
            "layer": "v3",
            "t": "2014-03-03"
           },
           {
            "c": 536,
            "layer": "v4",
            "t": "2014-03-03"
           },
           {
            "c": 359,
            "layer": "v5",
            "t": "2014-03-03"
           },
           {
            "c": 642,
            "layer": "v6",
            "t": "2014-03-03"
           },
           {
            "c": 662,
            "layer": "v7",
            "t": "2014-03-03"
           },
           {
            "c": 709,
            "layer": "v8",
            "t": "2014-03-03"
           },
           {
            "c": 728,
            "layer": "v9",
            "t": "2014-03-03"
           },
           {
            "c": 576,
            "layer": "v10",
            "t": "2014-03-03"
           },
           {
            "c": 328,
            "layer": "v11",
            "t": "2014-03-03"
           },
           {
            "c": 884,
            "layer": "v12",
            "t": "2014-03-03"
           },
           {
            "c": 989,
            "layer": "v13",
            "t": "2014-03-03"
           },
           {
            "c": 592,
            "layer": "v14",
            "t": "2014-03-03"
           },
           {
            "c": 912,
            "layer": "v0",
            "t": "2014-03-04"
           },
           {
            "c": 535,
            "layer": "v1",
            "t": "2014-03-04"
           },
           {
            "c": 1432,
            "layer": "v2",
            "t": "2014-03-04"
           },
           {
            "c": 798,
            "layer": "v3",
            "t": "2014-03-04"
           },
           {
            "c": 558,
            "layer": "v4",
            "t": "2014-03-04"
           },
           {
            "c": 458,
            "layer": "v5",
            "t": "2014-03-04"
           },
           {
            "c": 646,
            "layer": "v6",
            "t": "2014-03-04"
           },
           {
            "c": 654,
            "layer": "v7",
            "t": "2014-03-04"
           },
           {
            "c": 719,
            "layer": "v8",
            "t": "2014-03-04"
           },
           {
            "c": 726,
            "layer": "v9",
            "t": "2014-03-04"
           },
           {
            "c": 569,
            "layer": "v10",
            "t": "2014-03-04"
           },
           {
            "c": 340,
            "layer": "v11",
            "t": "2014-03-04"
           },
           {
            "c": 844,
            "layer": "v12",
            "t": "2014-03-04"
           },
           {
            "c": 958,
            "layer": "v13",
            "t": "2014-03-04"
           },
           {
            "c": 616,
            "layer": "v14",
            "t": "2014-03-04"
           },
           {
            "c": 988,
            "layer": "v0",
            "t": "2014-03-05"
           },
           {
            "c": 482,
            "layer": "v1",
            "t": "2014-03-05"
           },
           {
            "c": 1337,
            "layer": "v2",
            "t": "2014-03-05"
           },
           {
            "c": 725,
            "layer": "v3",
            "t": "2014-03-05"
           },
           {
            "c": 582,
            "layer": "v4",
            "t": "2014-03-05"
           },
           {
            "c": 520,
            "layer": "v5",
            "t": "2014-03-05"
           },
           {
            "c": 647,
            "layer": "v6",
            "t": "2014-03-05"
           },
           {
            "c": 669,
            "layer": "v7",
            "t": "2014-03-05"
           },
           {
            "c": 735,
            "layer": "v8",
            "t": "2014-03-05"
           },
           {
            "c": 751,
            "layer": "v9",
            "t": "2014-03-05"
           },
           {
            "c": 563,
            "layer": "v10",
            "t": "2014-03-05"
           },
           {
            "c": 363,
            "layer": "v11",
            "t": "2014-03-05"
           },
           {
            "c": 755,
            "layer": "v12",
            "t": "2014-03-05"
           },
           {
            "c": 927,
            "layer": "v13",
            "t": "2014-03-05"
           },
           {
            "c": 615,
            "layer": "v14",
            "t": "2014-03-05"
           },
           {
            "c": 1089,
            "layer": "v0",
            "t": "2014-03-06"
           },
           {
            "c": 446,
            "layer": "v1",
            "t": "2014-03-06"
           },
           {
            "c": 1183,
            "layer": "v2",
            "t": "2014-03-06"
           },
           {
            "c": 657,
            "layer": "v3",
            "t": "2014-03-06"
           },
           {
            "c": 607,
            "layer": "v4",
            "t": "2014-03-06"
           },
           {
            "c": 503,
            "layer": "v5",
            "t": "2014-03-06"
           },
           {
            "c": 645,
            "layer": "v6",
            "t": "2014-03-06"
           },
           {
            "c": 703,
            "layer": "v7",
            "t": "2014-03-06"
           },
           {
            "c": 756,
            "layer": "v8",
            "t": "2014-03-06"
           },
           {
            "c": 786,
            "layer": "v9",
            "t": "2014-03-06"
           },
           {
            "c": 558,
            "layer": "v10",
            "t": "2014-03-06"
           },
           {
            "c": 392,
            "layer": "v11",
            "t": "2014-03-06"
           },
           {
            "c": 718,
            "layer": "v12",
            "t": "2014-03-06"
           },
           {
            "c": 896,
            "layer": "v13",
            "t": "2014-03-06"
           },
           {
            "c": 633,
            "layer": "v14",
            "t": "2014-03-06"
           },
           {
            "c": 1177,
            "layer": "v0",
            "t": "2014-03-07"
           },
           {
            "c": 414,
            "layer": "v1",
            "t": "2014-03-07"
           },
           {
            "c": 1028,
            "layer": "v2",
            "t": "2014-03-07"
           },
           {
            "c": 594,
            "layer": "v3",
            "t": "2014-03-07"
           },
           {
            "c": 636,
            "layer": "v4",
            "t": "2014-03-07"
           },
           {
            "c": 424,
            "layer": "v5",
            "t": "2014-03-07"
           },
           {
            "c": 637,
            "layer": "v6",
            "t": "2014-03-07"
           },
           {
            "c": 755,
            "layer": "v7",
            "t": "2014-03-07"
           },
           {
            "c": 786,
            "layer": "v8",
            "t": "2014-03-07"
           },
           {
            "c": 818,
            "layer": "v9",
            "t": "2014-03-07"
           },
           {
            "c": 558,
            "layer": "v10",
            "t": "2014-03-07"
           },
           {
            "c": 420,
            "layer": "v11",
            "t": "2014-03-07"
           },
           {
            "c": 798,
            "layer": "v12",
            "t": "2014-03-07"
           },
           {
            "c": 870,
            "layer": "v13",
            "t": "2014-03-07"
           },
           {
            "c": 664,
            "layer": "v14",
            "t": "2014-03-07"
           },
           {
            "c": 1183,
            "layer": "v0",
            "t": "2014-03-08"
           },
           {
            "c": 386,
            "layer": "v1",
            "t": "2014-03-08"
           },
           {
            "c": 899,
            "layer": "v2",
            "t": "2014-03-08"
           },
           {
            "c": 536,
            "layer": "v3",
            "t": "2014-03-08"
           },
           {
            "c": 667,
            "layer": "v4",
            "t": "2014-03-08"
           },
           {
            "c": 344,
            "layer": "v5",
            "t": "2014-03-08"
           },
           {
            "c": 624,
            "layer": "v6",
            "t": "2014-03-08"
           },
           {
            "c": 818,
            "layer": "v7",
            "t": "2014-03-08"
           },
           {
            "c": 826,
            "layer": "v8",
            "t": "2014-03-08"
           },
           {
            "c": 838,
            "layer": "v9",
            "t": "2014-03-08"
           },
           {
            "c": 559,
            "layer": "v10",
            "t": "2014-03-08"
           },
           {
            "c": 444,
            "layer": "v11",
            "t": "2014-03-08"
           },
           {
            "c": 972,
            "layer": "v12",
            "t": "2014-03-08"
           },
           {
            "c": 862,
            "layer": "v13",
            "t": "2014-03-08"
           },
           {
            "c": 676,
            "layer": "v14",
            "t": "2014-03-08"
           },
           {
            "c": 1111,
            "layer": "v0",
            "t": "2014-03-09"
           },
           {
            "c": 364,
            "layer": "v1",
            "t": "2014-03-09"
           },
           {
            "c": 788,
            "layer": "v2",
            "t": "2014-03-09"
           },
           {
            "c": 483,
            "layer": "v3",
            "t": "2014-03-09"
           },
           {
            "c": 703,
            "layer": "v4",
            "t": "2014-03-09"
           },
           {
            "c": 314,
            "layer": "v5",
            "t": "2014-03-09"
           },
           {
            "c": 611,
            "layer": "v6",
            "t": "2014-03-09"
           },
           {
            "c": 885,
            "layer": "v7",
            "t": "2014-03-09"
           },
           {
            "c": 880,
            "layer": "v8",
            "t": "2014-03-09"
           },
           {
            "c": 851,
            "layer": "v9",
            "t": "2014-03-09"
           },
           {
            "c": 552,
            "layer": "v10",
            "t": "2014-03-09"
           },
           {
            "c": 468,
            "layer": "v11",
            "t": "2014-03-09"
           },
           {
            "c": 1119,
            "layer": "v12",
            "t": "2014-03-09"
           },
           {
            "c": 885,
            "layer": "v13",
            "t": "2014-03-09"
           },
           {
            "c": 666,
            "layer": "v14",
            "t": "2014-03-09"
           },
           {
            "c": 1021,
            "layer": "v0",
            "t": "2014-03-10"
           },
           {
            "c": 351,
            "layer": "v1",
            "t": "2014-03-10"
           },
           {
            "c": 688,
            "layer": "v2",
            "t": "2014-03-10"
           },
           {
            "c": 437,
            "layer": "v3",
            "t": "2014-03-10"
           },
           {
            "c": 742,
            "layer": "v4",
            "t": "2014-03-10"
           },
           {
            "c": 348,
            "layer": "v5",
            "t": "2014-03-10"
           },
           {
            "c": 609,
            "layer": "v6",
            "t": "2014-03-10"
           },
           {
            "c": 945,
            "layer": "v7",
            "t": "2014-03-10"
           },
           {
            "c": 948,
            "layer": "v8",
            "t": "2014-03-10"
           },
           {
            "c": 868,
            "layer": "v9",
            "t": "2014-03-10"
           },
           {
            "c": 535,
            "layer": "v10",
            "t": "2014-03-10"
           },
           {
            "c": 497,
            "layer": "v11",
            "t": "2014-03-10"
           },
           {
            "c": 1153,
            "layer": "v12",
            "t": "2014-03-10"
           },
           {
            "c": 890,
            "layer": "v13",
            "t": "2014-03-10"
           },
           {
            "c": 657,
            "layer": "v14",
            "t": "2014-03-10"
           },
           {
            "c": 937,
            "layer": "v0",
            "t": "2014-03-11"
           },
           {
            "c": 351,
            "layer": "v1",
            "t": "2014-03-11"
           },
           {
            "c": 598,
            "layer": "v2",
            "t": "2014-03-11"
           },
           {
            "c": 400,
            "layer": "v3",
            "t": "2014-03-11"
           },
           {
            "c": 787,
            "layer": "v4",
            "t": "2014-03-11"
           },
           {
            "c": 430,
            "layer": "v5",
            "t": "2014-03-11"
           },
           {
            "c": 624,
            "layer": "v6",
            "t": "2014-03-11"
           },
           {
            "c": 987,
            "layer": "v7",
            "t": "2014-03-11"
           },
           {
            "c": 1028,
            "layer": "v8",
            "t": "2014-03-11"
           },
           {
            "c": 893,
            "layer": "v9",
            "t": "2014-03-11"
           },
           {
            "c": 522,
            "layer": "v10",
            "t": "2014-03-11"
           },
           {
            "c": 540,
            "layer": "v11",
            "t": "2014-03-11"
           },
           {
            "c": 1103,
            "layer": "v12",
            "t": "2014-03-11"
           },
           {
            "c": 832,
            "layer": "v13",
            "t": "2014-03-11"
           },
           {
            "c": 663,
            "layer": "v14",
            "t": "2014-03-11"
           },
           {
            "c": 851,
            "layer": "v0",
            "t": "2014-03-12"
           },
           {
            "c": 366,
            "layer": "v1",
            "t": "2014-03-12"
           },
           {
            "c": 518,
            "layer": "v2",
            "t": "2014-03-12"
           },
           {
            "c": 373,
            "layer": "v3",
            "t": "2014-03-12"
           },
           {
            "c": 840,
            "layer": "v4",
            "t": "2014-03-12"
           },
           {
            "c": 542,
            "layer": "v5",
            "t": "2014-03-12"
           },
           {
            "c": 647,
            "layer": "v6",
            "t": "2014-03-12"
           },
           {
            "c": 1040,
            "layer": "v7",
            "t": "2014-03-12"
           },
           {
            "c": 1118,
            "layer": "v8",
            "t": "2014-03-12"
           },
           {
            "c": 925,
            "layer": "v9",
            "t": "2014-03-12"
           },
           {
            "c": 533,
            "layer": "v10",
            "t": "2014-03-12"
           },
           {
            "c": 601,
            "layer": "v11",
            "t": "2014-03-12"
           },
           {
            "c": 1019,
            "layer": "v12",
            "t": "2014-03-12"
           },
           {
            "c": 772,
            "layer": "v13",
            "t": "2014-03-12"
           },
           {
            "c": 686,
            "layer": "v14",
            "t": "2014-03-12"
           },
           {
            "c": 766,
            "layer": "v0",
            "t": "2014-03-13"
           },
           {
            "c": 399,
            "layer": "v1",
            "t": "2014-03-13"
           },
           {
            "c": 464,
            "layer": "v2",
            "t": "2014-03-13"
           },
           {
            "c": 359,
            "layer": "v3",
            "t": "2014-03-13"
           },
           {
            "c": 947,
            "layer": "v4",
            "t": "2014-03-13"
           },
           {
            "c": 668,
            "layer": "v5",
            "t": "2014-03-13"
           },
           {
            "c": 657,
            "layer": "v6",
            "t": "2014-03-13"
           },
           {
            "c": 1276,
            "layer": "v7",
            "t": "2014-03-13"
           },
           {
            "c": 1213,
            "layer": "v8",
            "t": "2014-03-13"
           },
           {
            "c": 956,
            "layer": "v9",
            "t": "2014-03-13"
           },
           {
            "c": 579,
            "layer": "v10",
            "t": "2014-03-13"
           },
           {
            "c": 681,
            "layer": "v11",
            "t": "2014-03-13"
           },
           {
            "c": 919,
            "layer": "v12",
            "t": "2014-03-13"
           },
           {
            "c": 759,
            "layer": "v13",
            "t": "2014-03-13"
           },
           {
            "c": 720,
            "layer": "v14",
            "t": "2014-03-13"
           },
           {
            "c": 693,
            "layer": "v0",
            "t": "2014-03-14"
           },
           {
            "c": 451,
            "layer": "v1",
            "t": "2014-03-14"
           },
           {
            "c": 464,
            "layer": "v2",
            "t": "2014-03-14"
           },
           {
            "c": 360,
            "layer": "v3",
            "t": "2014-03-14"
           },
           {
            "c": 1152,
            "layer": "v4",
            "t": "2014-03-14"
           },
           {
            "c": 803,
            "layer": "v5",
            "t": "2014-03-14"
           },
           {
            "c": 630,
            "layer": "v6",
            "t": "2014-03-14"
           },
           {
            "c": 1363,
            "layer": "v7",
            "t": "2014-03-14"
           },
           {
            "c": 1306,
            "layer": "v8",
            "t": "2014-03-14"
           },
           {
            "c": 981,
            "layer": "v9",
            "t": "2014-03-14"
           },
           {
            "c": 649,
            "layer": "v10",
            "t": "2014-03-14"
           },
           {
            "c": 772,
            "layer": "v11",
            "t": "2014-03-14"
           },
           {
            "c": 826,
            "layer": "v12",
            "t": "2014-03-14"
           },
           {
            "c": 810,
            "layer": "v13",
            "t": "2014-03-14"
           },
           {
            "c": 760,
            "layer": "v14",
            "t": "2014-03-14"
           },
           {
            "c": 639,
            "layer": "v0",
            "t": "2014-03-15"
           },
           {
            "c": 523,
            "layer": "v1",
            "t": "2014-03-15"
           },
           {
            "c": 397,
            "layer": "v2",
            "t": "2014-03-15"
           },
           {
            "c": 381,
            "layer": "v3",
            "t": "2014-03-15"
           },
           {
            "c": 1171,
            "layer": "v4",
            "t": "2014-03-15"
           },
           {
            "c": 951,
            "layer": "v5",
            "t": "2014-03-15"
           },
           {
            "c": 566,
            "layer": "v6",
            "t": "2014-03-15"
           },
           {
            "c": 1136,
            "layer": "v7",
            "t": "2014-03-15"
           },
           {
            "c": 1391,
            "layer": "v8",
            "t": "2014-03-15"
           },
           {
            "c": 997,
            "layer": "v9",
            "t": "2014-03-15"
           },
           {
            "c": 722,
            "layer": "v10",
            "t": "2014-03-15"
           },
           {
            "c": 865,
            "layer": "v11",
            "t": "2014-03-15"
           },
           {
            "c": 771,
            "layer": "v12",
            "t": "2014-03-15"
           },
           {
            "c": 914,
            "layer": "v13",
            "t": "2014-03-15"
           },
           {
            "c": 804,
            "layer": "v14",
            "t": "2014-03-15"
           },
           {
            "c": 602,
            "layer": "v0",
            "t": "2014-03-16"
           },
           {
            "c": 617,
            "layer": "v1",
            "t": "2014-03-16"
           },
           {
            "c": 284,
            "layer": "v2",
            "t": "2014-03-16"
           },
           {
            "c": 427,
            "layer": "v3",
            "t": "2014-03-16"
           },
           {
            "c": 1069,
            "layer": "v4",
            "t": "2014-03-16"
           },
           {
            "c": 1123,
            "layer": "v5",
            "t": "2014-03-16"
           },
           {
            "c": 487,
            "layer": "v6",
            "t": "2014-03-16"
           },
           {
            "c": 1133,
            "layer": "v7",
            "t": "2014-03-16"
           },
           {
            "c": 1463,
            "layer": "v8",
            "t": "2014-03-16"
           },
           {
            "c": 1003,
            "layer": "v9",
            "t": "2014-03-16"
           },
           {
            "c": 783,
            "layer": "v10",
            "t": "2014-03-16"
           },
           {
            "c": 946,
            "layer": "v11",
            "t": "2014-03-16"
           },
           {
            "c": 750,
            "layer": "v12",
            "t": "2014-03-16"
           },
           {
            "c": 854,
            "layer": "v13",
            "t": "2014-03-16"
           },
           {
            "c": 854,
            "layer": "v14",
            "t": "2014-03-16"
           },
           {
            "c": 573,
            "layer": "v0",
            "t": "2014-03-17"
           },
           {
            "c": 733,
            "layer": "v1",
            "t": "2014-03-17"
           },
           {
            "c": 226,
            "layer": "v2",
            "t": "2014-03-17"
           },
           {
            "c": 503,
            "layer": "v3",
            "t": "2014-03-17"
           },
           {
            "c": 1057,
            "layer": "v4",
            "t": "2014-03-17"
           },
           {
            "c": 1319,
            "layer": "v5",
            "t": "2014-03-17"
           },
           {
            "c": 420,
            "layer": "v6",
            "t": "2014-03-17"
           },
           {
            "c": 1217,
            "layer": "v7",
            "t": "2014-03-17"
           },
           {
            "c": 1528,
            "layer": "v8",
            "t": "2014-03-17"
           },
           {
            "c": 1001,
            "layer": "v9",
            "t": "2014-03-17"
           },
           {
            "c": 833,
            "layer": "v10",
            "t": "2014-03-17"
           },
           {
            "c": 1008,
            "layer": "v11",
            "t": "2014-03-17"
           },
           {
            "c": 717,
            "layer": "v12",
            "t": "2014-03-17"
           },
           {
            "c": 681,
            "layer": "v13",
            "t": "2014-03-17"
           },
           {
            "c": 910,
            "layer": "v14",
            "t": "2014-03-17"
           },
           {
            "c": 545,
            "layer": "v0",
            "t": "2014-03-18"
           },
           {
            "c": 871,
            "layer": "v1",
            "t": "2014-03-18"
           },
           {
            "c": 189,
            "layer": "v2",
            "t": "2014-03-18"
           },
           {
            "c": 609,
            "layer": "v3",
            "t": "2014-03-18"
           },
           {
            "c": 1062,
            "layer": "v4",
            "t": "2014-03-18"
           },
           {
            "c": 1508,
            "layer": "v5",
            "t": "2014-03-18"
           },
           {
            "c": 379,
            "layer": "v6",
            "t": "2014-03-18"
           },
           {
            "c": 1323,
            "layer": "v7",
            "t": "2014-03-18"
           },
           {
            "c": 1606,
            "layer": "v8",
            "t": "2014-03-18"
           },
           {
            "c": 994,
            "layer": "v9",
            "t": "2014-03-18"
           },
           {
            "c": 879,
            "layer": "v10",
            "t": "2014-03-18"
           },
           {
            "c": 1043,
            "layer": "v11",
            "t": "2014-03-18"
           },
           {
            "c": 656,
            "layer": "v12",
            "t": "2014-03-18"
           },
           {
            "c": 597,
            "layer": "v13",
            "t": "2014-03-18"
           },
           {
            "c": 977,
            "layer": "v14",
            "t": "2014-03-18"
           },
           {
            "c": 528,
            "layer": "v0",
            "t": "2014-03-19"
           },
           {
            "c": 1031,
            "layer": "v1",
            "t": "2014-03-19"
           },
           {
            "c": 159,
            "layer": "v2",
            "t": "2014-03-19"
           },
           {
            "c": 748,
            "layer": "v3",
            "t": "2014-03-19"
           },
           {
            "c": 1062,
            "layer": "v4",
            "t": "2014-03-19"
           },
           {
            "c": 1657,
            "layer": "v5",
            "t": "2014-03-19"
           },
           {
            "c": 358,
            "layer": "v6",
            "t": "2014-03-19"
           },
           {
            "c": 1439,
            "layer": "v7",
            "t": "2014-03-19"
           },
           {
            "c": 1688,
            "layer": "v8",
            "t": "2014-03-19"
           },
           {
            "c": 1001,
            "layer": "v9",
            "t": "2014-03-19"
           },
           {
            "c": 928,
            "layer": "v10",
            "t": "2014-03-19"
           },
           {
            "c": 1050,
            "layer": "v11",
            "t": "2014-03-19"
           },
           {
            "c": 597,
            "layer": "v12",
            "t": "2014-03-19"
           },
           {
            "c": 575,
            "layer": "v13",
            "t": "2014-03-19"
           },
           {
            "c": 1057,
            "layer": "v14",
            "t": "2014-03-19"
           },
           {
            "c": 547,
            "layer": "v0",
            "t": "2014-03-20"
           },
           {
            "c": 1205,
            "layer": "v1",
            "t": "2014-03-20"
           },
           {
            "c": 139,
            "layer": "v2",
            "t": "2014-03-20"
           },
           {
            "c": 913,
            "layer": "v3",
            "t": "2014-03-20"
           },
           {
            "c": 1074,
            "layer": "v4",
            "t": "2014-03-20"
           },
           {
            "c": 1781,
            "layer": "v5",
            "t": "2014-03-20"
           },
           {
            "c": 344,
            "layer": "v6",
            "t": "2014-03-20"
           },
           {
            "c": 1547,
            "layer": "v7",
            "t": "2014-03-20"
           },
           {
            "c": 1702,
            "layer": "v8",
            "t": "2014-03-20"
           },
           {
            "c": 1037,
            "layer": "v9",
            "t": "2014-03-20"
           },
           {
            "c": 980,
            "layer": "v10",
            "t": "2014-03-20"
           },
           {
            "c": 1032,
            "layer": "v11",
            "t": "2014-03-20"
           },
           {
            "c": 558,
            "layer": "v12",
            "t": "2014-03-20"
           },
           {
            "c": 586,
            "layer": "v13",
            "t": "2014-03-20"
           },
           {
            "c": 1158,
            "layer": "v14",
            "t": "2014-03-20"
           },
           {
            "c": 613,
            "layer": "v0",
            "t": "2014-03-21"
           },
           {
            "c": 1380,
            "layer": "v1",
            "t": "2014-03-21"
           },
           {
            "c": 128,
            "layer": "v2",
            "t": "2014-03-21"
           },
           {
            "c": 1096,
            "layer": "v3",
            "t": "2014-03-21"
           },
           {
            "c": 1147,
            "layer": "v4",
            "t": "2014-03-21"
           },
           {
            "c": 1895,
            "layer": "v5",
            "t": "2014-03-21"
           },
           {
            "c": 328,
            "layer": "v6",
            "t": "2014-03-21"
           },
           {
            "c": 1627,
            "layer": "v7",
            "t": "2014-03-21"
           },
           {
            "c": 1639,
            "layer": "v8",
            "t": "2014-03-21"
           },
           {
            "c": 1025,
            "layer": "v9",
            "t": "2014-03-21"
           },
           {
            "c": 1040,
            "layer": "v10",
            "t": "2014-03-21"
           },
           {
            "c": 991,
            "layer": "v11",
            "t": "2014-03-21"
           },
           {
            "c": 533,
            "layer": "v12",
            "t": "2014-03-21"
           },
           {
            "c": 611,
            "layer": "v13",
            "t": "2014-03-21"
           },
           {
            "c": 1288,
            "layer": "v14",
            "t": "2014-03-21"
           },
           {
            "c": 684,
            "layer": "v0",
            "t": "2014-03-22"
           },
           {
            "c": 1537,
            "layer": "v1",
            "t": "2014-03-22"
           },
           {
            "c": 127,
            "layer": "v2",
            "t": "2014-03-22"
           },
           {
            "c": 1288,
            "layer": "v3",
            "t": "2014-03-22"
           },
           {
            "c": 1352,
            "layer": "v4",
            "t": "2014-03-22"
           },
           {
            "c": 1989,
            "layer": "v5",
            "t": "2014-03-22"
           },
           {
            "c": 304,
            "layer": "v6",
            "t": "2014-03-22"
           },
           {
            "c": 1663,
            "layer": "v7",
            "t": "2014-03-22"
           },
           {
            "c": 1553,
            "layer": "v8",
            "t": "2014-03-22"
           },
           {
            "c": 958,
            "layer": "v9",
            "t": "2014-03-22"
           },
           {
            "c": 1214,
            "layer": "v10",
            "t": "2014-03-22"
           },
           {
            "c": 935,
            "layer": "v11",
            "t": "2014-03-22"
           },
           {
            "c": 517,
            "layer": "v12",
            "t": "2014-03-22"
           },
           {
            "c": 633,
            "layer": "v13",
            "t": "2014-03-22"
           },
           {
            "c": 1458,
            "layer": "v14",
            "t": "2014-03-22"
           },
           {
            "c": 706,
            "layer": "v0",
            "t": "2014-03-23"
           },
           {
            "c": 1659,
            "layer": "v1",
            "t": "2014-03-23"
           },
           {
            "c": 137,
            "layer": "v2",
            "t": "2014-03-23"
           },
           {
            "c": 1476,
            "layer": "v3",
            "t": "2014-03-23"
           },
           {
            "c": 1521,
            "layer": "v4",
            "t": "2014-03-23"
           },
           {
            "c": 2057,
            "layer": "v5",
            "t": "2014-03-23"
           },
           {
            "c": 274,
            "layer": "v6",
            "t": "2014-03-23"
           },
           {
            "c": 1644,
            "layer": "v7",
            "t": "2014-03-23"
           },
           {
            "c": 1484,
            "layer": "v8",
            "t": "2014-03-23"
           },
           {
            "c": 906,
            "layer": "v9",
            "t": "2014-03-23"
           },
           {
            "c": 1451,
            "layer": "v10",
            "t": "2014-03-23"
           },
           {
            "c": 867,
            "layer": "v11",
            "t": "2014-03-23"
           },
           {
            "c": 515,
            "layer": "v12",
            "t": "2014-03-23"
           },
           {
            "c": 641,
            "layer": "v13",
            "t": "2014-03-23"
           },
           {
            "c": 1676,
            "layer": "v14",
            "t": "2014-03-23"
           },
           {
            "c": 700,
            "layer": "v0",
            "t": "2014-03-24"
           },
           {
            "c": 1736,
            "layer": "v1",
            "t": "2014-03-24"
           },
           {
            "c": 157,
            "layer": "v2",
            "t": "2014-03-24"
           },
           {
            "c": 1650,
            "layer": "v3",
            "t": "2014-03-24"
           },
           {
            "c": 1473,
            "layer": "v4",
            "t": "2014-03-24"
           },
           {
            "c": 2109,
            "layer": "v5",
            "t": "2014-03-24"
           },
           {
            "c": 243,
            "layer": "v6",
            "t": "2014-03-24"
           },
           {
            "c": 1571,
            "layer": "v7",
            "t": "2014-03-24"
           },
           {
            "c": 1498,
            "layer": "v8",
            "t": "2014-03-24"
           },
           {
            "c": 852,
            "layer": "v9",
            "t": "2014-03-24"
           },
           {
            "c": 1213,
            "layer": "v10",
            "t": "2014-03-24"
           },
           {
            "c": 795,
            "layer": "v11",
            "t": "2014-03-24"
           },
           {
            "c": 536,
            "layer": "v12",
            "t": "2014-03-24"
           },
           {
            "c": 641,
            "layer": "v13",
            "t": "2014-03-24"
           },
           {
            "c": 1922,
            "layer": "v14",
            "t": "2014-03-24"
           },
           {
            "c": 723,
            "layer": "v0",
            "t": "2014-03-25"
           },
           {
            "c": 1773,
            "layer": "v1",
            "t": "2014-03-25"
           },
           {
            "c": 188,
            "layer": "v2",
            "t": "2014-03-25"
           },
           {
            "c": 1802,
            "layer": "v3",
            "t": "2014-03-25"
           },
           {
            "c": 1410,
            "layer": "v4",
            "t": "2014-03-25"
           },
           {
            "c": 2164,
            "layer": "v5",
            "t": "2014-03-25"
           },
           {
            "c": 214,
            "layer": "v6",
            "t": "2014-03-25"
           },
           {
            "c": 1452,
            "layer": "v7",
            "t": "2014-03-25"
           },
           {
            "c": 1635,
            "layer": "v8",
            "t": "2014-03-25"
           },
           {
            "c": 803,
            "layer": "v9",
            "t": "2014-03-25"
           },
           {
            "c": 1032,
            "layer": "v10",
            "t": "2014-03-25"
           },
           {
            "c": 721,
            "layer": "v11",
            "t": "2014-03-25"
           },
           {
            "c": 584,
            "layer": "v12",
            "t": "2014-03-25"
           },
           {
            "c": 651,
            "layer": "v13",
            "t": "2014-03-25"
           },
           {
            "c": 2142,
            "layer": "v14",
            "t": "2014-03-25"
           },
           {
            "c": 782,
            "layer": "v0",
            "t": "2014-03-26"
           },
           {
            "c": 1780,
            "layer": "v1",
            "t": "2014-03-26"
           },
           {
            "c": 228,
            "layer": "v2",
            "t": "2014-03-26"
           },
           {
            "c": 1926,
            "layer": "v3",
            "t": "2014-03-26"
           },
           {
            "c": 1364,
            "layer": "v4",
            "t": "2014-03-26"
           },
           {
            "c": 2243,
            "layer": "v5",
            "t": "2014-03-26"
           },
           {
            "c": 194,
            "layer": "v6",
            "t": "2014-03-26"
           },
           {
            "c": 1304,
            "layer": "v7",
            "t": "2014-03-26"
           },
           {
            "c": 1823,
            "layer": "v8",
            "t": "2014-03-26"
           },
           {
            "c": 789,
            "layer": "v9",
            "t": "2014-03-26"
           },
           {
            "c": 964,
            "layer": "v10",
            "t": "2014-03-26"
           },
           {
            "c": 651,
            "layer": "v11",
            "t": "2014-03-26"
           },
           {
            "c": 657,
            "layer": "v12",
            "t": "2014-03-26"
           },
           {
            "c": 692,
            "layer": "v13",
            "t": "2014-03-26"
           },
           {
            "c": 2260,
            "layer": "v14",
            "t": "2014-03-26"
           },
           {
            "c": 826,
            "layer": "v0",
            "t": "2014-03-27"
           },
           {
            "c": 1766,
            "layer": "v1",
            "t": "2014-03-27"
           },
           {
            "c": 276,
            "layer": "v2",
            "t": "2014-03-27"
           },
           {
            "c": 2018,
            "layer": "v3",
            "t": "2014-03-27"
           },
           {
            "c": 1280,
            "layer": "v4",
            "t": "2014-03-27"
           },
           {
            "c": 2356,
            "layer": "v5",
            "t": "2014-03-27"
           },
           {
            "c": 185,
            "layer": "v6",
            "t": "2014-03-27"
           },
           {
            "c": 1147,
            "layer": "v7",
            "t": "2014-03-27"
           },
           {
            "c": 1900,
            "layer": "v8",
            "t": "2014-03-27"
           },
           {
            "c": 710,
            "layer": "v9",
            "t": "2014-03-27"
           },
           {
            "c": 834,
            "layer": "v10",
            "t": "2014-03-27"
           },
           {
            "c": 590,
            "layer": "v11",
            "t": "2014-03-27"
           },
           {
            "c": 743,
            "layer": "v12",
            "t": "2014-03-27"
           },
           {
            "c": 753,
            "layer": "v13",
            "t": "2014-03-27"
           },
           {
            "c": 2224,
            "layer": "v14",
            "t": "2014-03-27"
           },
           {
            "c": 818,
            "layer": "v0",
            "t": "2014-03-28"
           },
           {
            "c": 1737,
            "layer": "v1",
            "t": "2014-03-28"
           },
           {
            "c": 331,
            "layer": "v2",
            "t": "2014-03-28"
           },
           {
            "c": 2077,
            "layer": "v3",
            "t": "2014-03-28"
           },
           {
            "c": 1179,
            "layer": "v4",
            "t": "2014-03-28"
           },
           {
            "c": 2484,
            "layer": "v5",
            "t": "2014-03-28"
           },
           {
            "c": 193,
            "layer": "v6",
            "t": "2014-03-28"
           },
           {
            "c": 999,
            "layer": "v7",
            "t": "2014-03-28"
           },
           {
            "c": 1768,
            "layer": "v8",
            "t": "2014-03-28"
           },
           {
            "c": 552,
            "layer": "v9",
            "t": "2014-03-28"
           },
           {
            "c": 823,
            "layer": "v10",
            "t": "2014-03-28"
           },
           {
            "c": 539,
            "layer": "v11",
            "t": "2014-03-28"
           },
           {
            "c": 828,
            "layer": "v12",
            "t": "2014-03-28"
           },
           {
            "c": 790,
            "layer": "v13",
            "t": "2014-03-28"
           },
           {
            "c": 2044,
            "layer": "v14",
            "t": "2014-03-28"
           },
           {
            "c": 782,
            "layer": "v0",
            "t": "2014-03-29"
           },
           {
            "c": 1696,
            "layer": "v1",
            "t": "2014-03-29"
           },
           {
            "c": 391,
            "layer": "v2",
            "t": "2014-03-29"
           },
           {
            "c": 2104,
            "layer": "v3",
            "t": "2014-03-29"
           },
           {
            "c": 1101,
            "layer": "v4",
            "t": "2014-03-29"
           },
           {
            "c": 2576,
            "layer": "v5",
            "t": "2014-03-29"
           },
           {
            "c": 226,
            "layer": "v6",
            "t": "2014-03-29"
           },
           {
            "c": 873,
            "layer": "v7",
            "t": "2014-03-29"
           },
           {
            "c": 1516,
            "layer": "v8",
            "t": "2014-03-29"
           },
           {
            "c": 455,
            "layer": "v9",
            "t": "2014-03-29"
           },
           {
            "c": 893,
            "layer": "v10",
            "t": "2014-03-29"
           },
           {
            "c": 503,
            "layer": "v11",
            "t": "2014-03-29"
           },
           {
            "c": 909,
            "layer": "v12",
            "t": "2014-03-29"
           },
           {
            "c": 767,
            "layer": "v13",
            "t": "2014-03-29"
           },
           {
            "c": 1790,
            "layer": "v14",
            "t": "2014-03-29"
           },
           {
            "c": 763,
            "layer": "v0",
            "t": "2014-03-30"
           },
           {
            "c": 1643,
            "layer": "v1",
            "t": "2014-03-30"
           },
           {
            "c": 454,
            "layer": "v2",
            "t": "2014-03-30"
           },
           {
            "c": 2097,
            "layer": "v3",
            "t": "2014-03-30"
           },
           {
            "c": 1070,
            "layer": "v4",
            "t": "2014-03-30"
           },
           {
            "c": 2574,
            "layer": "v5",
            "t": "2014-03-30"
           },
           {
            "c": 295,
            "layer": "v6",
            "t": "2014-03-30"
           },
           {
            "c": 779,
            "layer": "v7",
            "t": "2014-03-30"
           },
           {
            "c": 1316,
            "layer": "v8",
            "t": "2014-03-30"
           },
           {
            "c": 416,
            "layer": "v9",
            "t": "2014-03-30"
           },
           {
            "c": 989,
            "layer": "v10",
            "t": "2014-03-30"
           },
           {
            "c": 483,
            "layer": "v11",
            "t": "2014-03-30"
           },
           {
            "c": 994,
            "layer": "v12",
            "t": "2014-03-30"
           },
           {
            "c": 694,
            "layer": "v13",
            "t": "2014-03-30"
           },
           {
            "c": 1546,
            "layer": "v14",
            "t": "2014-03-30"
           },
           {
            "c": 788,
            "layer": "v0",
            "t": "2014-03-31"
           },
           {
            "c": 1580,
            "layer": "v1",
            "t": "2014-03-31"
           },
           {
            "c": 520,
            "layer": "v2",
            "t": "2014-03-31"
           },
           {
            "c": 2056,
            "layer": "v3",
            "t": "2014-03-31"
           },
           {
            "c": 1085,
            "layer": "v4",
            "t": "2014-03-31"
           },
           {
            "c": 2458,
            "layer": "v5",
            "t": "2014-03-31"
           },
           {
            "c": 403,
            "layer": "v6",
            "t": "2014-03-31"
           },
           {
            "c": 716,
            "layer": "v7",
            "t": "2014-03-31"
           },
           {
            "c": 1248,
            "layer": "v8",
            "t": "2014-03-31"
           },
           {
            "c": 410,
            "layer": "v9",
            "t": "2014-03-31"
           },
           {
            "c": 1090,
            "layer": "v10",
            "t": "2014-03-31"
           },
           {
            "c": 482,
            "layer": "v11",
            "t": "2014-03-31"
           },
           {
            "c": 1074,
            "layer": "v12",
            "t": "2014-03-31"
           },
           {
            "c": 616,
            "layer": "v13",
            "t": "2014-03-31"
           },
           {
            "c": 1364,
            "layer": "v14",
            "t": "2014-03-31"
           },
           {
            "c": 903,
            "layer": "v0",
            "t": "2014-04-01"
           },
           {
            "c": 1512,
            "layer": "v1",
            "t": "2014-04-01"
           },
           {
            "c": 589,
            "layer": "v2",
            "t": "2014-04-01"
           },
           {
            "c": 1982,
            "layer": "v3",
            "t": "2014-04-01"
           },
           {
            "c": 1136,
            "layer": "v4",
            "t": "2014-04-01"
           },
           {
            "c": 2266,
            "layer": "v5",
            "t": "2014-04-01"
           },
           {
            "c": 536,
            "layer": "v6",
            "t": "2014-04-01"
           },
           {
            "c": 679,
            "layer": "v7",
            "t": "2014-04-01"
           },
           {
            "c": 1289,
            "layer": "v8",
            "t": "2014-04-01"
           },
           {
            "c": 432,
            "layer": "v9",
            "t": "2014-04-01"
           },
           {
            "c": 1188,
            "layer": "v10",
            "t": "2014-04-01"
           },
           {
            "c": 500,
            "layer": "v11",
            "t": "2014-04-01"
           },
           {
            "c": 1116,
            "layer": "v12",
            "t": "2014-04-01"
           },
           {
            "c": 569,
            "layer": "v13",
            "t": "2014-04-01"
           },
           {
            "c": 1252,
            "layer": "v14",
            "t": "2014-04-01"
           },
           {
            "c": 1168,
            "layer": "v0",
            "t": "2014-04-02"
           },
           {
            "c": 1441,
            "layer": "v1",
            "t": "2014-04-02"
           },
           {
            "c": 665,
            "layer": "v2",
            "t": "2014-04-02"
           },
           {
            "c": 1879,
            "layer": "v3",
            "t": "2014-04-02"
           },
           {
            "c": 1200,
            "layer": "v4",
            "t": "2014-04-02"
           },
           {
            "c": 2062,
            "layer": "v5",
            "t": "2014-04-02"
           },
           {
            "c": 664,
            "layer": "v6",
            "t": "2014-04-02"
           },
           {
            "c": 658,
            "layer": "v7",
            "t": "2014-04-02"
           },
           {
            "c": 1401,
            "layer": "v8",
            "t": "2014-04-02"
           },
           {
            "c": 479,
            "layer": "v9",
            "t": "2014-04-02"
           },
           {
            "c": 1283,
            "layer": "v10",
            "t": "2014-04-02"
           },
           {
            "c": 538,
            "layer": "v11",
            "t": "2014-04-02"
           },
           {
            "c": 1097,
            "layer": "v12",
            "t": "2014-04-02"
           },
           {
            "c": 557,
            "layer": "v13",
            "t": "2014-04-02"
           },
           {
            "c": 1190,
            "layer": "v14",
            "t": "2014-04-02"
           },
           {
            "c": 1506,
            "layer": "v0",
            "t": "2014-04-03"
           },
           {
            "c": 1372,
            "layer": "v1",
            "t": "2014-04-03"
           },
           {
            "c": 749,
            "layer": "v2",
            "t": "2014-04-03"
           },
           {
            "c": 1761,
            "layer": "v3",
            "t": "2014-04-03"
           },
           {
            "c": 1247,
            "layer": "v4",
            "t": "2014-04-03"
           },
           {
            "c": 1894,
            "layer": "v5",
            "t": "2014-04-03"
           },
           {
            "c": 757,
            "layer": "v6",
            "t": "2014-04-03"
           },
           {
            "c": 637,
            "layer": "v7",
            "t": "2014-04-03"
           },
           {
            "c": 1387,
            "layer": "v8",
            "t": "2014-04-03"
           },
           {
            "c": 545,
            "layer": "v9",
            "t": "2014-04-03"
           },
           {
            "c": 1384,
            "layer": "v10",
            "t": "2014-04-03"
           },
           {
            "c": 599,
            "layer": "v11",
            "t": "2014-04-03"
           },
           {
            "c": 1034,
            "layer": "v12",
            "t": "2014-04-03"
           },
           {
            "c": 571,
            "layer": "v13",
            "t": "2014-04-03"
           },
           {
            "c": 1153,
            "layer": "v14",
            "t": "2014-04-03"
           },
           {
            "c": 1637,
            "layer": "v0",
            "t": "2014-04-04"
           },
           {
            "c": 1305,
            "layer": "v1",
            "t": "2014-04-04"
           },
           {
            "c": 828,
            "layer": "v2",
            "t": "2014-04-04"
           },
           {
            "c": 1640,
            "layer": "v3",
            "t": "2014-04-04"
           },
           {
            "c": 1255,
            "layer": "v4",
            "t": "2014-04-04"
           },
           {
            "c": 1773,
            "layer": "v5",
            "t": "2014-04-04"
           },
           {
            "c": 812,
            "layer": "v6",
            "t": "2014-04-04"
           },
           {
            "c": 600,
            "layer": "v7",
            "t": "2014-04-04"
           },
           {
            "c": 1245,
            "layer": "v8",
            "t": "2014-04-04"
           },
           {
            "c": 624,
            "layer": "v9",
            "t": "2014-04-04"
           },
           {
            "c": 1518,
            "layer": "v10",
            "t": "2014-04-04"
           },
           {
            "c": 683,
            "layer": "v11",
            "t": "2014-04-04"
           },
           {
            "c": 960,
            "layer": "v12",
            "t": "2014-04-04"
           },
           {
            "c": 602,
            "layer": "v13",
            "t": "2014-04-04"
           },
           {
            "c": 1129,
            "layer": "v14",
            "t": "2014-04-04"
           },
           {
            "c": 1432,
            "layer": "v0",
            "t": "2014-04-05"
           },
           {
            "c": 1245,
            "layer": "v1",
            "t": "2014-04-05"
           },
           {
            "c": 885,
            "layer": "v2",
            "t": "2014-04-05"
           },
           {
            "c": 1527,
            "layer": "v3",
            "t": "2014-04-05"
           },
           {
            "c": 1228,
            "layer": "v4",
            "t": "2014-04-05"
           },
           {
            "c": 1684,
            "layer": "v5",
            "t": "2014-04-05"
           },
           {
            "c": 851,
            "layer": "v6",
            "t": "2014-04-05"
           },
           {
            "c": 539,
            "layer": "v7",
            "t": "2014-04-05"
           },
           {
            "c": 1144,
            "layer": "v8",
            "t": "2014-04-05"
           },
           {
            "c": 714,
            "layer": "v9",
            "t": "2014-04-05"
           },
           {
            "c": 1765,
            "layer": "v10",
            "t": "2014-04-05"
           },
           {
            "c": 789,
            "layer": "v11",
            "t": "2014-04-05"
           },
           {
            "c": 886,
            "layer": "v12",
            "t": "2014-04-05"
           },
           {
            "c": 648,
            "layer": "v13",
            "t": "2014-04-05"
           },
           {
            "c": 1109,
            "layer": "v14",
            "t": "2014-04-05"
           },
           {
            "c": 1120,
            "layer": "v0",
            "t": "2014-04-06"
           },
           {
            "c": 1192,
            "layer": "v1",
            "t": "2014-04-06"
           },
           {
            "c": 907,
            "layer": "v2",
            "t": "2014-04-06"
           },
           {
            "c": 1426,
            "layer": "v3",
            "t": "2014-04-06"
           },
           {
            "c": 1190,
            "layer": "v4",
            "t": "2014-04-06"
           },
           {
            "c": 1610,
            "layer": "v5",
            "t": "2014-04-06"
           },
           {
            "c": 908,
            "layer": "v6",
            "t": "2014-04-06"
           },
           {
            "c": 459,
            "layer": "v7",
            "t": "2014-04-06"
           },
           {
            "c": 1076,
            "layer": "v8",
            "t": "2014-04-06"
           },
           {
            "c": 809,
            "layer": "v9",
            "t": "2014-04-06"
           },
           {
            "c": 2044,
            "layer": "v10",
            "t": "2014-04-06"
           },
           {
            "c": 915,
            "layer": "v11",
            "t": "2014-04-06"
           },
           {
            "c": 815,
            "layer": "v12",
            "t": "2014-04-06"
           },
           {
            "c": 710,
            "layer": "v13",
            "t": "2014-04-06"
           },
           {
            "c": 1079,
            "layer": "v14",
            "t": "2014-04-06"
           },
           {
            "c": 937,
            "layer": "v0",
            "t": "2014-04-07"
           },
           {
            "c": 1149,
            "layer": "v1",
            "t": "2014-04-07"
           },
           {
            "c": 905,
            "layer": "v2",
            "t": "2014-04-07"
           },
           {
            "c": 1337,
            "layer": "v3",
            "t": "2014-04-07"
           },
           {
            "c": 1161,
            "layer": "v4",
            "t": "2014-04-07"
           },
           {
            "c": 1535,
            "layer": "v5",
            "t": "2014-04-07"
           },
           {
            "c": 1015,
            "layer": "v6",
            "t": "2014-04-07"
           },
           {
            "c": 388,
            "layer": "v7",
            "t": "2014-04-07"
           },
           {
            "c": 1041,
            "layer": "v8",
            "t": "2014-04-07"
           },
           {
            "c": 900,
            "layer": "v9",
            "t": "2014-04-07"
           },
           {
            "c": 2126,
            "layer": "v10",
            "t": "2014-04-07"
           },
           {
            "c": 1056,
            "layer": "v11",
            "t": "2014-04-07"
           },
           {
            "c": 747,
            "layer": "v12",
            "t": "2014-04-07"
           },
           {
            "c": 790,
            "layer": "v13",
            "t": "2014-04-07"
           },
           {
            "c": 1027,
            "layer": "v14",
            "t": "2014-04-07"
           },
           {
            "c": 889,
            "layer": "v0",
            "t": "2014-04-08"
           },
           {
            "c": 1118,
            "layer": "v1",
            "t": "2014-04-08"
           },
           {
            "c": 901,
            "layer": "v2",
            "t": "2014-04-08"
           },
           {
            "c": 1260,
            "layer": "v3",
            "t": "2014-04-08"
           },
           {
            "c": 1150,
            "layer": "v4",
            "t": "2014-04-08"
           },
           {
            "c": 1449,
            "layer": "v5",
            "t": "2014-04-08"
           },
           {
            "c": 1186,
            "layer": "v6",
            "t": "2014-04-08"
           },
           {
            "c": 355,
            "layer": "v7",
            "t": "2014-04-08"
           },
           {
            "c": 1047,
            "layer": "v8",
            "t": "2014-04-08"
           },
           {
            "c": 963,
            "layer": "v9",
            "t": "2014-04-08"
           },
           {
            "c": 2198,
            "layer": "v10",
            "t": "2014-04-08"
           },
           {
            "c": 1204,
            "layer": "v11",
            "t": "2014-04-08"
           },
           {
            "c": 682,
            "layer": "v12",
            "t": "2014-04-08"
           },
           {
            "c": 889,
            "layer": "v13",
            "t": "2014-04-08"
           },
           {
            "c": 968,
            "layer": "v14",
            "t": "2014-04-08"
           },
           {
            "c": 899,
            "layer": "v0",
            "t": "2014-04-09"
           },
           {
            "c": 1102,
            "layer": "v1",
            "t": "2014-04-09"
           },
           {
            "c": 914,
            "layer": "v2",
            "t": "2014-04-09"
           },
           {
            "c": 1199,
            "layer": "v3",
            "t": "2014-04-09"
           },
           {
            "c": 1161,
            "layer": "v4",
            "t": "2014-04-09"
           },
           {
            "c": 1346,
            "layer": "v5",
            "t": "2014-04-09"
           },
           {
            "c": 1411,
            "layer": "v6",
            "t": "2014-04-09"
           },
           {
            "c": 340,
            "layer": "v7",
            "t": "2014-04-09"
           },
           {
            "c": 1092,
            "layer": "v8",
            "t": "2014-04-09"
           },
           {
            "c": 986,
            "layer": "v9",
            "t": "2014-04-09"
           },
           {
            "c": 2327,
            "layer": "v10",
            "t": "2014-04-09"
           },
           {
            "c": 1349,
            "layer": "v11",
            "t": "2014-04-09"
           },
           {
            "c": 654,
            "layer": "v12",
            "t": "2014-04-09"
           },
           {
            "c": 1004,
            "layer": "v13",
            "t": "2014-04-09"
           },
           {
            "c": 926,
            "layer": "v14",
            "t": "2014-04-09"
           },
           {
            "c": 936,
            "layer": "v0",
            "t": "2014-04-10"
           },
           {
            "c": 1104,
            "layer": "v1",
            "t": "2014-04-10"
           },
           {
            "c": 947,
            "layer": "v2",
            "t": "2014-04-10"
           },
           {
            "c": 1158,
            "layer": "v3",
            "t": "2014-04-10"
           },
           {
            "c": 1206,
            "layer": "v4",
            "t": "2014-04-10"
           },
           {
            "c": 1228,
            "layer": "v5",
            "t": "2014-04-10"
           },
           {
            "c": 1650,
            "layer": "v6",
            "t": "2014-04-10"
           },
           {
            "c": 289,
            "layer": "v7",
            "t": "2014-04-10"
           },
           {
            "c": 1169,
            "layer": "v8",
            "t": "2014-04-10"
           },
           {
            "c": 1002,
            "layer": "v9",
            "t": "2014-04-10"
           },
           {
            "c": 2495,
            "layer": "v10",
            "t": "2014-04-10"
           },
           {
            "c": 1486,
            "layer": "v11",
            "t": "2014-04-10"
           },
           {
            "c": 781,
            "layer": "v12",
            "t": "2014-04-10"
           },
           {
            "c": 1131,
            "layer": "v13",
            "t": "2014-04-10"
           },
           {
            "c": 903,
            "layer": "v14",
            "t": "2014-04-10"
           }
          ]
         },
         "encoding": {
          "color": {
           "field": "layer",
           "scale": {
            "scheme": "category20b"
           }
          },
          "x": {
           "field": "t",
           "format": "YYYY-MM-DD",
           "type": "date"
          },
          "y": {
           "aggregate": "sum",
           "field": "c",
           "type": "quantitative"
          }
         },
         "mark": "area"
        },
        "steps": [
         {
          "source": [
           "Eldon Square War Memorial. General view of Eldon Square on St George's Day, 23 April 1925 (TWAM ref. DF.GRA/1/2).[Tyne & Wear Archives & Museums](https://www.flickr.com/photos/twm_news/28124602970/in/photolist-JRgWBL-jzZNuJ-aDKH2d-nJtp8t-hRZicc-2cGxxS5-e2DK71-ntPEnA-8Y6dgE-dNUXdM-VqmmbM-6c9vRS-2iTLtSv-dtySdo-ecsKXe-uAsFRG-njnQpm-NNNE2w-ziAsBE-vmk2V2-29poxMt-MgGPEh-ejeDc6-owbvd4-2diuCp9-2ejXgyS-AUccby-ACKVcs-8Y67E5-AT3QJC-zYu4vz-otuhqL-cNytkN-75zNWa-MgFbV4-MgGPBw-xwsJL3-26Kb9To-nj41VB-oyeD2K-NNkou2-nj3pk9-ow5YKR-ecyobS-NEwkUz-MQtxWP-htWNUY-7eU2Mg-rPKXHa-azPFpy)"
          ]
         }
        ],
        "type": "vega"
       },
       "text": {
        "bootstrapColumLayout": {
         "md": {
          "offset": 1,
          "span": 3
         }
        }
       }
      }
     },
     "output_type": "display_data"
    }
   ],
   "source": [
    "cLayerValues = [ bumps(numdays, numdays) for layer in range(15) ]\n",
    "# add pretty random values per each \"layer\"\n",
    "layerValues = [\n",
    "    {\n",
    "        't': x.isoformat(),\n",
    "        'layer': f'v{l}',\n",
    "        'c': round((i% 100) * layer[i])\n",
    "    } for i,x in enumerate([base + datetime.timedelta(days=x) for x in range(numdays)])\n",
    "    for l, layer in enumerate(cLayerValues)\n",
    "]\n",
    "\n",
    "spec = {\n",
    "    \"$schema\": \"https://vega.github.io/schema/vega-lite/v4.json\",\n",
    "    \"mark\": \"area\",\n",
    "    \"data\": {\n",
    "       \"values\": layerValues,\n",
    "    },\n",
    "    \"encoding\": {\n",
    "      \"x\": { \"field\": \"t\", \"type\": \"date\", \"format\": \"YYYY-MM-DD\" },\n",
    "      \"y\": { \"aggregate\": \"sum\", \"field\": \"c\", \"type\": \"quantitative\" },\n",
    "      \"color\": { \"field\": \"layer\", \"scale\": { \"scheme\": \"category20b\" } }\n",
    "    }\n",
    "}\n",
    "\n",
    "display(JSON(layerValues), metadata={\"jdh\": {\n",
    "    \"module\": \"text_object\",\n",
    "    \"text\": {\n",
    "        \"bootstrapColumLayout\": { \"md\": { \"offset\":1, \"span\": 3 } }\n",
    "    },\n",
    "    \"object\": {\n",
    "        \"type\": \"vega\",\n",
    "        \"component\": \"Stackgraph\",\n",
    "        \"position\": \"sticky\",\n",
    "        \"heightRatio\": .8,\n",
    "        \"steps\": [{\n",
    "            \"source\": [\"Eldon Square War Memorial. General view of Eldon Square on St George's Day, 23 April 1925 (TWAM ref. DF.GRA/1/2).[Tyne & Wear Archives & Museums](https://www.flickr.com/photos/twm_news/28124602970/in/photolist-JRgWBL-jzZNuJ-aDKH2d-nJtp8t-hRZicc-2cGxxS5-e2DK71-ntPEnA-8Y6dgE-dNUXdM-VqmmbM-6c9vRS-2iTLtSv-dtySdo-ecsKXe-uAsFRG-njnQpm-NNNE2w-ziAsBE-vmk2V2-29poxMt-MgGPEh-ejeDc6-owbvd4-2diuCp9-2ejXgyS-AUccby-ACKVcs-8Y67E5-AT3QJC-zYu4vz-otuhqL-cNytkN-75zNWa-MgFbV4-MgGPBw-xwsJL3-26Kb9To-nj41VB-oyeD2K-NNkou2-nj3pk9-ow5YKR-ecyobS-NEwkUz-MQtxWP-htWNUY-7eU2Mg-rPKXHa-azPFpy)\"]\n",
    "        }],\n",
    "        \"bootstrapColumLayout\": { \"md\": { \"offset\":0, \"span\": 7 } },\n",
    "        \"cssClassName\": [ \"bg-white\" ],\n",
    "        \"spec\": spec\n",
    "    }\n",
    "}})\n"
   ]
  },
  {
   "cell_type": "markdown",
   "id": "sealed-juice",
   "metadata": {},
   "source": [
    "Figure 2 is a projection over time of the major themes that mark the sub-corpus of French-language tweets. Each colour represents a theme. These themes, or classes, are made up of a set of tweets whose similarity has been statistically evaluated on the basis of co-occurrences of words present in these tweets. The words indicated are the most characteristic words of this class. These classes are constituted on the basis of the Reinert methodology (Reinert, 1983) as made possible by the IRaMuTeQ software (Ratinaud & Dejean, 2009).\n",
    "\n",
    "This figure 2 allows us to analyze the temporality of the French sub-corpus. This temporality is twofold: if, throughout the year, the soldier who died for France is the central object of the collective memory of the Great War in this corpus, the vocabulary of the tribute is more general during major commemorations, and more specific - i.e. focusing on specific Poilus - during the rest of the year.\n",
    "\n",
    "This dichotomy can be explained by the activity around the database of the Dead for France, published by the French Ministry of Defence on the Mémoire des Hommes website (http://www.memoiredeshommes.sga.defense.gouv.fr/). This database lists, initially with little descriptive metadata, all 1.3 million deaths that have been marked \"Dead for France\", i.e. died as a result of war events. \n",
    "\n",
    "The content of this database is initially made up of images of administrative acts declaring a person dead for France. An indexing module has been provided, making it possible to transform these images into actual text, i.e. text seen as text by the computer. \n",
    "This indexing module has been appropriated by many Internet users, many of whom have a Twitter account and use a particular hashtag (#1j1p). Each indexed record is then the subject of a tweet describing the person - most of the time a Poilu - to whom it belongs (Clavert, 2018). Classes 14, 1 and 2 are representative of this phenomenon.\n",
    "\n",
    "The days of great commemorations are the subject of different tweets: the indexing certainly does not stop, but the terms used in many tweets are mostly the subject of a more general tribute to the soldiers who died for France. For every 11th November, for the commemoration of the centenary of the Battle of Verdun in February 2016 and for the centenary of the Battle of the Somme on 1st July 2016, the terms of the tribute to the Poilus are much more general.\n"
   ]
  },
  {
   "cell_type": "code",
   "execution_count": null,
   "id": "macro-attitude",
   "metadata": {},
   "outputs": [],
   "source": []
  }
 ],
 "metadata": {
  "kernelspec": {
   "display_name": "Python 3",
   "language": "python",
   "name": "python3"
  },
  "language_info": {
   "codemirror_mode": {
    "name": "ipython",
    "version": 3
   },
   "file_extension": ".py",
   "mimetype": "text/x-python",
   "name": "python",
   "nbconvert_exporter": "python",
   "pygments_lexer": "ipython3",
   "version": "3.8.0"
  }
 },
 "nbformat": 4,
 "nbformat_minor": 5
}
