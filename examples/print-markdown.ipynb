{
 "cells": [
  {
   "cell_type": "markdown",
   "id": "demonstrated-pursuit",
   "metadata": {},
   "source": [
    "# Exemple by using display(Markdown(string))"
   ]
  },
  {
   "cell_type": "code",
   "execution_count": 1,
   "id": "mental-operations",
   "metadata": {},
   "outputs": [],
   "source": [
    "# définition d'une fonction pour utiliser du markdown dans les print\n",
    "from IPython.display import Markdown, display\n",
    "def printmd(string):\n",
    "    display(Markdown(string))"
   ]
  },
  {
   "cell_type": "code",
   "execution_count": 2,
   "id": "enabling-parallel",
   "metadata": {},
   "outputs": [],
   "source": [
    "import re\n",
    "# fonctions pour mettre en gras les lemmes fléchis dans les citations\n",
    "def bold_type(match):\n",
    "    return(\"__\" + match.group() + \"__\")\n",
    "\n",
    "def highlight_lex(string):\n",
    "    p = re.compile(r\"\\b(vulgus|vulgum|vulgi|vulgo|turba|turbam|turbae|multitudo|multitudinem|multitudinis|multitudine)(que|ve)?\\b\", re.I)\n",
    "    return printmd(p.sub(bold_type, string))"
   ]
  },
  {
   "cell_type": "code",
   "execution_count": 3,
   "id": "described-evening",
   "metadata": {},
   "outputs": [
    {
     "data": {
      "text/markdown": [
       "__Ann. 1.29.3__ (`ADV`) : _certatum inde sententiis, cum alii opperiendos legatos atque interim comitate permulcendum militem censerent, alii fortioribus remediis agendum: nihil in __vulgo__ modicum: terrere ni paveant, ubi pertimuerint inpune contemni: dum superstitio urgeat, adiciendos ex duce metus sublatis seditionis auctoribus_ (\"There was now a conflict of opinions, some proposing to wait for the return of the deputies and humour the troops in the meantime by a show of leniency, while others were for sterner remedies:-\"A crowd was nothing if not extreme: it must either bluster or cringe: once terrified, it could be ignored with impunity: now that it was depressed by superstition was the moment for the general to inspire fresh terror by removing the authors of the mutiny.\" \")\n"
      ],
      "text/plain": [
       "<IPython.core.display.Markdown object>"
      ]
     },
     "metadata": {},
     "output_type": "display_data"
    },
    {
     "data": {
      "text/markdown": [
       "__Ann. 1.76.3__ (`ADV`) : _edendis gladiatoribus, quos Germanici fratris ac suo nomine obtulerat, Drusus praesedit, quamquam vili sanguine nimis gaudens: quod in __vulgus__ formidolosum et pater arguisse dicebatur_ (\"A show of gladiators, given in the name of his brother Germanicus, was presided over by Drusus, who took an extravagant pleasure in the shedding of blood however vile-a trait so alarming to the populace that it was said to have been censured by his father.\")\n"
      ],
      "text/plain": [
       "<IPython.core.display.Markdown object>"
      ]
     },
     "metadata": {},
     "output_type": "display_data"
    },
    {
     "data": {
      "text/markdown": [
       "__Ann. 14.60.5__ (`ADV`) : _inde crebri questus nec occulti per __vulgum__, cui minor sapientia <et> ex mediocritate fortunae pauciora pericula sunt_ (\"The measure led to general and undisguised protests from the common people, endowed with less discretion than their superiors, and-thanks to their humble station-faced by fewer perils.\")\n"
      ],
      "text/plain": [
       "<IPython.core.display.Markdown object>"
      ]
     },
     "metadata": {},
     "output_type": "display_data"
    },
    {
     "data": {
      "text/markdown": [
       "__Ann. 15.48.2__ (`ADV`) : _is Calpurnio genere ortus ac multas insignisque familias paterna nobilitate complexus, claro apud __vulgum__ rumore erat per virtutem aut species virtutibus similis_ (\"Piso, sprung from the Calpurnian house, and, by his fathers high descent, uniting in his own person many families of distinction, enjoyed with the multitude a shining reputation for virtue, or for spectacular qualities resembling virtues.\")\n"
      ],
      "text/plain": [
       "<IPython.core.display.Markdown object>"
      ]
     },
     "metadata": {},
     "output_type": "display_data"
    },
    {
     "data": {
      "text/markdown": [
       "__Hist. 1.86.2__ (`ADV`) : _fames in __vulgus__ inopia quaestus et penuria alimentorum_ (\"The common people were reduced to famine by lack of employment and failure of supplies.\")\n"
      ],
      "text/plain": [
       "<IPython.core.display.Markdown object>"
      ]
     },
     "metadata": {},
     "output_type": "display_data"
    },
    {
     "data": {
      "text/markdown": [
       "__Hist. 2.26.5__ (`ADV`) : _apud paucos ea ducis ratio probata, in __vulgus__ adverso rumore fuit_ (\"A few approved of the generals plan, but it caused adverse comment among the mass of the soldiers.\")\n"
      ],
      "text/plain": [
       "<IPython.core.display.Markdown object>"
      ]
     },
     "metadata": {},
     "output_type": "display_data"
    },
    {
     "data": {
      "text/markdown": [
       "__Hist. 2.93.2__ (`ADV`) : _postremo ne salutis quidem cura infamibus Vaticani locis magna pars tetendit, unde crebrae in __vulgus__ mortes_ (\"Finally, with no regard even for their very lives, a large proportion camped in the unhealthy districts of the Vatican, which resulted in many deaths among the common soldiery.\")\n"
      ],
      "text/plain": [
       "<IPython.core.display.Markdown object>"
      ]
     },
     "metadata": {},
     "output_type": "display_data"
    },
    {
     "data": {
      "text/markdown": [
       "__Ann. 1.39.3__ (`OBJ`) : _utque mos __vulgo__ quamvis falsis reum subdere, Munatium Plancum consulatu functum, principem \n",
       "legationis, auctorem senatus consulti incusant_ (\"With the common propensity of crowds to find a victim, however false the charge, they accused Munatius Plancus, an ex-consul who was at the head of the deputation, of initiating the decree\")\n"
      ],
      "text/plain": [
       "<IPython.core.display.Markdown object>"
      ]
     },
     "metadata": {},
     "output_type": "display_data"
    },
    {
     "data": {
      "text/markdown": [
       "__Ann. 4.64.1__ (`OBJ`) : _feralemque annum ferebant et ominibus adversis susceptum principi consilium absentiae, qui mos __vulgo__, fortuita ad culpam trahentes, ni Caesar obviam isset tribuendo pecunias ex modo detrimenti_ (\"\"It was a fatal year, and the sovereigns decision to absent himself had been adopted under an evil star\"-so men began to remark, converting, as is the habit of the crowd, the fortuitous into the culpable, when the Caesar checked the critics by a distribution of money in proportion to loss sustained. \")\n"
      ],
      "text/plain": [
       "<IPython.core.display.Markdown object>"
      ]
     },
     "metadata": {},
     "output_type": "display_data"
    },
    {
     "data": {
      "text/markdown": [
       "__Ann. 14.14.2__ (`SBJ`) : _mox ultro vocari populus Romanus laudibusque extollere, ut est __vulgus__ cupiens voluptatum et, si eodem princeps trahat, laetum_ (\"Before long, the Roman people received an invitation in form, and began to hymn his praises, as is the way of the crowd, hungry for amusements, and delighted if the sovereign draws in the same direction. \")\n"
      ],
      "text/plain": [
       "<IPython.core.display.Markdown object>"
      ]
     },
     "metadata": {},
     "output_type": "display_data"
    },
    {
     "data": {
      "text/markdown": [
       "__Ann. 15.64.2__ (`SBJ`) : _nam ut est __vulgus__ ad deteriora promptum, non defuere qui crederent, donec implacabilem Neronem timuerit, famam sociatae cum marito mortis petivisse, deinde oblata mitiore spe blandimentis \n",
       "vitae evictam_ (\"For, with the usual readiness of the multitude to think the worst, there were those who believed that, so long as she feared an implacable Nero, she had sought the credit of sharing her husbands fate, and then, when a milder prospect offered itself, had succumbed to the blandishments of life.\")\n"
      ],
      "text/plain": [
       "<IPython.core.display.Markdown object>"
      ]
     },
     "metadata": {},
     "output_type": "display_data"
    },
    {
     "data": {
      "text/markdown": [
       "__Hist. 1.69.1__ (`SBJ`) : _ut est mos, __vulgus__ mutabile subitis et tam pronum in misericordiam quam immodicum saevitia fuerat_ (\"Like all mobs, the common soldiers were given to sudden change and were as ready to show pity as they had been extravagant in cruelty.\")\n"
      ],
      "text/plain": [
       "<IPython.core.display.Markdown object>"
      ]
     },
     "metadata": {},
     "output_type": "display_data"
    },
    {
     "data": {
      "text/markdown": [
       "__Hist. 1.80.2__ (`SBJ`) : _fremit miles et tribunos centurionesque proditionis arguit, tamquam familiae senatorum ad perniciem Othonis armarentur, pars ignari et vino graves, pessimus quisque in occasionem praedarum, __vulgus__, ut mos est, cuiuscumque motus novi cupidum: et obsequia meliorum nox abstulerat_ (\"The soldiers began to murmur and charged the tribunes and centurions with treachery, saying that the slaves of the senators were being armed for Othos destruction. A part of the soldiers were ignorant of the circumstances and heavy with wine: the worst of them wished to make this an opportunity for looting: the great mass, as is usual, were ready for any new movement, and the natural obedience of the better disposed was rendered ineffective by the night.\")\n"
      ],
      "text/plain": [
       "<IPython.core.display.Markdown object>"
      ]
     },
     "metadata": {},
     "output_type": "display_data"
    },
    {
     "data": {
      "text/markdown": [
       "__Hist. 2.29.5__ (`SBJ`) : _ut vero deformis et flens et praeter spem incolumis Valens processit, gaudium miseratio favor: versi in laetitiam, ut est __vulgus__ utroque immodicum, laudantes gratantesque circumdatum aquilis signisque in tribunal ferunt_ (\"When Valens appeared in sorry plight and weeping, but unexpectedly safe, there came joy, pity, and even popularity. In their revulsion from anxiety to delight - mobs are always extravagant in both directions-they praised and congratulated him, surrounded him with the eagles and colours, and carried him to the tribunal.\")\n"
      ],
      "text/plain": [
       "<IPython.core.display.Markdown object>"
      ]
     },
     "metadata": {},
     "output_type": "display_data"
    },
    {
     "data": {
      "text/markdown": [
       "__Hist. 4.37.1__ (`SBJ`) : _ubi sedato impetu metus rediit, centuriones cum epistulis ad civitates Galliarum misere, auxilia ac stipendia oraturos: ipsi, ut est __vulgus__ sine rectore praeceps pavidum socors, adventante Civile raptis temere armis ac statim omissis, in fugam vertuntur_ (\"When this outburst died down, their fears returned: and the troops sent centurions with letters to the Gallic communities to ask for auxiliary troops and contributions: they themselves, for a mob without a leader is always hasty, timid, and without energy, at the approach of Civilis quickly caught up their arms, then immediately dropped them and fled.\")\n"
      ],
      "text/plain": [
       "<IPython.core.display.Markdown object>"
      ]
     },
     "metadata": {},
     "output_type": "display_data"
    }
   ],
   "source": [
    "import pandas as pd\n",
    "noms_foule_df = pd.read_csv(\"data/names-crowd_data.csv\", sep=\";\", encoding=\"latin1\")\n",
    "for index, content in noms_foule_df[(noms_foule_df[\"lemma\"] == \"vulgus\") & (noms_foule_df[\"l_head\"] == \"esse\")].sort_values(by=[\"synt\"]).iterrows():\n",
    "    highlight_lex(\"__%s__ (`%s`) : _%s_ (\\\"%s\\\")\\n\" %(content[\"ref\"], content[\"synt\"], content[\"sentence\"], content[\"translation\"]))"
   ]
  },
  {
   "cell_type": "markdown",
   "id": "animal-treat",
   "metadata": {},
   "source": [
    "# Example by using print python"
   ]
  },
  {
   "cell_type": "code",
   "execution_count": 4,
   "id": "mechanical-cyprus",
   "metadata": {},
   "outputs": [
    {
     "name": "stdout",
     "output_type": "stream",
     "text": [
      "The training corpus contains 4 articles, 6 of which are relevant and 10 irrelevant.\n"
     ]
    }
   ],
   "source": [
    "var_1 = 4\n",
    "var_2 = 6\n",
    "var_3 = 10\n",
    "print(f\"The training corpus contains {var_1} articles, {var_2} of which are relevant and {var_3} irrelevant.\")"
   ]
  }
 ],
 "metadata": {
  "celltoolbar": "Tags",
  "kernelspec": {
   "display_name": "Python 3",
   "language": "python",
   "name": "python3"
  },
  "language_info": {
   "codemirror_mode": {
    "name": "ipython",
    "version": 3
   },
   "file_extension": ".py",
   "mimetype": "text/x-python",
   "name": "python",
   "nbconvert_exporter": "python",
   "pygments_lexer": "ipython3",
   "version": "3.7.10"
  },
  "toc": {
   "base_numbering": 1,
   "nav_menu": {},
   "number_sections": true,
   "sideBar": true,
   "skip_h1_title": false,
   "title_cell": "Table of Contents",
   "title_sidebar": "Contents",
   "toc_cell": false,
   "toc_position": {},
   "toc_section_display": true,
   "toc_window_display": false
  }
 },
 "nbformat": 4,
 "nbformat_minor": 5
}
