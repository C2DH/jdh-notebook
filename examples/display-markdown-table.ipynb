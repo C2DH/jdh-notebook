{
 "cells": [
  {
   "cell_type": "markdown",
   "metadata": {
    "tags": [
     "table-1",
     "full-width"
    ]
   },
   "source": [
    "Editor|1641|1798|1916\n",
    "---|---|---|---\n",
    "Senan|0.55|0.4|0.3\n",
    "Henry|0.71|0.5|0.63\n",
    "\n"
   ]
  },
  {
   "cell_type": "code",
   "execution_count": 1,
   "metadata": {},
   "outputs": [
    {
     "data": {
      "text/plain": [
       "{'tags': ['table-1', 'full-width'],\n",
       " 'jdh': {'object': {'bootstrapColumLayout': {'md': {'span': 12}},\n",
       "   'source': ['table 1:Count of articles per nationalist event and per editor']}}}"
      ]
     },
     "metadata": {},
     "output_type": "display_data"
    }
   ],
   "source": [
    "from IPython.display import display\n",
    "\n",
    "display({\n",
    "  \"tags\": [\n",
    "    \"table-1\",\n",
    "    \"full-width\"\n",
    "  ],\n",
    "  \"jdh\": {\n",
    "    \"object\": {\n",
    "      \"bootstrapColumLayout\": {\n",
    "        \"md\": { \"span\": 12 }  \n",
    "      },\n",
    "      \"source\": [\"table 1:Count of articles per nationalist event and per editor\"]\n",
    "    }\n",
    "  }\n",
    "})"
   ]
  },
  {
   "cell_type": "markdown",
   "metadata": {
    "tags": [
     "table-2"
    ]
   },
   "source": [
    "|Term||Count|\t\t|Word||Count|\n",
    "|----||----|\t\t|----||----|\n",
    "|#womenof1916||1070|\t\t|women||4750|\n",
    "|#easterrising||413|\t\t|1916||3480|\n",
    "|#ireland2016||247|\t\t|rising||2389|\n",
    "|#1916rising||245|\t\t|markievicz||2050|\n",
    "|#internationalwomensday||233|\t\t|easter||1808|\n",
    "|#iwd2016||188|\t\t|irish||1441|\n",
    "|#wakingthefeminists||172|\t\t|countess||1273|\n",
    "|#ireland||138|\t\t|cumann||945|\n",
    "|#rebellion||110|\t\t|constance||927|\n",
    "|#women||106|\t\t|mban||926|\n",
    "|#cumannnamban||101|\t\t|men||730|\n",
    "|#irish||90|\t\t|years||704|\n",
    "|#irishhistory||87|\t\t|via||702|\n",
    "|#birthofanation||79|\t\t|woman||698|\n",
    "|#onthisday||79|\t\t|grace||688|\n",
    "|#womenoftherising||78|\t\t|100||674|\n",
    "|#dublin||69|\t\t|still||600|\n",
    "|#markievicz||65|\t\t|fighting||552|\n",
    "|#easter1916||55|\t\t|gifford||538|\n",
    "|#history||54|\t\t|ireland||493|\n",
    "|#iwd16ni||50|\t\t|margaret||449|\n",
    "|#women1916||49|\t\t|today||419|\n",
    "|#otd||48|\t\t|skinnider||418|\n",
    "|#feminism||46|\t\t|olivia||414|\n",
    "|#1916live||44|\t\t|plunkett||404|\n",
    "|#womenin1916||44|\t\t|great||403|\n",
    "|#repealthe8th||40|\t\t|dublin||352|\n",
    "|#rising||37|\t\t|day||349|\n",
    "|#rte1916||36|\t\t|O’leary||346|\n",
    "\n"
   ]
  }
 ],
 "metadata": {
  "celltoolbar": "Edit Metadata",
  "kernelspec": {
   "display_name": "Python 3",
   "language": "python",
   "name": "python3"
  },
  "language_info": {
   "codemirror_mode": {
    "name": "ipython",
    "version": 3
   },
   "file_extension": ".py",
   "mimetype": "text/x-python",
   "name": "python",
   "nbconvert_exporter": "python",
   "pygments_lexer": "ipython3",
   "version": "3.7.10"
  },
  "toc": {
   "base_numbering": 1,
   "nav_menu": {},
   "number_sections": true,
   "sideBar": true,
   "skip_h1_title": false,
   "title_cell": "Table of Contents",
   "title_sidebar": "Contents",
   "toc_cell": false,
   "toc_position": {},
   "toc_section_display": true,
   "toc_window_display": false
  }
 },
 "nbformat": 4,
 "nbformat_minor": 4
}
