{
 "cells": [
  {
   "cell_type": "markdown",
   "metadata": {},
   "source": [
    "## Editorial first issue of the Journal of Digital History"
   ]
  },
  {
   "cell_type": "markdown",
   "metadata": {},
   "source": [
    "### On pyramids and prisms"
   ]
  },
  {
   "cell_type": "markdown",
   "metadata": {},
   "source": [
    "In a 1999 review essay for the New York Review of Books entitled “The New Age of the Book”, the distinguished historian Robert Darnton at that time acting president of the American Historical Association sketched his vision of a new form of historical scholarship, being able to make new sense of evidence, historical argumentation, and analysis by producing new formats of digital storytelling and narration. Rebutting the popular predictions of the death of the book, Darnton advocated for new forms and formats of electronic publishing, structuring scholarly information and interpretation in a layered manner “arranged like a pyramid”:"
   ]
  },
  {
   "cell_type": "markdown",
   "metadata": {},
   "source": [
    "“The top layer could be a concise account of the subject, available perhaps in paperback. The next layer could contain expanded versions of different aspects of the argument, not arranged sequentially as in a narrative, but rather as self-contained units that feed into the topmost story. The third layer could be composed of documentation, possibly of different kinds, each set off by interpretative essays. A fourth layer might be theoretical or historiographical, with selections from previous scholarship and discussions of them. A fifth layer could be pedagogic, consisting of suggestions for classroom discussion and a model syllabus. And a sixth layer could contain readers' reports, exchanges between the author and the editor, and letters from readers, who could provide a growing corpus of commentary as the book made its way through different groups of readers.”"
   ]
  },
  {
   "cell_type": "markdown",
   "metadata": {},
   "source": [
    "Inspired by Darnton’s vision, one of the pioneers of digital history brainstormed on this idea in a lecture on “The Pasts and Futures of Digital History” later that year. Speculating about the possibilities of “mature hypertextual history”, Edward Ayers plead for a new aesthetics of historical narrative that could marry pleasures of sophisticated understanding of historical complexity with appealing aesthetic intricacy. As we know, Ayers call for creative experimentation with new forms and formats of historical storytelling online was systematically put into practice by himself and close collaborators – the “Valley of the Shadow”-project being the most emblematic early initiative in this direction. While Darnton’s idea of a layered digital book publication basically reflected the possibilities of enhancing classical historical narratives with additional layers of information and evidence, thereby enabling new forms of critical engagement and interaction with historical scholarship, William G. Thomas – Ayers ally in the “Valley of the Shadow”-project – emphasized the epistemological dimension of what he called a “prismatic functionality” of digital publications. In fusing form and argument in the digital medium of publication, he argued, readers would be offered the possibility to “open the process of historical interpretation, (…) providing sequential and interrelated modes of analysis, evidence and their relationship to previous scholarship”. In Thomas’ view, the most important intellectual added value of the digital as medium of historical storytelling and argumentation is to enable readers to “follow the logic of our thinking”, to reconstruct the intricate paths of historical scholarship by weaving interpretation, narrative, evidence, and commentary into what Lincoln Mullen recently coined as “braided narrative”."
   ]
  },
  {
   "cell_type": "markdown",
   "metadata": {},
   "source": [
    "### A plea for digital hermeneutics"
   ]
  },
  {
   "cell_type": "markdown",
   "metadata": {},
   "source": [
    "In the field of digital history, enabling readers to think along crucially depends on whether one can not only study the results of digital scholarship as summarized in a research article or monograph but retrace and understand the research practices and multiple decisions that finally led to the represented outcome. If we understand digital history as the practice of doing history by means of digital sources, tools and research infrastructures, producing transparency about how the digital interferes in the iterative process or lifecycle of the research process is a matter of epistemological imperative. This call for transparency or opening up the black boxes of digital scholarship applies to all stages of the research process – starting with the search for information / sources, their critical appraisal and analysis, up to interpretation and visualization in various forms and formats. This combination of critical digital skills with a self-reflexive approach is called digital hermeneutics: making explicit how the production of historical knowledge by means of digital tools and technologies is the result of a complex process of human-machine interaction, of co-construction of the “epistemic object” of historical inquiry and investigation."
   ]
  },
  {
   "cell_type": "markdown",
   "metadata": {},
   "source": [
    "(image)\n",
    "Fig. 1. – Digital Hermeneutics: The iterative research process of digital history asks for both new practical skills and a critical reflection on the interferences of the digital in the thinking, doing, and narrating of history. "
   ]
  },
  {
   "cell_type": "markdown",
   "metadata": {},
   "source": [
    "Following Johanna Drucker’s plea for scrutinizing the lifecycle of producing historical evidence when treating data as capta, Sharon M. Leon recently argued that the “process level exposure” is key for a critical “reading” of digital scholarship, especially when it comes to the creation and curation of historical datasets: “Historians must to(!) commit to publishing their data with self-reflexive position statements about the creation of the data set – in effect fieldwork journaling, not unlike our colleagues who do ethnographic work – because the creation of a data set is a complex process of abstraction, augmentation, and modeling that moves from historical record to rectangular data, and sometimes linked data”. As mentioned earlier, this call for transparency and self-reflexivity not only applies to the co-construction of historical datasets, but holds true for all steps in the digital research process – which is generally characterized by feedback-loops and multiple iterations of analytical operations. As a comprehensive framework of epistemological and methodological investigation, the concept of digital hermeneutics offers a critical framework to problematize the “digital interventions” in historical research by:\n",
    "- opening the black boxes of algorithm-driven search engines and to reflect on the heuristic of search in online catalogues and repositories; \n",
    "- thinking about the 6 V’s of data integrity (volume, velocity, variety, validity, veracity, value) and train us in historical data criticism; \n",
    "- understanding how digital tools co-create the epistemic objects of study and turn the user into a manipulator of highly specific research instruments;  \n",
    "- deconstructing the “look of certainty” of data visualization by exploring the indexical relationship between “back-end” and “front-end” of dynamic interfaces;"
   ]
  },
  {
   "cell_type": "markdown",
   "metadata": {},
   "source": [
    "developing multimodal literacy in order to decode narrative conventions of transmedia storytelling and the relational logic of web-applications and archives."
   ]
  },
  {
   "cell_type": "markdown",
   "metadata": {},
   "source": [
    "### Turning Theory into Practice: A Multilayered publication platform for scalable reading"
   ]
  },
  {
   "cell_type": "markdown",
   "metadata": {},
   "source": [
    "Recent articles and books that have tried to map the field of digital history and to critically evaluate its merits and challenges all emphasize the need for a stronger transparency of how digital infrastructures, tools, and data shape historians’ practices and a more explicit (self-)reflection on what the digital does to the discipline of history at large. A systematic reflection on such issues has so far made the subject of a handful of monographs and edited volumes, and occasionally became a topic of discussion in leading international journals. While basically all pioneers of digital history agree on the necessity of careful documentation of the “digital interferences” in the research process for the purpose of transparency and verifiability, traditional formats and publication platforms of historical scholarship neither encourage nor enable this making explicit of the implicit. The “gold standards” in historical publication – published monographs and journal articles – focus on the literary presentation of a historical narrative and evidence-based argumentation, rendering digital search strategies or methodological and epistemological implications of digital tools and datasets more or less “invisible”. As Sharon M. Leon has recently stated, historians of the digital age have been private about their work with data – “presenting only end products, narratives, and summaries”. Seen the fact that the “workflow” of historical research is currently characterized by the use of digital infrastructures and technologies, we are in desperate need for clearer protocols how to document and share self-reflexive position statements in scientific publications online. As “normative narratives”, workflows describe the experimental process of knowledge production in a formalized way and make scholarship both comprehensible and contestable."
   ]
  },
  {
   "cell_type": "markdown",
   "metadata": {},
   "source": [
    "Over the last decade, several initiatives were initiated trying to give birth to Darnton’s 1999 vision. Formerly known as revues.org, the French CNRS-backed platform OpenEdition for example gathers books, academic journals and blogs, exploring new electronic ways of publishing. OpenEdition investigates a new economic open access model, called freemium, where all articles and books are OA, but some services are reserved for libraries through specific subscriptions. A common search engine to all content published on OpenEdition as well as a strong editorial policy to curate and promote contents are the key elements of this successful attempt at introducing new ways of publishing. Nevertheless, there is no integrated way to publish data linked to articles or books. Furthermore, hypotheses.org, OpenEdition’s blogging platform that aims at opening the researcher’s toolbox, is not strongly linked to OpenEdition Journals or OpenEdition Books. If OpenEdition surely is the next generation of academic publishers, it remains, in a certain way, within the classical framework of publishing academic content in specified formats and separate media."
   ]
  },
  {
   "cell_type": "markdown",
   "metadata": {},
   "source": [
    "Another strong novelty in academic publishing are overlay journals. Overlay journals take advantage on the content deposited on institutional repositories such as arXiv.org. Though the first ones were created two decades ago, it became more popular since the middle of the 2010s, notably through the creation of dedicated platforms such as episciences.org, that allow overlay journals to be connected to arXiv or HAL (the French national institutional repository). Fully open access, peer reviewed, the Journal of Data Mining and Digital Humanities is a convincing example of an overlay journal in the field of digital humanities. Institutional repositories enable overlay journals to publish pre-prints, for instance, and, sometimes, datasets. Nevertheless, the main aim of overlay journals is to explore the possibilities of the diamond road to open access – something that we warmly welcome – but not necessarily to put the emphasis on the articulation between narration, hermeneutics and data."
   ]
  },
  {
   "cell_type": "markdown",
   "metadata": {},
   "source": [
    "Data papers journals are a third initiative that we should mention here. The Journal of Open Humanities Data, for instance, aims to “to be a key part of a thriving community of scholars sharing humanities data. The journal features peer reviewed publications describing humanities research objects or techniques with high potential for reuse. The central aim is to make research data available, to promote data-criticism, and invite scholars to reuse the data for new research. To our eyes, such initiatives are part of the road we aim to take, but a part only."
   ]
  },
  {
   "cell_type": "markdown",
   "metadata": {},
   "source": [
    "In the field digital history more specifically, since 2010, a strong trend has been the online and open access publication of pre-version of books with a call for comments. From Writing history in the digital age (2013, https://writinghistory.trincoll.edu/) to Exploring Big Historical Data: The Historian's Macroscope (2015, new edition to come, https://www.themacroscope.org/1.0/) or Le goût de l’archive à l’ère numérique (2017-…, https://gout-numerique.net, co-edited by one of the author of this editorial), new forms of collective writing and commenting have promoted a more participatory practice in the reflection on the methodological and epistemological challenges of doing history in the digital age. With the exception of Exploring Big Historical Data, though, there is no link between the books and the publication of data, and no intent to clearly distinguish narrative elements from hermeneutic reflections."
   ]
  },
  {
   "cell_type": "markdown",
   "metadata": {},
   "source": [
    "Those examples – we could have named a few others, such as the Programming historian initiative that extensively uses the github code repository platform – show how the editorial system in academia is changing, slowly leaving its 19th century based philosophy to something new that is not yet clearly defined. Nevertheless, none of those examples fully corresponded to what we had in mind."
   ]
  },
  {
   "cell_type": "markdown",
   "metadata": {},
   "source": [
    "With this new Journal of Digital History, we indeed aim for a multilayered publication platform in the field of history that will offer new opportunities for showcasing data-driven scholarschip and transmedia storytelling in the historical sciences by:\n",
    "\n",
    "- inviting historians to experiment with a new digital practice of writing, visualizing, and arguing history by means of an editorial system based on Jupyter Notebooks; \n",
    "- enabling a critical engagement with data-driven historical scholarship through “scalable reading”, combining different “modes” of reading in an interactive and explorative reading interface;\n",
    "- promoting open science and FAIR data principles and a recognition culture for digital scholarship based on collaboration, interdisciplinarity, and co-design."
   ]
  },
  {
   "cell_type": "markdown",
   "metadata": {},
   "source": [
    "( 2 images)\n",
    "Fig 2. The three interrelated layers of the Journal of Digital History."
   ]
  },
  {
   "cell_type": "markdown",
   "metadata": {},
   "source": [
    "The development and production of the Journal of Digital History is the result of a real joint-venture between the Luxembourg Centre for Contemporary and Digital History and the publisher De Gruyter Oldenbourg. Driven by ambition for open access and innovative approaches in digital humanities publishing, first negotiations started in early 2019, rapidly turning into a strategic collaboration agreement; in October the same year, the launch of the journal was officially communicated during the conference “Digital Hermeneutics: from Research to Dissemination” hosted at the German Historical Institute in Washington D.C. In an effort of systematic co-design, the developer-team at C2DH (see below) and the De Gruyter team (see below) have created a publication platform for the journal from scratch. Based on a critical analysis of existing online publication systems and procedures and a definition of specific functionalities reflecting the technical, editorial, and aesthetic parameters of JDH, the team discussed and tested multiple ideas and step-by-step moved into the development of prototypes, wireframes, and towards the design of a specific “look and feel” of the new journal."
   ]
  },
  {
   "cell_type": "markdown",
   "metadata": {},
   "source": [
    "This iterative process of co-construction of the journal very much breathed the spirit of “thinkering” which informs all research and development activities of the C2DH as “trading zone” between historians, computer scientists, web developers, and designers. Most importantly, we decided to make future authors as well as members of the editorial board of the journal participate in the development process. Thanks to the organization of so-called “writing workshops” and several “work in progress”-presentations of the journal at research seminars and conferences, we could gather important feedback on the expectations and needs of our peer community and receive highly valuable and useful recommendations and suggestions based on the practical experiences of our colleagues as authors, reviewers, or editors of digital scholarship. We hope that we have been able to incorporate most of their advice and “lessons learned” and that we can avoid some of the potential pitfalls of such an endeavor – or at least minimize the risks of failure.  We also aim to continue this: workshops will regularly be organised, including on-demand, to continue the collection of feedback in order to continuously improve the platform."
   ]
  },
  {
   "cell_type": "markdown",
   "metadata": {},
   "source": [
    "### What makes JDH special?"
   ]
  },
  {
   "cell_type": "markdown",
   "metadata": {},
   "source": [
    "During this co-design phase, some important decisions concerning the technical structure, editorial policy, and aesthetic design of the journal were taken that merit more detailed explanation."
   ]
  },
  {
   "cell_type": "markdown",
   "metadata": {},
   "source": [
    "Though created “from scratch”, our platform is based on sound open source code, applications and protocols, such as dataverse (https://dataverse.org/), git (https://git-scm.com/), jupyter notebooks (https://jupyter.org/) and HTML5. They were carefully chosen because of their large communities of users and developers, guarantying that they will still be dynamic in the next few years if not decades. Together, they are the foundation of our infrastructure (fig. 3). All the code we have developed and are still developing will be released as free software, as, if we believe in open access and open data, we also think open source should be a standard of scholarly practices."
   ]
  },
  {
   "cell_type": "markdown",
   "metadata": {},
   "source": [
    "(image)\n",
    "Fig. 3 – The JDH infrastructure"
   ]
  },
  {
   "cell_type": "markdown",
   "metadata": {},
   "source": [
    "After a long phase of studying different systems and editorial solutions, we finally decided to choose jupyter notebooks as an editor for our journal. Becoming more and more popular, notebooks allow notable reproducibility of code and, once passed a small learning curve, an easy to use code and text editor. Their lack of structure for text cells can be compensated by the use of the markdown language, easy to learn and very flexible. A system of tagging and plugins enable authors to prepare the notebook for the publication on the Journal of Digital History website and to connect them to zotero.org (hence an easy way to handle bibliographic references)."
   ]
  },
  {
   "cell_type": "markdown",
   "metadata": {},
   "source": [
    "Used for the narrative and the hermeneutic layers, notebooks can be connected to a dataverse server at the University of Luxembourg. The Journal of Digital History does not aim at being a data repository, but our dataverse instance will host the datasets necessary for all articles that we published, allowing the reader to access the data used, and when legally possible, to download the data and the notebook. In this way, the articles published on the Journal website will be reproducible."
   ]
  },
  {
   "cell_type": "markdown",
   "metadata": {},
   "source": [
    "The long-term conservation will be assured thanks to our partner, De Gruyter. As a long-term conservation of jupyter notebooks outside the JDH ecosystem does not seem possible at this point in time, it is pdf versions that will be archived by now. Those versions will not have the interaction the notebooks will allow. Some things will certainly be lost, but this assures that sound versions of the articles will be available for a very long time. Archiving the journal is only one part of the role De Gruyter will play: the management of the review system through De Gruyter’s own platform is another one, assuring the quality of the double-blind peer review process that we aimed to put in place."
   ]
  },
  {
   "cell_type": "markdown",
   "metadata": {},
   "source": [
    "Peer reviewing is, concerning the multilayered articles we intent to publish, a real challenge. We must admit that for now, it is not fully solved. Evaluating the results of a research, its methodology, its code, its data is not an easy task. We would like here to thank all reviewers who accepted this difficult exercise. We did not choose an open peer review process, as this kind of review, thought interesting, has some drawbacks – the most critical one being that it can imply power relationships between tenured and not tenured members of the academic community."
   ]
  },
  {
   "cell_type": "markdown",
   "metadata": {},
   "source": [
    "As it was important for the success of the journal to accompany authors during the writing of their article, we decided that issues of the JDH would be streams. The workload for each article may be rather high, and to ensure a personalized edition process, we will publish articles of a single issue during a time-span of several weeks or months. As a consequence, the first few articles that you can read as this first editorial is published will be completed until the end of the year to form, together, the first issue JDH. This first issue is not thematic. We decided to open it to all authors who sent us abstracts after we circulated the first CfP. This with the clear aim to demonstrate the potentialities of our publication system for scholars of all periods of history, for all schools of history, for all kinds of digital history approaches. Nevertheless, in the coming months, we will launch call for papers for thematic issues as well, which can centered on specific historical topics, methodological approaches, or current debates in the field where data-driven scholarship can produce new historical insights. "
   ]
  },
  {
   "cell_type": "markdown",
   "metadata": {},
   "source": [
    "A new publication platform that intends to innovate and to propose new forms and formats of digital scholarship in history cannot ignore (web)design. The JDH articles’ design is based on the principles of scrollytelling – a web adapted kind of storytelling that helps you going through information step by step. Thanks to the articles’ table of contents which have their own visual grammar and to a clear visual identity of the narrative and the hermeneutic layer, readers are invited to switch from one layer to another and as such easily navigate through the articles as braided narratives. We hope that this will allow readers to comfortably take advantage of all the possibilities of multilayered articles and engage them as critical “scalable readers”."
   ]
  },
  {
   "cell_type": "markdown",
   "metadata": {},
   "source": [
    "### Digital History as teamwork – a plea for a new recognition culture in history"
   ]
  },
  {
   "cell_type": "markdown",
   "metadata": {},
   "source": [
    "Since the pioneering works and projects in digital history mentioned in the beginning, more than twenty years have passed. In those years, the historical profession has for sure undergone a major digital transition, and the growing number of tenured research positions and professorships in digital history – at least in Europe – witnesses of a growing awareness about the importance of digital skills and expertise in the historical community. Still, the vast majority of historians will continue to practice history in a hybrid mode, combining analogue modes of reading and archival study with digital research tools and infrastructures. “Digital history is both part of daily life now and an ever-receding spectre on the technological horizon” says Steve Anderson in his comment of Jane Winter’s recent account on the state of the art in digital history. We could not agree more. The tensions between the “eternal promise” of the digital as revolutionary transition and disruptive innovation in science and the conservative nature of history as a humanities discipline based on critical hermeneutics still frames the academic discourse about the challenges and opportunities of the digital for doing history."
   ]
  },
  {
   "cell_type": "markdown",
   "metadata": {},
   "source": [
    "In fact, we are convinced that it will take at least another generation before historians and humanities scholars at large will have learned and embodied a new kind of knowledge production and appropriation that we qualify as “scalable reading”. As we know from earlier phases of transition in the cultural technique of reading, it takes ages before new forms and formats of representations of knowledge circulate and become appropriated by its users. This not only applies to textual representations of information, but to any kind of visual form of knowledge production. We hope that the visual design and open access architecture of JDH will be welcomed as an attractive opportunity for experimenting with new forms and formats of data-driven scholarship in the field of history, and that we can engage our readers in both a playful discovery and critical study of the presented narratives, hermeneutic reflections, and data-sets. "
   ]
  },
  {
   "cell_type": "markdown",
   "metadata": {},
   "source": [
    "Following Katherin Hayles’ argumentation that new forms of digital representation of historical data and narratives necessarily promote and facilitate a new way of thinking about history at large, we hope that this journal will contribute to the innovation of the discipline by offering an exciting and thought-provoking platform for scholarship in the field of digital history. Despite some attempts and initiatives to promote digital history scholarship through online journals, academic blogs, and institutional websites, the field has so far lacked an international forum for the academic representation of the impressive advancement of research and dissemination activities. We fully subscribe to Jane Winters’ statement that it is the manifold digital products of digital history scholarship that fully embody the novelty and argumentative strength of the research and – in consequence - need to be presented and made accessible in an open access and sustainable fashion: "
   ]
  },
  {
   "cell_type": "markdown",
   "metadata": {},
   "source": [
    "(quote) “The really transformative result of a digital project might be a piece of code, a new ontology, and interactive 3D model of a building, a virtual representation of a battle, or the sonification of historical data. These will always have to be documented and described, and their importance discussed in academic journals, but it is the digital objects themselves that fully embody the research”."
   ]
  },
  {
   "cell_type": "markdown",
   "metadata": {},
   "source": [
    "Last but not least, we hope that this new journal will contribute to a new recognition and reputation culture for those historians that explore new frontiers of historical scholarship by experimenting with new digital tools and technologies. The American Historical Association (AHA) “Guidelines for the Professional Evaluation of Digital Scholarship by Historians” published in 2015 criticized the apparent discrepancy between a high demand for digital skills and competencies in the profession on the one side, and the low recognition and meager career opportunities for hands-on practitioners of digital history. We therefore fully subscribe Simone Lässig’s recent plea for a new “reputation culture” for digital scholarship in the historical profession. An important element in this renewed reputation culture will be the demonstration of the collaborative nature of most of the digital scholarship in history. Instead of permeating the Renaissance idea of the historian as single author and genius storyteller, the trading zones of digital history are generally characterized by interdisciplinary collaborations and interactional expertise between historians, computer or data scientists, information specialists, developers and designers, specialized archivists and librarians, cultural heritage curators, and – in the case of digital public history and citizen science projects – local communities and “amateurs”. Making such collaborations and shared authority visible in terms of co-authorship will be an imperative for all of the output published in JDH. "
   ]
  },
  {
   "cell_type": "markdown",
   "metadata": {},
   "source": [
    "Andreas Fickers, editor-in-chief and Frédéric Clavert, managing editor and all the JDH team  C2DH (in alphabetical order): Robert Beta (Systems Administrator), Frédéric Clavert is Assistant Professor in Contemporary History and JDH Managing Editor. Ori Elisar is a User Experience Designer. Andreas Fickers is Director of the C²DH and Editor-in-Chief of the JDH. Elisabeth Guerard is a Historian and IT Application Developer. Daniele Guido is a Developer and the Lead Designer at the C²DH. Andy O’Dwyer is the Head of the DH-Lab at the C²DH. Mirjam Pfeiffer is a User Experience and User Interaction Designer. Lars Wieneke is Head of Digital Research Infrastructure at the C²DH."
   ]
  },
  {
   "cell_type": "markdown",
   "metadata": {},
   "source": [
    "The De Gruyter team consists of: Bettina de Keijzer (Senior Product Manager for Digital), Florian Hoppe (Journals Manager in Humanities and Law), Rabea Rittgerodt (Acquisitions Editor in History), Charlott Schönwetter (Journals Editor), and Katharina Zühlke (Product Marketing Manager)."
   ]
  },
  {
   "cell_type": "markdown",
   "metadata": {},
   "source": []
  }
 ],
 "metadata": {
  "kernelspec": {
   "display_name": "Python 3",
   "language": "python",
   "name": "python3"
  },
  "language_info": {
   "codemirror_mode": {
    "name": "ipython",
    "version": 3
   },
   "file_extension": ".py",
   "mimetype": "text/x-python",
   "name": "python",
   "nbconvert_exporter": "python",
   "pygments_lexer": "ipython3",
   "version": "3.8.3"
  },
  "toc": {
   "base_numbering": 1,
   "nav_menu": {},
   "number_sections": true,
   "sideBar": true,
   "skip_h1_title": false,
   "title_cell": "Table of Contents",
   "title_sidebar": "Contents",
   "toc_cell": false,
   "toc_position": {},
   "toc_section_display": true,
   "toc_window_display": false
  }
 },
 "nbformat": 4,
 "nbformat_minor": 4
}
