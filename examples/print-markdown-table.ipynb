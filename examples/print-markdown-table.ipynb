{
 "cells": [
  {
   "cell_type": "markdown",
   "id": "practical-favor",
   "metadata": {
    "tags": [
     "title"
    ]
   },
   "source": [
    "# How to Print Markdown Tables"
   ]
  },
  {
   "cell_type": "markdown",
   "id": "suffering-national",
   "metadata": {
    "tags": [
     "abstract"
    ]
   },
   "source": [
    "Sometimes, things can get weird."
   ]
  },
  {
   "cell_type": "markdown",
   "id": "center-yesterday",
   "metadata": {
    "tags": [
     "table-1"
    ]
   },
   "source": [
    "ID|Extract\n",
    "---|---\n",
    "49M|In extreme youth he had been one of the few survivors of the sack of Drogheda by Oliver Cromwell"
   ]
  },
  {
   "cell_type": "markdown",
   "id": "aggressive-incentive",
   "metadata": {},
   "source": [
    "As stated in [Table 1](#table-1) markdown is very well supported."
   ]
  },
  {
   "cell_type": "markdown",
   "id": "turned-tutorial",
   "metadata": {
    "jdh": {
     "object": {
      "bootstrapColumLayout": {
       "lg": {
        "offset": 0,
        "span": 12
       },
       "md": {
        "offset": 0,
        "span": 12
       }
      },
      "source": [
       "Table caption"
      ]
     }
    },
    "tags": [
     "table-2",
     "full-width"
    ]
   },
   "source": [
    "ID|Extract\n",
    "---|---\n",
    "49M|In extreme youth he had been one of the few survivors of the sack of Drogheda by Oliver Cromwell"
   ]
  },
  {
   "cell_type": "markdown",
   "id": "printable-eight",
   "metadata": {},
   "source": [
    "In [Table 2](#table-2) we use markdown in full width.\n",
    "\n",
    "if you check the metadata of the former cell, you'll see that we're using both the `full-width` tag and the `bootstrapColumnLayout` property in the cell meteadata. This is **not required** but it gives you the freedom to position the content as you like."
   ]
  },
  {
   "cell_type": "code",
   "execution_count": 7,
   "id": "dominican-membrane",
   "metadata": {},
   "outputs": [
    {
     "data": {
      "text/plain": [
       "{'tags': ['table-2', 'full-width'],\n",
       " 'jdh': {'object': {'bootstrapColumLayout': {'md': {'span': 12}},\n",
       "   'source': ['Table caption']}}}"
      ]
     },
     "metadata": {},
     "output_type": "display_data"
    }
   ],
   "source": [
    "from IPython.display import display\n",
    "\n",
    "display({\n",
    "  \"tags\": [\n",
    "    \"table-2\",\n",
    "    \"full-width\"\n",
    "  ],\n",
    "  \"jdh\": {\n",
    "    \"object\": {\n",
    "      \"bootstrapColumLayout\": {\n",
    "        \"md\": { \"span\": 12 }  \n",
    "      },\n",
    "      \"source\": [\"Table caption\"]\n",
    "    }\n",
    "  }\n",
    "})"
   ]
  },
  {
   "cell_type": "code",
   "execution_count": null,
   "id": "flush-cross",
   "metadata": {},
   "outputs": [],
   "source": []
  }
 ],
 "metadata": {
  "celltoolbar": "Edit Metadata",
  "kernelspec": {
   "display_name": "Python 3",
   "language": "python",
   "name": "python3"
  },
  "language_info": {
   "codemirror_mode": {
    "name": "ipython",
    "version": 3
   },
   "file_extension": ".py",
   "mimetype": "text/x-python",
   "name": "python",
   "nbconvert_exporter": "python",
   "pygments_lexer": "ipython3",
   "version": "3.8.3"
  }
 },
 "nbformat": 4,
 "nbformat_minor": 5
}
