{
 "cells": [
  {
   "cell_type": "code",
   "execution_count": 1,
   "id": "0ea7ae99",
   "metadata": {
    "ExecuteTime": {
     "end_time": "2022-10-24T08:41:19.701510Z",
     "start_time": "2022-10-24T08:41:06.750507Z"
    }
   },
   "outputs": [
    {
     "name": "stdout",
     "output_type": "stream",
     "text": [
      "Collecting git+https://github.com/innovationOUtside/nb_extension_tagstyler.git\n",
      "  Cloning https://github.com/innovationOUtside/nb_extension_tagstyler.git to /private/var/folders/nh/rc7pmmz52cb_sr450pk7thd0p31hyt/T/pip-req-build-yb8xk01m\n",
      "  Running command git clone --filter=blob:none --quiet https://github.com/innovationOUtside/nb_extension_tagstyler.git /private/var/folders/nh/rc7pmmz52cb_sr450pk7thd0p31hyt/T/pip-req-build-yb8xk01m\n",
      "  Resolved https://github.com/innovationOUtside/nb_extension_tagstyler.git to commit 7efc621cfaaf22ecf6d0b5bef81c9ae8577bb17a\n",
      "  Preparing metadata (setup.py) ... \u001b[?25ldone\n",
      "\u001b[?25hRequirement already satisfied: notebook in /Users/elisabeth.guerard/.pyenv/versions/anaconda3-2020.02/lib/python3.7/site-packages (from nb-extension-tagstyler==0.0.2) (6.2.0)\n",
      "Requirement already satisfied: terminado>=0.8.3 in /Users/elisabeth.guerard/.pyenv/versions/anaconda3-2020.02/lib/python3.7/site-packages (from notebook->nb-extension-tagstyler==0.0.2) (0.9.3)\n",
      "Requirement already satisfied: Send2Trash>=1.5.0 in /Users/elisabeth.guerard/.pyenv/versions/anaconda3-2020.02/lib/python3.7/site-packages (from notebook->nb-extension-tagstyler==0.0.2) (1.5.0)\n",
      "Requirement already satisfied: jupyter-core>=4.6.1 in /Users/elisabeth.guerard/.pyenv/versions/anaconda3-2020.02/lib/python3.7/site-packages (from notebook->nb-extension-tagstyler==0.0.2) (4.11.1)\n",
      "Requirement already satisfied: jinja2 in /Users/elisabeth.guerard/.pyenv/versions/anaconda3-2020.02/lib/python3.7/site-packages (from notebook->nb-extension-tagstyler==0.0.2) (3.1.2)\n",
      "Requirement already satisfied: tornado>=6.1 in /Users/elisabeth.guerard/.pyenv/versions/anaconda3-2020.02/lib/python3.7/site-packages (from notebook->nb-extension-tagstyler==0.0.2) (6.2)\n",
      "Requirement already satisfied: nbformat in /Users/elisabeth.guerard/.pyenv/versions/anaconda3-2020.02/lib/python3.7/site-packages (from notebook->nb-extension-tagstyler==0.0.2) (5.7.0)\n",
      "Requirement already satisfied: ipykernel in /Users/elisabeth.guerard/.pyenv/versions/anaconda3-2020.02/lib/python3.7/site-packages (from notebook->nb-extension-tagstyler==0.0.2) (5.3.4)\n",
      "Requirement already satisfied: prometheus-client in /Users/elisabeth.guerard/.pyenv/versions/anaconda3-2020.02/lib/python3.7/site-packages (from notebook->nb-extension-tagstyler==0.0.2) (0.9.0)\n",
      "Requirement already satisfied: argon2-cffi in /Users/elisabeth.guerard/.pyenv/versions/anaconda3-2020.02/lib/python3.7/site-packages (from notebook->nb-extension-tagstyler==0.0.2) (20.1.0)\n",
      "Requirement already satisfied: nbconvert in /Users/elisabeth.guerard/.pyenv/versions/anaconda3-2020.02/lib/python3.7/site-packages (from notebook->nb-extension-tagstyler==0.0.2) (6.5.4)\n",
      "Requirement already satisfied: traitlets>=4.2.1 in /Users/elisabeth.guerard/.pyenv/versions/anaconda3-2020.02/lib/python3.7/site-packages (from notebook->nb-extension-tagstyler==0.0.2) (5.4.0)\n",
      "Requirement already satisfied: ipython-genutils in /Users/elisabeth.guerard/.pyenv/versions/anaconda3-2020.02/lib/python3.7/site-packages (from notebook->nb-extension-tagstyler==0.0.2) (0.2.0)\n",
      "Requirement already satisfied: pyzmq>=17 in /Users/elisabeth.guerard/.pyenv/versions/anaconda3-2020.02/lib/python3.7/site-packages (from notebook->nb-extension-tagstyler==0.0.2) (24.0.1)\n",
      "Requirement already satisfied: jupyter-client>=5.3.4 in /Users/elisabeth.guerard/.pyenv/versions/anaconda3-2020.02/lib/python3.7/site-packages (from notebook->nb-extension-tagstyler==0.0.2) (7.4.2)\n",
      "Requirement already satisfied: nest-asyncio>=1.5.4 in /Users/elisabeth.guerard/.pyenv/versions/anaconda3-2020.02/lib/python3.7/site-packages (from jupyter-client>=5.3.4->notebook->nb-extension-tagstyler==0.0.2) (1.5.6)\n",
      "Requirement already satisfied: python-dateutil>=2.8.2 in /Users/elisabeth.guerard/.pyenv/versions/anaconda3-2020.02/lib/python3.7/site-packages (from jupyter-client>=5.3.4->notebook->nb-extension-tagstyler==0.0.2) (2.8.2)\n",
      "Requirement already satisfied: entrypoints in /Users/elisabeth.guerard/.pyenv/versions/anaconda3-2020.02/lib/python3.7/site-packages (from jupyter-client>=5.3.4->notebook->nb-extension-tagstyler==0.0.2) (0.3)\n",
      "Requirement already satisfied: ptyprocess in /Users/elisabeth.guerard/.pyenv/versions/anaconda3-2020.02/lib/python3.7/site-packages (from terminado>=0.8.3->notebook->nb-extension-tagstyler==0.0.2) (0.7.0)\n",
      "Requirement already satisfied: cffi>=1.0.0 in /Users/elisabeth.guerard/.pyenv/versions/anaconda3-2020.02/lib/python3.7/site-packages (from argon2-cffi->notebook->nb-extension-tagstyler==0.0.2) (1.14.5)\n",
      "Requirement already satisfied: six in /Users/elisabeth.guerard/.pyenv/versions/anaconda3-2020.02/lib/python3.7/site-packages (from argon2-cffi->notebook->nb-extension-tagstyler==0.0.2) (1.15.0)\n",
      "Requirement already satisfied: appnope in /Users/elisabeth.guerard/.pyenv/versions/anaconda3-2020.02/lib/python3.7/site-packages (from ipykernel->notebook->nb-extension-tagstyler==0.0.2) (0.1.2)\n",
      "Requirement already satisfied: ipython>=5.0.0 in /Users/elisabeth.guerard/.pyenv/versions/anaconda3-2020.02/lib/python3.7/site-packages (from ipykernel->notebook->nb-extension-tagstyler==0.0.2) (7.21.0)\n",
      "Requirement already satisfied: MarkupSafe>=2.0 in /Users/elisabeth.guerard/.pyenv/versions/anaconda3-2020.02/lib/python3.7/site-packages (from jinja2->notebook->nb-extension-tagstyler==0.0.2) (2.1.1)\n",
      "Requirement already satisfied: defusedxml in /Users/elisabeth.guerard/.pyenv/versions/anaconda3-2020.02/lib/python3.7/site-packages (from nbconvert->notebook->nb-extension-tagstyler==0.0.2) (0.7.1)\n",
      "Requirement already satisfied: pandocfilters>=1.4.1 in /Users/elisabeth.guerard/.pyenv/versions/anaconda3-2020.02/lib/python3.7/site-packages (from nbconvert->notebook->nb-extension-tagstyler==0.0.2) (1.4.3)\n",
      "Requirement already satisfied: lxml in /Users/elisabeth.guerard/.local/lib/python3.7/site-packages (from nbconvert->notebook->nb-extension-tagstyler==0.0.2) (4.6.5)\n",
      "Requirement already satisfied: pygments>=2.4.1 in /Users/elisabeth.guerard/.pyenv/versions/anaconda3-2020.02/lib/python3.7/site-packages (from nbconvert->notebook->nb-extension-tagstyler==0.0.2) (2.8.1)\n",
      "Requirement already satisfied: nbclient>=0.5.0 in /Users/elisabeth.guerard/.pyenv/versions/anaconda3-2020.02/lib/python3.7/site-packages (from nbconvert->notebook->nb-extension-tagstyler==0.0.2) (0.5.3)\n",
      "Requirement already satisfied: mistune<2,>=0.8.1 in /Users/elisabeth.guerard/.pyenv/versions/anaconda3-2020.02/lib/python3.7/site-packages (from nbconvert->notebook->nb-extension-tagstyler==0.0.2) (0.8.4)\n",
      "Requirement already satisfied: packaging in /Users/elisabeth.guerard/.pyenv/versions/anaconda3-2020.02/lib/python3.7/site-packages (from nbconvert->notebook->nb-extension-tagstyler==0.0.2) (21.3)\n",
      "Requirement already satisfied: jupyterlab-pygments in /Users/elisabeth.guerard/.pyenv/versions/anaconda3-2020.02/lib/python3.7/site-packages (from nbconvert->notebook->nb-extension-tagstyler==0.0.2) (0.1.2)\n",
      "Requirement already satisfied: tinycss2 in /Users/elisabeth.guerard/.pyenv/versions/anaconda3-2020.02/lib/python3.7/site-packages (from nbconvert->notebook->nb-extension-tagstyler==0.0.2) (1.2.1)\n",
      "Requirement already satisfied: bleach in /Users/elisabeth.guerard/.pyenv/versions/anaconda3-2020.02/lib/python3.7/site-packages (from nbconvert->notebook->nb-extension-tagstyler==0.0.2) (3.3.0)\n",
      "Requirement already satisfied: beautifulsoup4 in /Users/elisabeth.guerard/.local/lib/python3.7/site-packages (from nbconvert->notebook->nb-extension-tagstyler==0.0.2) (4.8.1)\n",
      "Requirement already satisfied: importlib-metadata>=3.6 in /Users/elisabeth.guerard/.pyenv/versions/anaconda3-2020.02/lib/python3.7/site-packages (from nbformat->notebook->nb-extension-tagstyler==0.0.2) (4.10.1)\n",
      "Requirement already satisfied: fastjsonschema in /Users/elisabeth.guerard/.pyenv/versions/anaconda3-2020.02/lib/python3.7/site-packages (from nbformat->notebook->nb-extension-tagstyler==0.0.2) (2.16.2)\n",
      "Requirement already satisfied: jsonschema>=2.6 in /Users/elisabeth.guerard/.pyenv/versions/anaconda3-2020.02/lib/python3.7/site-packages (from nbformat->notebook->nb-extension-tagstyler==0.0.2) (3.2.0)\n",
      "Requirement already satisfied: pycparser in /Users/elisabeth.guerard/.pyenv/versions/anaconda3-2020.02/lib/python3.7/site-packages (from cffi>=1.0.0->argon2-cffi->notebook->nb-extension-tagstyler==0.0.2) (2.20)\n"
     ]
    },
    {
     "name": "stdout",
     "output_type": "stream",
     "text": [
      "Requirement already satisfied: typing-extensions>=3.6.4 in /Users/elisabeth.guerard/.pyenv/versions/anaconda3-2020.02/lib/python3.7/site-packages (from importlib-metadata>=3.6->nbformat->notebook->nb-extension-tagstyler==0.0.2) (4.0.1)\n",
      "Requirement already satisfied: zipp>=0.5 in /Users/elisabeth.guerard/.pyenv/versions/anaconda3-2020.02/lib/python3.7/site-packages (from importlib-metadata>=3.6->nbformat->notebook->nb-extension-tagstyler==0.0.2) (3.4.1)\n",
      "Requirement already satisfied: prompt-toolkit!=3.0.0,!=3.0.1,<3.1.0,>=2.0.0 in /Users/elisabeth.guerard/.pyenv/versions/anaconda3-2020.02/lib/python3.7/site-packages (from ipython>=5.0.0->ipykernel->notebook->nb-extension-tagstyler==0.0.2) (3.0.8)\n",
      "Requirement already satisfied: backcall in /Users/elisabeth.guerard/.pyenv/versions/anaconda3-2020.02/lib/python3.7/site-packages (from ipython>=5.0.0->ipykernel->notebook->nb-extension-tagstyler==0.0.2) (0.2.0)\n",
      "Requirement already satisfied: pexpect>4.3 in /Users/elisabeth.guerard/.pyenv/versions/anaconda3-2020.02/lib/python3.7/site-packages (from ipython>=5.0.0->ipykernel->notebook->nb-extension-tagstyler==0.0.2) (4.8.0)\n",
      "Requirement already satisfied: setuptools>=18.5 in /Users/elisabeth.guerard/.local/lib/python3.7/site-packages (from ipython>=5.0.0->ipykernel->notebook->nb-extension-tagstyler==0.0.2) (28.8.0)\n",
      "Requirement already satisfied: decorator in /Users/elisabeth.guerard/.pyenv/versions/anaconda3-2020.02/lib/python3.7/site-packages (from ipython>=5.0.0->ipykernel->notebook->nb-extension-tagstyler==0.0.2) (4.4.2)\n",
      "Requirement already satisfied: pickleshare in /Users/elisabeth.guerard/.pyenv/versions/anaconda3-2020.02/lib/python3.7/site-packages (from ipython>=5.0.0->ipykernel->notebook->nb-extension-tagstyler==0.0.2) (0.7.5)\n",
      "Requirement already satisfied: jedi>=0.16 in /Users/elisabeth.guerard/.pyenv/versions/anaconda3-2020.02/lib/python3.7/site-packages (from ipython>=5.0.0->ipykernel->notebook->nb-extension-tagstyler==0.0.2) (0.18.0)\n",
      "Requirement already satisfied: attrs>=17.4.0 in /Users/elisabeth.guerard/.pyenv/versions/anaconda3-2020.02/lib/python3.7/site-packages (from jsonschema>=2.6->nbformat->notebook->nb-extension-tagstyler==0.0.2) (20.3.0)\n",
      "Requirement already satisfied: pyrsistent>=0.14.0 in /Users/elisabeth.guerard/.pyenv/versions/anaconda3-2020.02/lib/python3.7/site-packages (from jsonschema>=2.6->nbformat->notebook->nb-extension-tagstyler==0.0.2) (0.17.3)\n",
      "Requirement already satisfied: async-generator in /Users/elisabeth.guerard/.pyenv/versions/anaconda3-2020.02/lib/python3.7/site-packages (from nbclient>=0.5.0->nbconvert->notebook->nb-extension-tagstyler==0.0.2) (1.10)\n",
      "Requirement already satisfied: soupsieve>=1.2 in /Users/elisabeth.guerard/.pyenv/versions/anaconda3-2020.02/lib/python3.7/site-packages (from beautifulsoup4->nbconvert->notebook->nb-extension-tagstyler==0.0.2) (2.2)\n",
      "Requirement already satisfied: webencodings in /Users/elisabeth.guerard/.pyenv/versions/anaconda3-2020.02/lib/python3.7/site-packages (from bleach->nbconvert->notebook->nb-extension-tagstyler==0.0.2) (0.5.1)\n",
      "Requirement already satisfied: pyparsing!=3.0.5,>=2.0.2 in /Users/elisabeth.guerard/.pyenv/versions/anaconda3-2020.02/lib/python3.7/site-packages (from packaging->nbconvert->notebook->nb-extension-tagstyler==0.0.2) (2.4.7)\n",
      "Requirement already satisfied: parso<0.9.0,>=0.8.0 in /Users/elisabeth.guerard/.pyenv/versions/anaconda3-2020.02/lib/python3.7/site-packages (from jedi>=0.16->ipython>=5.0.0->ipykernel->notebook->nb-extension-tagstyler==0.0.2) (0.8.1)\n",
      "Requirement already satisfied: wcwidth in /Users/elisabeth.guerard/.pyenv/versions/anaconda3-2020.02/lib/python3.7/site-packages (from prompt-toolkit!=3.0.0,!=3.0.1,<3.1.0,>=2.0.0->ipython>=5.0.0->ipykernel->notebook->nb-extension-tagstyler==0.0.2) (0.2.5)\n",
      "\u001b[33mWARNING: There was an error checking the latest version of pip.\u001b[0m\u001b[33m\n",
      "\u001b[0mNote: you may need to restart the kernel to use updated packages.\n"
     ]
    }
   ],
   "source": [
    "# uncommentand execute if required\n",
    "%pip install git+https://github.com/innovationOUtside/nb_extension_tagstyler.git"
   ]
  },
  {
   "cell_type": "markdown",
   "id": "93af47f1",
   "metadata": {},
   "source": [
    "Currently, only alert-success (green), alert-warning (yellow), alert-danger (pink) and alert-info (blue) tags are supported. \n",
    "\n",
    "\n",
    ">You also need to manually **reload the notebook in the browser to render the styling**\n",
    "\n"
   ]
  },
  {
   "cell_type": "markdown",
   "id": "cf0ddd71",
   "metadata": {
    "ExecuteTime": {
     "end_time": "2022-10-24T08:41:36.599724Z",
     "start_time": "2022-10-24T08:41:36.591903Z"
    },
    "tags": [
     "alert-info"
    ]
   },
   "source": [
    "What is Lorem Ipsum?\n",
    "\n",
    "Lorem Ipsum is simply dummy text of the printing and typesetting industry. Lorem Ipsum has been the industry's standard dummy text ever since the 1500s, when an unknown printer took a galley of type and scrambled it to make a type specimen book. It has survived not only five centuries, but also the leap into electronic typesetting, remaining essentially unchanged. It was popularised in the 1960s with the release of Letraset sheets containing Lorem Ipsum passages, and more recently with desktop publishing software like Aldus PageMaker including versions of Lorem Ipsum."
   ]
  },
  {
   "cell_type": "markdown",
   "id": "5d0885f1",
   "metadata": {
    "ExecuteTime": {
     "end_time": "2022-10-24T08:45:06.283393Z",
     "start_time": "2022-10-24T08:45:06.270354Z"
    },
    "tags": [
     "alert-warning"
    ]
   },
   "source": [
    "What is Lorem Ipsum?\n",
    "\n",
    "Lorem Ipsum is simply dummy text of the printing and typesetting industry. Lorem Ipsum has been the industry's standard dummy text ever since the 1500s, when an unknown printer took a galley of type and scrambled it to make a type specimen book. It has survived not only five centuries, but also the leap into electronic typesetting, remaining essentially unchanged. It was popularised in the 1960s with the release of Letraset sheets containing Lorem Ipsum passages, and more recently with desktop publishing software like Aldus PageMaker including versions of Lorem Ipsum."
   ]
  },
  {
   "cell_type": "markdown",
   "id": "89bfd309",
   "metadata": {
    "tags": [
     "alert-success"
    ]
   },
   "source": [
    "What is Lorem Ipsum?\n",
    "\n",
    "Lorem Ipsum is simply dummy text of the printing and typesetting industry. Lorem Ipsum has been the industry's standard dummy text ever since the 1500s, when an unknown printer took a galley of type and scrambled it to make a type specimen book. It has survived not only five centuries, but also the leap into electronic typesetting, remaining essentially unchanged. It was popularised in the 1960s with the release of Letraset sheets containing Lorem Ipsum passages, and more recently with desktop publishing software like Aldus PageMaker including versions of Lorem Ipsum."
   ]
  },
  {
   "cell_type": "markdown",
   "id": "ba8f4150",
   "metadata": {
    "tags": [
     "alert-danger"
    ]
   },
   "source": [
    "What is Lorem Ipsum?\n",
    "\n",
    "Lorem Ipsum is simply dummy text of the printing and typesetting industry. Lorem Ipsum has been the industry's standard dummy text ever since the 1500s, when an unknown printer took a galley of type and scrambled it to make a type specimen book. It has survived not only five centuries, but also the leap into electronic typesetting, remaining essentially unchanged. It was popularised in the 1960s with the release of Letraset sheets containing Lorem Ipsum passages, and more recently with desktop publishing software like Aldus PageMaker including versions of Lorem Ipsum."
   ]
  },
  {
   "cell_type": "code",
   "execution_count": null,
   "id": "fc552583",
   "metadata": {},
   "outputs": [],
   "source": []
  }
 ],
 "metadata": {
  "celltoolbar": "Tags",
  "kernelspec": {
   "display_name": "Python 3",
   "language": "python",
   "name": "python3"
  },
  "language_info": {
   "codemirror_mode": {
    "name": "ipython",
    "version": 3
   },
   "file_extension": ".py",
   "mimetype": "text/x-python",
   "name": "python",
   "nbconvert_exporter": "python",
   "pygments_lexer": "ipython3",
   "version": "3.7.10"
  },
  "toc": {
   "base_numbering": 1,
   "nav_menu": {},
   "number_sections": true,
   "sideBar": true,
   "skip_h1_title": false,
   "title_cell": "Table of Contents",
   "title_sidebar": "Contents",
   "toc_cell": false,
   "toc_position": {},
   "toc_section_display": true,
   "toc_window_display": false
  }
 },
 "nbformat": 4,
 "nbformat_minor": 5
}
