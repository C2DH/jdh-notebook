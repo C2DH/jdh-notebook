{
 "cells": [
  {
   "cell_type": "markdown",
   "metadata": {
    "heading_collapsed": true,
    "tags": [
     "title"
    ]
   },
   "source": [
    "# Guidelines for Authors {.my-5}"
   ]
  },
  {
   "cell_type": "markdown",
   "metadata": {
    "hidden": true,
    "tags": [
     "abstract"
    ]
   },
   "source": [
    "The journal makes use of **ipynb notebooks** to publish the articles. In addition to that, there is a couple of rules to *format content* and *visualize datasets*. There's a detailed explanation after the quickguide."
   ]
  },
  {
   "cell_type": "markdown",
   "metadata": {
    "heading_collapsed": true
   },
   "source": [
    "# QuickGuide"
   ]
  },
  {
   "cell_type": "markdown",
   "metadata": {
    "hidden": true
   },
   "source": [
    "1. Get [Jupyter Notebook](https://jupyter.org/index.html).\n",
    "2. Activate [nbextensions](https://jupyter-contrib-nbextensions.readthedocs.io/en/latest/install.html) “collapsible headings” and “table of contents”.\n",
    "3. Connect [cite2c](https://github.com/takluyver/cite2c) of nbextension with your Zotero account (and in there join the [JDH group](https://www.zotero.org/groups/2784584/jdh)).\n",
    "4. Create a [Github](https://github.com/) repository.\n",
    "5. Download the [Jupyter Notebook Template](https://github.com/C2DH/jdh-notebook/blob/master/author_guideline_template.ipynb).\n",
    "6. Start writing your article, tag the beginning cells according to this guide and tag all hermeneutic cells.\n",
    "7. Commit your notebook to Github and view the rendered article.\n",
    "8. Submit your notebook for peer review.\n",
    "9. View your published article."
   ]
  },
  {
   "cell_type": "markdown",
   "metadata": {},
   "source": [
    "# Setting up your writing environment"
   ]
  },
  {
   "cell_type": "markdown",
   "metadata": {},
   "source": [
    "## Jupyter Installation"
   ]
  },
  {
   "cell_type": "markdown",
   "metadata": {
    "heading_collapsed": true
   },
   "source": [
    "### Install jupyter"
   ]
  },
  {
   "cell_type": "markdown",
   "metadata": {
    "hidden": true
   },
   "source": [
    "- Refer to [this](https://www.datacamp.com/community/tutorials/tutorial-jupyter-notebook) or [this tutorial](https://jupyter-notebook-beginner-guide.readthedocs.io/en/latest/) for a quick guide in jupyter notebook.\n",
    "- [Here](https://medium.com/game-of-data/12-things-to-know-about-jupyter-notebook-markdown-3f6cef811707) is a refresher on markdown \n",
    "- and [here](https://towardsdatascience.com/jypyter-notebook-shortcuts-bf0101a98330) you’ll find some useful keyboard hotkeys. "
   ]
  },
  {
   "cell_type": "markdown",
   "metadata": {
    "heading_collapsed": true
   },
   "source": [
    "### Activate the nbextension"
   ]
  },
  {
   "cell_type": "markdown",
   "metadata": {
    "hidden": true
   },
   "source": [
    "1. Run the requirements.txt of this GitHub project with the following command in the console:\n",
    "\n",
    "`pip install -r requirements.txt`\n",
    "\n",
    "Or run the following command in the console:\n",
    "\n",
    "`pip install jupyter_contrib_nbextensions`\n",
    "\n",
    "2. Activate the library by clicking the jupyter logo and go to the tab \"Nbextension\""
   ]
  },
  {
   "cell_type": "code",
   "execution_count": null,
   "metadata": {
    "hidden": true,
    "tags": [
     "figure-1"
    ]
   },
   "outputs": [],
   "source": [
    "from IPython.display import Image \n",
    "metadata={\n",
    "    \"jdh\": {\n",
    "        \"module\": \"object\",\n",
    "        \"object\": {\n",
    "            \"type\":\"image\",\n",
    "            \"source\": [\n",
    "                \"figure 1: nbextension\"\n",
    "            ]\n",
    "        }\n",
    "    }\n",
    "}\n",
    "display(Image(\"media/screenshot_nbextension.png\"), metadata=metadata)"
   ]
  },
  {
   "cell_type": "markdown",
   "metadata": {
    "heading_collapsed": true
   },
   "source": [
    "### Activate the necessary plugin (cite2c)"
   ]
  },
  {
   "cell_type": "markdown",
   "metadata": {
    "hidden": true
   },
   "source": [
    "For citation management, we use the cite2c plugin. It connects your Zotero library to the notebook and inserts the citations into the markdown cells. The citations are stored in the notebook metadata and references by an ID. It also renders a bibliography and inline citations."
   ]
  },
  {
   "cell_type": "markdown",
   "metadata": {
    "hidden": true
   },
   "source": [
    "1. Install it with the following command:\n",
    "\n",
    "`python -m pip install cite2c`\n",
    "\n",
    "2. Check if cite2c is activated in the Nbextension tab in jupyter."
   ]
  },
  {
   "cell_type": "code",
   "execution_count": null,
   "metadata": {
    "hidden": true,
    "tags": [
     "figure-2"
    ]
   },
   "outputs": [],
   "source": [
    "from IPython.display import Image \n",
    "metadata={\n",
    "    \"jdh\": {\n",
    "        \"module\": \"object\",\n",
    "        \"object\": {\n",
    "            \"type\":\"image\",\n",
    "            \"source\": [\n",
    "                \"figure 2: cite2c in nbextensions\"\n",
    "            ]\n",
    "        }\n",
    "    }\n",
    "}\n",
    "display(Image(\"media/screenshot_cite2c.png\"), metadata=metadata)"
   ]
  },
  {
   "cell_type": "markdown",
   "metadata": {
    "hidden": true
   },
   "source": [
    "3. Open a notebook and select the button “Cite” in the toolbar. You will be asked to sign into your [Zotero](https://www.zotero.org/) account."
   ]
  },
  {
   "cell_type": "code",
   "execution_count": null,
   "metadata": {
    "hidden": true,
    "tags": [
     "figure-3"
    ]
   },
   "outputs": [],
   "source": [
    "from IPython.display import Image \n",
    "metadata={\n",
    "    \"jdh\": {\n",
    "        \"module\": \"object\",\n",
    "        \"object\": {\n",
    "            \"type\":\"image\",\n",
    "            \"source\": [\n",
    "                \"figure 3: Cite button\"\n",
    "            ]\n",
    "        }\n",
    "    }\n",
    "}\n",
    "display(Image(\"media/screenshot_cite2c_btn.png\"), metadata=metadata)"
   ]
  },
  {
   "cell_type": "markdown",
   "metadata": {
    "hidden": true
   },
   "source": [
    "4. Make sure you are part of the [JournalofDigitalHistory](https://www.zotero.org/journalofdigitalhistory) group in Zotero (if not request to join). \n",
    "5. If you want to add a citation to your article, simply select the “Cite” button. Type the keywords of the citation you are looking for in the search bar. Press the “Insert” button to add the citation to your notebook cell. Execute the cell."
   ]
  },
  {
   "cell_type": "code",
   "execution_count": null,
   "metadata": {
    "hidden": true,
    "tags": [
     "figure-4"
    ]
   },
   "outputs": [],
   "source": [
    "from IPython.display import Image \n",
    "metadata={\n",
    "    \"jdh\": {\n",
    "        \"module\": \"object\",\n",
    "        \"object\": {\n",
    "            \"type\":\"image\",\n",
    "            \"source\": [\n",
    "                \"figure 2: Search for citation in cite2c from your Zotero library\"\n",
    "            ]\n",
    "        }\n",
    "    }\n",
    "}\n",
    "display(Image(\"media/screenshot_citation.png\"), metadata=metadata)"
   ]
  },
  {
   "cell_type": "code",
   "execution_count": null,
   "metadata": {
    "hidden": true,
    "tags": [
     "figure-5"
    ]
   },
   "outputs": [],
   "source": [
    "from IPython.display import Image \n",
    "metadata={\n",
    "    \"jdh\": {\n",
    "        \"module\": \"object\",\n",
    "        \"object\": {\n",
    "            \"type\":\"image\",\n",
    "            \"source\": [\n",
    "                \"figure 5: in-line citation in markdown\"\n",
    "            ]\n",
    "        }\n",
    "    }\n",
    "}\n",
    "display(Image(\"media/screenshot_inline_citation_markdown.png\"), metadata=metadata)"
   ]
  },
  {
   "cell_type": "code",
   "execution_count": null,
   "metadata": {
    "hidden": true,
    "tags": [
     "figure-6"
    ]
   },
   "outputs": [],
   "source": [
    "from IPython.display import Image \n",
    "metadata={\n",
    "    \"jdh\": {\n",
    "        \"module\": \"object\",\n",
    "        \"object\": {\n",
    "            \"type\":\"image\",\n",
    "            \"source\": [\n",
    "                \"figure 6: inline citation in executed cell\"\n",
    "            ]\n",
    "        }\n",
    "    }\n",
    "}\n",
    "display(Image(\"media/screenshot_inline_citation.png\"), metadata=metadata)"
   ]
  },
  {
   "cell_type": "markdown",
   "metadata": {
    "hidden": true
   },
   "source": [
    "6. If you want to show your entire biography in the last cell of your notebook, click the “Insert bibliography” button in the toolbar. "
   ]
  },
  {
   "cell_type": "code",
   "execution_count": null,
   "metadata": {
    "hidden": true,
    "tags": [
     "figure-7"
    ]
   },
   "outputs": [],
   "source": [
    "from IPython.display import Image \n",
    "metadata={\n",
    "    \"jdh\": {\n",
    "        \"module\": \"object\",\n",
    "        \"object\": {\n",
    "            \"type\":\"image\",\n",
    "            \"source\": [\n",
    "                \"figure 7: Insert bibliography\"\n",
    "            ]\n",
    "        }\n",
    "    }\n",
    "}\n",
    "display(Image(\"media/screenshot_bibliography.png\"), metadata=metadata)"
   ]
  },
  {
   "cell_type": "markdown",
   "metadata": {
    "hidden": true
   },
   "source": [
    "7. Execute the cell to see the result."
   ]
  },
  {
   "cell_type": "code",
   "execution_count": null,
   "metadata": {
    "hidden": true,
    "tags": [
     "figure-8"
    ]
   },
   "outputs": [],
   "source": [
    "from IPython.display import Image \n",
    "metadata={\n",
    "    \"jdh\": {\n",
    "        \"module\": \"object\",\n",
    "        \"object\": {\n",
    "            \"type\":\"image\",\n",
    "            \"source\": [\n",
    "                \"figure 8: View rendered bibliography\"\n",
    "            ]\n",
    "        }\n",
    "    }\n",
    "}\n",
    "display(Image(\"media/screenshot_bibliography_rendered.png\"), metadata=metadata)"
   ]
  },
  {
   "cell_type": "markdown",
   "metadata": {
    "heading_collapsed": true
   },
   "source": [
    "### Table of contents, Collapsible headings, Color-coded cells"
   ]
  },
  {
   "cell_type": "markdown",
   "metadata": {
    "hidden": true
   },
   "source": [
    "To keep a better overview of your notebook, we suggest you use these three additional features."
   ]
  },
  {
   "cell_type": "markdown",
   "metadata": {
    "hidden": true
   },
   "source": [
    "1. In nbextension, select the **table of contents** feature to activate it. Open a notebook. In the toolbar select the table of contents button to show it as a sidebar next to the notebook."
   ]
  },
  {
   "cell_type": "code",
   "execution_count": null,
   "metadata": {
    "hidden": true,
    "tags": [
     "figure-9"
    ]
   },
   "outputs": [],
   "source": [
    "from IPython.display import Image \n",
    "metadata={\n",
    "    \"jdh\": {\n",
    "        \"module\": \"object\",\n",
    "        \"object\": {\n",
    "            \"type\":\"image\",\n",
    "            \"source\": [\n",
    "                \"figure 9: Table of Contents\"\n",
    "            ]\n",
    "        }\n",
    "    }\n",
    "}\n",
    "display(Image(\"media/screenshot_ToC.png\"), metadata=metadata)"
   ]
  },
  {
   "cell_type": "markdown",
   "metadata": {
    "hidden": true
   },
   "source": [
    "2. In nbextension, select the **collapsible headings** feature to activate it. Open a notebook. You will see the triangle next to each cell. You can easily expand or contract it. This way you can hide certain section to keep a better overview of your progress."
   ]
  },
  {
   "cell_type": "code",
   "execution_count": null,
   "metadata": {
    "hidden": true,
    "tags": [
     "figure-10"
    ]
   },
   "outputs": [],
   "source": [
    "from IPython.display import Image \n",
    "metadata={\n",
    "    \"jdh\": {\n",
    "        \"module\": \"object\",\n",
    "        \"object\": {\n",
    "            \"type\":\"image\",\n",
    "            \"source\": [\n",
    "                \"figure 9: Collapsible Headings\"\n",
    "            ]\n",
    "        }\n",
    "    }\n",
    "}\n",
    "display(Image(\"media/screenshot_collapsible_headings_example.png\"), metadata=metadata)"
   ]
  },
  {
   "cell_type": "markdown",
   "metadata": {
    "hidden": true
   },
   "source": [
    "3. **color-coded cell** - coming soon!"
   ]
  },
  {
   "cell_type": "markdown",
   "metadata": {},
   "source": [
    "# Writing: Structuring the Notebook"
   ]
  },
  {
   "cell_type": "markdown",
   "metadata": {},
   "source": [
    "## Tagging"
   ]
  },
  {
   "cell_type": "markdown",
   "metadata": {},
   "source": [
    "In order to render the notebook on the frontend, we are working with tags to mark special content like figures, tables or the narrative and hermeneutics layer. \n",
    "\n",
    "Here's an overview of the most important tags:"
   ]
  },
  {
   "cell_type": "markdown",
   "metadata": {
    "tags": [
     "table-1"
    ]
   },
   "source": [
    "Function | Tag | Markdown | Explanation\n",
    "--- | --- | --- | ---\n",
    "Title | `title` | h1 (#) | This tag is used for the title of the article. \n",
    "Contributors | `contributors` | h3 (###) | List the contributors. Below the name, indicate the role and the affiliation.\n",
    "Cover Image | `cover` | | Figures are counted automatically and will appear in the table of figures. (Captions will be added via a button?)\n",
    "Disclaimer | `disclaimer` | | This disclaimer can be used for certain announcements. It will be color-coded in orange.\n",
    "Keywords | `keywords` | | Keywords are to be separated by comma (“,”)\n",
    "Abstract | `abstract` | | This cell features the abstract of an article with a max./min length of x characters.\n",
    "Chapter Title | | h2 (##) | Chapter titles are always written in h2. \n",
    "Table | `table-1` | | For tables, **individually** tag each table in the order like this: table-1, table-2, table-3.\n",
    "Figure | `figure-1` | figure 1a, figure 1b | Figures need to be tagged with \"figure-(number)\". Captions are added manually."
   ]
  },
  {
   "cell_type": "markdown",
   "metadata": {},
   "source": [
    "For the header section we us the tags `title`, `contributors`, `cover`, `disclaimer` (if needed), `keywords` and `abstract` to show the article in a certain structure."
   ]
  },
  {
   "cell_type": "markdown",
   "metadata": {},
   "source": [
    "## Captions for Figures & Tables"
   ]
  },
  {
   "cell_type": "markdown",
   "metadata": {},
   "source": [
    "Figures and tables are a bit special. Depending on the type of cell there are the following use cases and guides on writing a caption:"
   ]
  },
  {
   "cell_type": "markdown",
   "metadata": {},
   "source": [
    "Use Case | Cell Type | Content Type | Tag | Caption \n",
    "--- | --- | --- | --- | ----\n",
    "1 | Code | Figure | `figure-1` | The caption is directly added in the metadata of the code cell.\n",
    "2 | Code | Figure-1, Figure-2 | `figure-1` | The caption is directly added in the metadata of the code cell for each invididual figure. The cell caption is written via the cell metadata.\n",
    "3 | Code | Table | `table-1` | The caption is directly added in the metadata of the code cell.\n",
    "4 | Markdown | Table | `table-1` | The caption is written via the cell metadata."
   ]
  },
  {
   "cell_type": "markdown",
   "metadata": {},
   "source": [
    "1. Figure like images for example are tagged with \"figure-(number)\". \n",
    "In order to add a caption (title and copyright), we use **metadata** which will be visible on the narrative layer:\n",
    "```\n",
    "    \"tags\": [figure-1],\n",
    "    \"jdh\": {\n",
    "            \"object\": {\n",
    "            \"source\": [\n",
    "                \"Image from page 10 of \\Book Title\\ (1920)\", \n",
    "                \"Internet archive book images, no known copyright restrictions\"\n",
    "            ]\n",
    "        }\n",
    "    }\n",
    "}\n",
    "```"
   ]
  },
  {
   "cell_type": "markdown",
   "metadata": {},
   "source": [
    "2. If a cell is supposed to contain 2 figures in one cell, we propose the following cell-centric approach:\n",
    "- for the caption write `figure 1a` and `figure 1b` within the code cell and add the corresponding caption directly\n",
    "- tag the cell with figure-1\n",
    "- modify the cell metadata to add the caption for the whole cell\n",
    "```\n",
    "{\n",
    "  \"tags\": [\"figure-1\"],\n",
    "  \"jdh\": {\n",
    "    \"object\": {\n",
    "      \"source\": [\"figure 1a and 1b: Two charts of the universe\"]\n",
    "    }\n",
    "  }\n",
    "}\n",
    "```"
   ]
  },
  {
   "cell_type": "code",
   "execution_count": null,
   "metadata": {},
   "outputs": [],
   "source": []
  }
 ],
 "metadata": {
  "celltoolbar": "Edit Metadata",
  "kernelspec": {
   "display_name": "Python 3",
   "language": "python",
   "name": "python3"
  },
  "language_info": {
   "codemirror_mode": {
    "name": "ipython",
    "version": 3
   },
   "file_extension": ".py",
   "mimetype": "text/x-python",
   "name": "python",
   "nbconvert_exporter": "python",
   "pygments_lexer": "ipython3",
   "version": "3.8.3"
  },
  "toc": {
   "base_numbering": 1,
   "nav_menu": {},
   "number_sections": true,
   "sideBar": true,
   "skip_h1_title": false,
   "title_cell": "Table of Contents",
   "title_sidebar": "Contents",
   "toc_cell": false,
   "toc_position": {},
   "toc_section_display": true,
   "toc_window_display": false
  }
 },
 "nbformat": 4,
 "nbformat_minor": 4
}
