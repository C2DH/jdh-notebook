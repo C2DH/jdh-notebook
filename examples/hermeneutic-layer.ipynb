{
 "cells": [
  {
   "cell_type": "markdown",
   "id": "southeast-teach",
   "metadata": {
    "tags": [
     "title"
    ]
   },
   "source": [
    "# Hermeneutic Layer"
   ]
  },
  {
   "cell_type": "markdown",
   "id": "loaded-commission",
   "metadata": {
    "tags": [
     "abstract"
    ]
   },
   "source": [
    "How to properly write contents for the Hermeneutic Layer? Let's see how in this brief notebook."
   ]
  },
  {
   "cell_type": "markdown",
   "id": "useful-syndrome",
   "metadata": {},
   "source": [
    "First of all, let's write some content that will appear in the **narrative** layer."
   ]
  },
  {
   "cell_type": "markdown",
   "id": "taken-richardson",
   "metadata": {
    "tags": [
     "hermeneutics"
    ]
   },
   "source": [
    "This will appear in the hermeneutic layer, as simple \"hermeneutic\" paragraph.\n",
    "\n",
    "It is composed by many lines, only the first line is visible in the narrative layer..."
   ]
  },
  {
   "cell_type": "markdown",
   "id": "noticed-threat",
   "metadata": {},
   "source": [
    "Then, let's write again some other content to appear in the **narrative** layer."
   ]
  },
  {
   "cell_type": "code",
   "execution_count": null,
   "id": "transparent-neighbor",
   "metadata": {},
   "outputs": [],
   "source": []
  }
 ],
 "metadata": {
  "celltoolbar": "Tags",
  "kernelspec": {
   "display_name": "Python 3",
   "language": "python",
   "name": "python3"
  },
  "language_info": {
   "codemirror_mode": {
    "name": "ipython",
    "version": 3
   },
   "file_extension": ".py",
   "mimetype": "text/x-python",
   "name": "python",
   "nbconvert_exporter": "python",
   "pygments_lexer": "ipython3",
   "version": "3.8.3"
  }
 },
 "nbformat": 4,
 "nbformat_minor": 5
}
