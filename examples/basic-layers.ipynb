{
 "cells": [
  {
   "cell_type": "markdown",
   "id": "editorial-modern",
   "metadata": {
    "jdh": {
     "section": "title"
    }
   },
   "source": [
    "# Narrative, Hermeneutic or Data Layer?"
   ]
  },
  {
   "cell_type": "markdown",
   "id": "revolutionary-trading",
   "metadata": {
    "jdh": {
     "section": "abstract"
    }
   },
   "source": [
    "How one notebook can handle cells belonging to different layer? How to create bridges between the layers?"
   ]
  },
  {
   "cell_type": "markdown",
   "id": "ideal-greenhouse",
   "metadata": {},
   "source": [
    "The layer the cell belongs to it is specified in the cell metadata: `{\"jdh\":{\"layer\":\"hermeneutics\"}}` for the hermeneutic layer or `{\"jdh\":{\"layer\":\"data\"}}`.\n",
    "If no values is given to the `layer` property, or the jdh metadata is not correct or not present, we assume it's a **narrative cell**"
   ]
  },
  {
   "cell_type": "markdown",
   "id": "statutory-married",
   "metadata": {},
   "source": [
    "For instance, this is an *hermeneutic* cell. In jupyter or jupyterLab is well visible."
   ]
  },
  {
   "cell_type": "markdown",
   "id": "buried-warrior",
   "metadata": {},
   "source": [
    "To simplify the reading of the notebook, it is also possible to prepend the cell with a special python code that makes the metadata more visible. Note that in the Journal, the following `code` cell is **hidden**."
   ]
  },
  {
   "cell_type": "code",
   "execution_count": 2,
   "id": "deluxe-england",
   "metadata": {},
   "outputs": [
    {
     "data": {
      "text/plain": [
       "''"
      ]
     },
     "metadata": {
      "jdh": {
       "layer": "metadata"
      }
     },
     "output_type": "display_data"
    }
   ],
   "source": [
    "from IPython.display import display\n",
    "display('', metadata={\"jdh\":{\"layer\":\"metadata\"}})"
   ]
  },
  {
   "cell_type": "markdown",
   "id": "ordinary-organization",
   "metadata": {},
   "source": [
    " For instance, this is an hermeneutic cell. In Jupyter or JupyterLab is still visible"
   ]
  },
  {
   "cell_type": "code",
   "execution_count": null,
   "id": "initial-pantyhose",
   "metadata": {},
   "outputs": [],
   "source": []
  }
 ],
 "metadata": {
  "kernelspec": {
   "display_name": "Python 3",
   "language": "python",
   "name": "python3"
  },
  "language_info": {
   "codemirror_mode": {
    "name": "ipython",
    "version": 3
   },
   "file_extension": ".py",
   "mimetype": "text/x-python",
   "name": "python",
   "nbconvert_exporter": "python",
   "pygments_lexer": "ipython3",
   "version": "3.8.0"
  }
 },
 "nbformat": 4,
 "nbformat_minor": 5
}
