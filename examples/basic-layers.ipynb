{
 "cells": [
  {
   "cell_type": "markdown",
   "id": "olive-niagara",
   "metadata": {
    "jdh": {
     "section": "title"
    }
   },
   "source": [
    "# Narrative, Hermeneutic or Data Layer?"
   ]
  },
  {
   "cell_type": "markdown",
   "id": "pleasant-liabilities",
   "metadata": {
    "jdh": {
     "section": "abstract"
    }
   },
   "source": [
    "How one notebook can handle cells belonging to different layer? How to create bridges between the layers?"
   ]
  },
  {
   "cell_type": "markdown",
   "id": "patient-compromise",
   "metadata": {},
   "source": [
    "The layer the cell belongs to it is specified in the cell metadata: `{\"jdh\":{\"layer\":\"hermeneutics\"}}` for the hermeneutic layer or `{\"jdh\":{\"layer\":\"data\"}}`.\n",
    "If no values is given to the `layer` property, or the jdh metadata is not correct or not present, we assume it's a **narrative cell**"
   ]
  },
  {
   "cell_type": "markdown",
   "id": "advisory-loading",
   "metadata": {},
   "source": [
    "For instance, this is an *hermeneutic* cell. In jupyter or jupyterLab is well visible, but not in the JDH narrative mode"
   ]
  },
  {
   "cell_type": "code",
   "execution_count": 4,
   "id": "occupational-miami",
   "metadata": {},
   "outputs": [
    {
     "data": {
      "application/json": {
       "jdh": {
        "layer": "hermeneutics"
       }
      },
      "text/plain": [
       "<IPython.core.display.JSON object>"
      ]
     },
     "execution_count": 4,
     "metadata": {
      "application/json": {
       "expanded": false,
       "root": "root"
      }
     },
     "output_type": "execute_result"
    }
   ],
   "source": [
    "from IPython.display import JSON\n",
    "JSON({\"jdh\":{\"layer\":\"hermeneutics\"}})"
   ]
  }
 ],
 "metadata": {
  "kernelspec": {
   "display_name": "Python 3",
   "language": "python",
   "name": "python3"
  },
  "language_info": {
   "codemirror_mode": {
    "name": "ipython",
    "version": 3
   },
   "file_extension": ".py",
   "mimetype": "text/x-python",
   "name": "python",
   "nbconvert_exporter": "python",
   "pygments_lexer": "ipython3",
   "version": "3.8.0"
  }
 },
 "nbformat": 4,
 "nbformat_minor": 5
}
