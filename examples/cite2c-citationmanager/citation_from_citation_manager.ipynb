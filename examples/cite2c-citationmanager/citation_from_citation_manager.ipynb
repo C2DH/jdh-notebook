{
 "cells": [
  {
   "cell_type": "markdown",
   "id": "9e879419-0a8f-43f0-a27b-73d60cd2d45e",
   "metadata": {},
   "source": [
    "# Replicating the Kinora: 3D modelling and printing as heuristics in digital media history"
   ]
  },
  {
   "cell_type": "markdown",
   "id": "58ea9d51-b90a-4713-980b-0865e8c2f4b3",
   "metadata": {},
   "source": [
    "This article reflects on the Kinora replica project, an interdisciplinary collaboration between the Luxembourg Centre for Contemporary and Digital History (C2DH) and the Department of Engineering (DoE) of the University of Luxembourg. Combining historical inquiry with a hands-on and technical approach – involving the latest 3D modelling and desktop manufacturing engineering techniques – it provides insights into the process of making a working replica of the Kinora motion picture technology from the early 1900s."
   ]
  },
  {
   "cell_type": "markdown",
   "id": "c7321f47-2d9d-43b7-bbcf-06d5eda9469f",
   "metadata": {},
   "source": [
    "## Introduction"
   ]
  },
  {
   "cell_type": "markdown",
   "id": "46ccfefa-82df-4dd4-b94b-7c0d46a19843",
   "metadata": {},
   "source": [
    "### Kinora replica project"
   ]
  },
  {
   "cell_type": "markdown",
   "id": "fd5530c5-bcda-4c8f-b8b1-b07c5a19908b",
   "metadata": {
    "citation-manager": {
     "citations": {
      "0hr3k": [
       {
        "id": "8918850/DEEHKBJF",
        "source": "zotero"
       }
      ],
      "3w3yu": [
       {
        "id": "8918850/8IMTEESJ",
        "source": "zotero"
       }
      ],
      "75ymf": [
       {
        "id": "8918850/XBVRVAB2",
        "source": "zotero"
       }
      ],
      "arpnc": [
       {
        "id": "8918850/6BZTRQWI",
        "source": "zotero"
       }
      ],
      "i47sp": [
       {
        "id": "8918850/6XMBF2MF",
        "source": "zotero"
       }
      ],
      "n7n6q": [
       {
        "id": "8918850/9T527B6K",
        "source": "zotero"
       }
      ],
      "p1ptq": [
       {
        "id": "8918850/NHC2S722",
        "source": "zotero"
       }
      ],
      "tu0ux": [
       {
        "id": "8918850/8IMTEESJ",
        "source": "zotero"
       }
      ],
      "ysmr4": [
       {
        "id": "8918850/HEZNECAM",
        "source": "zotero"
       }
      ]
     }
    }
   },
   "source": [
    "In recent years, there has been an increased societal and academic interest in the use of 3D modelling and printing techniques (<cite id=\"ysmr4\"><a href=\"#zotero%7C8918850%2FHEZNECAM\">(Papadopoulos &#38; Earl, 2014)</a></cite>,<cite id=\"75ymf\"><a href=\"#zotero%7C8918850%2FXBVRVAB2\">(Arrighi, 2020)</a></cite>,<cite id=\"i47sp\"><a href=\"#zotero%7C8918850%2F6XMBF2MF\">(Wilson et al., 2018)</a></cite>,<cite id=\"n7n6q\"><a href=\"#zotero%7C8918850%2F9T527B6K\">(Lipson et al., 2004)</a></cite>). Within the interdisciplinary fields of digital humanities and digital history, often in relation to the domain of cultural heritage, 3D replication techniques have been appropriated as heuristic methods for analyzing, interpreting and presenting historical artefacts in new and engaging ways (<cite id=\"arpnc\"><a href=\"#zotero%7C8918850%2F6BZTRQWI\">(Coughenour et al., 2015)</a></cite>, <cite id=\"tu0ux\"><a href=\"#zotero%7C8918850%2F8IMTEESJ\">(van den Oever et al., 2016)</a></cite>, <cite id=\"3w3yu\"><a href=\"#zotero%7C8918850%2F8IMTEESJ\">(van den Oever et al., 2016)</a></cite>, <cite id=\"0hr3k\"><a href=\"#zotero%7C8918850%2FDEEHKBJF\">(Pagenstecher &#38; Pfänder, 2017)</a></cite>, <cite id=\"p1ptq\"><a href=\"#zotero%7C8918850%2FNHC2S722\">(Fickers, 2015)</a></cite>). This article highlights the fruits of such an interdisciplinary collaboration, in which we – a media historian and an engineer – joined forces in a hands-on digital media history project to make a 3D replication of a special object in the history of cinema: the Kinora (1896-1914). This motion picture technology from the early 1900s was one of the first motion picture technologies designed for home use. The Kinora viewer functioned as an individual viewing machine that made use of a flipbook mechanism, in which a series of paper-based photographic cards were attached to a wheel. By turning the wheel and looking through the viewer, one could watch a series of photographs in motion. Our historical inquiry of this almost forgotten yet important media historical object combined a hands-on and technical approach, involving the latest 3D modelling and desktop manufacturing engineering techniques. The aim of the project was to use 3D replication as a heuristic method to better understand how the Kinora worked and was used in the past as a historical motion picture mechanism."
   ]
  },
  {
   "cell_type": "markdown",
   "id": "338c2ba1-caca-416e-a684-d261a397fd59",
   "metadata": {},
   "source": [
    "## Bibliography"
   ]
  },
  {
   "cell_type": "markdown",
   "id": "1d19195b-8053-4991-9f48-cfd26e6311e9",
   "metadata": {},
   "source": [
    "<!-- BIBLIOGRAPHY START -->\n",
    "<div class=\"csl-bib-body\">\n",
    "  <div class=\"csl-entry\"><i id=\"zotero|8918850/XBVRVAB2\"></i>Arrighi, P.-A. (2020). 3D scanning and 3D printing for museums and archeology. <i>Aniwaa</i>. <a href=\"https://www.aniwaa.com/guide/3d-printers/3d-printing-for-archeology-and-museology/\">https://www.aniwaa.com/guide/3d-printers/3d-printing-for-archeology-and-museology/</a></div>\n",
    "  <div class=\"csl-entry\"><i id=\"zotero|8918850/6BZTRQWI\"></i>Coughenour, C., Vincent, M., Kramer, M., Senecal, S., Fritsch, D., Gutirrez, M., Bendicho, V. M., &#38; Ioannides, M. (2015). Embedding Knowledge in 3D Data Frameworks in Cultural Heritage. <i>ISPRS Annals of Photogrammetry, Remote Sensing and Spatial Information Sciences</i>, <i>II-5/W3</i>, 47–52. <a href=\"https://doi.org/10.5194/isprsannals-II-5-W3-47-2015\">https://doi.org/10.5194/isprsannals-II-5-W3-47-2015</a></div>\n",
    "  <div class=\"csl-entry\"><i id=\"zotero|8918850/NHC2S722\"></i>Fickers, A. (2015). Hands-on! Plädoyer für eine experimentelle Medienarchäologie. <i>Technik Geschichte</i>, <i>82</i>(1), 67–86. <a href=\"https://www.academia.edu/11385237/Hands_on_Pl%C3%A4doyer_f%C3%BCr_eine_experimentelle_Medienarch%C3%A4ologie\">https://www.academia.edu/11385237/Hands_on_Pl%C3%A4doyer_f%C3%BCr_eine_experimentelle_Medienarch%C3%A4ologie</a></div>\n",
    "  <div class=\"csl-entry\"><i id=\"zotero|8918850/9T527B6K\"></i>Lipson, H., Moon, F. C., Hai, J., &#38; Paventi, C. (2004). 3-D Printing the History of Mechanisms. <i>Journal of Mechanical Design</i>, <i>127</i>(5), 1029–1033. <a href=\"https://doi.org/10.1115/1.1902999\">https://doi.org/10.1115/1.1902999</a></div>\n",
    "  <div class=\"csl-entry\"><i id=\"zotero|8918850/DEEHKBJF\"></i>Pagenstecher, C., &#38; Pfänder, S. (2017). Hidden dialogues. Towards an interactional understanding of Oral History interviews. In E. Kasten, K. Roller, &#38; J. Wilbur (Eds.), <i>Oral History Meets Linguistics</i> (pp. 185–207). Kulturstiftung Siberien.</div>\n",
    "  <div class=\"csl-entry\"><i id=\"zotero|8918850/HEZNECAM\"></i>Papadopoulos, C., &#38; Earl, G. (2014). Formal three-dimensional computational analyses of archaeological spaces. In E. Paliou, U. Lieberwirth, &#38; S. Polla (Eds.), <i>Spatial analysis and social spaces: Interdisciplinary approaches to the interpretation of prehistoric and historic built environments</i> (pp. 135–165). De Gruyter. <a href=\"https://www.degruyter.com/document/doi/10.1515/9783110266436.135/html\">https://www.degruyter.com/document/doi/10.1515/9783110266436.135/html</a></div>\n",
    "  <div class=\"csl-entry\"><i id=\"zotero|8918850/8IMTEESJ\"></i>van den Oever, A., Rosendaal, A., &#38; Warnders, B. (2016). <i>Media Heritage - Final Report</i>. <a href=\"https://www.researchgate.net/figure/3D-printed-Replica-of-the-Cinematographe-Lumiere_fig15_331283592\">https://www.researchgate.net/figure/3D-printed-Replica-of-the-Cinematographe-Lumiere_fig15_331283592</a></div>\n",
    "  <div class=\"csl-entry\"><i id=\"zotero|8918850/6XMBF2MF\"></i>Wilson, P. F., Stott, J., Warnett, J. M., Attridge, A., Smith, M. P., &#38; Williams, M. A. (2018). Museum visitor preference for the physical properties of 3D printed replicas. <i>Journal of Cultural Heritage</i>, <i>32</i>, 176–185. <a href=\"https://doi.org/10.1016/j.culher.2018.02.002\">https://doi.org/10.1016/j.culher.2018.02.002</a></div>\n",
    "</div>\n",
    "<!-- BIBLIOGRAPHY END -->"
   ]
  },
  {
   "cell_type": "code",
   "execution_count": null,
   "id": "d0230315-e30a-4285-b0d6-21634b14c3fe",
   "metadata": {},
   "outputs": [],
   "source": []
  }
 ],
 "metadata": {
  "citation-manager": {
   "items": {
    "zotero": {
     "8918850/6BZTRQWI": {
      "DOI": "10.5194/isprsannals-II-5-W3-47-2015",
      "abstract": "At present, where 3D modeling and visualisation in cultural heritage are concerned, an object’s documentation lacks its interconnected memory provided by multidisciplinary examination and linked data. As the layers of paint, wood, and brick recount a structure’s physical properties, the intangible, such as the forms of worship through song, dance, burning incense, and oral traditions, contributes to the greater story of its cultural heritage import. Furthermore, as an object or structure evolves through time, external political, religious, or environmental forces can affect it as well. As tangible and intangible entities associated with the structure transform, its narrative becomes dynamic and difficult to easily record. The Initial Training Network for Digital Cultural Heritage (ITN-DCH), a Marie Curie Actions project under the EU 7th Framework Programme, seeks to challenge this complexity by developing a novel methodology capable of offering such a holistic framework. With the integration of digitisation, conservation, linked data, and retrieval systems for DCH, the nature of investigation and dissemination will be augmented significantly. Examples of utilisating and evaluating this framework will range from a UNESCOWorld Heritage site, the Byzantine church of Panagia Forviotissa Asinou in the Troodos Mountains of Cyprus, to various religious icons and a monument located at the Monastery of Saint Neophytos. The application of this effort to the Asinou church, representing the first case study of the ITN-DCH project, is used as a template example in order to assess the technical challenges involved in the creation of such a framework.",
      "author": [
       {
        "family": "Coughenour",
        "given": "Chance"
       },
       {
        "family": "Vincent",
        "given": "Matthew"
       },
       {
        "family": "Kramer",
        "given": "M."
       },
       {
        "family": "Senecal",
        "given": "Simon"
       },
       {
        "family": "Fritsch",
        "given": "Dieter"
       },
       {
        "family": "Gutirrez",
        "given": "M."
       },
       {
        "family": "Bendicho",
        "given": "Víctor Manuel"
       },
       {
        "family": "Ioannides",
        "given": "Marinos"
       }
      ],
      "container-title": "ISPRS Annals of Photogrammetry, Remote Sensing and Spatial Information Sciences",
      "id": "8918850/6BZTRQWI",
      "issued": {
       "date-parts": [
        [
         2015,
         8
        ]
       ]
      },
      "page": "47–52",
      "system_id": "zotero|8918850/6BZTRQWI",
      "title": "Embedding Knowledge in 3D Data Frameworks in Cultural Heritage",
      "type": "article-journal",
      "volume": "II-5/W3"
     },
     "8918850/6XMBF2MF": {
      "DOI": "10.1016/j.culher.2018.02.002",
      "URL": "https://www.sciencedirect.com/science/article/pii/S1296207417308361",
      "abstract": "Within museology, the past few decades have seen a resurgence in focus on the experience of the museum visitor and what museum professionals can do to provide more meaningful, memorable visits. One method of achieving this is through multisensory experiences, encouraging museum visitors to use a range of senses to explore an exhibition, a process known to facilitate the generation of memorable experiences. However, as many museum objects are fragile and potentially irreplaceable, surrogates must be created in order to encourage such interaction within exhibitions. Use of 3D printed replicas is one approach, creating risk-free accurate copies of rare objects for visitors to handle. Despite the popularity of this technique, little user experience research has been carried out investigating the perspective of visitors and as a result, little guidance on best practices exist at this stage. Here, we present an investigation into visitor preference of the physical properties of 3D printed replicas, using semantic differentials, exploratory factor analysis and other statistical approaches. The study finds that the most important aspect of 3D prints for museums visitors was that of verisimilitude, visitors dominantly preferring prints that best represented the original specimen, with factors including the robustness of a 3D printed replica and its quality being important to museum visitors, although the importance of these to visitor preference varied. Also discussed are a number of further questions of key interest to heritage workers, including the perspective of the varied nature of museums audience, blind and partially-sighted visitors and their impact on learning experiences.",
      "accessed": {
       "date-parts": [
        [
         2021,
         4,
         27
        ]
       ]
      },
      "author": [
       {
        "family": "Wilson",
        "given": "Paul F."
       },
       {
        "family": "Stott",
        "given": "Janet"
       },
       {
        "family": "Warnett",
        "given": "Jason M."
       },
       {
        "family": "Attridge",
        "given": "Alex"
       },
       {
        "family": "Smith",
        "given": "M. Paul"
       },
       {
        "family": "Williams",
        "given": "Mark A."
       }
      ],
      "container-title": "Journal of Cultural Heritage",
      "id": "8918850/6XMBF2MF",
      "issued": {
       "date-parts": [
        [
         2018,
         7
        ]
       ]
      },
      "language": "English",
      "page": "176–185",
      "system_id": "zotero|8918850/6XMBF2MF",
      "title": "Museum visitor preference for the physical properties of 3D printed replicas",
      "type": "article-journal",
      "volume": "32"
     },
     "8918850/8IMTEESJ": {
      "URL": "https://www.researchgate.net/figure/3D-printed-Replica-of-the-Cinematographe-Lumiere_fig15_331283592",
      "author": [
       {
        "family": "van den Oever",
        "given": "Annie"
       },
       {
        "family": "Rosendaal",
        "given": "André"
       },
       {
        "family": "Warnders",
        "given": "Bernd"
       }
      ],
      "id": "8918850/8IMTEESJ",
      "issued": {
       "date-parts": [
        [
         2016
        ]
       ]
      },
      "system_id": "zotero|8918850/8IMTEESJ",
      "title": "Media Heritage - Final Report",
      "type": "article-journal"
     },
     "8918850/9T527B6K": {
      "DOI": "10.1115/1.1902999",
      "URL": "https://doi.org/10.1115/1.1902999",
      "abstract": "Physical models of machines have played an important role in the history of engineering for teaching, analyzing, and exploring mechanical concepts. Many of these models have been replaced today by computational representations, but new rapid-prototyping (RP) technologies are now allowing reintroduction of physical models as an intuitive way to demonstrate mechanical concepts. This paper reports on the use of RP to document, preserve, reproduce, and share in three dimensions, historic machines, and mechanisms. We have reproduced several preassembled, fully functional historic mechanisms from the Cornell Collection of Reuleaux Kinematic Models, and made these available as part of a new online museum of mechanism: Not only can visitors read descriptions, view pictures and videos, and interact with simulations of machines, but they can now also download and 3D-print their own physical functional replicas. We expect that this new form of “physical” preservation will become prevalent in future archives.",
      "accessed": {
       "date-parts": [
        [
         2021,
         4,
         27
        ]
       ]
      },
      "author": [
       {
        "family": "Lipson",
        "given": "Hod"
       },
       {
        "family": "Moon",
        "given": "Francis C."
       },
       {
        "family": "Hai",
        "given": "Jimmy"
       },
       {
        "family": "Paventi",
        "given": "Carlo"
       }
      ],
      "container-title": "Journal of Mechanical Design",
      "id": "8918850/9T527B6K",
      "issue": "5",
      "issued": {
       "date-parts": [
        [
         2004,
         10
        ]
       ]
      },
      "page": "1029–1033",
      "system_id": "zotero|8918850/9T527B6K",
      "title": "3-D Printing the History of Mechanisms",
      "type": "article-journal",
      "volume": "127"
     },
     "8918850/DEEHKBJF": {
      "author": [
       {
        "family": "Pagenstecher",
        "given": "Cord"
       },
       {
        "family": "Pfänder",
        "given": "Stefan"
       }
      ],
      "container-title": "Oral History Meets Linguistics",
      "editor": [
       {
        "family": "Kasten",
        "given": "Erich"
       },
       {
        "family": "Roller",
        "given": "Katja"
       },
       {
        "family": "Wilbur",
        "given": "Joshua"
       }
      ],
      "event-place": "Fürstenberg/Havel",
      "id": "8918850/DEEHKBJF",
      "issued": {
       "date-parts": [
        [
         2017
        ]
       ]
      },
      "page": "185-207",
      "publisher": "Kulturstiftung Siberien",
      "publisher-place": "Fürstenberg/Havel",
      "system_id": "zotero|8918850/DEEHKBJF",
      "title": "Hidden dialogues. Towards an interactional understanding of Oral History interviews",
      "type": "chapter"
     },
     "8918850/HEZNECAM": {
      "URL": "https://www.degruyter.com/document/doi/10.1515/9783110266436.135/html",
      "abstract": "Formal three-dimensional computational analyses of archaeological spaces was published in Spatial analysis and social spaces on page 135.",
      "accessed": {
       "date-parts": [
        [
         2021,
         4,
         27
        ]
       ]
      },
      "author": [
       {
        "family": "Papadopoulos",
        "given": "Constantinos"
       },
       {
        "family": "Earl",
        "given": "Graeme"
       }
      ],
      "container-title": "Spatial analysis and social spaces: Interdisciplinary approaches to the interpretation of prehistoric and historic built environments",
      "editor": [
       {
        "family": "Paliou",
        "given": "Eleftheria"
       },
       {
        "family": "Lieberwirth",
        "given": "Undine"
       },
       {
        "family": "Polla",
        "given": "Silvia"
       }
      ],
      "id": "8918850/HEZNECAM",
      "issued": {
       "date-parts": [
        [
         2014,
         4
        ]
       ]
      },
      "language": "English",
      "page": "135–165",
      "publisher": "De Gruyter",
      "system_id": "zotero|8918850/HEZNECAM",
      "title": "Formal three-dimensional computational analyses of archaeological spaces",
      "type": "chapter"
     },
     "8918850/NHC2S722": {
      "URL": "https://www.academia.edu/11385237/Hands_on_Pl%C3%A4doyer_f%C3%BCr_eine_experimentelle_Medienarch%C3%A4ologie",
      "abstract": "Inspired by experiences with doing experimental research in the fields of history of science, archaeology and musicology this essay aims at reflecting on the heuristic potential of experimental media archaeology for a history of technology interested in the sensorial dimension of technology. Based on the concept of re-enactment, experimental media archaeology tries to explore new ways of experiencing and understanding the materiality of media technologies by interacting with these objects in a playful manner. In order to do so, the article argues, we need to de-auratize historical objects and turn the historian – which to often remains within the textual realm when studying the past media practices – into an experimenter and the museum into a laboratory. Ziel dieses Essays ist es, experimentelle Medienarchäologie als alternative Methode einer sinnes- und objektorientierten Technik- und Mediengeschichtsschreibung zu skizzieren. Basierend auf den Erfahrungen im Bereich experimenteller Wissenschaftsgeschichte, der experimentellen Archäologie sowie der historisch informierten Aufführungspraxis in der Musik soll das erkenntnistheoretische Potenzial eines objekt- und sinnesorientierten experimentellen Zugangs im Bereich der Medien- und Technikgeschichte diskutiert werden. In bewusster Abgrenzung von klassischen medienarchäologischen Arbeiten, deren methodologisches Repertoire sich meist in der Diskursanalyse erschöpft, zielt die experimentelle Medienarchäologie auf eine spielerische Heuristik, in deren Mittelpunkt die Methode des „re-enactment“ steht.",
      "accessed": {
       "date-parts": [
        [
         2021,
         3,
         27
        ]
       ]
      },
      "author": [
       {
        "family": "Fickers",
        "given": "Andreas"
       }
      ],
      "container-title": "Technik Geschichte",
      "id": "8918850/NHC2S722",
      "issue": "1",
      "issued": {
       "date-parts": [
        [
         2015
        ]
       ]
      },
      "journalAbbreviation": "Technikgeschichte",
      "language": "English",
      "page": "67–86",
      "system_id": "zotero|8918850/NHC2S722",
      "title": "Hands-on! Plädoyer für eine experimentelle Medienarchäologie",
      "type": "article-journal",
      "volume": "82"
     },
     "8918850/XBVRVAB2": {
      "URL": "https://www.aniwaa.com/guide/3d-printers/3d-printing-for-archeology-and-museology/",
      "abstract": "3D scanning and 3D printing for museums and archeology are useful tools as they allow to better study, restore and preserve historical sites and artifacts.",
      "accessed": {
       "date-parts": [
        [
         2021,
         4,
         27
        ]
       ]
      },
      "author": [
       {
        "family": "Arrighi",
        "given": "Pierre-Antoine"
       }
      ],
      "container-title": "Aniwaa",
      "id": "8918850/XBVRVAB2",
      "issued": {
       "date-parts": [
        [
         2020
        ]
       ]
      },
      "language": "en-US",
      "system_id": "zotero|8918850/XBVRVAB2",
      "title": "3D scanning and 3D printing for museums and archeology",
      "type": "article-journal"
     }
    }
   }
  },
  "kernelspec": {
   "display_name": "Python 3 (ipykernel)",
   "language": "python",
   "name": "python3"
  },
  "language_info": {
   "codemirror_mode": {
    "name": "ipython",
    "version": 3
   },
   "file_extension": ".py",
   "mimetype": "text/x-python",
   "name": "python",
   "nbconvert_exporter": "python",
   "pygments_lexer": "ipython3",
   "version": "3.11.6"
  }
 },
 "nbformat": 4,
 "nbformat_minor": 5
}
