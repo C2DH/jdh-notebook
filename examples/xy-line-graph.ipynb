{
 "cells": [
  {
   "cell_type": "markdown",
   "metadata": {
    "jdh": {
     "section": "title"
    }
   },
   "source": [
    "#  XY-line-graph"
   ]
  },
  {
   "cell_type": "markdown",
   "metadata": {},
   "source": [
    "Now, from this peculiar sideway position of the whale’s eyes, it is\n",
    "plain that he can never see an object which is exactly ahead, no more\n",
    "than he can one exactly astern. In a word, the position of the whale’s\n",
    "eyes corresponds to that of a man’s ears; and you may fancy, for\n",
    "yourself, how it would fare with you, did you sideways survey objects\n",
    "through your ears. You would find that you could only command some\n",
    "thirty degrees of vision in advance of the straight side-line of sight;\n",
    "and about thirty more behind it. If your bitterest foe were walking\n",
    "straight towards you, with dagger uplifted in broad day, you would not\n",
    "be able to see him, any more than if he were stealing upon you from\n",
    "behind. In a word, you would have two backs, so to speak; but, at the\n",
    "same time, also, two fronts (side fronts): for what is it that makes\n",
    "the front of a man—what, indeed, but his eyes?"
   ]
  },
  {
   "cell_type": "markdown",
   "metadata": {
    "jdh": {
     "background": {
      "color": "var(--primary)"
     },
     "module": "text_object",
     "object": {
      "bootstrapColumLayout": {
       "md": {
        "offset": 0,
        "order": 1,
        "span": 8
       }
      },
      "component": "TrendLine",
      "cssClassName": [
       "bg-primary"
      ],
      "position": "sticky",
      "source": [
       "## 140.000 tweets",
       "> A quiet explanation"
      ],
      "spec": {
       "$schema": "https://vega.github.io/schema/vega-lite/v4.json",
       "data": {
        "values": [
         {
          "c": 20,
          "layer": "v0",
          "t": "2014-01-01"
         },
         {
          "c": 10,
          "layer": "v0",
          "t": "2014-01-08"
         },
         {
          "c": 40,
          "layer": "v0",
          "t": "2014-01-15"
         },
         {
          "c": 50,
          "layer": "v0",
          "t": "2014-01-22"
         },
         {
          "c": 70,
          "layer": "v0",
          "t": "2014-01-28"
         },
         {
          "c": 9,
          "layer": "v0",
          "t": "2014-04-02"
         }
        ]
       },
       "encoding": {
        "x": {
         "field": "t",
         "type": "temporal"
        },
        "y": {
         "field": "c",
         "type": "quantitative"
        }
       },
       "mark": {
        "interpolate": "monotone",
        "type": "line"
       },
       "transform": [
        {
         "filter": "datum.symbol==='GOOG'"
        }
       ]
      },
      "type": "vega"
     },
     "text": {
      "bootstrapColumLayout": {
       "md": {
        "offset": 0,
        "order": 12,
        "span": 4
       }
      },
      "color": "var(--accent)"
     }
    }
   },
   "source": [
    "A curious and most *puzzling* question might be started concerning this visual matter as touching the Leviathan. But I must be content with a hint. So long as a man’s eyes are open in the light, the act of seeing is involuntary; that is, he cannot then help mechanically seeing whatever objects are before him. Nevertheless, any one’s experience will teach him, that though he can take in an undiscriminating sweep of things at one glance, it is quite impossible for him, attentively, and completely, to examine any two things—however large or however small—at one and the same instant of time; never mind if they lie side by side and touch each other. But if you now come to separate these two objects, and surround each by a circle of profound darkness; then, in order to see one of them, in such a manner as to bring your mind to bear on it, the other will be utterly excluded from your contemporary consciousness. How is it, then, with the whale? True, both his eyes, in themselves, must simultaneously act; but is his brain so much more comprehensive, combining, and subtle than man’s, that he can at the same moment of time attentively examine two distinct prospects, one on one side of him, and the other in an exactly opposite direction? If he can, then is it as marvellous a thing in him, as if a man were able simultaneously to go through the demonstrations of two distinct problems in Euclid. Nor, strictly investigated, is there any incongruity in this comparison."
   ]
  },
  {
   "cell_type": "code",
   "execution_count": 1,
   "metadata": {},
   "outputs": [
    {
     "name": "stdout",
     "output_type": "stream",
     "text": [
      "hello world\n"
     ]
    }
   ],
   "source": [
    "print(\"hello world\")"
   ]
  }
 ],
 "metadata": {
  "kernelspec": {
   "display_name": "Python 3",
   "language": "python",
   "name": "python3"
  },
  "language_info": {
   "codemirror_mode": {
    "name": "ipython",
    "version": 3
   },
   "file_extension": ".py",
   "mimetype": "text/x-python",
   "name": "python",
   "nbconvert_exporter": "python",
   "pygments_lexer": "ipython3",
   "version": "3.8.0"
  }
 },
 "nbformat": 4,
 "nbformat_minor": 4
}
