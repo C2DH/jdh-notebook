{
 "cells": [
  {
   "cell_type": "markdown",
   "metadata": {
    "jdh": {
     "section": "title"
    }
   },
   "source": [
    "#  XY-line-graph"
   ]
  },
  {
   "cell_type": "markdown",
   "metadata": {},
   "source": [
    "Now, from this peculiar sideway position of the whale’s eyes, it is plain that he can never see an object which is exactly ahead, no more than he can one exactly astern. In a word, the position of the whale’s eyes corresponds to that of a man’s ears; and you may fancy, for yourself, how it would fare with you, did you sideways survey objects through your ears. You would find that you could only command some thirty degrees of vision in advance of the straight side-line of sight; and about thirty more behind it. If your bitterest foe were walking straight towards you, with dagger uplifted in broad day, you would not be able to see him, any more than if he were stealing upon you from behind. In a word, you would have two backs, so to speak; but, at the same time, also, two fronts (side fronts): for what is it that makes the front of a man—what, indeed, but his eyes?"
   ]
  },
  {
   "cell_type": "code",
   "execution_count": 9,
   "metadata": {},
   "outputs": [
    {
     "data": {
      "text/plain": [
       "''"
      ]
     },
     "metadata": {
      "jdh": {
       "module": "text_object",
       "object": {
        "bootstrapColumLayout": {
         "md": {
          "offset": 0,
          "order": 1,
          "span": 8
         }
        },
        "component": "TrendLine",
        "cssClassName": [
         "bg-primary"
        ],
        "position": "sticky",
        "spec": {
         "$schema": "https://vega.github.io/schema/vega-lite/v4.json",
         "data": {
          "values": [
           {
            "c": 20,
            "layer": "v0",
            "t": "2014-01-01"
           },
           {
            "c": 10,
            "layer": "v0",
            "t": "2014-01-08"
           },
           {
            "c": 40,
            "layer": "v0",
            "t": "2014-01-15"
           },
           {
            "c": 50,
            "layer": "v0",
            "t": "2014-01-22"
           },
           {
            "c": 70,
            "layer": "v0",
            "t": "2014-01-28"
           },
           {
            "c": 9,
            "layer": "v0",
            "t": "2014-04-02"
           }
          ]
         },
         "encoding": {
          "x": {
           "field": "t",
           "type": "temporal"
          },
          "y": {
           "field": "c",
           "type": "quantitative"
          }
         },
         "mark": {
          "interpolate": "monotone",
          "type": "line"
         }
        },
        "type": "vega"
       },
       "text": {
        "bootstrapColumLayout": {
         "md": {
          "offset": 0,
          "order": 12,
          "span": 3
         }
        }
       }
      }
     },
     "output_type": "display_data"
    },
    {
     "data": {
      "application/json": {
       "jdh": {
        "module": "text_object",
        "object": {
         "bootstrapColumLayout": {
          "md": {
           "offset": 0,
           "order": 1,
           "span": 8
          }
         },
         "component": "TrendLine",
         "cssClassName": [
          "bg-primary"
         ],
         "position": "sticky",
         "spec": {
          "$schema": "https://vega.github.io/schema/vega-lite/v4.json",
          "data": {
           "values": [
            {
             "c": 20,
             "layer": "v0",
             "t": "2014-01-01"
            },
            {
             "c": 10,
             "layer": "v0",
             "t": "2014-01-08"
            },
            {
             "c": 40,
             "layer": "v0",
             "t": "2014-01-15"
            },
            {
             "c": 50,
             "layer": "v0",
             "t": "2014-01-22"
            },
            {
             "c": 70,
             "layer": "v0",
             "t": "2014-01-28"
            },
            {
             "c": 9,
             "layer": "v0",
             "t": "2014-04-02"
            }
           ]
          },
          "encoding": {
           "x": {
            "field": "t",
            "type": "temporal"
           },
           "y": {
            "field": "c",
            "type": "quantitative"
           }
          },
          "mark": {
           "interpolate": "monotone",
           "type": "line"
          }
         },
         "type": "vega"
        },
        "text": {
         "bootstrapColumLayout": {
          "md": {
           "offset": 0,
           "order": 12,
           "span": 3
          }
         }
        }
       }
      },
      "text/plain": [
       "<IPython.core.display.JSON object>"
      ]
     },
     "execution_count": 9,
     "metadata": {
      "application/json": {
       "expanded": false,
       "root": "root"
      }
     },
     "output_type": "execute_result"
    }
   ],
   "source": [
    "from IPython.display import display, JSON\n",
    "from vega import VegaLite\n",
    "spec = {\n",
    "    \"$schema\": \"https://vega.github.io/schema/vega-lite/v4.json\",\n",
    "    \"data\": {\n",
    "        \"values\": [\n",
    "            { \"c\": 20, \"layer\": \"v0\", \"t\": \"2014-01-01\" },\n",
    "            { \"c\": 10, \"layer\": \"v0\", \"t\": \"2014-01-08\" },\n",
    "            { \"c\": 40, \"layer\": \"v0\", \"t\": \"2014-01-15\" },\n",
    "            { \"c\": 50, \"layer\": \"v0\", \"t\": \"2014-01-22\" },\n",
    "            { \"c\": 70, \"layer\": \"v0\", \"t\": \"2014-01-28\" },\n",
    "            { \"c\": 9, \"layer\": \"v0\", \"t\": \"2014-04-02\" }\n",
    "        ]\n",
    "    },\n",
    "    \"encoding\": {\n",
    "        \"x\": { \"field\": \"t\", \"type\": \"temporal\" },\n",
    "        \"y\": { \"field\": \"c\", \"type\": \"quantitative\" }\n",
    "    },\n",
    "    \"mark\": { \"interpolate\": \"monotone\", \"type\": \"line\" }\n",
    "}\n",
    "\n",
    "metadata={\n",
    "    \"jdh\":{\n",
    "        \"module\": \"text_object\",\n",
    "        \"text\": {\n",
    "            \"bootstrapColumLayout\": { \"md\": { \"offset\":0, \"span\": 3, \"order\": 12 } }\n",
    "        },\n",
    "        \"object\": {\n",
    "            \"type\": \"vega\",\n",
    "            \"bootstrapColumLayout\": { \"md\": { \"offset\": 0, \"order\": 1, \"span\": 8 } },\n",
    "            \"component\": \"TrendLine\",\n",
    "            \"cssClassName\": [ \"bg-primary\" ],\n",
    "            \"position\": \"sticky\",\n",
    "            \"spec\": spec\n",
    "        }\n",
    "    }\n",
    "}\n",
    "VegaLite(spec)\n",
    "display('', metadata=metadata)\n",
    "JSON(metadata)"
   ]
  },
  {
   "cell_type": "markdown",
   "metadata": {},
   "source": [
    "A curious and most *puzzling* question might be started concerning this visual matter as touching the Leviathan. But I must be content with a hint. So long as a man’s eyes are open in the light, the act of seeing is involuntary; that is, he cannot then help mechanically seeing whatever objects are before him. Nevertheless, any one’s experience will teach him, that though he can take in an undiscriminating sweep of things at one glance, it is quite impossible for him, attentively, and completely, to examine any two things—however large or however small—at one and the same instant of time; never mind if they lie side by side and touch each other. But if you now come to separate these two objects, and surround each by a circle of profound darkness; then, in order to see one of them, in such a manner as to bring your mind to bear on it, the other will be utterly excluded from your contemporary consciousness. How is it, then, with the whale? True, both his eyes, in themselves, must simultaneously act; but is his brain so much more comprehensive, combining, and subtle than man’s, that he can at the same moment of time attentively examine two distinct prospects, one on one side of him, and the other in an exactly opposite direction? If he can, then is it as marvellous a thing in him, as if a man were able simultaneously to go through the demonstrations of two distinct problems in Euclid. Nor, strictly investigated, is there any incongruity in this comparison.\n",
    "\n",
    "It may be but an idle whim, but it has always seemed to me, that the extraordinary vacillations of movement displayed by some whales when beset by three or four boats; the timidity and liability to queer frights, so common to such whales; I think that all this indirectly proceeds from the helpless perplexity of volition, in which their divided and diametrically opposite powers of vision must involve them."
   ]
  }
 ],
 "metadata": {
  "kernelspec": {
   "display_name": "Python 3",
   "language": "python",
   "name": "python3"
  },
  "language_info": {
   "codemirror_mode": {
    "name": "ipython",
    "version": 3
   },
   "file_extension": ".py",
   "mimetype": "text/x-python",
   "name": "python",
   "nbconvert_exporter": "python",
   "pygments_lexer": "ipython3",
   "version": "3.8.0"
  }
 },
 "nbformat": 4,
 "nbformat_minor": 4
}
