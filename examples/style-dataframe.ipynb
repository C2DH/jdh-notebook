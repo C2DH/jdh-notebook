{
 "cells": [
  {
   "cell_type": "markdown",
   "id": "binding-python",
   "metadata": {},
   "source": [
    "# Style dataframe"
   ]
  },
  {
   "cell_type": "code",
   "execution_count": 1,
   "id": "extraordinary-raise",
   "metadata": {},
   "outputs": [
    {
     "data": {
      "text/html": [
       "<style  type=\"text/css\" >\n",
       "</style><table id=\"T_9494c_\" ><thead>    <tr>        <th class=\"col_heading level0 col0\" >sentence</th>        <th class=\"col_heading level0 col1\" >translation</th>    </tr></thead><tbody>\n",
       "                <tr>\n",
       "                                <td id=\"T_9494c_row0_col0\" class=\"data row0 col0\" >adstrepebat vulgus, diversis incitamentis, hi verberum notas, illi canitiem, plurimi detrita tegmina et nudum corpus exprobrantes</td>\n",
       "                        <td id=\"T_9494c_row0_col1\" class=\"data row0 col1\" >The crowd shouted approval, as one point or the other told. Some angrily displayed the marks of the lash, some their grey hairs, most their thread-bare bare garments and naked bodies.</td>\n",
       "            </tr>\n",
       "            <tr>\n",
       "                                <td id=\"T_9494c_row1_col0\" class=\"data row1 col0\" >illi quoties oculos ad multitudinem rettulerant, vocibus truculentis strepere, rursum viso Caesare trepidare</td>\n",
       "                        <td id=\"T_9494c_row1_col1\" class=\"data row1 col1\" >One moment, the mutineers would glance back at their thousands, and a roar of truculent voices followed: the next, they saw the Caesar and trembled.</td>\n",
       "            </tr>\n",
       "            <tr>\n",
       "                                <td id=\"T_9494c_row2_col0\" class=\"data row2 col0\" >iamque lapidis ictu cruentus et exitii certus adcursu multitudinis quae cum Druso advenerat protectus est</td>\n",
       "                        <td id=\"T_9494c_row2_col1\" class=\"data row2 col1\" >He was bleeding already from a cut with a missile and had made up his mind that the end was come, when he was saved by the advent of Drusus numerous escort.</td>\n",
       "            </tr>\n",
       "            <tr>\n",
       "                                <td id=\"T_9494c_row3_col0\" class=\"data row3 col0\" >accitur centurio Clemens et si <qui> alii bonis artibus grati in vulgus</td>\n",
       "                        <td id=\"T_9494c_row3_col1\" class=\"data row3 col1\" >Clemens, the centurion, was sent for, along with any other officer whose qualities had made him popular with the ranks. </td>\n",
       "            </tr>\n",
       "            <tr>\n",
       "                                <td id=\"T_9494c_row4_col0\" class=\"data row4 col0\" >certatum inde sententiis, cum alii opperiendos legatos atque interim comitate permulcendum militem censerent, alii fortioribus remediis agendum: nihil in vulgo modicum: terrere ni paveant, ubi pertimuerint inpune contemni: dum superstitio urgeat, adiciendos ex duce metus sublatis seditionis auctoribus</td>\n",
       "                        <td id=\"T_9494c_row4_col1\" class=\"data row4 col1\" >There was now a conflict of opinions, some proposing to wait for the return of the deputies and humour the troops in the meantime by a show of leniency, while others were for sterner remedies:-\"A crowd was nothing if not extreme: it must either bluster or cringe: once terrified, it could be ignored with impunity: now that it was depressed by superstition was the moment for the general to inspire fresh terror by removing the authors of the mutiny.\" </td>\n",
       "            </tr>\n",
       "    </tbody></table>"
      ],
      "text/plain": [
       "<pandas.io.formats.style.Styler at 0x10e162d10>"
      ]
     },
     "metadata": {},
     "output_type": "display_data"
    }
   ],
   "source": [
    "import pandas as pd\n",
    "from IPython.display import display\n",
    "df = pd.read_csv(\"data/names-crowd_data.csv\", sep=\";\", encoding=\"latin1\", usecols = ['sentence','translation'])\n",
    "df = df.head()\n",
    "display(df.style.hide_index())\n",
    "\n"
   ]
  },
  {
   "cell_type": "markdown",
   "id": "arbitrary-member",
   "metadata": {},
   "source": [
    "# Style dataframe with caption"
   ]
  },
  {
   "cell_type": "code",
   "execution_count": 2,
   "id": "fancy-cement",
   "metadata": {
    "tags": [
     "table-1"
    ]
   },
   "outputs": [
    {
     "data": {
      "text/html": [
       "<style  type=\"text/css\" >\n",
       "</style><table id=\"T_acaab_\" ><caption>Table 1: Innsbrucker Nachrichten, May 1913 | left: sentence; right: translation</caption><thead>    <tr>        <th class=\"col_heading level0 col0\" >sentence</th>        <th class=\"col_heading level0 col1\" >translation</th>    </tr></thead><tbody>\n",
       "                <tr>\n",
       "                                <td id=\"T_acaab_row0_col0\" class=\"data row0 col0\" >adstrepebat vulgus, diversis incitamentis, hi verberum notas, illi canitiem, plurimi detrita tegmina et nudum corpus exprobrantes</td>\n",
       "                        <td id=\"T_acaab_row0_col1\" class=\"data row0 col1\" >The crowd shouted approval, as one point or the other told. Some angrily displayed the marks of the lash, some their grey hairs, most their thread-bare bare garments and naked bodies.</td>\n",
       "            </tr>\n",
       "            <tr>\n",
       "                                <td id=\"T_acaab_row1_col0\" class=\"data row1 col0\" >illi quoties oculos ad multitudinem rettulerant, vocibus truculentis strepere, rursum viso Caesare trepidare</td>\n",
       "                        <td id=\"T_acaab_row1_col1\" class=\"data row1 col1\" >One moment, the mutineers would glance back at their thousands, and a roar of truculent voices followed: the next, they saw the Caesar and trembled.</td>\n",
       "            </tr>\n",
       "            <tr>\n",
       "                                <td id=\"T_acaab_row2_col0\" class=\"data row2 col0\" >iamque lapidis ictu cruentus et exitii certus adcursu multitudinis quae cum Druso advenerat protectus est</td>\n",
       "                        <td id=\"T_acaab_row2_col1\" class=\"data row2 col1\" >He was bleeding already from a cut with a missile and had made up his mind that the end was come, when he was saved by the advent of Drusus numerous escort.</td>\n",
       "            </tr>\n",
       "            <tr>\n",
       "                                <td id=\"T_acaab_row3_col0\" class=\"data row3 col0\" >accitur centurio Clemens et si <qui> alii bonis artibus grati in vulgus</td>\n",
       "                        <td id=\"T_acaab_row3_col1\" class=\"data row3 col1\" >Clemens, the centurion, was sent for, along with any other officer whose qualities had made him popular with the ranks. </td>\n",
       "            </tr>\n",
       "            <tr>\n",
       "                                <td id=\"T_acaab_row4_col0\" class=\"data row4 col0\" >certatum inde sententiis, cum alii opperiendos legatos atque interim comitate permulcendum militem censerent, alii fortioribus remediis agendum: nihil in vulgo modicum: terrere ni paveant, ubi pertimuerint inpune contemni: dum superstitio urgeat, adiciendos ex duce metus sublatis seditionis auctoribus</td>\n",
       "                        <td id=\"T_acaab_row4_col1\" class=\"data row4 col1\" >There was now a conflict of opinions, some proposing to wait for the return of the deputies and humour the troops in the meantime by a show of leniency, while others were for sterner remedies:-\"A crowd was nothing if not extreme: it must either bluster or cringe: once terrified, it could be ignored with impunity: now that it was depressed by superstition was the moment for the general to inspire fresh terror by removing the authors of the mutiny.\" </td>\n",
       "            </tr>\n",
       "    </tbody></table>"
      ],
      "text/plain": [
       "<pandas.io.formats.style.Styler at 0x10e119c90>"
      ]
     },
     "metadata": {},
     "output_type": "display_data"
    }
   ],
   "source": [
    "import pandas as pd\n",
    "from IPython.display import display\n",
    "df = pd.read_csv(\"data/names-crowd_data.csv\", sep=\";\", encoding=\"latin1\", usecols = ['sentence','translation'])\n",
    "df = df.head()\n",
    "display(df.style.set_caption('Table 1: Innsbrucker Nachrichten, May 1913 | left: sentence; right: translation').hide_index())"
   ]
  }
 ],
 "metadata": {
  "celltoolbar": "Tags",
  "kernelspec": {
   "display_name": "Python 3",
   "language": "python",
   "name": "python3"
  },
  "language_info": {
   "codemirror_mode": {
    "name": "ipython",
    "version": 3
   },
   "file_extension": ".py",
   "mimetype": "text/x-python",
   "name": "python",
   "nbconvert_exporter": "python",
   "pygments_lexer": "ipython3",
   "version": "3.7.10"
  },
  "toc": {
   "base_numbering": 1,
   "nav_menu": {},
   "number_sections": true,
   "sideBar": true,
   "skip_h1_title": false,
   "title_cell": "Table of Contents",
   "title_sidebar": "Contents",
   "toc_cell": false,
   "toc_position": {},
   "toc_section_display": true,
   "toc_window_display": true
  }
 },
 "nbformat": 4,
 "nbformat_minor": 5
}
