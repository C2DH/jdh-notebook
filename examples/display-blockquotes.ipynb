{
 "cells": [
  {
   "cell_type": "markdown",
   "id": "italian-camping",
   "metadata": {
    "tags": [
     "title"
    ]
   },
   "source": [
    "# How to display blockquotes"
   ]
  },
  {
   "cell_type": "markdown",
   "id": "distributed-publicity",
   "metadata": {},
   "source": [
    "> this is a blockquote to display as simple blockquote"
   ]
  },
  {
   "cell_type": "markdown",
   "id": "posted-letters",
   "metadata": {
    "tags": [
     "quote-1"
    ]
   },
   "source": [
    "> This is a fairly important quote, with multiple lines. Simple line breaks are done with two spaces at the end of the line.  \n",
    "> Please Check the [markdown tutorial](https://commonmark.org/help/tutorial/05-blockquotes.html)\n",
    ">\n",
    "> *AAVV, 2021*"
   ]
  },
  {
   "cell_type": "markdown",
   "id": "unnecessary-nomination",
   "metadata": {},
   "source": [
    "## Conclusions"
   ]
  },
  {
   "cell_type": "code",
   "execution_count": null,
   "id": "encouraging-parliament",
   "metadata": {},
   "outputs": [],
   "source": []
  }
 ],
 "metadata": {
  "celltoolbar": "Tags",
  "kernelspec": {
   "display_name": "Python 3",
   "language": "python",
   "name": "python3"
  },
  "language_info": {
   "codemirror_mode": {
    "name": "ipython",
    "version": 3
   },
   "file_extension": ".py",
   "mimetype": "text/x-python",
   "name": "python",
   "nbconvert_exporter": "python",
   "pygments_lexer": "ipython3",
   "version": "3.8.3"
  }
 },
 "nbformat": 4,
 "nbformat_minor": 5
}
