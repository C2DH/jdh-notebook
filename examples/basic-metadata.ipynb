{
 "cells": [
  {
   "cell_type": "markdown",
   "metadata": {
    "jdh": {
     "section": "title"
    }
   },
   "source": [
    "#  How to use Cell Metadata to Ship Article Basic Metadata"
   ]
  },
  {
   "cell_type": "markdown",
   "metadata": {
    "jdh": {
     "section": "abstract"
    }
   },
   "source": [
    "The Journal relies heavily on **cell metadata** to correctly display its structure. A cell metadata is a simple JSON object attached to each cell. To change its properties go to `View -> Cell Toolbar -> Edit Metadata` in the Jupyter Notebook Toolbar and a button will appear above each cell.\n",
    "For instance, to format the article title, just add `{\"jdh\":{\"section\":\"title\"}}` to the cell metadata. "
   ]
  },
  {
   "cell_type": "markdown",
   "metadata": {
    "jdh": {
     "section": "abstract"
    }
   },
   "source": [
    "This is the article **abstract** and contains *markdown* text. It can be composed by different paragraphs splitted in different *cells*.\n",
    "Just add `{\"jdh\":{\"section\":\"abstract\"}}` to each cell metadata section.\n",
    "To compose the **contibutors** section below, in addition to the metadata `{\"jdh\":{\"section\":\"contributor\"}}` the person name should appear as `h3` heading, in markdown add three hashes ### "
   ]
  },
  {
   "cell_type": "markdown",
   "metadata": {
    "jdh": {
     "section": "contributor"
    }
   },
   "source": [
    "### Frédéric Clavert\n",
    "University of Luxembourg"
   ]
  },
  {
   "cell_type": "markdown",
   "metadata": {
    "jdh": {
     "section": "contributor"
    }
   },
   "source": [
    "### Ernest Miller Hemingway\n",
    "Ernest Miller Hemingway (July 21, 1899 – July 2, 1961) was an American novelist, short-story writer, journalist, and sportsman"
   ]
  }
 ],
 "metadata": {
  "kernelspec": {
   "display_name": "Python 3",
   "language": "python",
   "name": "python3"
  },
  "language_info": {
   "codemirror_mode": {
    "name": "ipython",
    "version": 3
   },
   "file_extension": ".py",
   "mimetype": "text/x-python",
   "name": "python",
   "nbconvert_exporter": "python",
   "pygments_lexer": "ipython3",
   "version": "3.8.0"
  }
 },
 "nbformat": 4,
 "nbformat_minor": 4
}
