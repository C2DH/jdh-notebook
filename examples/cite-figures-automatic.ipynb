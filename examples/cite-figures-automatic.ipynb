{
 "cells": [
  {
   "cell_type": "markdown",
   "id": "94b42bb8",
   "metadata": {
    "tags": [
     "title"
    ]
   },
   "source": [
    "# Automatic Figure Numbering: an essay"
   ]
  },
  {
   "cell_type": "markdown",
   "id": "212ac1d2",
   "metadata": {},
   "source": [
    "Test, go to [figure tomato](#figure-tomato-*) to see this new feature. Another image: see [Figure 1966 test](#figure-test-1966-*)\n"
   ]
  },
  {
   "cell_type": "markdown",
   "id": "56ca4ef5",
   "metadata": {},
   "source": [
    "Test. Lorem ipsum dolor sit amet, consectetur adipiscing elit. Quisque venenatis metus odio, sed consequat tellus blandit in. Nunc magna ligula, sollicitudin quis rhoncus sit amet, vulputate nec mi. Orci varius natoque penatibus et magnis dis parturient montes, nascetur ridiculus mus. Pellentesque scelerisque efficitur arcu a egestas. Duis facilisis tellus sed enim lacinia, sit amet sollicitudin ipsum malesuada. Donec ligula ipsum, venenatis at efficitur eu, dignissim sed dui. Integer ultrices enim velit, sit amet dictum justo lacinia non. Curabitur vel semper odio. Duis id massa semper, blandit nisi a, viverra metus. Curabitur nunc arcu, tincidunt ac mauris sit amet, fermentum interdum lorem."
   ]
  },
  {
   "cell_type": "markdown",
   "id": "a61f12ee",
   "metadata": {},
   "source": [
    "Duis in risus vitae ex posuere fermentum. Mauris placerat ut nunc at interdum. Phasellus nec orci eget orci suscipit maximus interdum a urna. Mauris tempor, leo eu finibus dictum, metus est tempus nulla, ut sodales magna tellus tristique ante. Morbi ac dignissim quam. Quisque rutrum accumsan rhoncus. Vestibulum bibendum dignissim sapien. Donec nisi quam, vehicula id rhoncus euismod, egestas ut dolor. Fusce urna ante, condimentum non ligula id, dignissim accumsan odio. Cras tortor sem, molestie et tempor at, ultrices non nunc. Vestibulum ante ipsum primis in faucibus orci luctus et ultrices posuere cubilia curae; Aenean hendrerit velit eros, et interdum justo tincidunt hendrerit. Ut id cursus nisl. Quisque et hendrerit arcu, id dapibus diam. Ut sagittis lorem ac varius fringilla. Morbi suscipit augue a arcu mollis condimentum."
   ]
  },
  {
   "cell_type": "code",
   "execution_count": 6,
   "id": "61366e84",
   "metadata": {
    "tags": [
     "figure-tomato-*"
    ]
   },
   "outputs": [
    {
     "data": {
      "text/html": [
       "<img src=\"https://live.staticflickr.com/65535/52054690638_81c4e0f34c_c_d.jpg\" width=\"200\"/>"
      ],
      "text/plain": [
       "<IPython.core.display.Image object>"
      ]
     },
     "metadata": {
      "jdh": {
       "module": "object",
       "object": {
        "source": [
         "GD/Astronautics Details: Static Inverter in Assembly Date: 04/28/1966",
         "Repository: San Diego Air and Space Museum "
        ],
        "type": "image"
       }
      }
     },
     "output_type": "display_data"
    }
   ],
   "source": [
    "from IPython.display import Image\n",
    "\n",
    "display(Image(url='https://live.staticflickr.com/65535/52054690638_81c4e0f34c_c_d.jpg', width=200), metadata={\n",
    "    \"jdh\":{\n",
    "        \"module\": \"object\",\n",
    "        \"object\": {\n",
    "          \"type\": \"image\",\n",
    "          \"source\": [\n",
    "            \"GD/Astronautics Details: Static Inverter in Assembly Date: 04/28/1966\",\n",
    "            \"Repository: San Diego Air and Space Museum \"\n",
    "          ]\n",
    "        }\n",
    "    }\n",
    "})"
   ]
  },
  {
   "cell_type": "markdown",
   "id": "04d7c647",
   "metadata": {},
   "source": [
    "Test"
   ]
  },
  {
   "cell_type": "code",
   "execution_count": 8,
   "id": "9eeb8d1d",
   "metadata": {
    "tags": [
     "figure-test-1966-*"
    ]
   },
   "outputs": [
    {
     "data": {
      "text/html": [
       "<img src=\"https://live.staticflickr.com/65535/52054892879_77de3f652f_c_d.jpg\" width=\"200\"/>"
      ],
      "text/plain": [
       "<IPython.core.display.Image object>"
      ]
     },
     "metadata": {
      "jdh": {
       "module": "object",
       "object": {
        "source": [
         "GD/Astronautics Testing Details: Test Set Up Date: 04/08/1966",
         "Repository: San Diego Air and Space Museum "
        ],
        "type": "image"
       }
      }
     },
     "output_type": "display_data"
    }
   ],
   "source": [
    "from IPython.display import Image\n",
    "\n",
    "display(Image(url='https://live.staticflickr.com/65535/52054892879_77de3f652f_c_d.jpg', width=200), metadata={\n",
    "    \"jdh\":{\n",
    "        \"module\": \"object\",\n",
    "        \"object\": {\n",
    "          \"type\": \"image\",\n",
    "          \"source\": [\n",
    "            \"GD/Astronautics Testing Details: Test Set Up Date: 04/08/1966\",\n",
    "            \"Repository: San Diego Air and Space Museum \"\n",
    "          ]\n",
    "        }\n",
    "    }\n",
    "})\n",
    "\n"
   ]
  }
 ],
 "metadata": {
  "celltoolbar": "Tags",
  "kernelspec": {
   "display_name": "Python 3 (ipykernel)",
   "language": "python",
   "name": "python3"
  },
  "language_info": {
   "codemirror_mode": {
    "name": "ipython",
    "version": 3
   },
   "file_extension": ".py",
   "mimetype": "text/x-python",
   "name": "python",
   "nbconvert_exporter": "python",
   "pygments_lexer": "ipython3",
   "version": "3.8.3"
  }
 },
 "nbformat": 4,
 "nbformat_minor": 5
}
