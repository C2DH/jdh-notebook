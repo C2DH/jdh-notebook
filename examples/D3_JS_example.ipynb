{
 "cells": [
  {
   "cell_type": "markdown",
   "metadata": {},
   "source": [
    "## D3 JavaScript visualisation in a Python Jupyter notebook"
   ]
  },
  {
   "cell_type": "markdown",
   "metadata": {
    "ExecuteTime": {
     "end_time": "2023-01-04T15:34:04.525995Z",
     "start_time": "2023-01-04T15:34:04.519558Z"
    }
   },
   "source": [
    "> From here:\n",
    "-  https://github.com/Living-with-machines/D3_JS_viz_in_a_Python_Jupyter_notebook\n",
    "-  https://livingwithmachines.ac.uk/d3-javascript-visualisation-in-a-python-jupyter-notebook/"
   ]
  },
  {
   "cell_type": "markdown",
   "metadata": {},
   "source": [
    "### JavaScript in a Python Jupyter notebook cell"
   ]
  },
  {
   "cell_type": "code",
   "execution_count": 2,
   "metadata": {
    "ExecuteTime": {
     "end_time": "2023-01-04T15:35:00.442506Z",
     "start_time": "2023-01-04T15:35:00.428091Z"
    }
   },
   "outputs": [
    {
     "data": {
      "application/javascript": [
       "console.log(\"I'm writing JavaScript\");\n"
      ],
      "text/plain": [
       "<IPython.core.display.Javascript object>"
      ]
     },
     "metadata": {},
     "output_type": "display_data"
    }
   ],
   "source": [
    "%%javascript\n",
    "console.log(\"I'm writing JavaScript\");"
   ]
  },
  {
   "cell_type": "markdown",
   "metadata": {},
   "source": [
    "Check Console in Developer Tools (instructions below), where you can see the result of JavaScript print statements. Ignore other messages already there relating to Jupyter functionality. \"I'm writing JavaScript\" should be printed at the bottom.\n",
    "\n",
    "**To access Console in Developer Tools:** \n",
    "\n",
    "From Chrome browser: View > Developer > JavaScript Console\n",
    "\n",
    "From Firefox browser: Tools > Web Developer > Web Console\n",
    "\n",
    "From Safari, first turn on the “Develop menu”: Safari > Preferences > Advanced. Select 'Show Develop menu in menu bar' and close Preferences. Then go Develop > Show JavaScript Console"
   ]
  },
  {
   "cell_type": "code",
   "execution_count": 3,
   "metadata": {
    "ExecuteTime": {
     "end_time": "2023-01-04T15:35:14.777480Z",
     "start_time": "2023-01-04T15:35:14.769459Z"
    }
   },
   "outputs": [
    {
     "data": {
      "application/javascript": [
       "\n",
       "console.log(\"I'm also writing JavaScript here\");\n"
      ],
      "text/plain": [
       "<IPython.core.display.Javascript object>"
      ]
     },
     "execution_count": 3,
     "metadata": {},
     "output_type": "execute_result"
    }
   ],
   "source": [
    "from IPython.display import Javascript \n",
    "Javascript(\"\"\"\n",
    "console.log(\"I'm also writing JavaScript here\");\n",
    "\"\"\")\n",
    "# check Console in Developer Tools again"
   ]
  },
  {
   "cell_type": "markdown",
   "metadata": {},
   "source": [
    "### Importing D3"
   ]
  },
  {
   "cell_type": "code",
   "execution_count": 4,
   "metadata": {
    "ExecuteTime": {
     "end_time": "2023-01-04T15:35:18.758347Z",
     "start_time": "2023-01-04T15:35:18.752260Z"
    }
   },
   "outputs": [
    {
     "data": {
      "application/javascript": [
       "require.config({\n",
       "    paths: { \n",
       "        d3: 'https://d3js.org/d3.v5.min'\n",
       "    }\n",
       "});\n"
      ],
      "text/plain": [
       "<IPython.core.display.Javascript object>"
      ]
     },
     "metadata": {},
     "output_type": "display_data"
    }
   ],
   "source": [
    "%%javascript\n",
    "require.config({\n",
    "    paths: { \n",
    "        d3: 'https://d3js.org/d3.v5.min'\n",
    "    }\n",
    "});"
   ]
  },
  {
   "cell_type": "code",
   "execution_count": 5,
   "metadata": {
    "ExecuteTime": {
     "end_time": "2023-01-04T15:35:25.977008Z",
     "start_time": "2023-01-04T15:35:25.970743Z"
    }
   },
   "outputs": [
    {
     "data": {
      "application/javascript": [
       "require(['d3'], function(d3) {   \n",
       "    console.log(d3);\n",
       "});\n",
       "// Check Console in Developer tools again - you'll see an Object that is D3. \n",
       "// Depending on your browser it may just say 'Object' and you can use the small arrow \n",
       "// to unfurl it to see the D3 library contents,  \n",
       "// or it looks like '{event: null, format: ƒ, formatPrefix: ƒ, timeFormat: ƒ, timeParse: ƒ, …}'\n"
      ],
      "text/plain": [
       "<IPython.core.display.Javascript object>"
      ]
     },
     "metadata": {},
     "output_type": "display_data"
    }
   ],
   "source": [
    "%%javascript\n",
    "require(['d3'], function(d3) {   \n",
    "    console.log(d3);\n",
    "});\n",
    "// Check Console in Developer tools again - you'll see an Object that is D3. \n",
    "// Depending on your browser it may just say 'Object' and you can use the small arrow \n",
    "// to unfurl it to see the D3 library contents,  \n",
    "// or it looks like '{event: null, format: ƒ, formatPrefix: ƒ, timeFormat: ƒ, timeParse: ƒ, …}'"
   ]
  },
  {
   "cell_type": "markdown",
   "metadata": {},
   "source": [
    "### Accessing the output cell"
   ]
  },
  {
   "cell_type": "markdown",
   "metadata": {},
   "source": [
    "Running JavaScript, you don’t automatically get anything appearing in the output cell. You can use 'element' (jQuery powered wrapper) to access the current output cell."
   ]
  },
  {
   "cell_type": "code",
   "execution_count": 6,
   "metadata": {
    "ExecuteTime": {
     "end_time": "2023-01-04T15:35:31.537317Z",
     "start_time": "2023-01-04T15:35:31.531435Z"
    }
   },
   "outputs": [
    {
     "data": {
      "application/javascript": [
       "element.text('hello world');\n"
      ],
      "text/plain": [
       "<IPython.core.display.Javascript object>"
      ]
     },
     "metadata": {},
     "output_type": "display_data"
    }
   ],
   "source": [
    "%%javascript\n",
    "element.text('hello world');"
   ]
  },
  {
   "cell_type": "markdown",
   "metadata": {},
   "source": [
    "'element.get(0)' is the [DOM](https://www.w3schools.com/js/js_htmldom.asp) node for the output cell that can be handed to 'd3.select()'. Wrap this in a [closure](https://www.w3schools.com/js/js_function_closures.asp) to make sure you're accessing the correct output cell, as 'element' is a global variable and is overwritten when new cells are run"
   ]
  },
  {
   "cell_type": "code",
   "execution_count": 7,
   "metadata": {
    "ExecuteTime": {
     "end_time": "2023-01-04T15:35:35.325288Z",
     "start_time": "2023-01-04T15:35:35.318814Z"
    }
   },
   "outputs": [
    {
     "data": {
      "application/javascript": [
       "(function(element) {\n",
       "    require(['d3'], function(d3) {   \n",
       "        d3.select(element.get(0)).append('text').text('hello world');\n",
       "    })\n",
       "})(element);\n"
      ],
      "text/plain": [
       "<IPython.core.display.Javascript object>"
      ]
     },
     "metadata": {},
     "output_type": "display_data"
    }
   ],
   "source": [
    "%%javascript\n",
    "(function(element) {\n",
    "    require(['d3'], function(d3) {   \n",
    "        d3.select(element.get(0)).append('text').text('hello world');\n",
    "    })\n",
    "})(element);"
   ]
  },
  {
   "cell_type": "code",
   "execution_count": 8,
   "metadata": {
    "ExecuteTime": {
     "end_time": "2023-01-04T15:35:38.000411Z",
     "start_time": "2023-01-04T15:35:37.993722Z"
    }
   },
   "outputs": [
    {
     "data": {
      "application/javascript": [
       "(function(element) {\n",
       "    require(['d3'], function(d3) {   \n",
       "        d3.select(element.get(0)).append('svg')\n",
       "            .append('rect')\n",
       "            .attr('width', 50)\n",
       "            .attr('height', 50)\n",
       "            .attr('fill', 'black')\n",
       "            .on('mouseover', function(){d3.select(this).attr('fill', 'red')})\n",
       "            .on('mouseout', function(){d3.select(this).attr('fill', 'black')});\n",
       "    })\n",
       "})(element);\n",
       "\n",
       "// This rectangle is interactive - mouseover to see it turn red \n"
      ],
      "text/plain": [
       "<IPython.core.display.Javascript object>"
      ]
     },
     "metadata": {},
     "output_type": "display_data"
    }
   ],
   "source": [
    "%%javascript\n",
    "(function(element) {\n",
    "    require(['d3'], function(d3) {   \n",
    "        d3.select(element.get(0)).append('svg')\n",
    "            .append('rect')\n",
    "            .attr('width', 50)\n",
    "            .attr('height', 50)\n",
    "            .attr('fill', 'black')\n",
    "            .on('mouseover', function(){d3.select(this).attr('fill', 'red')})\n",
    "            .on('mouseout', function(){d3.select(this).attr('fill', 'black')});\n",
    "    })\n",
    "})(element);\n",
    "\n",
    "// This rectangle is interactive - mouseover to see it turn red "
   ]
  },
  {
   "cell_type": "markdown",
   "metadata": {},
   "source": [
    "### Getting your data from Python into JavaScript"
   ]
  },
  {
   "cell_type": "code",
   "execution_count": 9,
   "metadata": {
    "ExecuteTime": {
     "end_time": "2023-01-04T15:35:42.080204Z",
     "start_time": "2023-01-04T15:35:42.076326Z"
    }
   },
   "outputs": [],
   "source": [
    "import json"
   ]
  },
  {
   "cell_type": "code",
   "execution_count": 10,
   "metadata": {
    "ExecuteTime": {
     "end_time": "2023-01-04T15:35:43.559598Z",
     "start_time": "2023-01-04T15:35:43.556054Z"
    }
   },
   "outputs": [],
   "source": [
    "data = [50, 100]"
   ]
  },
  {
   "cell_type": "markdown",
   "metadata": {},
   "source": [
    "Pass data into a JavaScript command"
   ]
  },
  {
   "cell_type": "code",
   "execution_count": 11,
   "metadata": {
    "ExecuteTime": {
     "end_time": "2023-01-04T15:35:46.310907Z",
     "start_time": "2023-01-04T15:35:46.304235Z"
    }
   },
   "outputs": [
    {
     "data": {
      "application/javascript": [
       "\n",
       "element.text([50, 100]);\n"
      ],
      "text/plain": [
       "<IPython.core.display.Javascript object>"
      ]
     },
     "execution_count": 11,
     "metadata": {},
     "output_type": "execute_result"
    }
   ],
   "source": [
    "Javascript(\"\"\"\n",
    "element.text(%s);\n",
    "\"\"\" % json.dumps(data))\n",
    "\n",
    "# Triple quotes allows a multi-line string in Python\n",
    "# I'm using this Python string formatting method: \n",
    "# https://matthew-brett.github.io/teaching/string_formatting.html#option-3-old-school-formatting"
   ]
  },
  {
   "cell_type": "code",
   "execution_count": 12,
   "metadata": {
    "ExecuteTime": {
     "end_time": "2023-01-04T15:35:47.921725Z",
     "start_time": "2023-01-04T15:35:47.913439Z"
    }
   },
   "outputs": [
    {
     "data": {
      "application/javascript": [
       "\n",
       "(function(element) {\n",
       "    require(['d3'], function(d3) {   \n",
       "        var data = [50, 100];\n",
       "        d3.select(element.get(0)).append('svg')\n",
       "        .append('rect')\n",
       "        .attr('width', data[0])\n",
       "        .attr('height', data[1])\n",
       "        .attr('fill', 'black')\n",
       "    })\n",
       "})(element);\n"
      ],
      "text/plain": [
       "<IPython.core.display.Javascript object>"
      ]
     },
     "execution_count": 12,
     "metadata": {},
     "output_type": "execute_result"
    }
   ],
   "source": [
    "Javascript(\"\"\"\n",
    "(function(element) {\n",
    "    require(['d3'], function(d3) {   \n",
    "        var data = %s;\n",
    "        d3.select(element.get(0)).append('svg')\n",
    "        .append('rect')\n",
    "        .attr('width', data[0])\n",
    "        .attr('height', data[1])\n",
    "        .attr('fill', 'black')\n",
    "    })\n",
    "})(element);\n",
    "\"\"\" % json.dumps(data))\n",
    "\n",
    "# This rectangle is 50 x 100, from our data"
   ]
  },
  {
   "cell_type": "code",
   "execution_count": 13,
   "metadata": {
    "ExecuteTime": {
     "end_time": "2023-01-04T15:35:51.775374Z",
     "start_time": "2023-01-04T15:35:50.913768Z"
    }
   },
   "outputs": [
    {
     "data": {
      "text/html": [
       "<div>\n",
       "<style scoped>\n",
       "    .dataframe tbody tr th:only-of-type {\n",
       "        vertical-align: middle;\n",
       "    }\n",
       "\n",
       "    .dataframe tbody tr th {\n",
       "        vertical-align: top;\n",
       "    }\n",
       "\n",
       "    .dataframe thead th {\n",
       "        text-align: right;\n",
       "    }\n",
       "</style>\n",
       "<table border=\"1\" class=\"dataframe\">\n",
       "  <thead>\n",
       "    <tr style=\"text-align: right;\">\n",
       "      <th></th>\n",
       "      <th>Name</th>\n",
       "      <th>Count</th>\n",
       "    </tr>\n",
       "  </thead>\n",
       "  <tbody>\n",
       "    <tr>\n",
       "      <th>0</th>\n",
       "      <td>A</td>\n",
       "      <td>10</td>\n",
       "    </tr>\n",
       "    <tr>\n",
       "      <th>1</th>\n",
       "      <td>B</td>\n",
       "      <td>15</td>\n",
       "    </tr>\n",
       "    <tr>\n",
       "      <th>2</th>\n",
       "      <td>C</td>\n",
       "      <td>14</td>\n",
       "    </tr>\n",
       "  </tbody>\n",
       "</table>\n",
       "</div>"
      ],
      "text/plain": [
       "  Name  Count\n",
       "0    A     10\n",
       "1    B     15\n",
       "2    C     14"
      ]
     },
     "execution_count": 13,
     "metadata": {},
     "output_type": "execute_result"
    }
   ],
   "source": [
    "# Import pandas library \n",
    "import pandas as pd \n",
    "  \n",
    "# initialize list of lists \n",
    "data_python = [['A', 10], ['B', 15], ['C', 14]] \n",
    "  \n",
    "# Create the pandas DataFrame \n",
    "df = pd.DataFrame(data_python, columns = ['Name', 'Count']) \n",
    "  \n",
    "# print dataframe. \n",
    "df"
   ]
  },
  {
   "cell_type": "code",
   "execution_count": 14,
   "metadata": {
    "ExecuteTime": {
     "end_time": "2023-01-04T15:35:53.204106Z",
     "start_time": "2023-01-04T15:35:53.198480Z"
    }
   },
   "outputs": [],
   "source": [
    "#Save df as json\n",
    "df.to_json(r'df.json', orient=\"records\")"
   ]
  },
  {
   "cell_type": "code",
   "execution_count": 15,
   "metadata": {
    "ExecuteTime": {
     "end_time": "2023-01-04T15:35:54.541387Z",
     "start_time": "2023-01-04T15:35:54.535444Z"
    }
   },
   "outputs": [
    {
     "data": {
      "application/javascript": [
       "(function(element) {\n",
       "    require(['d3'], function(d3) {   \n",
       "        // access df.json created by the cell above\n",
       "        d3.json(\"df.json\").then(function(json){\n",
       "            var df_data = json;            \n",
       "            var svg = d3.select(element.get(0)).append('svg');\n",
       "            df_data.forEach(function(d,i){\n",
       "                \n",
       "                // Create 3 text elements with the 'Name' values in df.json\n",
       "                svg.append('text')\n",
       "                    .text(function(){return d.Name})\n",
       "                    .attr('x', i*50)\n",
       "                    .attr('y', 10);\n",
       "                \n",
       "                // Create 3 rectangles with height mapped to the 'Count' values in df.json\n",
       "                svg.append('rect')\n",
       "                    .attr('width', 10)\n",
       "                    .attr('height', function(){ return d.Count * 5})\n",
       "                    .attr('x', i*50)\n",
       "                    .attr('y', 20)\n",
       "                    .attr('fill', 'black');\n",
       "            });\n",
       "        });\n",
       "    })\n",
       "})(element);\n"
      ],
      "text/plain": [
       "<IPython.core.display.Javascript object>"
      ]
     },
     "metadata": {},
     "output_type": "display_data"
    }
   ],
   "source": [
    "%%javascript\n",
    "(function(element) {\n",
    "    require(['d3'], function(d3) {   \n",
    "        // access df.json created by the cell above\n",
    "        d3.json(\"df.json\").then(function(json){\n",
    "            var df_data = json;            \n",
    "            var svg = d3.select(element.get(0)).append('svg');\n",
    "            df_data.forEach(function(d,i){\n",
    "                \n",
    "                // Create 3 text elements with the 'Name' values in df.json\n",
    "                svg.append('text')\n",
    "                    .text(function(){return d.Name})\n",
    "                    .attr('x', i*50)\n",
    "                    .attr('y', 10);\n",
    "                \n",
    "                // Create 3 rectangles with height mapped to the 'Count' values in df.json\n",
    "                svg.append('rect')\n",
    "                    .attr('width', 10)\n",
    "                    .attr('height', function(){ return d.Count * 5})\n",
    "                    .attr('x', i*50)\n",
    "                    .attr('y', 20)\n",
    "                    .attr('fill', 'black');\n",
    "            });\n",
    "        });\n",
    "    })\n",
    "})(element);"
   ]
  },
  {
   "cell_type": "markdown",
   "metadata": {},
   "source": [
    "### Creating the D3 visualisation from external files in a Jupyter cell"
   ]
  },
  {
   "cell_type": "code",
   "execution_count": 16,
   "metadata": {
    "ExecuteTime": {
     "end_time": "2023-01-04T15:36:01.441770Z",
     "start_time": "2023-01-04T15:36:01.438189Z"
    }
   },
   "outputs": [],
   "source": [
    "from IPython.display import HTML"
   ]
  },
  {
   "cell_type": "markdown",
   "metadata": {},
   "source": [
    "We will use 2 external code files from the same directory as this notebook: viz.js and viz.css.html. I've included their contents below for reference (leave the code commented out)."
   ]
  },
  {
   "cell_type": "code",
   "execution_count": 17,
   "metadata": {
    "ExecuteTime": {
     "end_time": "2023-01-04T15:36:06.359104Z",
     "start_time": "2023-01-04T15:36:06.356051Z"
    }
   },
   "outputs": [],
   "source": [
    "# CONTENTS OF viz.js\n",
    "# // Define a module, using RequireJS syntax, called 'viz'. \n",
    "# // 'viz' is defined as a function with argument 'container' (to append the SVG element to)\n",
    "# // 'viz' draws a 50 x 50 rectangle\n",
    "\n",
    "# define('viz', ['d3'], function (d3) {\n",
    "#     function draw(container) {\n",
    "#         d3.select(container).append(\"svg\").append('rect').attr('id', 'viz_rect').attr('width', 50).attr('height', 50);\n",
    "#     }\n",
    "#     return draw;\n",
    "# });\n",
    "# element.append('Loaded 😄 ');"
   ]
  },
  {
   "cell_type": "code",
   "execution_count": 18,
   "metadata": {
    "ExecuteTime": {
     "end_time": "2023-01-04T15:36:10.463107Z",
     "start_time": "2023-01-04T15:36:10.457544Z"
    }
   },
   "outputs": [],
   "source": [
    "# CONTENTS OF viz.css.html\n",
    "# <style>\n",
    "#     #viz_rect {\n",
    "#         fill: blue;\n",
    "#     }\n",
    "# </style>"
   ]
  },
  {
   "cell_type": "markdown",
   "metadata": {},
   "source": [
    "Load in viz.css.html and viz.js"
   ]
  },
  {
   "cell_type": "code",
   "execution_count": 19,
   "metadata": {
    "ExecuteTime": {
     "end_time": "2023-01-04T15:37:08.794732Z",
     "start_time": "2023-01-04T15:37:08.785632Z"
    }
   },
   "outputs": [
    {
     "data": {
      "text/html": [
       "<style>\n",
       "    #viz_rect {\n",
       "        fill: blue;\n",
       "    }\n",
       "</style>"
      ],
      "text/plain": [
       "<IPython.core.display.HTML object>"
      ]
     },
     "metadata": {},
     "output_type": "display_data"
    },
    {
     "data": {
      "application/javascript": [
       "define('viz', ['d3'], function (d3) {\n",
       "    function draw(container) {\n",
       "        d3.select(container).append(\"svg\").append('rect').attr('id', 'viz_rect').attr('width', 50).attr('height', 50);\n",
       "    }\n",
       "    return draw;\n",
       "});\n",
       "element.append('Loaded 😄 ');"
      ],
      "text/plain": [
       "<IPython.core.display.Javascript object>"
      ]
     },
     "execution_count": 19,
     "metadata": {},
     "output_type": "execute_result"
    }
   ],
   "source": [
    "display(HTML(filename=\"img/viz.css.html\"))\n",
    "Javascript(filename='img/viz.js')\n",
    "# You should see the message 'Loaded 😄' below from viz.js, \n",
    "# but you won't see any message from viz.css.html to indicate it's loaded"
   ]
  },
  {
   "cell_type": "markdown",
   "metadata": {},
   "source": [
    "(Using [RequireJS](https://requirejs.org/) syntax) we use the module 'viz', passing in the argument 'element.get(0)' to generate our D3 graphic."
   ]
  },
  {
   "cell_type": "code",
   "execution_count": 20,
   "metadata": {
    "ExecuteTime": {
     "end_time": "2023-01-04T15:37:21.323554Z",
     "start_time": "2023-01-04T15:37:21.317028Z"
    }
   },
   "outputs": [
    {
     "data": {
      "application/javascript": [
       "\n",
       "(function(element){\n",
       "    require(['viz'], function(viz) {\n",
       "        viz(element.get(0))\n",
       "    });\n",
       "})(element);\n"
      ],
      "text/plain": [
       "<IPython.core.display.Javascript object>"
      ]
     },
     "execution_count": 20,
     "metadata": {},
     "output_type": "execute_result"
    }
   ],
   "source": [
    "Javascript(\"\"\"\n",
    "(function(element){\n",
    "    require(['viz'], function(viz) {\n",
    "        viz(element.get(0))\n",
    "    });\n",
    "})(element);\n",
    "\"\"\")\n",
    "# the css styling in viz.css.html colours this rectangle blue"
   ]
  },
  {
   "cell_type": "markdown",
   "metadata": {},
   "source": [
    "### Passing variables across cells between Python and JavaScript"
   ]
  },
  {
   "cell_type": "markdown",
   "metadata": {},
   "source": [
    "#### Python to JavaScript"
   ]
  },
  {
   "cell_type": "code",
   "execution_count": 21,
   "metadata": {
    "ExecuteTime": {
     "end_time": "2023-01-04T15:37:29.437365Z",
     "start_time": "2023-01-04T15:37:29.431529Z"
    }
   },
   "outputs": [
    {
     "data": {
      "text/html": [
       "<div id='variable1' data-fromPython='this_could_be_any_python_string' ></div>"
      ],
      "text/plain": [
       "<IPython.core.display.HTML object>"
      ]
     },
     "execution_count": 21,
     "metadata": {},
     "output_type": "execute_result"
    }
   ],
   "source": [
    "variable1 = \"this_could_be_any_python_string\"\n",
    "HTML(\"<div id='variable1' data-fromPython='\" + variable1 + \"' ></div>\")"
   ]
  },
  {
   "cell_type": "code",
   "execution_count": 22,
   "metadata": {
    "ExecuteTime": {
     "end_time": "2023-01-04T15:37:30.653611Z",
     "start_time": "2023-01-04T15:37:30.648317Z"
    }
   },
   "outputs": [
    {
     "data": {
      "application/javascript": [
       "var fromPython = document.getElementById('variable1').getAttribute('data-fromPython');\n",
       "element.text(fromPython);\n"
      ],
      "text/plain": [
       "<IPython.core.display.Javascript object>"
      ]
     },
     "metadata": {},
     "output_type": "display_data"
    }
   ],
   "source": [
    "%%javascript\n",
    "var fromPython = document.getElementById('variable1').getAttribute('data-fromPython');\n",
    "element.text(fromPython);"
   ]
  },
  {
   "cell_type": "markdown",
   "metadata": {},
   "source": [
    "This method works for Python objects that can be represented as a string and then re-interpreted back once they've been passed into JavaScript, for example a list."
   ]
  },
  {
   "cell_type": "markdown",
   "metadata": {},
   "source": [
    "#### JavaScript to Python"
   ]
  },
  {
   "cell_type": "code",
   "execution_count": 23,
   "metadata": {
    "ExecuteTime": {
     "end_time": "2023-01-04T15:37:35.855386Z",
     "start_time": "2023-01-04T15:37:35.849878Z"
    }
   },
   "outputs": [
    {
     "data": {
      "application/javascript": [
       "var variable2 = \"this_could_be_any_javascript_string\";\n",
       "// command is a string containing Python code\n",
       "var command = \"fromJavaScript='\" + variable2 + \"'\";\n",
       "IPython.notebook.kernel.execute(command);\n"
      ],
      "text/plain": [
       "<IPython.core.display.Javascript object>"
      ]
     },
     "metadata": {},
     "output_type": "display_data"
    }
   ],
   "source": [
    "%%javascript\n",
    "var variable2 = \"this_could_be_any_javascript_string\";\n",
    "// command is a string containing Python code\n",
    "var command = \"fromJavaScript='\" + variable2 + \"'\";\n",
    "IPython.notebook.kernel.execute(command);"
   ]
  },
  {
   "cell_type": "code",
   "execution_count": 24,
   "metadata": {
    "ExecuteTime": {
     "end_time": "2023-01-04T15:37:37.154034Z",
     "start_time": "2023-01-04T15:37:37.149764Z"
    }
   },
   "outputs": [
    {
     "name": "stdout",
     "output_type": "stream",
     "text": [
      "this_could_be_any_javascript_string\n"
     ]
    }
   ],
   "source": [
    "print(fromJavaScript)"
   ]
  },
  {
   "cell_type": "markdown",
   "metadata": {},
   "source": [
    "Similarly, this method works for JavaScript objects that can be represented as a string and then re-interpreted back once they've been passed into Python, for example an array."
   ]
  },
  {
   "cell_type": "code",
   "execution_count": null,
   "metadata": {},
   "outputs": [],
   "source": []
  }
 ],
 "metadata": {
  "kernelspec": {
   "display_name": "Python 3 (ipykernel)",
   "language": "python",
   "name": "python3"
  },
  "language_info": {
   "codemirror_mode": {
    "name": "ipython",
    "version": 3
   },
   "file_extension": ".py",
   "mimetype": "text/x-python",
   "name": "python",
   "nbconvert_exporter": "python",
   "pygments_lexer": "ipython3",
   "version": "3.7.10"
  },
  "toc": {
   "base_numbering": 1,
   "nav_menu": {},
   "number_sections": true,
   "sideBar": true,
   "skip_h1_title": false,
   "title_cell": "Table of Contents",
   "title_sidebar": "Contents",
   "toc_cell": false,
   "toc_position": {},
   "toc_section_display": true,
   "toc_window_display": false
  }
 },
 "nbformat": 4,
 "nbformat_minor": 2
}
